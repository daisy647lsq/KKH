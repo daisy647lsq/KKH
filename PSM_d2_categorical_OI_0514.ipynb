{
 "cells": [
  {
   "cell_type": "code",
   "execution_count": 376,
   "metadata": {
    "scrolled": true
   },
   "outputs": [
    {
     "data": {
      "text/plain": [
       "\n",
       "Call:\n",
       "glm(formula = treatment ~ female + age + pim2 + pelod + p_bloodculture + \n",
       "    comorbidity + rf_pneumonia + rf_sepsis + rf_aspiration + \n",
       "    rf_transfusion + rf_drowning + MODS + OI_category, family = binomial(link = \"logit\"), \n",
       "    data = mydata)\n",
       "\n",
       "Deviance Residuals: \n",
       "    Min       1Q   Median       3Q      Max  \n",
       "-1.9023  -0.8269  -0.4074   0.8808   2.7528  \n",
       "\n",
       "Coefficients:\n",
       "                Estimate Std. Error z value Pr(>|z|)    \n",
       "(Intercept)    -2.997896   0.818256  -3.664 0.000249 ***\n",
       "female          0.392725   0.282944   1.388 0.165137    \n",
       "age            -0.007870   0.030752  -0.256 0.798008    \n",
       "pim2            0.005246   0.008290   0.633 0.526812    \n",
       "pelod           0.026776   0.017062   1.569 0.116572    \n",
       "p_bloodculture  0.431948   0.406125   1.064 0.287517    \n",
       "comorbidity     0.093346   0.289559   0.322 0.747171    \n",
       "rf_pneumonia    0.509078   0.445919   1.142 0.253605    \n",
       "rf_sepsis      -0.725136   0.366442  -1.979 0.047832 *  \n",
       "rf_aspiration  -0.060818   0.692903  -0.088 0.930057    \n",
       "rf_transfusion  2.296029   1.135860   2.021 0.043238 *  \n",
       "rf_drowning    -0.139380   0.955147  -0.146 0.883980    \n",
       "MODS           -0.196494   0.311507  -0.631 0.528181    \n",
       "OI_category1   -0.101830   0.729003  -0.140 0.888910    \n",
       "OI_category2    1.699298   0.683527   2.486 0.012916 *  \n",
       "OI_category4    2.943559   0.688555   4.275 1.91e-05 ***\n",
       "---\n",
       "Signif. codes:  0 ‘***’ 0.001 ‘**’ 0.01 ‘*’ 0.05 ‘.’ 0.1 ‘ ’ 1\n",
       "\n",
       "(Dispersion parameter for binomial family taken to be 1)\n",
       "\n",
       "    Null deviance: 432.95  on 327  degrees of freedom\n",
       "Residual deviance: 334.65  on 312  degrees of freedom\n",
       "AIC: 366.65\n",
       "\n",
       "Number of Fisher Scoring iterations: 5\n"
      ]
     },
     "metadata": {},
     "output_type": "display_data"
    },
    {
     "name": "stdout",
     "output_type": "stream",
     "text": [
      "[[1]]\n",
      "[1] 0.812311\n",
      "\n"
     ]
    }
   ],
   "source": [
    "## Load packages and data\n",
    "library(tableone)\n",
    "library(MatchIt)\n",
    "library(pROC)\n",
    "library(ROCR)\n",
    "library(ggplot2)\n",
    "library(epitools)\n",
    "library(dplyr)\n",
    "#library(gtools)\n",
    "\n",
    "####loading KKH ICU data\n",
    "kkh_data <- read.csv(\"pards_data_0401.csv\")\n",
    "#kkh_data <- read.csv(\"data_0514.csv\")\n",
    "df<-data.frame(kkh_data)\n",
    "kkh<-df[!is.na(df$d2_oi),]\n",
    "kkh <- kkh[which(!((kkh$hfv==1)&(kkh$HFV_verify==0))), ]\n",
    "\n",
    "####check column names\n",
    "#colnames(kkh, do.NULL = FALSE)\n",
    "\n",
    "####select features\n",
    "ID<-kkh$StudyID\n",
    "female<-as.numeric(kkh$Gender=='Female')\n",
    "age<-kkh$Age\n",
    "pim2<-kkh$pim2\n",
    "pelod<-kkh$pelod\n",
    "p_bloodculture<-as.numeric(kkh$Positive_blood_culture=='Yes')\n",
    "early_HFV<-kkh$early_HFV\n",
    "#comorbidity\n",
    "comorbidity<-kkh$comorbidity\n",
    "#risk factor of ARDS\n",
    "rf_pneumonia<-as.numeric(kkh$PNEUMONIA=='Checked')\n",
    "rf_sepsis<-as.numeric(kkh$SEPSIS=='Checked')\n",
    "rf_aspiration<-as.numeric(kkh$ASPIRATION=='Checked')\n",
    "rf_transfusion<-as.numeric(kkh$TRANSFUSION=='Checked')\n",
    "rf_trauma<-as.numeric(kkh$TRAUMA=='Checked')\n",
    "rf_drowning<-as.numeric(kkh$DROWNING=='Checked')\n",
    "\n",
    "#other useful features\n",
    "MODS<-as.numeric(kkh$MODS=='Yes')\n",
    "OI_category<-kkh$OI_category\n",
    "treatment<-as.numeric(kkh$Received_HFV=='Yes')\n",
    "died<-kkh$died_in_ICU\n",
    "\n",
    "mortality_100day<-kkh$mortality_100day\n",
    "ventilation_free_day<-kkh$ventilation_free_day\n",
    "picu_free_days<-kkh$picu_free_days\n",
    "\n",
    "####new dataset\n",
    "mydata<-cbind(ID,female,age,pim2,pelod,p_bloodculture,comorbidity,rf_pneumonia,rf_sepsis,rf_aspiration,rf_transfusion\n",
    "              ,rf_trauma\n",
    "              ,rf_drowning,MODS,OI_category\n",
    "              ,treatment,died)\n",
    "\n",
    "mydata_outcome<-cbind(ID,female,age,pim2,pelod,p_bloodculture,comorbidity,rf_pneumonia,rf_sepsis,rf_aspiration,rf_transfusion\n",
    "              ,rf_trauma,rf_drowning,MODS,OI_category\n",
    "              ,treatment,died,mortality_100day,ventilation_free_day,picu_free_days)\n",
    "mydata_outcome<-data.frame(mydata_outcome)\n",
    "mydata<-data.frame(mydata)\n",
    "xvars<-c(\"female\",\"age\",\"pim2\",\"pelod\",\"p_bloodculture\",\"comorbidity\",\"rf_pneumonia\"\n",
    "         ,\"rf_sepsis\",\"rf_aspiration\" , \"rf_transfusion\", \"rf_trauma\", \"rf_drowning\",\"MODS\",\"OI_category\"\n",
    "         )\n",
    "#re-level \n",
    "mydata$OI_category<-as.factor(mydata$OI_category)\n",
    "mydata$OI_category<-C(mydata$OI_category, contr.treatment, base=3)\n",
    "#fit a propensity score model with logistic regression\n",
    "psmodel <-glm(treatment~female+age+pim2+pelod+p_bloodculture+comorbidity+rf_pneumonia+rf_sepsis\n",
    "                 +rf_aspiration+rf_transfusion+rf_trauma+rf_drowning+MODS+OI_category\n",
    "                 , data = mydata,family=binomial(link=\"logit\"))\n",
    "#show coefficients etc\n",
    "summary(psmodel)\n",
    "\n",
    "#create propensity score\n",
    "pscore<-psmodel$fitted.values\n",
    "#pscore<-fitted(psmodel) \n",
    "\n",
    "label<-mydata$treatment\n",
    "perf<- ROCR::prediction(pscore, label)\n",
    "psm_auc<-ROCR::performance(ROCR::prediction(pscore, label), \"auc\")@y.values[1]\n",
    "print(psm_auc)\n",
    "#roc.perf = performance(perf, measure = \"tpr\", x.measure = \"fpr\")\n",
    "#plot(roc.perf,col=\"#1c61b6\",percent=TRUE)\n",
    "#abline(a=0, b= 1)\n",
    "\n"
   ]
  },
  {
   "cell_type": "code",
   "execution_count": 392,
   "metadata": {},
   "outputs": [
    {
     "name": "stderr",
     "output_type": "stream",
     "text": [
      "Warning message in ModuleReturnVarsExist(vars, data):\n",
      "“The data frame does not have: rf_trauma  Dropped”Warning message in ModuleReturnVarsExist(vars, data):\n",
      "“The data frame does not have: rf_trauma  Dropped”"
     ]
    },
    {
     "name": "stdout",
     "output_type": "stream",
     "text": [
      "                            Stratified by treatment\n",
      "                             0             1             p      test SMD   \n",
      "  n                             82            82                           \n",
      "  female (mean (sd))          0.45 (0.50)   0.45 (0.50)   1.000      <0.001\n",
      "  age (mean (sd))             4.26 (4.62)   4.32 (4.76)   0.931       0.014\n",
      "  pim2 (mean (sd))           17.73 (21.88) 16.55 (17.88)  0.707       0.059\n",
      "  pelod (mean (sd))          11.01 (10.64) 10.83 (9.69)   0.909       0.018\n",
      "  p_bloodculture (mean (sd))  0.20 (0.40)   0.18 (0.39)   0.843       0.031\n",
      "  comorbidity (mean (sd))     0.55 (0.50)   0.55 (0.50)   1.000      <0.001\n",
      "  rf_pneumonia (mean (sd))    0.82 (0.39)   0.83 (0.38)   0.839       0.032\n",
      "  rf_sepsis (mean (sd))       0.34 (0.48)   0.32 (0.47)   0.742       0.052\n",
      "  rf_aspiration (mean (sd))   0.05 (0.22)   0.04 (0.19)   0.701       0.060\n",
      "  rf_transfusion (mean (sd))  0.01 (0.11)   0.01 (0.11)   1.000      <0.001\n",
      "  rf_drowning (mean (sd))     0.02 (0.16)   0.02 (0.16)   1.000      <0.001\n",
      "  MODS (mean (sd))            0.46 (0.50)   0.46 (0.50)   1.000      <0.001\n",
      "  OI_category (%)                                         0.809       0.154\n",
      "     1                           9 (11.0)     10 (12.2)                    \n",
      "     2                          33 (40.2)     27 (32.9)                    \n",
      "     3                           3 ( 3.7)      3 ( 3.7)                    \n",
      "     4                          37 (45.1)     42 (51.2)                    \n"
     ]
    }
   ],
   "source": [
    "#########################################\n",
    "#look at a table 1\n",
    "#mydata before matching\n",
    "table1_unmatched<- CreateTableOne(vars=xvars, strata=\"treatment\", data = mydata)\n",
    "## include standardized mean difference (SMD)\n",
    "print(table1_unmatched, smd=TRUE)\n",
    "\n",
    "## Using the Matchit for propensity score, nearest neighbor matching\n",
    "mydata_wth_pscore<-data.frame(cbind(mydata,pscore))\n",
    "m.out <- matchit(treatment~female+age+pim2+pelod+p_bloodculture+comorbidity+rf_pneumonia+rf_sepsis\n",
    "                 +rf_aspiration+rf_transfusion+rf_trauma+rf_drowning+MODS+OI_category, data = mydata_wth_pscore,              \n",
    "                 method = \"nearest\", distance=mydata_wth_pscore$pscore,caliper=0.1\n",
    "                 ,ratio=1)\n",
    "summary(m.out)\n",
    "\n",
    "#propensity score plots\n",
    "plot(m.out, type=\"jitter\")\n",
    "plot(m.out, type=\"hist\")\n",
    "\n",
    "#MatchIt Table1\n",
    "table1_matched<- CreateTableOne(vars=xvars, strata=\"treatment\", data = match.data(m.out, \"all\"))\n",
    "## include standardized mean difference (SMD)\n",
    "print(table1_matched, smd=TRUE)\n",
    "\n",
    "#calculate odds ratio for all covariates in the psmodel\n",
    "exp(cbind(Odds_and_OR=coef(psmodel), confint(psmodel)))\n"
   ]
  },
  {
   "cell_type": "code",
   "execution_count": 393,
   "metadata": {
    "scrolled": false
   },
   "outputs": [
    {
     "data": {
      "text/plain": [
       "           y_control\n",
       "y_treatment  0  1\n",
       "          0 35 15\n",
       "          1 19 13"
      ]
     },
     "metadata": {},
     "output_type": "display_data"
    },
    {
     "data": {
      "text/plain": [
       "\n",
       "\tMcNemar's Chi-squared test with continuity correction\n",
       "\n",
       "data:  y_treatment and y_control\n",
       "McNemar's chi-squared = 0.26471, df = 1, p-value = 0.6069\n"
      ]
     },
     "metadata": {},
     "output_type": "display_data"
    },
    {
     "data": {
      "text/html": [
       "<dl>\n",
       "\t<dt>$data</dt>\n",
       "\t\t<dd><table>\n",
       "<thead><tr><th></th><th scope=col>Disease1</th><th scope=col>Disease2</th><th scope=col>Total</th></tr></thead>\n",
       "<tbody>\n",
       "\t<tr><th scope=row>Exposed1</th><td>32 </td><td> 50</td><td> 82</td></tr>\n",
       "\t<tr><th scope=row>Exposed2</th><td>28 </td><td> 54</td><td> 82</td></tr>\n",
       "\t<tr><th scope=row>Total</th><td>60 </td><td>104</td><td>164</td></tr>\n",
       "</tbody>\n",
       "</table>\n",
       "</dd>\n",
       "\t<dt>$measure</dt>\n",
       "\t\t<dd><table>\n",
       "<thead><tr><th></th><th scope=col>estimate</th><th scope=col>lower</th><th scope=col>upper</th></tr></thead>\n",
       "<tbody>\n",
       "\t<tr><th scope=row>Exposed1</th><td>1.000000 </td><td>       NA</td><td>      NA </td></tr>\n",
       "\t<tr><th scope=row>Exposed2</th><td>1.232028 </td><td>0.6502002</td><td>2.344894 </td></tr>\n",
       "</tbody>\n",
       "</table>\n",
       "</dd>\n",
       "\t<dt>$p.value</dt>\n",
       "\t\t<dd><table>\n",
       "<thead><tr><th></th><th scope=col>midp.exact</th><th scope=col>fisher.exact</th><th scope=col>chi.square</th></tr></thead>\n",
       "<tbody>\n",
       "\t<tr><th scope=row>Exposed1</th><td>       NA</td><td>       NA</td><td>       NA</td></tr>\n",
       "\t<tr><th scope=row>Exposed2</th><td>0.5223135</td><td>0.6269034</td><td>0.5166813</td></tr>\n",
       "</tbody>\n",
       "</table>\n",
       "</dd>\n",
       "\t<dt>$correction</dt>\n",
       "\t\t<dd>FALSE</dd>\n",
       "</dl>\n"
      ],
      "text/latex": [
       "\\begin{description}\n",
       "\\item[\\$data] \\begin{tabular}{r|lll}\n",
       "  & Disease1 & Disease2 & Total\\\\\n",
       "\\hline\n",
       "\tExposed1 & 32  &  50 &  82\\\\\n",
       "\tExposed2 & 28  &  54 &  82\\\\\n",
       "\tTotal & 60  & 104 & 164\\\\\n",
       "\\end{tabular}\n",
       "\n",
       "\\item[\\$measure] \\begin{tabular}{r|lll}\n",
       "  & estimate & lower & upper\\\\\n",
       "\\hline\n",
       "\tExposed1 & 1.000000  &        NA &       NA \\\\\n",
       "\tExposed2 & 1.232028  & 0.6502002 & 2.344894 \\\\\n",
       "\\end{tabular}\n",
       "\n",
       "\\item[\\$p.value] \\begin{tabular}{r|lll}\n",
       "  & midp.exact & fisher.exact & chi.square\\\\\n",
       "\\hline\n",
       "\tExposed1 &        NA &        NA &        NA\\\\\n",
       "\tExposed2 & 0.5223135 & 0.6269034 & 0.5166813\\\\\n",
       "\\end{tabular}\n",
       "\n",
       "\\item[\\$correction] FALSE\n",
       "\\end{description}\n"
      ],
      "text/markdown": [
       "$data\n",
       ":   \n",
       "| <!--/--> | Disease1 | Disease2 | Total | \n",
       "|---|---|---|\n",
       "| Exposed1 | 32  |  50 |  82 | \n",
       "| Exposed2 | 28  |  54 |  82 | \n",
       "| Total | 60  | 104 | 164 | \n",
       "\n",
       "\n",
       "\n",
       "$measure\n",
       ":   \n",
       "| <!--/--> | estimate | lower | upper | \n",
       "|---|---|\n",
       "| Exposed1 | 1.000000  |        NA |       NA  | \n",
       "| Exposed2 | 1.232028  | 0.6502002 | 2.344894  | \n",
       "\n",
       "\n",
       "\n",
       "$p.value\n",
       ":   \n",
       "| <!--/--> | midp.exact | fisher.exact | chi.square | \n",
       "|---|---|\n",
       "| Exposed1 |        NA |        NA |        NA | \n",
       "| Exposed2 | 0.5223135 | 0.6269034 | 0.5166813 | \n",
       "\n",
       "\n",
       "\n",
       "$correction\n",
       ":   FALSE\n",
       "\n",
       "\n"
      ],
      "text/plain": [
       "$data\n",
       "          Outcome\n",
       "Predictor  Disease1 Disease2 Total\n",
       "  Exposed1       32       50    82\n",
       "  Exposed2       28       54    82\n",
       "  Total          60      104   164\n",
       "\n",
       "$measure\n",
       "          odds ratio with 95% C.I.\n",
       "Predictor  estimate     lower    upper\n",
       "  Exposed1 1.000000        NA       NA\n",
       "  Exposed2 1.232028 0.6502002 2.344894\n",
       "\n",
       "$p.value\n",
       "          two-sided\n",
       "Predictor  midp.exact fisher.exact chi.square\n",
       "  Exposed1         NA           NA         NA\n",
       "  Exposed2  0.5223135    0.6269034  0.5166813\n",
       "\n",
       "$correction\n",
       "[1] FALSE\n",
       "\n",
       "attr(,\"method\")\n",
       "[1] \"median-unbiased estimate & mid-p exact CI\""
      ]
     },
     "metadata": {},
     "output_type": "display_data"
    }
   ],
   "source": [
    "###################################\n",
    "#outcome analysis\n",
    "y_treatment<-match.data(m.out)$died[match.data(m.out, \"all\")$treatment==1] \n",
    "y_control<-match.data(m.out)$died[match.data(m.out, \"all\")$treatment==0] \n",
    "\n",
    "table(y_treatment,y_control)\n",
    "#McNemar test for PICU mortality\n",
    "mcnemar.test(y_treatment, y_control)\n",
    "\n",
    "########## calculate Odd's ratio here!\n",
    "a<-length(y_treatment[y_treatment==1])\n",
    "b<-length(y_control[y_control==1])\n",
    "c<-length(y_treatment[y_treatment==0])\n",
    "d<-length(y_control[y_control==0])\n",
    "\n",
    "oddsratio(matrix(c(a,b,c,d), ncol=2, nrow=2))"
   ]
  },
  {
   "cell_type": "code",
   "execution_count": 394,
   "metadata": {},
   "outputs": [],
   "source": [
    "matchedID_hfv<-match.data(m.out, \"treat\")$ID\n",
    "matchedID_non_hfv<-match.data(m.out, \"control\")$ID\n",
    "pairs<-cbind(matchedID_hfv,matchedID_non_hfv)\n",
    "#write.csv(pairs, file = \"pair_ID.csv\")"
   ]
  },
  {
   "cell_type": "code",
   "execution_count": 397,
   "metadata": {},
   "outputs": [
    {
     "data": {
      "text/plain": [
       "\n",
       "\tOne Sample t-test\n",
       "\n",
       "data:  diffy\n",
       "t = -1.3336, df = 81, p-value = 0.1861\n",
       "alternative hypothesis: true mean is not equal to 0\n",
       "95 percent confidence interval:\n",
       " -4.6496170  0.9179097\n",
       "sample estimates:\n",
       "mean of x \n",
       "-1.865854 \n"
      ]
     },
     "metadata": {},
     "output_type": "display_data"
    },
    {
     "data": {
      "text/plain": [
       "\n",
       "\tOne Sample t-test\n",
       "\n",
       "data:  diffy1\n",
       "t = -1.9352, df = 81, p-value = 0.05645\n",
       "alternative hypothesis: true mean is not equal to 0\n",
       "95 percent confidence interval:\n",
       " -4.77354950  0.06623243\n",
       "sample estimates:\n",
       "mean of x \n",
       "-2.353659 \n"
      ]
     },
     "metadata": {},
     "output_type": "display_data"
    },
    {
     "data": {
      "text/plain": [
       "\n",
       "\tMcNemar's Chi-squared test with continuity correction\n",
       "\n",
       "data:  hfv$mortality_100day and non_hfv$mortality_100day\n",
       "McNemar's chi-squared = 0.59259, df = 1, p-value = 0.4414\n"
      ]
     },
     "metadata": {},
     "output_type": "display_data"
    }
   ],
   "source": [
    "pairs <- read.csv(\"pair_ID.csv\")\n",
    "#head(pairs)\n",
    "pairs<-data.frame(pairs)\n",
    "data<-mydata_outcome[(mydata_outcome$ID %in% pairs$matchedID_hfv)| (mydata_outcome$ID %in% pairs$matchedID_non_hfv),]\n",
    "#head(data)\n",
    "#length(data[,1])\n",
    "\n",
    "#pairwise difference for continuous data\n",
    "hfv<-data[data$ID %in% pairs$matchedID_hfv,]\n",
    "non_hfv<-data[data$ID %in% pairs$matchedID_non_hfv,]\n",
    "\n",
    "#paired t-test for ventilator free days\n",
    "diffy<-hfv$ventilation_free_day-non_hfv$ventilation_free_day\n",
    "t.test(diffy)\n",
    "#paired t-test for picu free days\n",
    "diffy1<-hfv$picu_free_days-non_hfv$picu_free_days\n",
    "t.test(diffy1)\n",
    "\n",
    "#McNemar test for 100 day mortality\n",
    "mcnemar.test(hfv$mortality_100day, non_hfv$mortality_100day)\n"
   ]
  },
  {
   "cell_type": "code",
   "execution_count": null,
   "metadata": {},
   "outputs": [],
   "source": []
  }
 ],
 "metadata": {
  "kernelspec": {
   "display_name": "R",
   "language": "R",
   "name": "ir"
  },
  "language_info": {
   "codemirror_mode": "r",
   "file_extension": ".r",
   "mimetype": "text/x-r-source",
   "name": "R",
   "pygments_lexer": "r",
   "version": "3.5.0"
  }
 },
 "nbformat": 4,
 "nbformat_minor": 2
}
