{
 "cells": [
  {
   "cell_type": "code",
   "execution_count": 7,
   "metadata": {
    "collapsed": false,
    "scrolled": false
   },
   "outputs": [
    {
     "data": {
      "text/plain": [
       "\n",
       "Call:\n",
       "glm(formula = treatment ~ female + age + pim2 + pelod + p_bloodculture + \n",
       "    MODS + comorbidity + rf_pneumonia + rf_sepsis + rf_aspiration + \n",
       "    rf_transfusion + rf_trauma + rf_drowning + d1_oi, family = binomial(), \n",
       "    data = mydata)\n",
       "\n",
       "Deviance Residuals: \n",
       "    Min       1Q   Median       3Q      Max  \n",
       "-2.1420  -0.8055  -0.5648   1.0090   2.2904  \n",
       "\n",
       "Coefficients:\n",
       "                 Estimate Std. Error z value Pr(>|z|)    \n",
       "(Intercept)     -3.038230   0.580777  -5.231 1.68e-07 ***\n",
       "female           0.299059   0.247560   1.208   0.2270    \n",
       "age             -0.066018   0.031870  -2.071   0.0383 *  \n",
       "pim2             0.005973   0.007173   0.833   0.4050    \n",
       "pelod            0.016945   0.015922   1.064   0.2872    \n",
       "p_bloodculture   0.549247   0.364778   1.506   0.1321    \n",
       "MODS             0.217869   0.293656   0.742   0.4581    \n",
       "comorbidity      0.369977   0.256957   1.440   0.1499    \n",
       "rf_pneumonia     0.821962   0.469746   1.750   0.0802 .  \n",
       "rf_sepsis       -0.641138   0.350376  -1.830   0.0673 .  \n",
       "rf_aspiration   -0.631565   0.640939  -0.985   0.3244    \n",
       "rf_transfusion  -1.089407   1.206973  -0.903   0.3667    \n",
       "rf_trauma      -16.413155 608.961545  -0.027   0.9785    \n",
       "rf_drowning      0.120304   0.893090   0.135   0.8928    \n",
       "d1_oi            0.073399   0.012745   5.759 8.46e-09 ***\n",
       "---\n",
       "Signif. codes:  0 ‘***’ 0.001 ‘**’ 0.01 ‘*’ 0.05 ‘.’ 0.1 ‘ ’ 1\n",
       "\n",
       "(Dispersion parameter for binomial family taken to be 1)\n",
       "\n",
       "    Null deviance: 479.29  on 380  degrees of freedom\n",
       "Residual deviance: 407.33  on 366  degrees of freedom\n",
       "AIC: 437.33\n",
       "\n",
       "Number of Fisher Scoring iterations: 14\n"
      ]
     },
     "metadata": {},
     "output_type": "display_data"
    },
    {
     "name": "stdout",
     "output_type": "stream",
     "text": [
      "[[1]]\n",
      "[1] 0.7634083\n",
      "\n",
      "                            Stratified by treatment\n",
      "                             0             1             p      test\n",
      "  n                            258           123                    \n",
      "  female (mean (sd))          0.44 (0.50)   0.54 (0.50)   0.084     \n",
      "  age (mean (sd))             3.54 (4.48)   3.10 (4.02)   0.360     \n",
      "  pim2 (mean (sd))           15.39 (21.09) 21.70 (25.20)  0.011     \n",
      "  pelod (mean (sd))           8.81 (9.65)  11.80 (10.23)  0.006     \n",
      "  p_bloodculture (mean (sd))  0.15 (0.36)   0.19 (0.39)   0.377     \n",
      "  comorbidity (mean (sd))     0.48 (0.50)   0.62 (0.49)   0.015     \n",
      "  rf_pneumonia (mean (sd))    0.81 (0.40)   0.87 (0.34)   0.125     \n",
      "  rf_sepsis (mean (sd))       0.26 (0.44)   0.26 (0.44)   0.992     \n",
      "  rf_aspiration (mean (sd))   0.07 (0.25)   0.03 (0.18)   0.183     \n",
      "  rf_transfusion (mean (sd))  0.02 (0.12)   0.01 (0.09)   0.556     \n",
      "  rf_trauma (mean (sd))       0.02 (0.12)   0.00 (0.00)   0.166     \n",
      "  rf_drowning (mean (sd))     0.04 (0.19)   0.03 (0.18)   0.763     \n",
      "  MODS (mean (sd))            0.34 (0.48)   0.45 (0.50)   0.055     \n",
      "  d1_oi (mean (sd))          13.31 (9.64)  21.46 (13.64) <0.001     \n"
     ]
    },
    {
     "name": "stderr",
     "output_type": "stream",
     "text": [
      "Warning message in if (distance %in% c(\"GAMlogit\", \"GAMprobit\", \"GAMcloglog\", \"GAMlog\", :\n",
      "“the condition has length > 1 and only the first element will be used”"
     ]
    },
    {
     "data": {
      "text/plain": [
       "\n",
       "Call:\n",
       "matchit(formula = treatment ~ female + age + pim2 + pelod + p_bloodculture + \n",
       "    MODS + comorbidity + rf_pneumonia + rf_sepsis + rf_aspiration + \n",
       "    rf_transfusion + rf_trauma + rf_drowning, data = mydata_wth_pscore, \n",
       "    method = \"nearest\", distance = mydata_wth_pscore$pscore)\n",
       "\n",
       "Summary of balance for all data:\n",
       "               Means Treated Means Control SD Control Mean Diff eQQ Med\n",
       "distance              0.4443        0.2649     0.1675    0.1793  0.1812\n",
       "female                0.5366        0.4419     0.4976    0.0947  0.0000\n",
       "age                   3.0996        3.5354     4.4804   -0.4358  0.3100\n",
       "pim2                 21.6967       15.3930    21.0875    6.3037  2.7000\n",
       "pelod                11.7967        8.8101     9.6527    2.9867  1.0000\n",
       "p_bloodculture        0.1870        0.1512     0.3589    0.0358  0.0000\n",
       "MODS                  0.4472        0.3450     0.4763    0.1022  0.0000\n",
       "comorbidity           0.6179        0.4845     0.5007    0.1334  0.0000\n",
       "rf_pneumonia          0.8699        0.8062     0.3960    0.0637  0.0000\n",
       "rf_sepsis             0.2602        0.2597     0.4393    0.0005  0.0000\n",
       "rf_aspiration         0.0325        0.0659     0.2486   -0.0334  0.0000\n",
       "rf_transfusion        0.0081        0.0155     0.1238   -0.0074  0.0000\n",
       "rf_trauma             0.0000        0.0155     0.1238   -0.0155  0.0000\n",
       "rf_drowning           0.0325        0.0388     0.1934   -0.0062  0.0000\n",
       "               eQQ Mean eQQ Max\n",
       "distance         0.1800  0.2794\n",
       "female           0.0976  1.0000\n",
       "age              0.6250  3.6300\n",
       "pim2             6.3447 25.4000\n",
       "pelod            3.0650  9.0000\n",
       "p_bloodculture   0.0325  1.0000\n",
       "MODS             0.1057  1.0000\n",
       "comorbidity      0.1382  1.0000\n",
       "rf_pneumonia     0.0650  1.0000\n",
       "rf_sepsis        0.0000  0.0000\n",
       "rf_aspiration    0.0325  1.0000\n",
       "rf_transfusion   0.0081  1.0000\n",
       "rf_trauma        0.0163  1.0000\n",
       "rf_drowning      0.0081  1.0000\n",
       "\n",
       "\n",
       "Summary of balance for matched data:\n",
       "               Means Treated Means Control SD Control Mean Diff eQQ Med\n",
       "distance              0.4443        0.3846     0.1642    0.0596  0.0555\n",
       "female                0.5366        0.5610     0.4983   -0.0244  0.0000\n",
       "age                   3.0996        2.9624     3.9584    0.1372  0.1900\n",
       "pim2                 21.6967       19.6374    24.2757    2.0593  1.4000\n",
       "pelod                11.7967       11.7480    11.1411    0.0488  0.0000\n",
       "p_bloodculture        0.1870        0.1626     0.3705    0.0244  0.0000\n",
       "MODS                  0.4472        0.4472     0.4992    0.0000  0.0000\n",
       "comorbidity           0.6179        0.6179     0.4879    0.0000  0.0000\n",
       "rf_pneumonia          0.8699        0.8537     0.3549    0.0163  0.0000\n",
       "rf_sepsis             0.2602        0.2764     0.4491   -0.0163  0.0000\n",
       "rf_aspiration         0.0325        0.0325     0.1781    0.0000  0.0000\n",
       "rf_transfusion        0.0081        0.0163     0.1270   -0.0081  0.0000\n",
       "rf_trauma             0.0000        0.0000     0.0000    0.0000  0.0000\n",
       "rf_drowning           0.0325        0.0325     0.1781    0.0000  0.0000\n",
       "               eQQ Mean eQQ Max\n",
       "distance         0.0598   0.172\n",
       "female           0.0244   1.000\n",
       "age              0.3085   2.110\n",
       "pim2             2.3033  12.500\n",
       "pelod            0.9106   9.000\n",
       "p_bloodculture   0.0244   1.000\n",
       "MODS             0.0000   0.000\n",
       "comorbidity      0.0000   0.000\n",
       "rf_pneumonia     0.0163   1.000\n",
       "rf_sepsis        0.0163   1.000\n",
       "rf_aspiration    0.0000   0.000\n",
       "rf_transfusion   0.0081   1.000\n",
       "rf_trauma        0.0000   0.000\n",
       "rf_drowning      0.0000   0.000\n",
       "\n",
       "Percent Balance Improvement:\n",
       "               Mean Diff.  eQQ Med eQQ Mean  eQQ Max\n",
       "distance          66.7408  69.3585  66.8011  38.4485\n",
       "female            74.2515   0.0000  75.0000   0.0000\n",
       "age               68.5090  38.7097  50.6439  41.8733\n",
       "pim2              67.3312  48.1481  63.6981  50.7874\n",
       "pelod             98.3667 100.0000  70.2918   0.0000\n",
       "p_bloodculture    31.9261   0.0000  25.0000   0.0000\n",
       "MODS             100.0000   0.0000 100.0000 100.0000\n",
       "comorbidity      100.0000   0.0000 100.0000 100.0000\n",
       "rf_pneumonia      74.4807   0.0000  75.0000   0.0000\n",
       "rf_sepsis      -3340.0000   0.0000     -Inf     -Inf\n",
       "rf_aspiration    100.0000   0.0000 100.0000 100.0000\n",
       "rf_transfusion   -10.2564   0.0000   0.0000   0.0000\n",
       "rf_trauma        100.0000   0.0000 100.0000 100.0000\n",
       "rf_drowning      100.0000   0.0000 100.0000 100.0000\n",
       "\n",
       "Sample sizes:\n",
       "          Control Treated\n",
       "All           258     123\n",
       "Matched       123     123\n",
       "Unmatched     135       0\n",
       "Discarded       0       0\n"
      ]
     },
     "metadata": {},
     "output_type": "display_data"
    },
    {
     "data": {
      "image/png": "[encoded data removed]",
      "text/plain": [
       "plot without title"
      ]
     },
     "metadata": {},
     "output_type": "display_data"
    },
    {
     "name": "stdout",
     "output_type": "stream",
     "text": [
      "[1] \"To identify the units, use first mouse button; to stop, use second.\"\n"
     ]
    },
    {
     "data": {
      "text/html": [],
      "text/latex": [],
      "text/markdown": [],
      "text/plain": [
       "integer(0)"
      ]
     },
     "metadata": {},
     "output_type": "display_data"
    },
    {
     "data": {
      "image/png": "[encoded data removed]",
      "text/plain": [
       "Plot with title “Distribution of Propensity Scores”"
      ]
     },
     "metadata": {},
     "output_type": "display_data"
    },
    {
     "name": "stdout",
     "output_type": "stream",
     "text": [
      "                            Stratified by treatment\n",
      "                             0             1             p      test\n",
      "  n                            123           123                    \n",
      "  female (mean (sd))          0.56 (0.50)   0.54 (0.50)   0.702     \n",
      "  age (mean (sd))             2.96 (3.96)   3.10 (4.02)   0.788     \n",
      "  pim2 (mean (sd))           19.64 (24.28) 21.70 (25.20)  0.515     \n",
      "  pelod (mean (sd))          11.75 (11.14) 11.80 (10.23)  0.971     \n",
      "  p_bloodculture (mean (sd))  0.16 (0.37)   0.19 (0.39)   0.616     \n",
      "  comorbidity (mean (sd))     0.62 (0.49)   0.62 (0.49)   1.000     \n",
      "  rf_pneumonia (mean (sd))    0.85 (0.35)   0.87 (0.34)   0.713     \n",
      "  rf_sepsis (mean (sd))       0.28 (0.45)   0.26 (0.44)   0.775     \n",
      "  rf_aspiration (mean (sd))   0.03 (0.18)   0.03 (0.18)   1.000     \n",
      "  rf_transfusion (mean (sd))  0.02 (0.13)   0.01 (0.09)   0.563     \n",
      "  rf_trauma (mean (sd))       0.00 (0.00)   0.00 (0.00)   NaN       \n",
      "  rf_drowning (mean (sd))     0.03 (0.18)   0.03 (0.18)   1.000     \n",
      "  MODS (mean (sd))            0.45 (0.50)   0.45 (0.50)   1.000     \n",
      "  d1_oi (mean (sd))          18.08 (10.42) 21.46 (13.64)  0.030     \n"
     ]
    },
    {
     "data": {
      "image/png": "[encoded data removed]",
      "text/plain": [
       "Plot with title “Matched Control”"
      ]
     },
     "metadata": {},
     "output_type": "display_data"
    }
   ],
   "source": [
    "## Load packages and data\n",
    "library(tableone)\n",
    "library(MatchIt)\n",
    "library(Matching)\n",
    "library(pROC)\n",
    "library(ROCR)\n",
    "library(ggplot2)\n",
    "library(epitools)\n",
    "library(dplyr)\n",
    "\n",
    "####loading KKH ICU data\n",
    "kkh_data <- read.csv(\"PICUARD_DATA_1208.csv\")\n",
    "df<-data.frame(kkh_data)\n",
    "kkh<-df[!is.na(df$d1_oi),]\n",
    "####check column names\n",
    "#colnames(kkh, do.NULL = FALSE)\n",
    "\n",
    "####select features\n",
    "ID<-kkh$Study.ID\n",
    "female<-as.numeric(kkh$Gender=='Female')\n",
    "age<-kkh$Age\n",
    "pim2<-kkh$pim2\n",
    "pelod<-kkh$pelod\n",
    "p_bloodculture<-as.numeric(kkh$Positive_blood_culture=='Yes')\n",
    "\n",
    "#comorbidity\n",
    "comorbidity<-kkh$comorbidity\n",
    "\n",
    "#risk factor of ARDS\n",
    "rf_pneumonia<-as.numeric(kkh$PNEUMONIA=='Checked')\n",
    "rf_sepsis<-as.numeric(kkh$SEPSIS=='Checked')\n",
    "rf_aspiration<-as.numeric(kkh$ASPIRATION=='Checked')\n",
    "rf_transfusion<-as.numeric(kkh$TRANSFUSION=='Checked')\n",
    "rf_trauma<-as.numeric(kkh$TRAUMA=='Checked')\n",
    "rf_drowning<-as.numeric(kkh$DROWNING=='Checked')\n",
    "\n",
    "#other useful features\n",
    "#cardiac_failure<-as.numeric(kkh$Cardiac.failure.or.fluid.overload=='Yes')\n",
    "MODS<-as.numeric(kkh$MODS=='Yes')\n",
    "#Received_pulmonary_vasodilators<-as.numeric(kkh$Received_pulmonary_vasodilators=='Yes')\n",
    "#blood gas labtest\n",
    "#D1_FiO2<-kkh$D1_FiO2\n",
    "#D1_SpO2<-kkh$D1_SpO2\n",
    "d1_oi<-kkh$d1_oi\n",
    "#treatment and mortality\n",
    "#treatment<-kkh$hfv\n",
    "treatment<-as.numeric(kkh$Received_HFV=='Yes')\n",
    "died<-kkh$died_in_ICU\n",
    "\n",
    "####new dataset\n",
    "mydata<-cbind(ID,female,age,pim2,pelod,p_bloodculture,comorbidity,rf_pneumonia,rf_sepsis,rf_aspiration,rf_transfusion\n",
    "              ,rf_trauma,rf_drowning,MODS,d1_oi\n",
    "              ,treatment,died)\n",
    "\n",
    "mydata<-data.frame(mydata)\n",
    "xvars<-c(\"female\",\"age\",\"pim2\",\"pelod\",\"p_bloodculture\",\"comorbidity\",\"rf_pneumonia\"\n",
    "         ,\"rf_sepsis\",\"rf_aspiration\" , \"rf_transfusion\", \"rf_trauma\", \"rf_drowning\",\"MODS\",\"d1_oi\"\n",
    "         )\n",
    "#mydata_noNA <- na.omit(mydata)\n",
    "#fit a propensity score model with logistic regression\n",
    "psmodel <-glm(treatment~female+age+pim2+pelod+p_bloodculture+MODS+comorbidity+rf_pneumonia+rf_sepsis\n",
    "                 +rf_aspiration+rf_transfusion+rf_trauma+rf_drowning+d1_oi\n",
    "                 , data = mydata,family=binomial())\n",
    "#show coefficients etc\n",
    "summary(psmodel)\n",
    "\n",
    "#create propensity score\n",
    "pscore<-psmodel$fitted.values\n",
    "#pscore<-fitted(psmodel) \n",
    "\n",
    "label<-mydata$treatment\n",
    "perf<- ROCR::prediction(pscore, label)\n",
    "psm_auc<-ROCR::performance(ROCR::prediction(pscore, label), \"auc\")@y.values[1]\n",
    "print(psm_auc)\n",
    "roc.perf = performance(perf, measure = \"tpr\", x.measure = \"fpr\")\n",
    "plot(roc.perf,col=\"#1c61b6\",percent=TRUE)\n",
    "abline(a=0, b= 1)\n",
    "\n",
    "#########################################\n",
    "#look at a table 1\n",
    "#mydata before matching\n",
    "table1_unmatched<- CreateTableOne(vars=xvars, strata=\"treatment\", data = mydata)\n",
    "## include standardized mean difference (SMD)\n",
    "print(table1_unmatched, smd=FALSE)\n",
    "\n",
    "\n",
    "#colnames(kkh, do.NULL = TRUE, prefix = \"col\")\n",
    "##########################################\n",
    "## Using the Matchit for propensity score, nearest neighbor matching\n",
    "mydata_wth_pscore<-data.frame(cbind(mydata,pscore))\n",
    "m.out <- matchit(treatment~female+age+pim2+pelod+p_bloodculture+MODS+comorbidity+rf_pneumonia+rf_sepsis\n",
    "                 +rf_aspiration+rf_transfusion+rf_trauma+rf_drowning, data = mydata_wth_pscore,              \n",
    "                 method = \"nearest\", distance=mydata_wth_pscore$pscore)\n",
    "summary(m.out)\n",
    "\n",
    "#propensity score plots\n",
    "plot(m.out, type=\"jitter\")\n",
    "plot(m.out, type=\"hist\")\n",
    "########################################\n",
    "#use the Matching package\n",
    "#do greedy matching on propensity score\n",
    "#psmatch<-Match(Tr=mydata$treatment,M=1, X=pscore,replace=FALSE,caliper=0.2)\n",
    "#matched<-mydata[unlist(psmatch[c(\"index.treated\",\"index.control\")]),]\n",
    "#summary(matched)\n",
    "########################################\n",
    "#look at Table1 after matching\n",
    "\n",
    "#Matching Table1\n",
    "#matchedtab<-CreateTableOne(vars=xvars, strata=\"treatment\",data=matched)\n",
    "#print(matchedtab, smd=TRUE)\n",
    "\n",
    "#MatchIt Table1\n",
    "table1_matched<- CreateTableOne(vars=xvars, strata=\"treatment\", data = match.data(m.out, \"all\"))\n",
    "## include standardized mean difference (SMD)\n",
    "print(table1_matched, smd=FALSE)\n"
   ]
  },
  {
   "cell_type": "code",
   "execution_count": 8,
   "metadata": {
    "collapsed": false,
    "scrolled": true
   },
   "outputs": [
    {
     "data": {
      "text/html": [
       "<table>\n",
       "<thead><tr><th scope=col>p_score</th><th scope=col>treatment_1</th></tr></thead>\n",
       "<tbody>\n",
       "\t<tr><td>0.2957362</td><td>1        </td></tr>\n",
       "\t<tr><td>0.4566688</td><td>1        </td></tr>\n",
       "\t<tr><td>0.8058621</td><td>1        </td></tr>\n",
       "\t<tr><td>0.4387311</td><td>1        </td></tr>\n",
       "\t<tr><td>0.3984541</td><td>1        </td></tr>\n",
       "\t<tr><td>0.8546125</td><td>1        </td></tr>\n",
       "</tbody>\n",
       "</table>\n"
      ],
      "text/latex": [
       "\\begin{tabular}{r|ll}\n",
       " p\\_score & treatment\\_1\\\\\n",
       "\\hline\n",
       "\t 0.2957362 & 1        \\\\\n",
       "\t 0.4566688 & 1        \\\\\n",
       "\t 0.8058621 & 1        \\\\\n",
       "\t 0.4387311 & 1        \\\\\n",
       "\t 0.3984541 & 1        \\\\\n",
       "\t 0.8546125 & 1        \\\\\n",
       "\\end{tabular}\n"
      ],
      "text/markdown": [
       "\n",
       "p_score | treatment_1 | \n",
       "|---|---|---|---|---|---|\n",
       "| 0.2957362 | 1         | \n",
       "| 0.4566688 | 1         | \n",
       "| 0.8058621 | 1         | \n",
       "| 0.4387311 | 1         | \n",
       "| 0.3984541 | 1         | \n",
       "| 0.8546125 | 1         | \n",
       "\n",
       "\n"
      ],
      "text/plain": [
       "  p_score   treatment_1\n",
       "1 0.2957362 1          \n",
       "2 0.4566688 1          \n",
       "3 0.8058621 1          \n",
       "4 0.4387311 1          \n",
       "5 0.3984541 1          \n",
       "6 0.8546125 1          "
      ]
     },
     "metadata": {},
     "output_type": "display_data"
    },
    {
     "name": "stderr",
     "output_type": "stream",
     "text": [
      "`stat_bin()` using `bins = 30`. Pick better value with `binwidth`.\n"
     ]
    },
    {
     "data": {},
     "metadata": {},
     "output_type": "display_data"
    },
    {
     "data": {
      "image/png": "[encoded data removed]",
      "text/plain": [
       "plot without title"
      ]
     },
     "metadata": {},
     "output_type": "display_data"
    }
   ],
   "source": [
    "############################################\n",
    "#checking balance using pscore plots\n",
    "\n",
    "#using Matching package\n",
    "#matched_treated<-mydata_wth_pscore[mydata_wth_pscore$ID %in% matched$ID[matched$treatment==1],]['pscore'][,1]\n",
    "#matched_control<-mydata_wth_pscore[mydata_wth_pscore$ID %in% matched$ID[matched$treatment==0],]['pscore'][,1]\n",
    "\n",
    "#using MatchIt package\n",
    "matched_treated<-mydata_wth_pscore[mydata_wth_pscore$ID %in% match.data(m.out, \"all\")$ID[match.data(m.out, \"all\")$treatment==1],]['pscore'][,1]\n",
    "matched_control<-mydata_wth_pscore[mydata_wth_pscore$ID %in% match.data(m.out, \"all\")$ID[match.data(m.out, \"all\")$treatment==0],]['pscore'][,1]\n",
    "\n",
    "pscore_outcome<-rbind(cbind(p_score=matched_treated,treatment_1=1),cbind(p_score=matched_control,treatment_1=0))\n",
    "prs_df<-data.frame(pscore_outcome)\n",
    "head(prs_df)\n",
    "###############################################\n",
    "#checking balance after matching by ploting the pscore\n",
    "\n",
    "#dataframe = data.frame(x = matched_treated, x2 = matched_control)\n",
    "#g = ggplot(dataframe, aes(x)) + geom_histogram( aes(x = x, y = ..density..),binwidth = diff(range(dataframe$x))/30, fill=\"skyblue\") + geom_histogram( aes(x = x2, y = -..density..), binwidth = diff(range(dataframe$x))/30, fill= \"lightgreen\")\n",
    "#print(g)\n",
    "\n",
    "##use histogram\n",
    "#hist(matched_treated,breaks=12,ylim=c(0,40),col='skyblue',border=F,xlab=\"Propensity Score\", main=\"Propensity Score After Matching\")\n",
    "#hist(matched_control,add=T,col=scales::alpha('red',.5),border=F)\n",
    "#x_trt<-seq(min(matched_treated),max(matched_treated),length=length(matched_treated))\n",
    "#y_trt<-dnorm(x_trt,mean=mean(matched_treated),sd=sd(matched_treated)) \n",
    "#y_trt <- y_trt*diff(h$mids[1:2])*length(matched_treated)\n",
    "#lines(x_trt, y_trt, col=\"blue\", lwd=1)\n",
    "#x_con<-seq(min(matched_control),max(matched_control),length=length(matched_control))\n",
    "#y_con<-dnorm(x_con,mean=mean(matched_control),sd=sd(matched_control)) \n",
    "#y_con <- y_con*diff(h$mids[1:2])*length(matched_control)\n",
    "#lines(x_con, y_con, col=\"red\", lwd=1)\n",
    "\n",
    "# Simulate some data. Individuals' heights in cm.\n",
    "n        <- length(matched_treated)\n",
    "mean     <- mean(matched_treated)\n",
    "sd       <- sd(matched_treated)\n",
    "binwidth <- 2\n",
    "height <- rnorm(n, mean, sd)\n",
    "\n",
    "labs <- paste(\"Propensity Score After Matching\", c(\"Control\", \"Treatment\"))\n",
    "prs_df %>%\n",
    "  mutate(treatment_1 = ifelse(treatment_1 == 1, labs[1], labs[2]))%>%\n",
    "  ggplot(aes(x = p_score)) +\n",
    "  geom_histogram(color = \"white\") +\n",
    "  facet_wrap(~treatment_1) +\n",
    "  xlab(\"Probability of Receiving High Frequency Ventilation\") +\n",
    "  theme_bw()+\n",
    "stat_function(fun = dnorm, args = list(mean = mean, sd = sd))"
   ]
  },
  {
   "cell_type": "code",
   "execution_count": 9,
   "metadata": {
    "collapsed": false,
    "scrolled": false
   },
   "outputs": [
    {
     "data": {
      "text/plain": [
       "           y_control\n",
       "y_treatment  0  1\n",
       "          0 52 22\n",
       "          1 29 20"
      ]
     },
     "metadata": {},
     "output_type": "display_data"
    },
    {
     "data": {
      "text/plain": [
       "\n",
       "\tMcNemar's Chi-squared test with continuity correction\n",
       "\n",
       "data:  y_treatment and y_control\n",
       "McNemar's chi-squared = 0.70588, df = 1, p-value = 0.4008\n"
      ]
     },
     "metadata": {},
     "output_type": "display_data"
    },
    {
     "data": {
      "text/html": [
       "<dl>\n",
       "\t<dt>$data</dt>\n",
       "\t\t<dd><table>\n",
       "<thead><tr><th></th><th scope=col>Disease1</th><th scope=col>Disease2</th><th scope=col>Total</th></tr></thead>\n",
       "<tbody>\n",
       "\t<tr><th scope=row>Exposed1</th><td>49 </td><td> 74</td><td>123</td></tr>\n",
       "\t<tr><th scope=row>Exposed2</th><td>42 </td><td> 81</td><td>123</td></tr>\n",
       "\t<tr><th scope=row>Total</th><td>91 </td><td>155</td><td>246</td></tr>\n",
       "</tbody>\n",
       "</table>\n",
       "</dd>\n",
       "\t<dt>$measure</dt>\n",
       "\t\t<dd><table>\n",
       "<thead><tr><th></th><th scope=col>estimate</th><th scope=col>lower</th><th scope=col>upper</th></tr></thead>\n",
       "<tbody>\n",
       "\t<tr><th scope=row>Exposed1</th><td>1.000000 </td><td>       NA</td><td>      NA </td></tr>\n",
       "\t<tr><th scope=row>Exposed2</th><td>1.275219 </td><td>0.7583369</td><td>2.151681 </td></tr>\n",
       "</tbody>\n",
       "</table>\n",
       "</dd>\n",
       "\t<dt>$p.value</dt>\n",
       "\t\t<dd><table>\n",
       "<thead><tr><th></th><th scope=col>midp.exact</th><th scope=col>fisher.exact</th><th scope=col>chi.square</th></tr></thead>\n",
       "<tbody>\n",
       "\t<tr><th scope=row>Exposed1</th><td>       NA</td><td>       NA</td><td>       NA</td></tr>\n",
       "\t<tr><th scope=row>Exposed2</th><td>0.3594709</td><td>0.4282218</td><td>0.3552569</td></tr>\n",
       "</tbody>\n",
       "</table>\n",
       "</dd>\n",
       "\t<dt>$correction</dt>\n",
       "\t\t<dd>FALSE</dd>\n",
       "</dl>\n"
      ],
      "text/latex": [
       "\\begin{description}\n",
       "\\item[\\$data] \\begin{tabular}{r|lll}\n",
       "  & Disease1 & Disease2 & Total\\\\\n",
       "\\hline\n",
       "\tExposed1 & 49  &  74 & 123\\\\\n",
       "\tExposed2 & 42  &  81 & 123\\\\\n",
       "\tTotal & 91  & 155 & 246\\\\\n",
       "\\end{tabular}\n",
       "\n",
       "\\item[\\$measure] \\begin{tabular}{r|lll}\n",
       "  & estimate & lower & upper\\\\\n",
       "\\hline\n",
       "\tExposed1 & 1.000000  &        NA &       NA \\\\\n",
       "\tExposed2 & 1.275219  & 0.7583369 & 2.151681 \\\\\n",
       "\\end{tabular}\n",
       "\n",
       "\\item[\\$p.value] \\begin{tabular}{r|lll}\n",
       "  & midp.exact & fisher.exact & chi.square\\\\\n",
       "\\hline\n",
       "\tExposed1 &        NA &        NA &        NA\\\\\n",
       "\tExposed2 & 0.3594709 & 0.4282218 & 0.3552569\\\\\n",
       "\\end{tabular}\n",
       "\n",
       "\\item[\\$correction] FALSE\n",
       "\\end{description}\n"
      ],
      "text/markdown": [
       "$data\n",
       ":   \n",
       "| <!--/--> | Disease1 | Disease2 | Total | \n",
       "|---|---|---|\n",
       "| Exposed1 | 49  |  74 | 123 | \n",
       "| Exposed2 | 42  |  81 | 123 | \n",
       "| Total | 91  | 155 | 246 | \n",
       "\n",
       "\n",
       "\n",
       "$measure\n",
       ":   \n",
       "| <!--/--> | estimate | lower | upper | \n",
       "|---|---|\n",
       "| Exposed1 | 1.000000  |        NA |       NA  | \n",
       "| Exposed2 | 1.275219  | 0.7583369 | 2.151681  | \n",
       "\n",
       "\n",
       "\n",
       "$p.value\n",
       ":   \n",
       "| <!--/--> | midp.exact | fisher.exact | chi.square | \n",
       "|---|---|\n",
       "| Exposed1 |        NA |        NA |        NA | \n",
       "| Exposed2 | 0.3594709 | 0.4282218 | 0.3552569 | \n",
       "\n",
       "\n",
       "\n",
       "$correction\n",
       ":   FALSE\n",
       "\n",
       "\n"
      ],
      "text/plain": [
       "$data\n",
       "          Outcome\n",
       "Predictor  Disease1 Disease2 Total\n",
       "  Exposed1       49       74   123\n",
       "  Exposed2       42       81   123\n",
       "  Total          91      155   246\n",
       "\n",
       "$measure\n",
       "          odds ratio with 95% C.I.\n",
       "Predictor  estimate     lower    upper\n",
       "  Exposed1 1.000000        NA       NA\n",
       "  Exposed2 1.275219 0.7583369 2.151681\n",
       "\n",
       "$p.value\n",
       "          two-sided\n",
       "Predictor  midp.exact fisher.exact chi.square\n",
       "  Exposed1         NA           NA         NA\n",
       "  Exposed2  0.3594709    0.4282218  0.3552569\n",
       "\n",
       "$correction\n",
       "[1] FALSE\n",
       "\n",
       "attr(,\"method\")\n",
       "[1] \"median-unbiased estimate & mid-p exact CI\""
      ]
     },
     "metadata": {},
     "output_type": "display_data"
    }
   ],
   "source": [
    "###################################\n",
    "#outcome analysis\n",
    "#Matching package\n",
    "#y_treatment<-matched1$died[matched$treatment==1]\n",
    "#y_control<-matched1$died[matched$treatment==0]\n",
    "\n",
    "#MatchIt package\n",
    "y_treatment<-match.data(m.out)$died[match.data(m.out, \"all\")$treatment==1] \n",
    "y_control<-match.data(m.out)$died[match.data(m.out, \"all\")$treatment==0] \n",
    "\n",
    "\n",
    "\n",
    "#pairwise difference for continuous data\n",
    "#diffy<-y_trt-y_con\n",
    "#paired t-test\n",
    "#t.test(diffy)\n",
    "\n",
    "table(y_treatment,y_control)\n",
    "#McNemar test\n",
    "mcnemar.test(y_treatment, y_control)\n",
    "\n",
    "########## calculate Odd's ratio here!\n",
    "a<-length(y_treatment[y_treatment==1])\n",
    "b<-length(y_control[y_control==1])\n",
    "c<-length(y_treatment[y_treatment==0])\n",
    "d<-length(y_control[y_control==0])\n",
    "\n",
    "oddsratio(matrix(c(a,b,c,d), ncol=2, nrow=2))\n"
   ]
  },
  {
   "cell_type": "code",
   "execution_count": null,
   "metadata": {
    "collapsed": true
   },
   "outputs": [],
   "source": []
  },
  {
   "cell_type": "code",
   "execution_count": 22,
   "metadata": {
    "collapsed": false
   },
   "outputs": [
    {
     "name": "stderr",
     "output_type": "stream",
     "text": [
      "Warning message in if (distance %in% c(\"GAMlogit\", \"GAMprobit\", \"GAMcloglog\", \"GAMlog\", :\n",
      "“the condition has length > 1 and only the first element will be used”"
     ]
    },
    {
     "data": {
      "text/html": [
       "<dl>\n",
       "\t<dt>$data</dt>\n",
       "\t\t<dd><table>\n",
       "<thead><tr><th></th><th scope=col>Disease1</th><th scope=col>Disease2</th><th scope=col>Total</th></tr></thead>\n",
       "<tbody>\n",
       "\t<tr><th scope=row>Exposed1</th><td>26 </td><td> 60</td><td> 86</td></tr>\n",
       "\t<tr><th scope=row>Exposed2</th><td>37 </td><td> 49</td><td> 86</td></tr>\n",
       "\t<tr><th scope=row>Total</th><td>63 </td><td>109</td><td>172</td></tr>\n",
       "</tbody>\n",
       "</table>\n",
       "</dd>\n",
       "\t<dt>$measure</dt>\n",
       "\t\t<dd><table>\n",
       "<thead><tr><th></th><th scope=col>estimate</th><th scope=col>lower</th><th scope=col>upper</th></tr></thead>\n",
       "<tbody>\n",
       "\t<tr><th scope=row>Exposed1</th><td>1.0000000</td><td>       NA</td><td>      NA </td></tr>\n",
       "\t<tr><th scope=row>Exposed2</th><td>0.5765563</td><td>0.3046182</td><td>1.078876 </td></tr>\n",
       "</tbody>\n",
       "</table>\n",
       "</dd>\n",
       "\t<dt>$p.value</dt>\n",
       "\t\t<dd><table>\n",
       "<thead><tr><th></th><th scope=col>midp.exact</th><th scope=col>fisher.exact</th><th scope=col>chi.square</th></tr></thead>\n",
       "<tbody>\n",
       "\t<tr><th scope=row>Exposed1</th><td>        NA</td><td>       NA </td><td>        NA</td></tr>\n",
       "\t<tr><th scope=row>Exposed2</th><td>0.08515071</td><td>0.1131678 </td><td>0.08170142</td></tr>\n",
       "</tbody>\n",
       "</table>\n",
       "</dd>\n",
       "\t<dt>$correction</dt>\n",
       "\t\t<dd>FALSE</dd>\n",
       "</dl>\n"
      ],
      "text/latex": [
       "\\begin{description}\n",
       "\\item[\\$data] \\begin{tabular}{r|lll}\n",
       "  & Disease1 & Disease2 & Total\\\\\n",
       "\\hline\n",
       "\tExposed1 & 26  &  60 &  86\\\\\n",
       "\tExposed2 & 37  &  49 &  86\\\\\n",
       "\tTotal & 63  & 109 & 172\\\\\n",
       "\\end{tabular}\n",
       "\n",
       "\\item[\\$measure] \\begin{tabular}{r|lll}\n",
       "  & estimate & lower & upper\\\\\n",
       "\\hline\n",
       "\tExposed1 & 1.0000000 &        NA &       NA \\\\\n",
       "\tExposed2 & 0.5765563 & 0.3046182 & 1.078876 \\\\\n",
       "\\end{tabular}\n",
       "\n",
       "\\item[\\$p.value] \\begin{tabular}{r|lll}\n",
       "  & midp.exact & fisher.exact & chi.square\\\\\n",
       "\\hline\n",
       "\tExposed1 &         NA &        NA  &         NA\\\\\n",
       "\tExposed2 & 0.08515071 & 0.1131678  & 0.08170142\\\\\n",
       "\\end{tabular}\n",
       "\n",
       "\\item[\\$correction] FALSE\n",
       "\\end{description}\n"
      ],
      "text/markdown": [
       "$data\n",
       ":   \n",
       "| <!--/--> | Disease1 | Disease2 | Total | \n",
       "|---|---|---|\n",
       "| Exposed1 | 26  |  60 |  86 | \n",
       "| Exposed2 | 37  |  49 |  86 | \n",
       "| Total | 63  | 109 | 172 | \n",
       "\n",
       "\n",
       "\n",
       "$measure\n",
       ":   \n",
       "| <!--/--> | estimate | lower | upper | \n",
       "|---|---|\n",
       "| Exposed1 | 1.0000000 |        NA |       NA  | \n",
       "| Exposed2 | 0.5765563 | 0.3046182 | 1.078876  | \n",
       "\n",
       "\n",
       "\n",
       "$p.value\n",
       ":   \n",
       "| <!--/--> | midp.exact | fisher.exact | chi.square | \n",
       "|---|---|\n",
       "| Exposed1 |         NA |        NA  |         NA | \n",
       "| Exposed2 | 0.08515071 | 0.1131678  | 0.08170142 | \n",
       "\n",
       "\n",
       "\n",
       "$correction\n",
       ":   FALSE\n",
       "\n",
       "\n"
      ],
      "text/plain": [
       "$data\n",
       "          Outcome\n",
       "Predictor  Disease1 Disease2 Total\n",
       "  Exposed1       26       60    86\n",
       "  Exposed2       37       49    86\n",
       "  Total          63      109   172\n",
       "\n",
       "$measure\n",
       "          odds ratio with 95% C.I.\n",
       "Predictor   estimate     lower    upper\n",
       "  Exposed1 1.0000000        NA       NA\n",
       "  Exposed2 0.5765563 0.3046182 1.078876\n",
       "\n",
       "$p.value\n",
       "          two-sided\n",
       "Predictor  midp.exact fisher.exact chi.square\n",
       "  Exposed1         NA           NA         NA\n",
       "  Exposed2 0.08515071    0.1131678 0.08170142\n",
       "\n",
       "$correction\n",
       "[1] FALSE\n",
       "\n",
       "attr(,\"method\")\n",
       "[1] \"median-unbiased estimate & mid-p exact CI\""
      ]
     },
     "metadata": {},
     "output_type": "display_data"
    }
   ],
   "source": [
    "##############################################\n",
    "\n",
    "m.out <- matchit(treatment~female+age+pim2+pelod+p_bloodculture+comorbidity+rf_pneumonia+rf_sepsis\n",
    "                 +rf_aspiration+rf_transfusion+rf_trauma+rf_drowning+MODS, data = mydata, \n",
    "                 method = \"nearest\", distance=mydata_wth_pscore$pscore,caliper=0.1)\n",
    "\n",
    "#psmatch<-Match(Tr=mydata$treatment,M=1, X=pscore,replace=FALSE,caliper=0.01)\n",
    "#matched<-mydata[unlist(psmatch[c(\"index.treated\",\"index.control\")]),]\n",
    "\n",
    "#MatchIt package\n",
    "y_treatment<-match.data(m.out)$died[match.data(m.out, \"all\")$treatment==1] \n",
    "y_control<-match.data(m.out)$died[match.data(m.out, \"all\")$treatment==0] \n",
    "\n",
    "#Matching package\n",
    "#y_treatment<-matched$died[matched$treatment==1]\n",
    "#y_control<-matched$died[matched$treatment==0]\n",
    "\n",
    "a<-length(y_treatment[y_treatment==1])\n",
    "b<-length(y_control[y_control==1])\n",
    "c<-length(y_treatment[y_treatment==0])\n",
    "d<-length(y_control[y_control==0])\n",
    "\n",
    "oddsratio(matrix(c(a,b,c,d), ncol=2, nrow=2))\n",
    "\n",
    "\n"
   ]
  },
  {
   "cell_type": "code",
   "execution_count": 20,
   "metadata": {
    "collapsed": false,
    "scrolled": true
   },
   "outputs": [
    {
     "name": "stderr",
     "output_type": "stream",
     "text": [
      "Warning message in if (distance %in% c(\"GAMlogit\", \"GAMprobit\", \"GAMcloglog\", \"GAMlog\", :\n",
      "“the condition has length > 1 and only the first element will be used”"
     ]
    },
    {
     "name": "stdout",
     "output_type": "stream",
     "text": [
      "$data\n",
      "          Outcome\n",
      "Predictor  Disease1 Disease2 Total\n",
      "  Exposed1       21       34    55\n",
      "  Exposed2       23       32    55\n",
      "  Total          44       66   110\n",
      "\n",
      "$measure\n",
      "          odds ratio with 95% C.I.\n",
      "Predictor   estimate     lower    upper\n",
      "  Exposed1 1.0000000        NA       NA\n",
      "  Exposed2 0.8609646 0.3972068 1.858215\n",
      "\n",
      "$p.value\n",
      "          two-sided\n",
      "Predictor  midp.exact fisher.exact chi.square\n",
      "  Exposed1         NA           NA         NA\n",
      "  Exposed2  0.7026915    0.8458254  0.6970916\n",
      "\n",
      "$correction\n",
      "[1] FALSE\n",
      "\n",
      "attr(,\"method\")\n",
      "[1] \"median-unbiased estimate & mid-p exact CI\"\n",
      "[1] 1\n",
      "[1] \"---------------------------------\"\n"
     ]
    },
    {
     "name": "stderr",
     "output_type": "stream",
     "text": [
      "Warning message in if (distance %in% c(\"GAMlogit\", \"GAMprobit\", \"GAMcloglog\", \"GAMlog\", :\n",
      "“the condition has length > 1 and only the first element will be used”"
     ]
    },
    {
     "name": "stdout",
     "output_type": "stream",
     "text": [
      "$data\n",
      "          Outcome\n",
      "Predictor  Disease1 Disease2 Total\n",
      "  Exposed1       22       44    66\n",
      "  Exposed2       25       41    66\n",
      "  Total          47       85   132\n",
      "\n",
      "$measure\n",
      "          odds ratio with 95% C.I.\n",
      "Predictor  estimate     lower    upper\n",
      "  Exposed1 1.000000        NA       NA\n",
      "  Exposed2 0.821786 0.3987288 1.684532\n",
      "\n",
      "$p.value\n",
      "          two-sided\n",
      "Predictor  midp.exact fisher.exact chi.square\n",
      "  Exposed1         NA           NA         NA\n",
      "  Exposed2  0.5918933    0.7164136  0.5855348\n",
      "\n",
      "$correction\n",
      "[1] FALSE\n",
      "\n",
      "attr(,\"method\")\n",
      "[1] \"median-unbiased estimate & mid-p exact CI\"\n",
      "[1] 2\n",
      "[1] \"---------------------------------\"\n"
     ]
    },
    {
     "name": "stderr",
     "output_type": "stream",
     "text": [
      "Warning message in if (distance %in% c(\"GAMlogit\", \"GAMprobit\", \"GAMcloglog\", \"GAMlog\", :\n",
      "“the condition has length > 1 and only the first element will be used”"
     ]
    },
    {
     "name": "stdout",
     "output_type": "stream",
     "text": [
      "$data\n",
      "          Outcome\n",
      "Predictor  Disease1 Disease2 Total\n",
      "  Exposed1       24       48    72\n",
      "  Exposed2       32       40    72\n",
      "  Total          56       88   144\n",
      "\n",
      "$measure\n",
      "          odds ratio with 95% C.I.\n",
      "Predictor   estimate     lower    upper\n",
      "  Exposed1 1.0000000        NA       NA\n",
      "  Exposed2 0.6278687 0.3161077 1.234045\n",
      "\n",
      "$p.value\n",
      "          two-sided\n",
      "Predictor  midp.exact fisher.exact chi.square\n",
      "  Exposed1         NA           NA         NA\n",
      "  Exposed2  0.1774644    0.2313431  0.1714602\n",
      "\n",
      "$correction\n",
      "[1] FALSE\n",
      "\n",
      "attr(,\"method\")\n",
      "[1] \"median-unbiased estimate & mid-p exact CI\"\n",
      "[1] 3\n",
      "[1] \"---------------------------------\"\n"
     ]
    },
    {
     "name": "stderr",
     "output_type": "stream",
     "text": [
      "Warning message in if (distance %in% c(\"GAMlogit\", \"GAMprobit\", \"GAMcloglog\", \"GAMlog\", :\n",
      "“the condition has length > 1 and only the first element will be used”"
     ]
    },
    {
     "name": "stdout",
     "output_type": "stream",
     "text": [
      "$data\n",
      "          Outcome\n",
      "Predictor  Disease1 Disease2 Total\n",
      "  Exposed1       26       47    73\n",
      "  Exposed2       30       43    73\n",
      "  Total          56       90   146\n",
      "\n",
      "$measure\n",
      "          odds ratio with 95% C.I.\n",
      "Predictor   estimate    lower    upper\n",
      "  Exposed1 1.0000000       NA       NA\n",
      "  Exposed2 0.7946851 0.404002 1.555033\n",
      "\n",
      "$p.value\n",
      "          two-sided\n",
      "Predictor  midp.exact fisher.exact chi.square\n",
      "  Exposed1         NA           NA         NA\n",
      "  Exposed2  0.5023523    0.6098284  0.4959965\n",
      "\n",
      "$correction\n",
      "[1] FALSE\n",
      "\n",
      "attr(,\"method\")\n",
      "[1] \"median-unbiased estimate & mid-p exact CI\"\n",
      "[1] 4\n",
      "[1] \"---------------------------------\"\n"
     ]
    },
    {
     "name": "stderr",
     "output_type": "stream",
     "text": [
      "Warning message in if (distance %in% c(\"GAMlogit\", \"GAMprobit\", \"GAMcloglog\", \"GAMlog\", :\n",
      "“the condition has length > 1 and only the first element will be used”"
     ]
    },
    {
     "name": "stdout",
     "output_type": "stream",
     "text": [
      "$data\n",
      "          Outcome\n",
      "Predictor  Disease1 Disease2 Total\n",
      "  Exposed1       26       49    75\n",
      "  Exposed2       32       43    75\n",
      "  Total          58       92   150\n",
      "\n",
      "$measure\n",
      "          odds ratio with 95% C.I.\n",
      "Predictor   estimate     lower    upper\n",
      "  Exposed1 1.0000000        NA       NA\n",
      "  Exposed2 0.7152652 0.3664401 1.385991\n",
      "\n",
      "$p.value\n",
      "          two-sided\n",
      "Predictor  midp.exact fisher.exact chi.square\n",
      "  Exposed1         NA           NA         NA\n",
      "  Exposed2  0.3211986    0.4019638  0.3144256\n",
      "\n",
      "$correction\n",
      "[1] FALSE\n",
      "\n",
      "attr(,\"method\")\n",
      "[1] \"median-unbiased estimate & mid-p exact CI\"\n",
      "[1] 5\n",
      "[1] \"---------------------------------\"\n"
     ]
    },
    {
     "name": "stderr",
     "output_type": "stream",
     "text": [
      "Warning message in if (distance %in% c(\"GAMlogit\", \"GAMprobit\", \"GAMcloglog\", \"GAMlog\", :\n",
      "“the condition has length > 1 and only the first element will be used”"
     ]
    },
    {
     "name": "stdout",
     "output_type": "stream",
     "text": [
      "$data\n",
      "          Outcome\n",
      "Predictor  Disease1 Disease2 Total\n",
      "  Exposed1       25       53    78\n",
      "  Exposed2       33       45    78\n",
      "  Total          58       98   156\n",
      "\n",
      "$measure\n",
      "          odds ratio with 95% C.I.\n",
      "Predictor   estimate     lower    upper\n",
      "  Exposed1 1.0000000        NA       NA\n",
      "  Exposed2 0.6458258 0.3324068 1.242647\n",
      "\n",
      "$p.value\n",
      "          two-sided\n",
      "Predictor  midp.exact fisher.exact chi.square\n",
      "  Exposed1         NA           NA         NA\n",
      "  Exposed2  0.1908658    0.2460877  0.1850605\n",
      "\n",
      "$correction\n",
      "[1] FALSE\n",
      "\n",
      "attr(,\"method\")\n",
      "[1] \"median-unbiased estimate & mid-p exact CI\"\n",
      "[1] 6\n",
      "[1] \"---------------------------------\"\n"
     ]
    },
    {
     "name": "stderr",
     "output_type": "stream",
     "text": [
      "Warning message in if (distance %in% c(\"GAMlogit\", \"GAMprobit\", \"GAMcloglog\", \"GAMlog\", :\n",
      "“the condition has length > 1 and only the first element will be used”"
     ]
    },
    {
     "name": "stdout",
     "output_type": "stream",
     "text": [
      "$data\n",
      "          Outcome\n",
      "Predictor  Disease1 Disease2 Total\n",
      "  Exposed1       27       52    79\n",
      "  Exposed2       31       48    79\n",
      "  Total          58      100   158\n",
      "\n",
      "$measure\n",
      "          odds ratio with 95% C.I.\n",
      "Predictor  estimate     lower   upper\n",
      "  Exposed1 1.000000        NA      NA\n",
      "  Exposed2 0.805558 0.4181899 1.54427\n",
      "\n",
      "$p.value\n",
      "          two-sided\n",
      "Predictor  midp.exact fisher.exact chi.square\n",
      "  Exposed1         NA           NA         NA\n",
      "  Exposed2  0.5150185    0.6206881  0.5091265\n",
      "\n",
      "$correction\n",
      "[1] FALSE\n",
      "\n",
      "attr(,\"method\")\n",
      "[1] \"median-unbiased estimate & mid-p exact CI\"\n",
      "[1] 7\n",
      "[1] \"---------------------------------\"\n"
     ]
    },
    {
     "name": "stderr",
     "output_type": "stream",
     "text": [
      "Warning message in if (distance %in% c(\"GAMlogit\", \"GAMprobit\", \"GAMcloglog\", \"GAMlog\", :\n",
      "“the condition has length > 1 and only the first element will be used”"
     ]
    },
    {
     "name": "stdout",
     "output_type": "stream",
     "text": [
      "$data\n",
      "          Outcome\n",
      "Predictor  Disease1 Disease2 Total\n",
      "  Exposed1       27       52    79\n",
      "  Exposed2       30       49    79\n",
      "  Total          57      101   158\n",
      "\n",
      "$measure\n",
      "          odds ratio with 95% C.I.\n",
      "Predictor   estimate     lower    upper\n",
      "  Exposed1 1.0000000        NA       NA\n",
      "  Exposed2 0.8493492 0.4402799 1.632449\n",
      "\n",
      "$p.value\n",
      "          two-sided\n",
      "Predictor  midp.exact fisher.exact chi.square\n",
      "  Exposed1         NA           NA         NA\n",
      "  Exposed2   0.624146    0.7405609  0.6191928\n",
      "\n",
      "$correction\n",
      "[1] FALSE\n",
      "\n",
      "attr(,\"method\")\n",
      "[1] \"median-unbiased estimate & mid-p exact CI\"\n",
      "[1] 8\n",
      "[1] \"---------------------------------\"\n"
     ]
    },
    {
     "name": "stderr",
     "output_type": "stream",
     "text": [
      "Warning message in if (distance %in% c(\"GAMlogit\", \"GAMprobit\", \"GAMcloglog\", \"GAMlog\", :\n",
      "“the condition has length > 1 and only the first element will be used”"
     ]
    },
    {
     "name": "stdout",
     "output_type": "stream",
     "text": [
      "$data\n",
      "          Outcome\n",
      "Predictor  Disease1 Disease2 Total\n",
      "  Exposed1       28       52    80\n",
      "  Exposed2       29       51    80\n",
      "  Total          57      103   160\n",
      "\n",
      "$measure\n",
      "          odds ratio with 95% C.I.\n",
      "Predictor   estimate     lower    upper\n",
      "  Exposed1 1.0000000        NA       NA\n",
      "  Exposed2 0.9474128 0.4931631 1.817874\n",
      "\n",
      "$p.value\n",
      "          two-sided\n",
      "Predictor  midp.exact fisher.exact chi.square\n",
      "  Exposed1         NA           NA         NA\n",
      "  Exposed2  0.8707198            1  0.8688782\n",
      "\n",
      "$correction\n",
      "[1] FALSE\n",
      "\n",
      "attr(,\"method\")\n",
      "[1] \"median-unbiased estimate & mid-p exact CI\"\n",
      "[1] 9\n",
      "[1] \"---------------------------------\"\n"
     ]
    },
    {
     "name": "stderr",
     "output_type": "stream",
     "text": [
      "Warning message in if (distance %in% c(\"GAMlogit\", \"GAMprobit\", \"GAMcloglog\", \"GAMlog\", :\n",
      "“the condition has length > 1 and only the first element will be used”"
     ]
    },
    {
     "name": "stdout",
     "output_type": "stream",
     "text": [
      "$data\n",
      "          Outcome\n",
      "Predictor  Disease1 Disease2 Total\n",
      "  Exposed1       28       54    82\n",
      "  Exposed2       30       52    82\n",
      "  Total          58      106   164\n",
      "\n",
      "$measure\n",
      "          odds ratio with 95% C.I.\n",
      "Predictor   estimate     lower    upper\n",
      "  Exposed1 1.0000000        NA       NA\n",
      "  Exposed2 0.8996117 0.4712011 1.713492\n",
      "\n",
      "$p.value\n",
      "          two-sided\n",
      "Predictor  midp.exact fisher.exact chi.square\n",
      "  Exposed1         NA           NA         NA\n",
      "  Exposed2  0.7473493    0.8703535  0.7439313\n",
      "\n",
      "$correction\n",
      "[1] FALSE\n",
      "\n",
      "attr(,\"method\")\n",
      "[1] \"median-unbiased estimate & mid-p exact CI\"\n",
      "[1] 10\n",
      "[1] \"---------------------------------\"\n"
     ]
    },
    {
     "name": "stderr",
     "output_type": "stream",
     "text": [
      "Warning message in if (distance %in% c(\"GAMlogit\", \"GAMprobit\", \"GAMcloglog\", \"GAMlog\", :\n",
      "“the condition has length > 1 and only the first element will be used”"
     ]
    },
    {
     "name": "stdout",
     "output_type": "stream",
     "text": [
      "$data\n",
      "          Outcome\n",
      "Predictor  Disease1 Disease2 Total\n",
      "  Exposed1       31       51    82\n",
      "  Exposed2       28       54    82\n",
      "  Total          59      105   164\n",
      "\n",
      "$measure\n",
      "          odds ratio with 95% C.I.\n",
      "Predictor  estimate     lower    upper\n",
      "  Exposed1 1.000000        NA       NA\n",
      "  Exposed2 1.170639 0.6162984 2.231143\n",
      "\n",
      "$p.value\n",
      "          two-sided\n",
      "Predictor  midp.exact fisher.exact chi.square\n",
      "  Exposed1         NA           NA         NA\n",
      "  Exposed2  0.6301846    0.7450285  0.6254681\n",
      "\n",
      "$correction\n",
      "[1] FALSE\n",
      "\n",
      "attr(,\"method\")\n",
      "[1] \"median-unbiased estimate & mid-p exact CI\"\n",
      "[1] 11\n",
      "[1] \"---------------------------------\"\n"
     ]
    },
    {
     "name": "stderr",
     "output_type": "stream",
     "text": [
      "Warning message in if (distance %in% c(\"GAMlogit\", \"GAMprobit\", \"GAMcloglog\", \"GAMlog\", :\n",
      "“the condition has length > 1 and only the first element will be used”"
     ]
    },
    {
     "name": "stdout",
     "output_type": "stream",
     "text": [
      "$data\n",
      "          Outcome\n",
      "Predictor  Disease1 Disease2 Total\n",
      "  Exposed1       32       53    85\n",
      "  Exposed2       31       54    85\n",
      "  Total          63      107   170\n",
      "\n",
      "$measure\n",
      "          odds ratio with 95% C.I.\n",
      "Predictor  estimate     lower    upper\n",
      "  Exposed1 1.000000        NA       NA\n",
      "  Exposed2 1.051292 0.5618507 1.969125\n",
      "\n",
      "$p.value\n",
      "          two-sided\n",
      "Predictor  midp.exact fisher.exact chi.square\n",
      "  Exposed1         NA           NA         NA\n",
      "  Exposed2  0.8754626            1   0.873823\n",
      "\n",
      "$correction\n",
      "[1] FALSE\n",
      "\n",
      "attr(,\"method\")\n",
      "[1] \"median-unbiased estimate & mid-p exact CI\"\n",
      "[1] 12\n",
      "[1] \"---------------------------------\"\n"
     ]
    },
    {
     "name": "stderr",
     "output_type": "stream",
     "text": [
      "Warning message in if (distance %in% c(\"GAMlogit\", \"GAMprobit\", \"GAMcloglog\", \"GAMlog\", :\n",
      "“the condition has length > 1 and only the first element will be used”"
     ]
    },
    {
     "name": "stdout",
     "output_type": "stream",
     "text": [
      "$data\n",
      "          Outcome\n",
      "Predictor  Disease1 Disease2 Total\n",
      "  Exposed1       30       54    84\n",
      "  Exposed2       26       58    84\n",
      "  Total          56      112   168\n",
      "\n",
      "$measure\n",
      "          odds ratio with 95% C.I.\n",
      "Predictor  estimate     lower    upper\n",
      "  Exposed1 1.000000        NA       NA\n",
      "  Exposed2 1.236962 0.6487104 2.370592\n",
      "\n",
      "$p.value\n",
      "          two-sided\n",
      "Predictor  midp.exact fisher.exact chi.square\n",
      "  Exposed1         NA           NA         NA\n",
      "  Exposed2  0.5184742    0.6236414  0.5126908\n",
      "\n",
      "$correction\n",
      "[1] FALSE\n",
      "\n",
      "attr(,\"method\")\n",
      "[1] \"median-unbiased estimate & mid-p exact CI\"\n",
      "[1] 13\n",
      "[1] \"---------------------------------\"\n"
     ]
    },
    {
     "name": "stderr",
     "output_type": "stream",
     "text": [
      "Warning message in if (distance %in% c(\"GAMlogit\", \"GAMprobit\", \"GAMcloglog\", \"GAMlog\", :\n",
      "“the condition has length > 1 and only the first element will be used”"
     ]
    },
    {
     "name": "stdout",
     "output_type": "stream",
     "text": [
      "$data\n",
      "          Outcome\n",
      "Predictor  Disease1 Disease2 Total\n",
      "  Exposed1       29       57    86\n",
      "  Exposed2       31       55    86\n",
      "  Total          60      112   172\n",
      "\n",
      "$measure\n",
      "          odds ratio with 95% C.I.\n",
      "Predictor   estimate    lower    upper\n",
      "  Exposed1 1.0000000       NA       NA\n",
      "  Exposed2 0.9034425 0.479655 1.698005\n",
      "\n",
      "$p.value\n",
      "          two-sided\n",
      "Predictor  midp.exact fisher.exact chi.square\n",
      "  Exposed1         NA           NA         NA\n",
      "  Exposed2   0.752214      0.87298  0.7489909\n",
      "\n",
      "$correction\n",
      "[1] FALSE\n",
      "\n",
      "attr(,\"method\")\n",
      "[1] \"median-unbiased estimate & mid-p exact CI\"\n",
      "[1] 14\n",
      "[1] \"---------------------------------\"\n"
     ]
    },
    {
     "name": "stderr",
     "output_type": "stream",
     "text": [
      "Warning message in if (distance %in% c(\"GAMlogit\", \"GAMprobit\", \"GAMcloglog\", \"GAMlog\", :\n",
      "“the condition has length > 1 and only the first element will be used”"
     ]
    },
    {
     "name": "stdout",
     "output_type": "stream",
     "text": [
      "$data\n",
      "          Outcome\n",
      "Predictor  Disease1 Disease2 Total\n",
      "  Exposed1       31       56    87\n",
      "  Exposed2       37       50    87\n",
      "  Total          68      106   174\n",
      "\n",
      "$measure\n",
      "          odds ratio with 95% C.I.\n",
      "Predictor   estimate     lower    upper\n",
      "  Exposed1 1.0000000        NA       NA\n",
      "  Exposed2 0.7498117 0.4043016 1.383244\n",
      "\n",
      "$p.value\n",
      "          two-sided\n",
      "Predictor  midp.exact fisher.exact chi.square\n",
      "  Exposed1         NA           NA         NA\n",
      "  Exposed2  0.3570501    0.4373631  0.3512228\n",
      "\n",
      "$correction\n",
      "[1] FALSE\n",
      "\n",
      "attr(,\"method\")\n",
      "[1] \"median-unbiased estimate & mid-p exact CI\"\n",
      "[1] 15\n",
      "[1] \"---------------------------------\"\n"
     ]
    },
    {
     "name": "stderr",
     "output_type": "stream",
     "text": [
      "Warning message in if (distance %in% c(\"GAMlogit\", \"GAMprobit\", \"GAMcloglog\", \"GAMlog\", :\n",
      "“the condition has length > 1 and only the first element will be used”"
     ]
    },
    {
     "name": "stdout",
     "output_type": "stream",
     "text": [
      "$data\n",
      "          Outcome\n",
      "Predictor  Disease1 Disease2 Total\n",
      "  Exposed1       31       57    88\n",
      "  Exposed2       34       54    88\n",
      "  Total          65      111   176\n",
      "\n",
      "$measure\n",
      "          odds ratio with 95% C.I.\n",
      "Predictor   estimate     lower    upper\n",
      "  Exposed1 1.0000000        NA       NA\n",
      "  Exposed2 0.8648004 0.4659531 1.600504\n",
      "\n",
      "$p.value\n",
      "          two-sided\n",
      "Predictor  midp.exact fisher.exact chi.square\n",
      "  Exposed1         NA           NA         NA\n",
      "  Exposed2  0.6436021    0.7548974  0.6393886\n",
      "\n",
      "$correction\n",
      "[1] FALSE\n",
      "\n",
      "attr(,\"method\")\n",
      "[1] \"median-unbiased estimate & mid-p exact CI\"\n",
      "[1] 16\n",
      "[1] \"---------------------------------\"\n"
     ]
    },
    {
     "name": "stderr",
     "output_type": "stream",
     "text": [
      "Warning message in if (distance %in% c(\"GAMlogit\", \"GAMprobit\", \"GAMcloglog\", \"GAMlog\", :\n",
      "“the condition has length > 1 and only the first element will be used”"
     ]
    },
    {
     "name": "stdout",
     "output_type": "stream",
     "text": [
      "$data\n",
      "          Outcome\n",
      "Predictor  Disease1 Disease2 Total\n",
      "  Exposed1       33       56    89\n",
      "  Exposed2       32       57    89\n",
      "  Total          65      113   178\n",
      "\n",
      "$measure\n",
      "          odds ratio with 95% C.I.\n",
      "Predictor  estimate    lower    upper\n",
      "  Exposed1 1.000000       NA       NA\n",
      "  Exposed2 1.049258 0.567786 1.940818\n",
      "\n",
      "$p.value\n",
      "          two-sided\n",
      "Predictor  midp.exact fisher.exact chi.square\n",
      "  Exposed1         NA           NA         NA\n",
      "  Exposed2  0.8778374            1  0.8762906\n",
      "\n",
      "$correction\n",
      "[1] FALSE\n",
      "\n",
      "attr(,\"method\")\n",
      "[1] \"median-unbiased estimate & mid-p exact CI\"\n",
      "[1] 17\n",
      "[1] \"---------------------------------\"\n"
     ]
    },
    {
     "name": "stderr",
     "output_type": "stream",
     "text": [
      "Warning message in if (distance %in% c(\"GAMlogit\", \"GAMprobit\", \"GAMcloglog\", \"GAMlog\", :\n",
      "“the condition has length > 1 and only the first element will be used”"
     ]
    },
    {
     "name": "stdout",
     "output_type": "stream",
     "text": [
      "$data\n",
      "          Outcome\n",
      "Predictor  Disease1 Disease2 Total\n",
      "  Exposed1       31       58    89\n",
      "  Exposed2       32       57    89\n",
      "  Total          63      115   178\n",
      "\n",
      "$measure\n",
      "          odds ratio with 95% C.I.\n",
      "Predictor   estimate     lower    upper\n",
      "  Exposed1 1.0000000        NA       NA\n",
      "  Exposed2 0.9524266 0.5126759 1.767638\n",
      "\n",
      "$p.value\n",
      "          two-sided\n",
      "Predictor  midp.exact fisher.exact chi.square\n",
      "  Exposed1         NA           NA         NA\n",
      "  Exposed2  0.8770273            1  0.8754466\n",
      "\n",
      "$correction\n",
      "[1] FALSE\n",
      "\n",
      "attr(,\"method\")\n",
      "[1] \"median-unbiased estimate & mid-p exact CI\"\n",
      "[1] 18\n",
      "[1] \"---------------------------------\"\n"
     ]
    },
    {
     "name": "stderr",
     "output_type": "stream",
     "text": [
      "Warning message in if (distance %in% c(\"GAMlogit\", \"GAMprobit\", \"GAMcloglog\", \"GAMlog\", :\n",
      "“the condition has length > 1 and only the first element will be used”"
     ]
    },
    {
     "name": "stdout",
     "output_type": "stream",
     "text": [
      "$data\n",
      "          Outcome\n",
      "Predictor  Disease1 Disease2 Total\n",
      "  Exposed1       32       59    91\n",
      "  Exposed2       35       56    91\n",
      "  Total          67      115   182\n",
      "\n",
      "$measure\n",
      "          odds ratio with 95% C.I.\n",
      "Predictor   estimate     lower   upper\n",
      "  Exposed1 1.0000000        NA      NA\n",
      "  Exposed2 0.8687606 0.4728241 1.59196\n",
      "\n",
      "$p.value\n",
      "          two-sided\n",
      "Predictor  midp.exact fisher.exact chi.square\n",
      "  Exposed1         NA           NA         NA\n",
      "  Exposed2   0.648777    0.7586839  0.6447455\n",
      "\n",
      "$correction\n",
      "[1] FALSE\n",
      "\n",
      "attr(,\"method\")\n",
      "[1] \"median-unbiased estimate & mid-p exact CI\"\n",
      "[1] 19\n",
      "[1] \"---------------------------------\"\n"
     ]
    },
    {
     "name": "stderr",
     "output_type": "stream",
     "text": [
      "Warning message in if (distance %in% c(\"GAMlogit\", \"GAMprobit\", \"GAMcloglog\", \"GAMlog\", :\n",
      "“the condition has length > 1 and only the first element will be used”"
     ]
    },
    {
     "name": "stdout",
     "output_type": "stream",
     "text": [
      "$data\n",
      "          Outcome\n",
      "Predictor  Disease1 Disease2 Total\n",
      "  Exposed1       32       59    91\n",
      "  Exposed2       37       54    91\n",
      "  Total          69      113   182\n",
      "\n",
      "$measure\n",
      "          odds ratio with 95% C.I.\n",
      "Predictor   estimate     lower    upper\n",
      "  Exposed1 1.0000000        NA       NA\n",
      "  Exposed2 0.7930094 0.4325323 1.447771\n",
      "\n",
      "$p.value\n",
      "          two-sided\n",
      "Predictor  midp.exact fisher.exact chi.square\n",
      "  Exposed1         NA           NA         NA\n",
      "  Exposed2  0.4503146    0.5412696  0.4449212\n",
      "\n",
      "$correction\n",
      "[1] FALSE\n",
      "\n",
      "attr(,\"method\")\n",
      "[1] \"median-unbiased estimate & mid-p exact CI\"\n",
      "[1] 20\n",
      "[1] \"---------------------------------\"\n"
     ]
    },
    {
     "name": "stderr",
     "output_type": "stream",
     "text": [
      "Warning message in if (distance %in% c(\"GAMlogit\", \"GAMprobit\", \"GAMcloglog\", \"GAMlog\", :\n",
      "“the condition has length > 1 and only the first element will be used”"
     ]
    },
    {
     "name": "stdout",
     "output_type": "stream",
     "text": [
      "$data\n",
      "          Outcome\n",
      "Predictor  Disease1 Disease2 Total\n",
      "  Exposed1       32       59    91\n",
      "  Exposed2       32       59    91\n",
      "  Total          64      118   182\n",
      "\n",
      "$measure\n",
      "          odds ratio with 95% C.I.\n",
      "Predictor  estimate    lower    upper\n",
      "  Exposed1 1.000000       NA       NA\n",
      "  Exposed2 1.000004 0.541818 1.845638\n",
      "\n",
      "$p.value\n",
      "          two-sided\n",
      "Predictor  midp.exact fisher.exact chi.square\n",
      "  Exposed1         NA           NA         NA\n",
      "  Exposed2          1            1          1\n",
      "\n",
      "$correction\n",
      "[1] FALSE\n",
      "\n",
      "attr(,\"method\")\n",
      "[1] \"median-unbiased estimate & mid-p exact CI\"\n",
      "[1] 21\n",
      "[1] \"---------------------------------\"\n"
     ]
    },
    {
     "name": "stderr",
     "output_type": "stream",
     "text": [
      "Warning message in if (distance %in% c(\"GAMlogit\", \"GAMprobit\", \"GAMcloglog\", \"GAMlog\", :\n",
      "“the condition has length > 1 and only the first element will be used”"
     ]
    },
    {
     "name": "stdout",
     "output_type": "stream",
     "text": [
      "$data\n",
      "          Outcome\n",
      "Predictor  Disease1 Disease2 Total\n",
      "  Exposed1       31       59    90\n",
      "  Exposed2       32       58    90\n",
      "  Total          63      117   180\n",
      "\n",
      "$measure\n",
      "          odds ratio with 95% C.I.\n",
      "Predictor   estimate     lower    upper\n",
      "  Exposed1 1.0000000        NA       NA\n",
      "  Exposed2 0.9527052 0.5137851 1.764803\n",
      "\n",
      "$p.value\n",
      "          two-sided\n",
      "Predictor  midp.exact fisher.exact chi.square\n",
      "  Exposed1         NA           NA         NA\n",
      "  Exposed2  0.8773883            1  0.8758209\n",
      "\n",
      "$correction\n",
      "[1] FALSE\n",
      "\n",
      "attr(,\"method\")\n",
      "[1] \"median-unbiased estimate & mid-p exact CI\"\n",
      "[1] 22\n",
      "[1] \"---------------------------------\"\n"
     ]
    },
    {
     "name": "stderr",
     "output_type": "stream",
     "text": [
      "Warning message in if (distance %in% c(\"GAMlogit\", \"GAMprobit\", \"GAMcloglog\", \"GAMlog\", :\n",
      "“the condition has length > 1 and only the first element will be used”"
     ]
    },
    {
     "name": "stdout",
     "output_type": "stream",
     "text": [
      "$data\n",
      "          Outcome\n",
      "Predictor  Disease1 Disease2 Total\n",
      "  Exposed1       32       59    91\n",
      "  Exposed2       34       57    91\n",
      "  Total          66      116   182\n",
      "\n",
      "$measure\n",
      "          odds ratio with 95% C.I.\n",
      "Predictor   estimate     lower    upper\n",
      "  Exposed1 1.0000000        NA       NA\n",
      "  Exposed2 0.9099547 0.4946046 1.671063\n",
      "\n",
      "$p.value\n",
      "          two-sided\n",
      "Predictor  midp.exact fisher.exact chi.square\n",
      "  Exposed1         NA           NA         NA\n",
      "  Exposed2  0.7606984    0.8775411  0.7578048\n",
      "\n",
      "$correction\n",
      "[1] FALSE\n",
      "\n",
      "attr(,\"method\")\n",
      "[1] \"median-unbiased estimate & mid-p exact CI\"\n",
      "[1] 23\n",
      "[1] \"---------------------------------\"\n"
     ]
    },
    {
     "name": "stderr",
     "output_type": "stream",
     "text": [
      "Warning message in if (distance %in% c(\"GAMlogit\", \"GAMprobit\", \"GAMcloglog\", \"GAMlog\", :\n",
      "“the condition has length > 1 and only the first element will be used”"
     ]
    },
    {
     "name": "stdout",
     "output_type": "stream",
     "text": [
      "$data\n",
      "          Outcome\n",
      "Predictor  Disease1 Disease2 Total\n",
      "  Exposed1       31       60    91\n",
      "  Exposed2       35       56    91\n",
      "  Total          66      116   182\n",
      "\n",
      "$measure\n",
      "          odds ratio with 95% C.I.\n",
      "Predictor   estimate     lower    upper\n",
      "  Exposed1 1.0000000        NA       NA\n",
      "  Exposed2 0.8278855 0.4492936 1.519928\n",
      "\n",
      "$p.value\n",
      "          two-sided\n",
      "Predictor  midp.exact fisher.exact chi.square\n",
      "  Exposed1         NA           NA         NA\n",
      "  Exposed2  0.5423696    0.6438558  0.5374132\n",
      "\n",
      "$correction\n",
      "[1] FALSE\n",
      "\n",
      "attr(,\"method\")\n",
      "[1] \"median-unbiased estimate & mid-p exact CI\"\n",
      "[1] 24\n",
      "[1] \"---------------------------------\"\n"
     ]
    },
    {
     "name": "stderr",
     "output_type": "stream",
     "text": [
      "Warning message in if (distance %in% c(\"GAMlogit\", \"GAMprobit\", \"GAMcloglog\", \"GAMlog\", :\n",
      "“the condition has length > 1 and only the first element will be used”"
     ]
    },
    {
     "name": "stdout",
     "output_type": "stream",
     "text": [
      "$data\n",
      "          Outcome\n",
      "Predictor  Disease1 Disease2 Total\n",
      "  Exposed1       32       59    91\n",
      "  Exposed2       33       58    91\n",
      "  Total          65      117   182\n",
      "\n",
      "$measure\n",
      "          odds ratio with 95% C.I.\n",
      "Predictor   estimate     lower    upper\n",
      "  Exposed1 1.0000000        NA       NA\n",
      "  Exposed2 0.9536218 0.5175798 1.755466\n",
      "\n",
      "$p.value\n",
      "          two-sided\n",
      "Predictor  midp.exact fisher.exact chi.square\n",
      "  Exposed1         NA           NA         NA\n",
      "  Exposed2  0.8785789            1   0.877059\n",
      "\n",
      "$correction\n",
      "[1] FALSE\n",
      "\n",
      "attr(,\"method\")\n",
      "[1] \"median-unbiased estimate & mid-p exact CI\"\n",
      "[1] 25\n",
      "[1] \"---------------------------------\"\n"
     ]
    },
    {
     "name": "stderr",
     "output_type": "stream",
     "text": [
      "Warning message in if (distance %in% c(\"GAMlogit\", \"GAMprobit\", \"GAMcloglog\", \"GAMlog\", :\n",
      "“the condition has length > 1 and only the first element will be used”"
     ]
    },
    {
     "name": "stdout",
     "output_type": "stream",
     "text": [
      "$data\n",
      "          Outcome\n",
      "Predictor  Disease1 Disease2 Total\n",
      "  Exposed1       32       59    91\n",
      "  Exposed2       33       58    91\n",
      "  Total          65      117   182\n",
      "\n",
      "$measure\n",
      "          odds ratio with 95% C.I.\n",
      "Predictor   estimate     lower    upper\n",
      "  Exposed1 1.0000000        NA       NA\n",
      "  Exposed2 0.9536218 0.5175798 1.755466\n",
      "\n",
      "$p.value\n",
      "          two-sided\n",
      "Predictor  midp.exact fisher.exact chi.square\n",
      "  Exposed1         NA           NA         NA\n",
      "  Exposed2  0.8785789            1   0.877059\n",
      "\n",
      "$correction\n",
      "[1] FALSE\n",
      "\n",
      "attr(,\"method\")\n",
      "[1] \"median-unbiased estimate & mid-p exact CI\"\n",
      "[1] 26\n",
      "[1] \"---------------------------------\"\n"
     ]
    },
    {
     "name": "stderr",
     "output_type": "stream",
     "text": [
      "Warning message in if (distance %in% c(\"GAMlogit\", \"GAMprobit\", \"GAMcloglog\", \"GAMlog\", :\n",
      "“the condition has length > 1 and only the first element will be used”"
     ]
    },
    {
     "name": "stdout",
     "output_type": "stream",
     "text": [
      "$data\n",
      "          Outcome\n",
      "Predictor  Disease1 Disease2 Total\n",
      "  Exposed1       33       59    92\n",
      "  Exposed2       33       59    92\n",
      "  Total          66      118   184\n",
      "\n",
      "$measure\n",
      "          odds ratio with 95% C.I.\n",
      "Predictor  estimate     lower    upper\n",
      "  Exposed1 1.000000        NA       NA\n",
      "  Exposed2 1.000005 0.5451659 1.834304\n",
      "\n",
      "$p.value\n",
      "          two-sided\n",
      "Predictor  midp.exact fisher.exact chi.square\n",
      "  Exposed1         NA           NA         NA\n",
      "  Exposed2          1            1          1\n",
      "\n",
      "$correction\n",
      "[1] FALSE\n",
      "\n",
      "attr(,\"method\")\n",
      "[1] \"median-unbiased estimate & mid-p exact CI\"\n",
      "[1] 27\n",
      "[1] \"---------------------------------\"\n"
     ]
    },
    {
     "name": "stderr",
     "output_type": "stream",
     "text": [
      "Warning message in if (distance %in% c(\"GAMlogit\", \"GAMprobit\", \"GAMcloglog\", \"GAMlog\", :\n",
      "“the condition has length > 1 and only the first element will be used”"
     ]
    },
    {
     "name": "stdout",
     "output_type": "stream",
     "text": [
      "$data\n",
      "          Outcome\n",
      "Predictor  Disease1 Disease2 Total\n",
      "  Exposed1       33       60    93\n",
      "  Exposed2       33       60    93\n",
      "  Total          66      120   186\n",
      "\n",
      "$measure\n",
      "          odds ratio with 95% C.I.\n",
      "Predictor  estimate     lower    upper\n",
      "  Exposed1 1.000000        NA       NA\n",
      "  Exposed2 1.000005 0.5461578 1.830973\n",
      "\n",
      "$p.value\n",
      "          two-sided\n",
      "Predictor  midp.exact fisher.exact chi.square\n",
      "  Exposed1         NA           NA         NA\n",
      "  Exposed2          1            1          1\n",
      "\n",
      "$correction\n",
      "[1] FALSE\n",
      "\n",
      "attr(,\"method\")\n",
      "[1] \"median-unbiased estimate & mid-p exact CI\"\n",
      "[1] 28\n",
      "[1] \"---------------------------------\"\n"
     ]
    },
    {
     "name": "stderr",
     "output_type": "stream",
     "text": [
      "Warning message in if (distance %in% c(\"GAMlogit\", \"GAMprobit\", \"GAMcloglog\", \"GAMlog\", :\n",
      "“the condition has length > 1 and only the first element will be used”"
     ]
    },
    {
     "name": "stdout",
     "output_type": "stream",
     "text": [
      "$data\n",
      "          Outcome\n",
      "Predictor  Disease1 Disease2 Total\n",
      "  Exposed1       33       60    93\n",
      "  Exposed2       34       59    93\n",
      "  Total          67      119   186\n",
      "\n",
      "$measure\n",
      "          odds ratio with 95% C.I.\n",
      "Predictor   estimate     lower    upper\n",
      "  Exposed1 1.0000000        NA       NA\n",
      "  Exposed2 0.9547548 0.5222845 1.743803\n",
      "\n",
      "$p.value\n",
      "          two-sided\n",
      "Predictor  midp.exact fisher.exact chi.square\n",
      "  Exposed1         NA           NA         NA\n",
      "  Exposed2  0.8800684            1  0.8786053\n",
      "\n",
      "$correction\n",
      "[1] FALSE\n",
      "\n",
      "attr(,\"method\")\n",
      "[1] \"median-unbiased estimate & mid-p exact CI\"\n",
      "[1] 29\n",
      "[1] \"---------------------------------\"\n"
     ]
    },
    {
     "name": "stderr",
     "output_type": "stream",
     "text": [
      "Warning message in if (distance %in% c(\"GAMlogit\", \"GAMprobit\", \"GAMcloglog\", \"GAMlog\", :\n",
      "“the condition has length > 1 and only the first element will be used”"
     ]
    },
    {
     "name": "stdout",
     "output_type": "stream",
     "text": [
      "$data\n",
      "          Outcome\n",
      "Predictor  Disease1 Disease2 Total\n",
      "  Exposed1       34       59    93\n",
      "  Exposed2       35       58    93\n",
      "  Total          69      117   186\n",
      "\n",
      "$measure\n",
      "          odds ratio with 95% C.I.\n",
      "Predictor   estimate     lower    upper\n",
      "  Exposed1 1.0000000        NA       NA\n",
      "  Exposed2 0.9552985 0.5246062 1.738129\n",
      "\n",
      "$p.value\n",
      "          two-sided\n",
      "Predictor  midp.exact fisher.exact chi.square\n",
      "  Exposed1         NA           NA         NA\n",
      "  Exposed2  0.8807882            1  0.8793537\n",
      "\n",
      "$correction\n",
      "[1] FALSE\n",
      "\n",
      "attr(,\"method\")\n",
      "[1] \"median-unbiased estimate & mid-p exact CI\"\n",
      "[1] 30\n",
      "[1] \"---------------------------------\"\n"
     ]
    },
    {
     "name": "stderr",
     "output_type": "stream",
     "text": [
      "Warning message in if (distance %in% c(\"GAMlogit\", \"GAMprobit\", \"GAMcloglog\", \"GAMlog\", :\n",
      "“the condition has length > 1 and only the first element will be used”"
     ]
    },
    {
     "name": "stdout",
     "output_type": "stream",
     "text": [
      "$data\n",
      "          Outcome\n",
      "Predictor  Disease1 Disease2 Total\n",
      "  Exposed1       35       58    93\n",
      "  Exposed2       32       61    93\n",
      "  Total          67      119   186\n",
      "\n",
      "$measure\n",
      "          odds ratio with 95% C.I.\n",
      "Predictor  estimate     lower    upper\n",
      "  Exposed1 1.000000        NA       NA\n",
      "  Exposed2 1.149081 0.6294457 2.103382\n",
      "\n",
      "$p.value\n",
      "          two-sided\n",
      "Predictor  midp.exact fisher.exact chi.square\n",
      "  Exposed1         NA           NA         NA\n",
      "  Exposed2  0.6507658    0.7601367  0.6467998\n",
      "\n",
      "$correction\n",
      "[1] FALSE\n",
      "\n",
      "attr(,\"method\")\n",
      "[1] \"median-unbiased estimate & mid-p exact CI\"\n",
      "[1] 31\n",
      "[1] \"---------------------------------\"\n"
     ]
    },
    {
     "name": "stderr",
     "output_type": "stream",
     "text": [
      "Warning message in if (distance %in% c(\"GAMlogit\", \"GAMprobit\", \"GAMcloglog\", \"GAMlog\", :\n",
      "“the condition has length > 1 and only the first element will be used”"
     ]
    },
    {
     "name": "stdout",
     "output_type": "stream",
     "text": [
      "$data\n",
      "          Outcome\n",
      "Predictor  Disease1 Disease2 Total\n",
      "  Exposed1       33       60    93\n",
      "  Exposed2       34       59    93\n",
      "  Total          67      119   186\n",
      "\n",
      "$measure\n",
      "          odds ratio with 95% C.I.\n",
      "Predictor   estimate     lower    upper\n",
      "  Exposed1 1.0000000        NA       NA\n",
      "  Exposed2 0.9547548 0.5222845 1.743803\n",
      "\n",
      "$p.value\n",
      "          two-sided\n",
      "Predictor  midp.exact fisher.exact chi.square\n",
      "  Exposed1         NA           NA         NA\n",
      "  Exposed2  0.8800684            1  0.8786053\n",
      "\n",
      "$correction\n",
      "[1] FALSE\n",
      "\n",
      "attr(,\"method\")\n",
      "[1] \"median-unbiased estimate & mid-p exact CI\"\n",
      "[1] 32\n",
      "[1] \"---------------------------------\"\n"
     ]
    },
    {
     "name": "stderr",
     "output_type": "stream",
     "text": [
      "Warning message in if (distance %in% c(\"GAMlogit\", \"GAMprobit\", \"GAMcloglog\", \"GAMlog\", :\n",
      "“the condition has length > 1 and only the first element will be used”"
     ]
    },
    {
     "name": "stdout",
     "output_type": "stream",
     "text": [
      "$data\n",
      "          Outcome\n",
      "Predictor  Disease1 Disease2 Total\n",
      "  Exposed1       33       61    94\n",
      "  Exposed2       35       59    94\n",
      "  Total          68      120   188\n",
      "\n",
      "$measure\n",
      "          odds ratio with 95% C.I.\n",
      "Predictor   estimate     lower    upper\n",
      "  Exposed1 1.0000000        NA       NA\n",
      "  Exposed2 0.9125931 0.5008411 1.659912\n",
      "\n",
      "$p.value\n",
      "          two-sided\n",
      "Predictor  midp.exact fisher.exact chi.square\n",
      "  Exposed1         NA           NA         NA\n",
      "  Exposed2  0.7642191     0.879427  0.7614529\n",
      "\n",
      "$correction\n",
      "[1] FALSE\n",
      "\n",
      "attr(,\"method\")\n",
      "[1] \"median-unbiased estimate & mid-p exact CI\"\n",
      "[1] 33\n",
      "[1] \"---------------------------------\"\n"
     ]
    },
    {
     "name": "stderr",
     "output_type": "stream",
     "text": [
      "Warning message in if (distance %in% c(\"GAMlogit\", \"GAMprobit\", \"GAMcloglog\", \"GAMlog\", :\n",
      "“the condition has length > 1 and only the first element will be used”"
     ]
    },
    {
     "name": "stdout",
     "output_type": "stream",
     "text": [
      "$data\n",
      "          Outcome\n",
      "Predictor  Disease1 Disease2 Total\n",
      "  Exposed1       34       61    95\n",
      "  Exposed2       37       58    95\n",
      "  Total          71      119   190\n",
      "\n",
      "$measure\n",
      "          odds ratio with 95% C.I.\n",
      "Predictor   estimate     lower    upper\n",
      "  Exposed1 1.0000000        NA       NA\n",
      "  Exposed2 0.8746058 0.4832922 1.578982\n",
      "\n",
      "$p.value\n",
      "          two-sided\n",
      "Predictor  midp.exact fisher.exact chi.square\n",
      "  Exposed1         NA           NA         NA\n",
      "  Exposed2   0.656563    0.7643602  0.6527979\n",
      "\n",
      "$correction\n",
      "[1] FALSE\n",
      "\n",
      "attr(,\"method\")\n",
      "[1] \"median-unbiased estimate & mid-p exact CI\"\n",
      "[1] 34\n",
      "[1] \"---------------------------------\"\n"
     ]
    },
    {
     "name": "stderr",
     "output_type": "stream",
     "text": [
      "Warning message in if (distance %in% c(\"GAMlogit\", \"GAMprobit\", \"GAMcloglog\", \"GAMlog\", :\n",
      "“the condition has length > 1 and only the first element will be used”"
     ]
    },
    {
     "name": "stdout",
     "output_type": "stream",
     "text": [
      "$data\n",
      "          Outcome\n",
      "Predictor  Disease1 Disease2 Total\n",
      "  Exposed1       35       60    95\n",
      "  Exposed2       34       61    95\n",
      "  Total          69      121   190\n",
      "\n",
      "$measure\n",
      "          odds ratio with 95% C.I.\n",
      "Predictor  estimate     lower    upper\n",
      "  Exposed1  1.00000        NA       NA\n",
      "  Exposed2  1.04621 0.5771413 1.898111\n",
      "\n",
      "$p.value\n",
      "          two-sided\n",
      "Predictor  midp.exact fisher.exact chi.square\n",
      "  Exposed1         NA           NA         NA\n",
      "  Exposed2     0.8815            1  0.8800901\n",
      "\n",
      "$correction\n",
      "[1] FALSE\n",
      "\n",
      "attr(,\"method\")\n",
      "[1] \"median-unbiased estimate & mid-p exact CI\"\n",
      "[1] 35\n",
      "[1] \"---------------------------------\"\n"
     ]
    },
    {
     "name": "stderr",
     "output_type": "stream",
     "text": [
      "Warning message in if (distance %in% c(\"GAMlogit\", \"GAMprobit\", \"GAMcloglog\", \"GAMlog\", :\n",
      "“the condition has length > 1 and only the first element will be used”"
     ]
    },
    {
     "name": "stdout",
     "output_type": "stream",
     "text": [
      "$data\n",
      "          Outcome\n",
      "Predictor  Disease1 Disease2 Total\n",
      "  Exposed1       34       61    95\n",
      "  Exposed2       36       59    95\n",
      "  Total          70      120   190\n",
      "\n",
      "$measure\n",
      "          odds ratio with 95% C.I.\n",
      "Predictor   estimate     lower    upper\n",
      "  Exposed1 1.0000000        NA       NA\n",
      "  Exposed2 0.9141097 0.5044992 1.653485\n",
      "\n",
      "$p.value\n",
      "          two-sided\n",
      "Predictor  midp.exact fisher.exact chi.square\n",
      "  Exposed1         NA           NA         NA\n",
      "  Exposed2  0.7662644    0.8805206  0.7635726\n",
      "\n",
      "$correction\n",
      "[1] FALSE\n",
      "\n",
      "attr(,\"method\")\n",
      "[1] \"median-unbiased estimate & mid-p exact CI\"\n",
      "[1] 36\n",
      "[1] \"---------------------------------\"\n"
     ]
    },
    {
     "name": "stderr",
     "output_type": "stream",
     "text": [
      "Warning message in if (distance %in% c(\"GAMlogit\", \"GAMprobit\", \"GAMcloglog\", \"GAMlog\", :\n",
      "“the condition has length > 1 and only the first element will be used”"
     ]
    },
    {
     "name": "stdout",
     "output_type": "stream",
     "text": [
      "$data\n",
      "          Outcome\n",
      "Predictor  Disease1 Disease2 Total\n",
      "  Exposed1       36       59    95\n",
      "  Exposed2       32       63    95\n",
      "  Total          68      122   190\n",
      "\n",
      "$measure\n",
      "          odds ratio with 95% C.I.\n",
      "Predictor  estimate     lower    upper\n",
      "  Exposed1 1.000000        NA       NA\n",
      "  Exposed2 1.199602 0.6608161 2.185107\n",
      "\n",
      "$p.value\n",
      "          two-sided\n",
      "Predictor  midp.exact fisher.exact chi.square\n",
      "  Exposed1         NA           NA         NA\n",
      "  Exposed2  0.5496758    0.6499845  0.5449503\n",
      "\n",
      "$correction\n",
      "[1] FALSE\n",
      "\n",
      "attr(,\"method\")\n",
      "[1] \"median-unbiased estimate & mid-p exact CI\"\n",
      "[1] 37\n",
      "[1] \"---------------------------------\"\n"
     ]
    },
    {
     "name": "stderr",
     "output_type": "stream",
     "text": [
      "Warning message in if (distance %in% c(\"GAMlogit\", \"GAMprobit\", \"GAMcloglog\", \"GAMlog\", :\n",
      "“the condition has length > 1 and only the first element will be used”"
     ]
    },
    {
     "name": "stdout",
     "output_type": "stream",
     "text": [
      "$data\n",
      "          Outcome\n",
      "Predictor  Disease1 Disease2 Total\n",
      "  Exposed1       37       58    95\n",
      "  Exposed2       35       60    95\n",
      "  Total          72      118   190\n",
      "\n",
      "$measure\n",
      "          odds ratio with 95% C.I.\n",
      "Predictor  estimate     lower    upper\n",
      "  Exposed1 1.000000        NA       NA\n",
      "  Exposed2 1.092872 0.6062383 1.973154\n",
      "\n",
      "$p.value\n",
      "          two-sided\n",
      "Predictor  midp.exact fisher.exact chi.square\n",
      "  Exposed1         NA           NA         NA\n",
      "  Exposed2  0.7675177      0.88119  0.7648726\n",
      "\n",
      "$correction\n",
      "[1] FALSE\n",
      "\n",
      "attr(,\"method\")\n",
      "[1] \"median-unbiased estimate & mid-p exact CI\"\n",
      "[1] 38\n",
      "[1] \"---------------------------------\"\n"
     ]
    },
    {
     "name": "stderr",
     "output_type": "stream",
     "text": [
      "Warning message in if (distance %in% c(\"GAMlogit\", \"GAMprobit\", \"GAMcloglog\", \"GAMlog\", :\n",
      "“the condition has length > 1 and only the first element will be used”"
     ]
    },
    {
     "name": "stdout",
     "output_type": "stream",
     "text": [
      "$data\n",
      "          Outcome\n",
      "Predictor  Disease1 Disease2 Total\n",
      "  Exposed1       36       60    96\n",
      "  Exposed2       34       62    96\n",
      "  Total          70      122   192\n",
      "\n",
      "$measure\n",
      "          odds ratio with 95% C.I.\n",
      "Predictor  estimate     lower   upper\n",
      "  Exposed1 1.000000        NA      NA\n",
      "  Exposed2 1.093386 0.6055439 1.97749\n",
      "\n",
      "$p.value\n",
      "          two-sided\n",
      "Predictor  midp.exact fisher.exact chi.square\n",
      "  Exposed1         NA           NA         NA\n",
      "  Exposed2  0.7669359    0.8808796  0.7642665\n",
      "\n",
      "$correction\n",
      "[1] FALSE\n",
      "\n",
      "attr(,\"method\")\n",
      "[1] \"median-unbiased estimate & mid-p exact CI\"\n",
      "[1] 39\n",
      "[1] \"---------------------------------\"\n"
     ]
    },
    {
     "name": "stderr",
     "output_type": "stream",
     "text": [
      "Warning message in if (distance %in% c(\"GAMlogit\", \"GAMprobit\", \"GAMcloglog\", \"GAMlog\", :\n",
      "“the condition has length > 1 and only the first element will be used”"
     ]
    },
    {
     "name": "stdout",
     "output_type": "stream",
     "text": [
      "$data\n",
      "          Outcome\n",
      "Predictor  Disease1 Disease2 Total\n",
      "  Exposed1       36       61    97\n",
      "  Exposed2       34       63    97\n",
      "  Total          70      124   194\n",
      "\n",
      "$measure\n",
      "          odds ratio with 95% C.I.\n",
      "Predictor  estimate     lower    upper\n",
      "  Exposed1 1.000000        NA       NA\n",
      "  Exposed2 1.092816 0.6062843 1.973054\n",
      "\n",
      "$p.value\n",
      "          two-sided\n",
      "Predictor  midp.exact fisher.exact chi.square\n",
      "  Exposed1         NA           NA         NA\n",
      "  Exposed2  0.7675881     0.881228  0.7649401\n",
      "\n",
      "$correction\n",
      "[1] FALSE\n",
      "\n",
      "attr(,\"method\")\n",
      "[1] \"median-unbiased estimate & mid-p exact CI\"\n",
      "[1] 40\n",
      "[1] \"---------------------------------\"\n"
     ]
    },
    {
     "name": "stderr",
     "output_type": "stream",
     "text": [
      "Warning message in if (distance %in% c(\"GAMlogit\", \"GAMprobit\", \"GAMcloglog\", \"GAMlog\", :\n",
      "“the condition has length > 1 and only the first element will be used”"
     ]
    },
    {
     "name": "stdout",
     "output_type": "stream",
     "text": [
      "$data\n",
      "          Outcome\n",
      "Predictor  Disease1 Disease2 Total\n",
      "  Exposed1       36       62    98\n",
      "  Exposed2       38       60    98\n",
      "  Total          74      122   196\n",
      "\n",
      "$measure\n",
      "          odds ratio with 95% C.I.\n",
      "Predictor   estimate     lower    upper\n",
      "  Exposed1 1.0000000        NA       NA\n",
      "  Exposed2 0.9173991 0.5126103 1.639382\n",
      "\n",
      "$p.value\n",
      "          two-sided\n",
      "Predictor  midp.exact fisher.exact chi.square\n",
      "  Exposed1         NA           NA         NA\n",
      "  Exposed2  0.7707669    0.8829237  0.7682323\n",
      "\n",
      "$correction\n",
      "[1] FALSE\n",
      "\n",
      "attr(,\"method\")\n",
      "[1] \"median-unbiased estimate & mid-p exact CI\"\n",
      "[1] 41\n",
      "[1] \"---------------------------------\"\n"
     ]
    },
    {
     "name": "stderr",
     "output_type": "stream",
     "text": [
      "Warning message in if (distance %in% c(\"GAMlogit\", \"GAMprobit\", \"GAMcloglog\", \"GAMlog\", :\n",
      "“the condition has length > 1 and only the first element will be used”"
     ]
    },
    {
     "name": "stdout",
     "output_type": "stream",
     "text": [
      "$data\n",
      "          Outcome\n",
      "Predictor  Disease1 Disease2 Total\n",
      "  Exposed1       35       64    99\n",
      "  Exposed2       39       60    99\n",
      "  Total          74      124   198\n",
      "\n",
      "$measure\n",
      "          odds ratio with 95% C.I.\n",
      "Predictor   estimate     lower    upper\n",
      "  Exposed1 1.0000000        NA       NA\n",
      "  Exposed2 0.8423749 0.4709651 1.502335\n",
      "\n",
      "$p.value\n",
      "          two-sided\n",
      "Predictor  midp.exact fisher.exact chi.square\n",
      "  Exposed1         NA           NA         NA\n",
      "  Exposed2  0.5611831    0.6595861  0.5568153\n",
      "\n",
      "$correction\n",
      "[1] FALSE\n",
      "\n",
      "attr(,\"method\")\n",
      "[1] \"median-unbiased estimate & mid-p exact CI\"\n",
      "[1] 42\n",
      "[1] \"---------------------------------\"\n"
     ]
    },
    {
     "name": "stderr",
     "output_type": "stream",
     "text": [
      "Warning message in if (distance %in% c(\"GAMlogit\", \"GAMprobit\", \"GAMcloglog\", \"GAMlog\", :\n",
      "“the condition has length > 1 and only the first element will be used”"
     ]
    },
    {
     "name": "stdout",
     "output_type": "stream",
     "text": [
      "$data\n",
      "          Outcome\n",
      "Predictor  Disease1 Disease2 Total\n",
      "  Exposed1       33       67   100\n",
      "  Exposed2       37       63   100\n",
      "  Total          70      130   200\n",
      "\n",
      "$measure\n",
      "          odds ratio with 95% C.I.\n",
      "Predictor   estimate     lower    upper\n",
      "  Exposed1 1.0000000        NA       NA\n",
      "  Exposed2 0.8397063 0.4667802 1.505715\n",
      "\n",
      "$p.value\n",
      "          two-sided\n",
      "Predictor  midp.exact fisher.exact chi.square\n",
      "  Exposed1         NA           NA         NA\n",
      "  Exposed2   0.557664    0.6566579  0.5531815\n",
      "\n",
      "$correction\n",
      "[1] FALSE\n",
      "\n",
      "attr(,\"method\")\n",
      "[1] \"median-unbiased estimate & mid-p exact CI\"\n",
      "[1] 43\n",
      "[1] \"---------------------------------\"\n"
     ]
    },
    {
     "name": "stderr",
     "output_type": "stream",
     "text": [
      "Warning message in if (distance %in% c(\"GAMlogit\", \"GAMprobit\", \"GAMcloglog\", \"GAMlog\", :\n",
      "“the condition has length > 1 and only the first element will be used”"
     ]
    },
    {
     "name": "stdout",
     "output_type": "stream",
     "text": [
      "$data\n",
      "          Outcome\n",
      "Predictor  Disease1 Disease2 Total\n",
      "  Exposed1       32       68   100\n",
      "  Exposed2       35       65   100\n",
      "  Total          67      133   200\n",
      "\n",
      "$measure\n",
      "          odds ratio with 95% C.I.\n",
      "Predictor   estimate     lower    upper\n",
      "  Exposed1 1.0000000        NA       NA\n",
      "  Exposed2 0.8748257 0.4835167 1.578613\n",
      "\n",
      "$p.value\n",
      "          two-sided\n",
      "Predictor  midp.exact fisher.exact chi.square\n",
      "  Exposed1         NA           NA         NA\n",
      "  Exposed2  0.6568835    0.7645958  0.6531133\n",
      "\n",
      "$correction\n",
      "[1] FALSE\n",
      "\n",
      "attr(,\"method\")\n",
      "[1] \"median-unbiased estimate & mid-p exact CI\"\n",
      "[1] 44\n",
      "[1] \"---------------------------------\"\n"
     ]
    },
    {
     "name": "stderr",
     "output_type": "stream",
     "text": [
      "Warning message in if (distance %in% c(\"GAMlogit\", \"GAMprobit\", \"GAMcloglog\", \"GAMlog\", :\n",
      "“the condition has length > 1 and only the first element will be used”"
     ]
    },
    {
     "name": "stdout",
     "output_type": "stream",
     "text": [
      "$data\n",
      "          Outcome\n",
      "Predictor  Disease1 Disease2 Total\n",
      "  Exposed1       33       68   101\n",
      "  Exposed2       41       60   101\n",
      "  Total          74      128   202\n",
      "\n",
      "$measure\n",
      "          odds ratio with 95% C.I.\n",
      "Predictor   estimate     lower    upper\n",
      "  Exposed1 1.0000000        NA       NA\n",
      "  Exposed2 0.7119144 0.3979986 1.265931\n",
      "\n",
      "$p.value\n",
      "          two-sided\n",
      "Predictor  midp.exact fisher.exact chi.square\n",
      "  Exposed1         NA           NA         NA\n",
      "  Exposed2   0.247621    0.3066651  0.2426961\n",
      "\n",
      "$correction\n",
      "[1] FALSE\n",
      "\n",
      "attr(,\"method\")\n",
      "[1] \"median-unbiased estimate & mid-p exact CI\"\n",
      "[1] 45\n",
      "[1] \"---------------------------------\"\n"
     ]
    },
    {
     "name": "stderr",
     "output_type": "stream",
     "text": [
      "Warning message in if (distance %in% c(\"GAMlogit\", \"GAMprobit\", \"GAMcloglog\", \"GAMlog\", :\n",
      "“the condition has length > 1 and only the first element will be used”"
     ]
    },
    {
     "name": "stdout",
     "output_type": "stream",
     "text": [
      "$data\n",
      "          Outcome\n",
      "Predictor  Disease1 Disease2 Total\n",
      "  Exposed1       33       68   101\n",
      "  Exposed2       35       66   101\n",
      "  Total          68      134   202\n",
      "\n",
      "$measure\n",
      "          odds ratio with 95% C.I.\n",
      "Predictor   estimate     lower    upper\n",
      "  Exposed1 1.0000000        NA       NA\n",
      "  Exposed2 0.9157366 0.5083488 1.646706\n",
      "\n",
      "$p.value\n",
      "          two-sided\n",
      "Predictor  midp.exact fisher.exact chi.square\n",
      "  Exposed1         NA           NA         NA\n",
      "  Exposed2  0.7684941    0.8817123  0.7658694\n",
      "\n",
      "$correction\n",
      "[1] FALSE\n",
      "\n",
      "attr(,\"method\")\n",
      "[1] \"median-unbiased estimate & mid-p exact CI\"\n",
      "[1] 46\n",
      "[1] \"---------------------------------\"\n"
     ]
    },
    {
     "name": "stderr",
     "output_type": "stream",
     "text": [
      "Warning message in if (distance %in% c(\"GAMlogit\", \"GAMprobit\", \"GAMcloglog\", \"GAMlog\", :\n",
      "“the condition has length > 1 and only the first element will be used”"
     ]
    },
    {
     "name": "stdout",
     "output_type": "stream",
     "text": [
      "$data\n",
      "          Outcome\n",
      "Predictor  Disease1 Disease2 Total\n",
      "  Exposed1       35       66   101\n",
      "  Exposed2       38       63   101\n",
      "  Total          73      129   202\n",
      "\n",
      "$measure\n",
      "          odds ratio with 95% C.I.\n",
      "Predictor   estimate     lower    upper\n",
      "  Exposed1 1.0000000        NA       NA\n",
      "  Exposed2 0.8799919 0.4931264 1.566848\n",
      "\n",
      "$p.value\n",
      "          two-sided\n",
      "Predictor  midp.exact fisher.exact chi.square\n",
      "  Exposed1         NA           NA         NA\n",
      "  Exposed2  0.6639167    0.7697003  0.6603859\n",
      "\n",
      "$correction\n",
      "[1] FALSE\n",
      "\n",
      "attr(,\"method\")\n",
      "[1] \"median-unbiased estimate & mid-p exact CI\"\n",
      "[1] 47\n",
      "[1] \"---------------------------------\"\n"
     ]
    },
    {
     "name": "stderr",
     "output_type": "stream",
     "text": [
      "Warning message in if (distance %in% c(\"GAMlogit\", \"GAMprobit\", \"GAMcloglog\", \"GAMlog\", :\n",
      "“the condition has length > 1 and only the first element will be used”"
     ]
    },
    {
     "name": "stdout",
     "output_type": "stream",
     "text": [
      "$data\n",
      "          Outcome\n",
      "Predictor  Disease1 Disease2 Total\n",
      "  Exposed1       36       65   101\n",
      "  Exposed2       35       66   101\n",
      "  Total          71      131   202\n",
      "\n",
      "$measure\n",
      "          odds ratio with 95% C.I.\n",
      "Predictor  estimate     lower    upper\n",
      "  Exposed1  1.00000        NA       NA\n",
      "  Exposed2  1.04407 0.5839927 1.868161\n",
      "\n",
      "$p.value\n",
      "          two-sided\n",
      "Predictor  midp.exact fisher.exact chi.square\n",
      "  Exposed1         NA           NA         NA\n",
      "  Exposed2  0.8841571            1  0.8828395\n",
      "\n",
      "$correction\n",
      "[1] FALSE\n",
      "\n",
      "attr(,\"method\")\n",
      "[1] \"median-unbiased estimate & mid-p exact CI\"\n",
      "[1] 48\n",
      "[1] \"---------------------------------\"\n"
     ]
    },
    {
     "name": "stderr",
     "output_type": "stream",
     "text": [
      "Warning message in if (distance %in% c(\"GAMlogit\", \"GAMprobit\", \"GAMcloglog\", \"GAMlog\", :\n",
      "“the condition has length > 1 and only the first element will be used”"
     ]
    },
    {
     "name": "stdout",
     "output_type": "stream",
     "text": [
      "$data\n",
      "          Outcome\n",
      "Predictor  Disease1 Disease2 Total\n",
      "  Exposed1       34       67   101\n",
      "  Exposed2       36       65   101\n",
      "  Total          70      132   202\n",
      "\n",
      "$measure\n",
      "          odds ratio with 95% C.I.\n",
      "Predictor   estimate     lower    upper\n",
      "  Exposed1 1.0000000        NA       NA\n",
      "  Exposed2 0.9168494 0.5111645 1.641882\n",
      "\n",
      "$p.value\n",
      "          two-sided\n",
      "Predictor  midp.exact fisher.exact chi.square\n",
      "  Exposed1         NA           NA         NA\n",
      "  Exposed2  0.7700188    0.8825255  0.7674496\n",
      "\n",
      "$correction\n",
      "[1] FALSE\n",
      "\n",
      "attr(,\"method\")\n",
      "[1] \"median-unbiased estimate & mid-p exact CI\"\n",
      "[1] 49\n",
      "[1] \"---------------------------------\"\n"
     ]
    },
    {
     "name": "stderr",
     "output_type": "stream",
     "text": [
      "Warning message in if (distance %in% c(\"GAMlogit\", \"GAMprobit\", \"GAMcloglog\", \"GAMlog\", :\n",
      "“the condition has length > 1 and only the first element will be used”"
     ]
    },
    {
     "name": "stdout",
     "output_type": "stream",
     "text": [
      "$data\n",
      "          Outcome\n",
      "Predictor  Disease1 Disease2 Total\n",
      "  Exposed1       34       67   101\n",
      "  Exposed2       37       64   101\n",
      "  Total          71      131   202\n",
      "\n",
      "$measure\n",
      "          odds ratio with 95% C.I.\n",
      "Predictor   estimate     lower    upper\n",
      "  Exposed1 1.0000000        NA       NA\n",
      "  Exposed2 0.8785974 0.4904963 1.570089\n",
      "\n",
      "$p.value\n",
      "          two-sided\n",
      "Predictor  midp.exact fisher.exact chi.square\n",
      "  Exposed1         NA           NA         NA\n",
      "  Exposed2   0.662004    0.7683141  0.6584083\n",
      "\n",
      "$correction\n",
      "[1] FALSE\n",
      "\n",
      "attr(,\"method\")\n",
      "[1] \"median-unbiased estimate & mid-p exact CI\"\n",
      "[1] 50\n",
      "[1] \"---------------------------------\"\n"
     ]
    }
   ],
   "source": [
    "############################################\n",
    "\n",
    "for(i in 1:50){\n",
    "    m.out <- matchit(treatment~female+age+pim2+pelod+p_bloodculture+comorbidity+rf_pneumonia+rf_sepsis\n",
    "                 +rf_aspiration+rf_transfusion+rf_trauma+rf_drowning+MODS, data = mydata_wth_pscore, \n",
    "                 method = \"nearest\", distance=mydata_wth_pscore$pscore,caliper=0.01*i)\n",
    "\n",
    "    #Matching package\n",
    "    y_treatment<-match.data(m.out)$died[match.data(m.out, \"all\")$treatment==1] \n",
    "    y_control<-match.data(m.out)$died[match.data(m.out, \"all\")$treatment==0] \n",
    "\n",
    "\n",
    "    a<-length(y_treatment[y_treatment==1])\n",
    "    b<-length(y_control[y_control==1])\n",
    "    c<-length(y_treatment[y_treatment==0])\n",
    "    d<-length(y_control[y_control==0])\n",
    "\n",
    "    print(oddsratio(matrix(c(a,b,c,d), ncol=2, nrow=2)))\n",
    "    print(i)\n",
    "    print(\"---------------------------------\")\n",
    "    \n",
    "}\n",
    "\n"
   ]
  },
  {
   "cell_type": "code",
   "execution_count": 8,
   "metadata": {
    "collapsed": false
   },
   "outputs": [
    {
     "name": "stderr",
     "output_type": "stream",
     "text": [
      "Waiting for profiling to be done...\n",
      "Warning message:\n",
      "“glm.fit: fitted probabilities numerically 0 or 1 occurred”Warning message:\n",
      "“glm.fit: fitted probabilities numerically 0 or 1 occurred”Warning message:\n",
      "“glm.fit: fitted probabilities numerically 0 or 1 occurred”Warning message:\n",
      "“glm.fit: fitted probabilities numerically 0 or 1 occurred”Warning message:\n",
      "“glm.fit: fitted probabilities numerically 0 or 1 occurred”Warning message:\n",
      "“glm.fit: fitted probabilities numerically 0 or 1 occurred”Warning message:\n",
      "“glm.fit: fitted probabilities numerically 0 or 1 occurred”Warning message:\n",
      "“glm.fit: fitted probabilities numerically 0 or 1 occurred”Warning message:\n",
      "“glm.fit: fitted probabilities numerically 0 or 1 occurred”Warning message:\n",
      "“glm.fit: fitted probabilities numerically 0 or 1 occurred”Warning message:\n",
      "“glm.fit: fitted probabilities numerically 0 or 1 occurred”Warning message:\n",
      "“glm.fit: fitted probabilities numerically 0 or 1 occurred”Warning message:\n",
      "“glm.fit: fitted probabilities numerically 0 or 1 occurred”Warning message:\n",
      "“glm.fit: fitted probabilities numerically 0 or 1 occurred”Warning message:\n",
      "“glm.fit: fitted probabilities numerically 0 or 1 occurred”Warning message:\n",
      "“glm.fit: fitted probabilities numerically 0 or 1 occurred”Warning message:\n",
      "“glm.fit: fitted probabilities numerically 0 or 1 occurred”Warning message:\n",
      "“glm.fit: fitted probabilities numerically 0 or 1 occurred”Warning message:\n",
      "“glm.fit: fitted probabilities numerically 0 or 1 occurred”Warning message:\n",
      "“glm.fit: fitted probabilities numerically 0 or 1 occurred”Warning message:\n",
      "“glm.fit: fitted probabilities numerically 0 or 1 occurred”Warning message:\n",
      "“glm.fit: fitted probabilities numerically 0 or 1 occurred”Warning message:\n",
      "“glm.fit: fitted probabilities numerically 0 or 1 occurred”Warning message:\n",
      "“glm.fit: fitted probabilities numerically 0 or 1 occurred”Warning message:\n",
      "“glm.fit: fitted probabilities numerically 0 or 1 occurred”Warning message:\n",
      "“glm.fit: fitted probabilities numerically 0 or 1 occurred”Warning message:\n",
      "“glm.fit: fitted probabilities numerically 0 or 1 occurred”Warning message:\n",
      "“glm.fit: fitted probabilities numerically 0 or 1 occurred”Warning message:\n",
      "“glm.fit: fitted probabilities numerically 0 or 1 occurred”Warning message:\n",
      "“glm.fit: fitted probabilities numerically 0 or 1 occurred”Warning message:\n",
      "“glm.fit: fitted probabilities numerically 0 or 1 occurred”Warning message:\n",
      "“glm.fit: fitted probabilities numerically 0 or 1 occurred”Warning message:\n",
      "“glm.fit: fitted probabilities numerically 0 or 1 occurred”Warning message:\n",
      "“glm.fit: fitted probabilities numerically 0 or 1 occurred”Warning message:\n",
      "“glm.fit: fitted probabilities numerically 0 or 1 occurred”Warning message:\n",
      "“glm.fit: fitted probabilities numerically 0 or 1 occurred”Warning message:\n",
      "“glm.fit: fitted probabilities numerically 0 or 1 occurred”Warning message:\n",
      "“glm.fit: fitted probabilities numerically 0 or 1 occurred”Warning message:\n",
      "“glm.fit: fitted probabilities numerically 0 or 1 occurred”Warning message:\n",
      "“glm.fit: fitted probabilities numerically 0 or 1 occurred”Warning message:\n",
      "“glm.fit: fitted probabilities numerically 0 or 1 occurred”Warning message:\n",
      "“glm.fit: fitted probabilities numerically 0 or 1 occurred”Warning message:\n",
      "“glm.fit: fitted probabilities numerically 0 or 1 occurred”Warning message:\n",
      "“glm.fit: fitted probabilities numerically 0 or 1 occurred”Warning message:\n",
      "“glm.fit: fitted probabilities numerically 0 or 1 occurred”Warning message:\n",
      "“glm.fit: fitted probabilities numerically 0 or 1 occurred”Warning message:\n",
      "“glm.fit: fitted probabilities numerically 0 or 1 occurred”Warning message:\n",
      "“glm.fit: fitted probabilities numerically 0 or 1 occurred”Warning message:\n",
      "“glm.fit: fitted probabilities numerically 0 or 1 occurred”Warning message:\n",
      "“glm.fit: fitted probabilities numerically 0 or 1 occurred”Warning message:\n",
      "“glm.fit: fitted probabilities numerically 0 or 1 occurred”Warning message:\n",
      "“glm.fit: fitted probabilities numerically 0 or 1 occurred”Warning message:\n",
      "“glm.fit: fitted probabilities numerically 0 or 1 occurred”Warning message:\n",
      "“glm.fit: fitted probabilities numerically 0 or 1 occurred”Warning message:\n",
      "“glm.fit: fitted probabilities numerically 0 or 1 occurred”Warning message:\n",
      "“glm.fit: fitted probabilities numerically 0 or 1 occurred”Warning message:\n",
      "“glm.fit: fitted probabilities numerically 0 or 1 occurred”Warning message:\n",
      "“glm.fit: fitted probabilities numerically 0 or 1 occurred”Warning message:\n",
      "“glm.fit: fitted probabilities numerically 0 or 1 occurred”Warning message:\n",
      "“glm.fit: fitted probabilities numerically 0 or 1 occurred”Warning message:\n",
      "“glm.fit: fitted probabilities numerically 0 or 1 occurred”Warning message:\n",
      "“glm.fit: fitted probabilities numerically 0 or 1 occurred”Warning message:\n",
      "“glm.fit: fitted probabilities numerically 0 or 1 occurred”Warning message:\n",
      "“glm.fit: fitted probabilities numerically 0 or 1 occurred”Warning message:\n",
      "“glm.fit: fitted probabilities numerically 0 or 1 occurred”Warning message:\n",
      "“glm.fit: fitted probabilities numerically 0 or 1 occurred”Warning message:\n",
      "“glm.fit: fitted probabilities numerically 0 or 1 occurred”Warning message:\n",
      "“glm.fit: fitted probabilities numerically 0 or 1 occurred”Warning message:\n",
      "“glm.fit: fitted probabilities numerically 0 or 1 occurred”Warning message:\n",
      "“glm.fit: fitted probabilities numerically 0 or 1 occurred”Warning message:\n",
      "“glm.fit: fitted probabilities numerically 0 or 1 occurred”Warning message:\n",
      "“glm.fit: fitted probabilities numerically 0 or 1 occurred”Warning message:\n",
      "“glm.fit: fitted probabilities numerically 0 or 1 occurred”Warning message:\n",
      "“glm.fit: fitted probabilities numerically 0 or 1 occurred”Warning message:\n",
      "“glm.fit: fitted probabilities numerically 0 or 1 occurred”Warning message:\n",
      "“glm.fit: fitted probabilities numerically 0 or 1 occurred”Warning message:\n",
      "“glm.fit: fitted probabilities numerically 0 or 1 occurred”Warning message:\n",
      "“glm.fit: fitted probabilities numerically 0 or 1 occurred”Warning message:\n",
      "“glm.fit: fitted probabilities numerically 0 or 1 occurred”Warning message:\n",
      "“glm.fit: fitted probabilities numerically 0 or 1 occurred”Warning message:\n",
      "“glm.fit: fitted probabilities numerically 0 or 1 occurred”Warning message:\n",
      "“glm.fit: fitted probabilities numerically 0 or 1 occurred”Warning message:\n",
      "“glm.fit: fitted probabilities numerically 0 or 1 occurred”Warning message:\n",
      "“glm.fit: fitted probabilities numerically 0 or 1 occurred”"
     ]
    },
    {
     "data": {
      "text/html": [
       "<table>\n",
       "<thead><tr><th></th><th scope=col>Odds_and_OR</th><th scope=col>2.5 %</th><th scope=col>97.5 %</th></tr></thead>\n",
       "<tbody>\n",
       "\t<tr><th scope=row>(Intercept)</th><td>5.191061e-02</td><td>0.01562324  </td><td>1.587153e-01</td></tr>\n",
       "\t<tr><th scope=row>female</th><td>1.313859e+00</td><td>0.80531598  </td><td>2.149274e+00</td></tr>\n",
       "\t<tr><th scope=row>age</th><td>9.345923e-01</td><td>0.87464257  </td><td>9.940347e-01</td></tr>\n",
       "\t<tr><th scope=row>pim2</th><td>1.006049e+00</td><td>0.99177939  </td><td>1.020511e+00</td></tr>\n",
       "\t<tr><th scope=row>pelod</th><td>1.016820e+00</td><td>0.98508408  </td><td>1.049374e+00</td></tr>\n",
       "\t<tr><th scope=row>p_bloodculture</th><td>1.704549e+00</td><td>0.80787309  </td><td>3.589598e+00</td></tr>\n",
       "\t<tr><th scope=row>MODS</th><td>1.185132e+00</td><td>0.66009187  </td><td>2.115400e+00</td></tr>\n",
       "\t<tr><th scope=row>comorbidity</th><td>1.520961e+00</td><td>0.91605400  </td><td>2.536869e+00</td></tr>\n",
       "\t<tr><th scope=row>rf_pneumonia</th><td>2.189660e+00</td><td>0.88064250  </td><td>5.712208e+00</td></tr>\n",
       "\t<tr><th scope=row>rf_sepsis</th><td>5.101249e-01</td><td>0.24895027  </td><td>1.014341e+00</td></tr>\n",
       "\t<tr><th scope=row>rf_aspiration</th><td>5.084018e-01</td><td>0.12699913  </td><td>1.645661e+00</td></tr>\n",
       "\t<tr><th scope=row>rf_transfusion</th><td>3.224368e-01</td><td>0.01491424  </td><td>2.731983e+00</td></tr>\n",
       "\t<tr><th scope=row>rf_trauma</th><td>7.433008e-08</td><td>        NA  </td><td>6.066521e+22</td></tr>\n",
       "\t<tr><th scope=row>rf_drowning</th><td>1.105334e+00</td><td>0.17449578  </td><td>6.042335e+00</td></tr>\n",
       "\t<tr><th scope=row>d1_oi</th><td>1.076053e+00</td><td>1.05007169  </td><td>1.104750e+00</td></tr>\n",
       "</tbody>\n",
       "</table>\n"
      ],
      "text/latex": [
       "\\begin{tabular}{r|lll}\n",
       "  & Odds\\_and\\_OR & 2.5 \\% & 97.5 \\%\\\\\n",
       "\\hline\n",
       "\t(Intercept) & 5.191061e-02 & 0.01562324   & 1.587153e-01\\\\\n",
       "\tfemale & 1.313859e+00 & 0.80531598   & 2.149274e+00\\\\\n",
       "\tage & 9.345923e-01 & 0.87464257   & 9.940347e-01\\\\\n",
       "\tpim2 & 1.006049e+00 & 0.99177939   & 1.020511e+00\\\\\n",
       "\tpelod & 1.016820e+00 & 0.98508408   & 1.049374e+00\\\\\n",
       "\tp\\_bloodculture & 1.704549e+00 & 0.80787309   & 3.589598e+00\\\\\n",
       "\tMODS & 1.185132e+00 & 0.66009187   & 2.115400e+00\\\\\n",
       "\tcomorbidity & 1.520961e+00 & 0.91605400   & 2.536869e+00\\\\\n",
       "\trf\\_pneumonia & 2.189660e+00 & 0.88064250   & 5.712208e+00\\\\\n",
       "\trf\\_sepsis & 5.101249e-01 & 0.24895027   & 1.014341e+00\\\\\n",
       "\trf\\_aspiration & 5.084018e-01 & 0.12699913   & 1.645661e+00\\\\\n",
       "\trf\\_transfusion & 3.224368e-01 & 0.01491424   & 2.731983e+00\\\\\n",
       "\trf\\_trauma & 7.433008e-08 &         NA   & 6.066521e+22\\\\\n",
       "\trf\\_drowning & 1.105334e+00 & 0.17449578   & 6.042335e+00\\\\\n",
       "\td1\\_oi & 1.076053e+00 & 1.05007169   & 1.104750e+00\\\\\n",
       "\\end{tabular}\n"
      ],
      "text/markdown": [
       "\n",
       "| <!--/--> | Odds_and_OR | 2.5 % | 97.5 % | \n",
       "|---|---|---|---|---|---|---|---|---|---|---|---|---|---|---|\n",
       "| (Intercept) | 5.191061e-02 | 0.01562324   | 1.587153e-01 | \n",
       "| female | 1.313859e+00 | 0.80531598   | 2.149274e+00 | \n",
       "| age | 9.345923e-01 | 0.87464257   | 9.940347e-01 | \n",
       "| pim2 | 1.006049e+00 | 0.99177939   | 1.020511e+00 | \n",
       "| pelod | 1.016820e+00 | 0.98508408   | 1.049374e+00 | \n",
       "| p_bloodculture | 1.704549e+00 | 0.80787309   | 3.589598e+00 | \n",
       "| MODS | 1.185132e+00 | 0.66009187   | 2.115400e+00 | \n",
       "| comorbidity | 1.520961e+00 | 0.91605400   | 2.536869e+00 | \n",
       "| rf_pneumonia | 2.189660e+00 | 0.88064250   | 5.712208e+00 | \n",
       "| rf_sepsis | 5.101249e-01 | 0.24895027   | 1.014341e+00 | \n",
       "| rf_aspiration | 5.084018e-01 | 0.12699913   | 1.645661e+00 | \n",
       "| rf_transfusion | 3.224368e-01 | 0.01491424   | 2.731983e+00 | \n",
       "| rf_trauma | 7.433008e-08 |         NA   | 6.066521e+22 | \n",
       "| rf_drowning | 1.105334e+00 | 0.17449578   | 6.042335e+00 | \n",
       "| d1_oi | 1.076053e+00 | 1.05007169   | 1.104750e+00 | \n",
       "\n",
       "\n"
      ],
      "text/plain": [
       "               Odds_and_OR  2.5 %      97.5 %      \n",
       "(Intercept)    5.191061e-02 0.01562324 1.587153e-01\n",
       "female         1.313859e+00 0.80531598 2.149274e+00\n",
       "age            9.345923e-01 0.87464257 9.940347e-01\n",
       "pim2           1.006049e+00 0.99177939 1.020511e+00\n",
       "pelod          1.016820e+00 0.98508408 1.049374e+00\n",
       "p_bloodculture 1.704549e+00 0.80787309 3.589598e+00\n",
       "MODS           1.185132e+00 0.66009187 2.115400e+00\n",
       "comorbidity    1.520961e+00 0.91605400 2.536869e+00\n",
       "rf_pneumonia   2.189660e+00 0.88064250 5.712208e+00\n",
       "rf_sepsis      5.101249e-01 0.24895027 1.014341e+00\n",
       "rf_aspiration  5.084018e-01 0.12699913 1.645661e+00\n",
       "rf_transfusion 3.224368e-01 0.01491424 2.731983e+00\n",
       "rf_trauma      7.433008e-08         NA 6.066521e+22\n",
       "rf_drowning    1.105334e+00 0.17449578 6.042335e+00\n",
       "d1_oi          1.076053e+00 1.05007169 1.104750e+00"
      ]
     },
     "metadata": {},
     "output_type": "display_data"
    }
   ],
   "source": [
    "exp(cbind(Odds_and_OR=coef(psmodel), confint(psmodel)))"
   ]
  },
  {
   "cell_type": "code",
   "execution_count": 11,
   "metadata": {
    "collapsed": false
   },
   "outputs": [
    {
     "data": {
      "text/html": [
       "37"
      ],
      "text/latex": [
       "37"
      ],
      "text/markdown": [
       "37"
      ],
      "text/plain": [
       "[1] 37"
      ]
     },
     "metadata": {},
     "output_type": "display_data"
    },
    {
     "data": {
      "text/html": [
       "32"
      ],
      "text/latex": [
       "32"
      ],
      "text/markdown": [
       "32"
      ],
      "text/plain": [
       "[1] 32"
      ]
     },
     "metadata": {},
     "output_type": "display_data"
    },
    {
     "data": {
      "text/html": [
       "63"
      ],
      "text/latex": [
       "63"
      ],
      "text/markdown": [
       "63"
      ],
      "text/plain": [
       "[1] 63"
      ]
     },
     "metadata": {},
     "output_type": "display_data"
    },
    {
     "data": {
      "text/html": [
       "68"
      ],
      "text/latex": [
       "68"
      ],
      "text/markdown": [
       "68"
      ],
      "text/plain": [
       "[1] 68"
      ]
     },
     "metadata": {},
     "output_type": "display_data"
    }
   ],
   "source": [
    "a\n",
    "b\n",
    "c\n",
    "d"
   ]
  },
  {
   "cell_type": "code",
   "execution_count": null,
   "metadata": {
    "collapsed": true
   },
   "outputs": [],
   "source": []
  }
 ],
 "metadata": {
  "kernelspec": {
   "display_name": "R",
   "language": "R",
   "name": "ir"
  },
  "language_info": {
   "codemirror_mode": "r",
   "file_extension": ".r",
   "mimetype": "text/x-r-source",
   "name": "R",
   "pygments_lexer": "r",
   "version": "3.2.3"
  }
 },
 "nbformat": 4,
 "nbformat_minor": 0
}
