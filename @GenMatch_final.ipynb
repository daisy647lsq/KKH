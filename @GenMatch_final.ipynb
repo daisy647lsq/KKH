{
 "cells": [
  {
   "cell_type": "code",
   "execution_count": 2,
   "metadata": {},
   "outputs": [],
   "source": [
    "## Load packages and data\n",
    "#library(dplyr)\n",
    "library(tableone)\n",
    "library(MatchIt)\n",
    "library(Matching)\n",
    "library(pROC)\n",
    "library(ROCR)\n",
    "library(ggplot2)\n",
    "library(epitools)\n",
    "library(plyr)\n",
    "library(ipw)\n",
    "library(sandwich)\n",
    "library(survey)\n",
    "library(reshape2)\n",
    "library(ggplot2)\n",
    "library(gridExtra)\n",
    "library(xlsx)\n",
    "library(optmatch)\n"
   ]
  },
  {
   "cell_type": "code",
   "execution_count": 3,
   "metadata": {},
   "outputs": [
    {
     "data": {
      "text/html": [
       "<table>\n",
       "<thead><tr><th scope=col>ID</th><th scope=col>hospital_number</th><th scope=col>female</th><th scope=col>age</th><th scope=col>pim2</th><th scope=col>pelod</th><th scope=col>p_bloodculture</th><th scope=col>comorbidity</th><th scope=col>rf_pneumonia</th><th scope=col>rf_sepsis</th><th scope=col>⋯</th><th scope=col>mortality_30day</th><th scope=col>mortality_28day</th><th scope=col>mortality_100day</th><th scope=col>ventilation_free_day</th><th scope=col>picu_free_days</th><th scope=col>fio2</th><th scope=col>map</th><th scope=col>amplitude</th><th scope=col>OI_cat</th><th scope=col>ICUduration</th></tr></thead>\n",
       "<tbody>\n",
       "\t<tr><td>1001    </td><td>1       </td><td>1       </td><td>0.02    </td><td>87.3    </td><td>42      </td><td>1       </td><td>0       </td><td>0       </td><td>1       </td><td>⋯       </td><td>1       </td><td>1       </td><td>1       </td><td> 0      </td><td> 0      </td><td> NA     </td><td>NA      </td><td>      NA</td><td>1       </td><td> 3      </td></tr>\n",
       "\t<tr><td>1003    </td><td>1       </td><td>0       </td><td>0.47    </td><td> 2.8    </td><td>11      </td><td>0       </td><td>0       </td><td>1       </td><td>0       </td><td>⋯       </td><td>0       </td><td>0       </td><td>0       </td><td>21      </td><td>26      </td><td> NA     </td><td>NA      </td><td>      NA</td><td>1       </td><td> 3      </td></tr>\n",
       "\t<tr><td>1005    </td><td>1       </td><td>1       </td><td>0.10    </td><td> 0.6    </td><td> 1      </td><td>0       </td><td>0       </td><td>1       </td><td>0       </td><td>⋯       </td><td>0       </td><td>0       </td><td>0       </td><td>21      </td><td>20      </td><td> NA     </td><td>NA      </td><td>      NA</td><td>2       </td><td> 9      </td></tr>\n",
       "\t<tr><td>1006    </td><td>1       </td><td>1       </td><td>1.72    </td><td> 8.2    </td><td>12      </td><td>0       </td><td>0       </td><td>1       </td><td>0       </td><td>⋯       </td><td>0       </td><td>0       </td><td>0       </td><td> 7      </td><td> 0      </td><td>100     </td><td>23      </td><td>70.00000</td><td>4       </td><td>59      </td></tr>\n",
       "\t<tr><td>1008    </td><td>1       </td><td>1       </td><td>2.92    </td><td> 6.8    </td><td> 2      </td><td>0       </td><td>1       </td><td>1       </td><td>0       </td><td>⋯       </td><td>0       </td><td>0       </td><td>0       </td><td>27      </td><td>24      </td><td> NA     </td><td>NA      </td><td>      NA</td><td>1       </td><td> 5      </td></tr>\n",
       "\t<tr><td>1009    </td><td>1       </td><td>0       </td><td>0.70    </td><td> 2.8    </td><td>10      </td><td>0       </td><td>1       </td><td>1       </td><td>0       </td><td>⋯       </td><td>1       </td><td>1       </td><td>1       </td><td> 0      </td><td> 0      </td><td>100     </td><td>32      </td><td>43.66667</td><td>1       </td><td> 9      </td></tr>\n",
       "</tbody>\n",
       "</table>\n"
      ],
      "text/latex": [
       "\\begin{tabular}{r|lllllllllllllllllllllllllllllllllllll}\n",
       " ID & hospital\\_number & female & age & pim2 & pelod & p\\_bloodculture & comorbidity & rf\\_pneumonia & rf\\_sepsis & ⋯ & mortality\\_30day & mortality\\_28day & mortality\\_100day & ventilation\\_free\\_day & picu\\_free\\_days & fio2 & map & amplitude & OI\\_cat & ICUduration\\\\\n",
       "\\hline\n",
       "\t 1001     & 1        & 1        & 0.02     & 87.3     & 42       & 1        & 0        & 0        & 1        & ⋯        & 1        & 1        & 1        &  0       &  0       &  NA      & NA       &       NA & 1        &  3      \\\\\n",
       "\t 1003     & 1        & 0        & 0.47     &  2.8     & 11       & 0        & 0        & 1        & 0        & ⋯        & 0        & 0        & 0        & 21       & 26       &  NA      & NA       &       NA & 1        &  3      \\\\\n",
       "\t 1005     & 1        & 1        & 0.10     &  0.6     &  1       & 0        & 0        & 1        & 0        & ⋯        & 0        & 0        & 0        & 21       & 20       &  NA      & NA       &       NA & 2        &  9      \\\\\n",
       "\t 1006     & 1        & 1        & 1.72     &  8.2     & 12       & 0        & 0        & 1        & 0        & ⋯        & 0        & 0        & 0        &  7       &  0       & 100      & 23       & 70.00000 & 4        & 59      \\\\\n",
       "\t 1008     & 1        & 1        & 2.92     &  6.8     &  2       & 0        & 1        & 1        & 0        & ⋯        & 0        & 0        & 0        & 27       & 24       &  NA      & NA       &       NA & 1        &  5      \\\\\n",
       "\t 1009     & 1        & 0        & 0.70     &  2.8     & 10       & 0        & 1        & 1        & 0        & ⋯        & 1        & 1        & 1        &  0       &  0       & 100      & 32       & 43.66667 & 1        &  9      \\\\\n",
       "\\end{tabular}\n"
      ],
      "text/markdown": [
       "\n",
       "ID | hospital_number | female | age | pim2 | pelod | p_bloodculture | comorbidity | rf_pneumonia | rf_sepsis | ⋯ | mortality_30day | mortality_28day | mortality_100day | ventilation_free_day | picu_free_days | fio2 | map | amplitude | OI_cat | ICUduration | \n",
       "|---|---|---|---|---|---|\n",
       "| 1001     | 1        | 1        | 0.02     | 87.3     | 42       | 1        | 0        | 0        | 1        | ⋯        | 1        | 1        | 1        |  0       |  0       |  NA      | NA       |       NA | 1        |  3       | \n",
       "| 1003     | 1        | 0        | 0.47     |  2.8     | 11       | 0        | 0        | 1        | 0        | ⋯        | 0        | 0        | 0        | 21       | 26       |  NA      | NA       |       NA | 1        |  3       | \n",
       "| 1005     | 1        | 1        | 0.10     |  0.6     |  1       | 0        | 0        | 1        | 0        | ⋯        | 0        | 0        | 0        | 21       | 20       |  NA      | NA       |       NA | 2        |  9       | \n",
       "| 1006     | 1        | 1        | 1.72     |  8.2     | 12       | 0        | 0        | 1        | 0        | ⋯        | 0        | 0        | 0        |  7       |  0       | 100      | 23       | 70.00000 | 4        | 59       | \n",
       "| 1008     | 1        | 1        | 2.92     |  6.8     |  2       | 0        | 1        | 1        | 0        | ⋯        | 0        | 0        | 0        | 27       | 24       |  NA      | NA       |       NA | 1        |  5       | \n",
       "| 1009     | 1        | 0        | 0.70     |  2.8     | 10       | 0        | 1        | 1        | 0        | ⋯        | 1        | 1        | 1        |  0       |  0       | 100      | 32       | 43.66667 | 1        |  9       | \n",
       "\n",
       "\n"
      ],
      "text/plain": [
       "  ID   hospital_number female age  pim2 pelod p_bloodculture comorbidity\n",
       "1 1001 1               1      0.02 87.3 42    1              0          \n",
       "2 1003 1               0      0.47  2.8 11    0              0          \n",
       "3 1005 1               1      0.10  0.6  1    0              0          \n",
       "4 1006 1               1      1.72  8.2 12    0              0          \n",
       "5 1008 1               1      2.92  6.8  2    0              1          \n",
       "6 1009 1               0      0.70  2.8 10    0              1          \n",
       "  rf_pneumonia rf_sepsis ⋯ mortality_30day mortality_28day mortality_100day\n",
       "1 0            1         ⋯ 1               1               1               \n",
       "2 1            0         ⋯ 0               0               0               \n",
       "3 1            0         ⋯ 0               0               0               \n",
       "4 1            0         ⋯ 0               0               0               \n",
       "5 1            0         ⋯ 0               0               0               \n",
       "6 1            0         ⋯ 1               1               1               \n",
       "  ventilation_free_day picu_free_days fio2 map amplitude OI_cat ICUduration\n",
       "1  0                    0              NA  NA        NA  1       3         \n",
       "2 21                   26              NA  NA        NA  1       3         \n",
       "3 21                   20              NA  NA        NA  2       9         \n",
       "4  7                    0             100  23  70.00000  4      59         \n",
       "5 27                   24              NA  NA        NA  1       5         \n",
       "6  0                    0             100  32  43.66667  1       9         "
      ]
     },
     "metadata": {},
     "output_type": "display_data"
    }
   ],
   "source": [
    "#load data\n",
    "kkh_data <- read.csv(\"pards_data_1107.csv\")\n",
    "#kkh_data <- read.csv(\"pards_data_0816.csv\")\n",
    "df<-data.frame(kkh_data)\n",
    "kkh<-df[!is.na(df$d2_oi),]\n",
    "kkh <- kkh[which(!((kkh$hfv==1)&(kkh$HFV_verify==0))), ]\n",
    "#kkh <- kkh[which((kkh$Non_CPAP==1)), ]\n",
    "####check column names\n",
    "var<-colnames(kkh, do.NULL = FALSE)[1:9]\n",
    "#head(kkh)\n",
    "\n",
    "####select features\n",
    "ID<-kkh$StudyID\n",
    "hospital_number<-kkh$Hospital_number\n",
    "female<-as.numeric(kkh$Gender=='Female')\n",
    "age<-kkh$Age\n",
    "pim2<-kkh$pim2\n",
    "pelod<-kkh$pelod\n",
    "p_bloodculture<-as.numeric(kkh$Positive_blood_culture=='Yes')\n",
    "early_HFV<-kkh$early_HFV\n",
    "D1_HFV<-kkh$D1_HFV\n",
    "D2_HFV<-kkh$D2_HFV\n",
    "D3_HFV<-kkh$D3_HFV\n",
    "D4_HFV<-kkh$D4_HFV\n",
    "D5_HFV<-kkh$D5_HFV\n",
    "D6_HFV<-kkh$D6_HFV\n",
    "D7_HFV<-kkh$D7_HFV\n",
    "ICUadmissiondate <- as.Date(kkh$ICUadmissiondate,format=\"%d/%m/%Y\")\n",
    "ICUdischargedate <- as.Date(kkh$ICUdischargedate,format=\"%d/%m/%Y\")\n",
    "\n",
    "\n",
    "#comorbidity\n",
    "comorbidity<-kkh$comorbidity\n",
    "#risk factor of ARDS\n",
    "rf_pneumonia<-as.numeric(kkh$PNEUMONIA=='Checked')\n",
    "rf_sepsis<-as.numeric(kkh$SEPSIS=='Checked')\n",
    "rf_aspiration<-as.numeric(kkh$ASPIRATION=='Checked')\n",
    "rf_transfusion<-as.numeric(kkh$TRANSFUSION=='Checked')\n",
    "rf_trauma<-as.numeric(kkh$TRAUMA=='Checked')\n",
    "rf_drowning<-as.numeric(kkh$DROWNING=='Checked')\n",
    "\n",
    "#other useful features\n",
    "MODS<-as.numeric(kkh$MODS=='Yes')\n",
    "OI<-kkh$d2_oi\n",
    "OI_cat<-kkh$OI_category\n",
    "treatment<-as.numeric(kkh$Received_HFV=='Yes')\n",
    "died_in_ICU<-kkh$died_in_ICU\n",
    "mortality_30day<-kkh$mort_30\n",
    "mortality_28day<-kkh$mort_28\n",
    "mortality_100day<-ifelse(kkh$Died.within.100.days==\"Yes\",1,0)\n",
    "ventilation_free_day<-kkh$ventilation_free_day\n",
    "picu_free_days<-kkh$picu_free_days\n",
    "fio2<-kkh$avg_fio2max\n",
    "map<-kkh$avg_mapmax\n",
    "amplitude<-kkh$avg_amplitudemax\n",
    "\n",
    "\n",
    "####prepare for the data\n",
    "mydata<-cbind(ID,hospital_number,female,age,pim2,pelod,p_bloodculture,comorbidity,rf_pneumonia,rf_sepsis,rf_aspiration,rf_transfusion\n",
    "              ,rf_trauma\n",
    "              ,rf_drowning,MODS,OI\n",
    "              ,treatment,died_in_ICU,D1_HFV,D2_HFV,D3_HFV,D4_HFV,D5_HFV,D6_HFV,D7_HFV,ICUadmissiondate,ICUdischargedate\n",
    "              ,mortality_30day,mortality_28day,mortality_100day,ventilation_free_day,picu_free_days, fio2, map, amplitude,OI_cat)\n",
    "\n",
    "\n",
    "mydata<-data.frame(mydata)\n",
    "mydata$ICUduration<-mydata$ICUdischargedate-mydata$ICUadmissiondate+1\n",
    "#mydata$OI_cat<-as.factor(mydata$OI_category)\n",
    "#mydata$OI_cat<-C(mydata$OI_cat, contr.treatment, base=3)\n",
    "\n",
    "head(mydata)"
   ]
  },
  {
   "cell_type": "code",
   "execution_count": 5,
   "metadata": {},
   "outputs": [
    {
     "data": {
      "text/html": [
       "2162"
      ],
      "text/latex": [
       "2162"
      ],
      "text/markdown": [
       "2162"
      ],
      "text/plain": [
       "[1] 2162"
      ]
     },
     "metadata": {},
     "output_type": "display_data"
    },
    {
     "data": {
      "text/html": [
       "<table>\n",
       "<thead><tr><th></th><th scope=col>treatment</th><th scope=col>ID</th><th scope=col>hospital_number</th><th scope=col>start_day</th><th scope=col>end_day</th><th scope=col>HFV_indicator</th><th scope=col>event</th><th scope=col>died_in_ICU</th><th scope=col>mortality_28day</th><th scope=col>ICUduration</th><th scope=col>⋯</th><th scope=col>comorbidity</th><th scope=col>rf_pneumonia</th><th scope=col>rf_sepsis</th><th scope=col>rf_aspiration</th><th scope=col>rf_transfusion</th><th scope=col>rf_trauma</th><th scope=col>rf_drowning</th><th scope=col>MODS</th><th scope=col>OI</th><th scope=col>OI_cat</th></tr></thead>\n",
       "<tbody>\n",
       "\t<tr><th scope=row>1</th><td>0    </td><td>1001 </td><td>1    </td><td>0    </td><td>1    </td><td>0    </td><td>0    </td><td>1    </td><td>1    </td><td> 3   </td><td>⋯    </td><td>0    </td><td>0    </td><td>1    </td><td>0    </td><td>0    </td><td>0    </td><td>0    </td><td>1    </td><td> 5.06</td><td>1    </td></tr>\n",
       "\t<tr><th scope=row>329</th><td>0    </td><td>1001 </td><td>1    </td><td>1    </td><td>2    </td><td>0    </td><td>0    </td><td>1    </td><td>1    </td><td> 3   </td><td>⋯    </td><td>0    </td><td>0    </td><td>1    </td><td>0    </td><td>0    </td><td>0    </td><td>0    </td><td>1    </td><td> 5.06</td><td>1    </td></tr>\n",
       "\t<tr><th scope=row>657</th><td>0    </td><td>1001 </td><td>1    </td><td>2    </td><td>3    </td><td>0    </td><td>1    </td><td>1    </td><td>1    </td><td> 3   </td><td>⋯    </td><td>0    </td><td>0    </td><td>1    </td><td>0    </td><td>0    </td><td>0    </td><td>0    </td><td>1    </td><td> 5.06</td><td>1    </td></tr>\n",
       "\t<tr><th scope=row>2</th><td>0    </td><td>1003 </td><td>1    </td><td>0    </td><td>1    </td><td>0    </td><td>0    </td><td>0    </td><td>0    </td><td> 3   </td><td>⋯    </td><td>0    </td><td>1    </td><td>0    </td><td>0    </td><td>0    </td><td>0    </td><td>0    </td><td>0    </td><td> 5.11</td><td>1    </td></tr>\n",
       "\t<tr><th scope=row>330</th><td>0    </td><td>1003 </td><td>1    </td><td>1    </td><td>2    </td><td>0    </td><td>0    </td><td>0    </td><td>0    </td><td> 3   </td><td>⋯    </td><td>0    </td><td>1    </td><td>0    </td><td>0    </td><td>0    </td><td>0    </td><td>0    </td><td>0    </td><td> 5.11</td><td>1    </td></tr>\n",
       "\t<tr><th scope=row>658</th><td>0    </td><td>1003 </td><td>1    </td><td>2    </td><td>3    </td><td>0    </td><td>0    </td><td>0    </td><td>0    </td><td> 3   </td><td>⋯    </td><td>0    </td><td>1    </td><td>0    </td><td>0    </td><td>0    </td><td>0    </td><td>0    </td><td>0    </td><td> 5.11</td><td>1    </td></tr>\n",
       "\t<tr><th scope=row>3</th><td>0    </td><td>1005 </td><td>1    </td><td>0    </td><td>1    </td><td>0    </td><td>0    </td><td>0    </td><td>0    </td><td> 9   </td><td>⋯    </td><td>0    </td><td>1    </td><td>0    </td><td>0    </td><td>0    </td><td>0    </td><td>0    </td><td>0    </td><td> 8.01</td><td>2    </td></tr>\n",
       "\t<tr><th scope=row>331</th><td>0    </td><td>1005 </td><td>1    </td><td>1    </td><td>2    </td><td>0    </td><td>0    </td><td>0    </td><td>0    </td><td> 9   </td><td>⋯    </td><td>0    </td><td>1    </td><td>0    </td><td>0    </td><td>0    </td><td>0    </td><td>0    </td><td>0    </td><td> 8.01</td><td>2    </td></tr>\n",
       "\t<tr><th scope=row>659</th><td>0    </td><td>1005 </td><td>1    </td><td>2    </td><td>3    </td><td>0    </td><td>0    </td><td>0    </td><td>0    </td><td> 9   </td><td>⋯    </td><td>0    </td><td>1    </td><td>0    </td><td>0    </td><td>0    </td><td>0    </td><td>0    </td><td>0    </td><td> 8.01</td><td>2    </td></tr>\n",
       "\t<tr><th scope=row>987</th><td>0    </td><td>1005 </td><td>1    </td><td>3    </td><td>4    </td><td>0    </td><td>0    </td><td>0    </td><td>0    </td><td> 9   </td><td>⋯    </td><td>0    </td><td>1    </td><td>0    </td><td>0    </td><td>0    </td><td>0    </td><td>0    </td><td>0    </td><td> 8.01</td><td>2    </td></tr>\n",
       "\t<tr><th scope=row>1315</th><td>0    </td><td>1005 </td><td>1    </td><td>4    </td><td>5    </td><td>0    </td><td>0    </td><td>0    </td><td>0    </td><td> 9   </td><td>⋯    </td><td>0    </td><td>1    </td><td>0    </td><td>0    </td><td>0    </td><td>0    </td><td>0    </td><td>0    </td><td> 8.01</td><td>2    </td></tr>\n",
       "\t<tr><th scope=row>1643</th><td>0    </td><td>1005 </td><td>1    </td><td>5    </td><td>6    </td><td>0    </td><td>0    </td><td>0    </td><td>0    </td><td> 9   </td><td>⋯    </td><td>0    </td><td>1    </td><td>0    </td><td>0    </td><td>0    </td><td>0    </td><td>0    </td><td>0    </td><td> 8.01</td><td>2    </td></tr>\n",
       "\t<tr><th scope=row>1971</th><td>0    </td><td>1005 </td><td>1    </td><td>6    </td><td>7    </td><td>0    </td><td>0    </td><td>0    </td><td>0    </td><td> 9   </td><td>⋯    </td><td>0    </td><td>1    </td><td>0    </td><td>0    </td><td>0    </td><td>0    </td><td>0    </td><td>0    </td><td> 8.01</td><td>2    </td></tr>\n",
       "\t<tr><th scope=row>4</th><td>1    </td><td>1006 </td><td>1    </td><td>0    </td><td>1    </td><td>0    </td><td>0    </td><td>0    </td><td>0    </td><td>59   </td><td>⋯    </td><td>0    </td><td>1    </td><td>0    </td><td>0    </td><td>0    </td><td>0    </td><td>0    </td><td>1    </td><td>20.63</td><td>4    </td></tr>\n",
       "\t<tr><th scope=row>332</th><td>1    </td><td>1006 </td><td>1    </td><td>1    </td><td>2    </td><td>0    </td><td>0    </td><td>0    </td><td>0    </td><td>59   </td><td>⋯    </td><td>0    </td><td>1    </td><td>0    </td><td>0    </td><td>0    </td><td>0    </td><td>0    </td><td>1    </td><td>20.63</td><td>4    </td></tr>\n",
       "\t<tr><th scope=row>660</th><td>1    </td><td>1006 </td><td>1    </td><td>2    </td><td>3    </td><td>0    </td><td>0    </td><td>0    </td><td>0    </td><td>59   </td><td>⋯    </td><td>0    </td><td>1    </td><td>0    </td><td>0    </td><td>0    </td><td>0    </td><td>0    </td><td>1    </td><td>20.63</td><td>4    </td></tr>\n",
       "\t<tr><th scope=row>988</th><td>1    </td><td>1006 </td><td>1    </td><td>3    </td><td>4    </td><td>0    </td><td>0    </td><td>0    </td><td>0    </td><td>59   </td><td>⋯    </td><td>0    </td><td>1    </td><td>0    </td><td>0    </td><td>0    </td><td>0    </td><td>0    </td><td>1    </td><td>20.63</td><td>4    </td></tr>\n",
       "\t<tr><th scope=row>1316</th><td>1    </td><td>1006 </td><td>1    </td><td>4    </td><td>5    </td><td>0    </td><td>0    </td><td>0    </td><td>0    </td><td>59   </td><td>⋯    </td><td>0    </td><td>1    </td><td>0    </td><td>0    </td><td>0    </td><td>0    </td><td>0    </td><td>1    </td><td>20.63</td><td>4    </td></tr>\n",
       "\t<tr><th scope=row>1644</th><td>1    </td><td>1006 </td><td>1    </td><td>5    </td><td>6    </td><td>0    </td><td>0    </td><td>0    </td><td>0    </td><td>59   </td><td>⋯    </td><td>0    </td><td>1    </td><td>0    </td><td>0    </td><td>0    </td><td>0    </td><td>0    </td><td>1    </td><td>20.63</td><td>4    </td></tr>\n",
       "\t<tr><th scope=row>1972</th><td>1    </td><td>1006 </td><td>1    </td><td>6    </td><td>7    </td><td>1    </td><td>0    </td><td>0    </td><td>0    </td><td>59   </td><td>⋯    </td><td>0    </td><td>1    </td><td>0    </td><td>0    </td><td>0    </td><td>0    </td><td>0    </td><td>1    </td><td>20.63</td><td>4    </td></tr>\n",
       "</tbody>\n",
       "</table>\n"
      ],
      "text/latex": [
       "\\begin{tabular}{r|lllllllllllllllllllllllll}\n",
       "  & treatment & ID & hospital\\_number & start\\_day & end\\_day & HFV\\_indicator & event & died\\_in\\_ICU & mortality\\_28day & ICUduration & ⋯ & comorbidity & rf\\_pneumonia & rf\\_sepsis & rf\\_aspiration & rf\\_transfusion & rf\\_trauma & rf\\_drowning & MODS & OI & OI\\_cat\\\\\n",
       "\\hline\n",
       "\t1 & 0     & 1001  & 1     & 0     & 1     & 0     & 0     & 1     & 1     &  3    & ⋯     & 0     & 0     & 1     & 0     & 0     & 0     & 0     & 1     &  5.06 & 1    \\\\\n",
       "\t329 & 0     & 1001  & 1     & 1     & 2     & 0     & 0     & 1     & 1     &  3    & ⋯     & 0     & 0     & 1     & 0     & 0     & 0     & 0     & 1     &  5.06 & 1    \\\\\n",
       "\t657 & 0     & 1001  & 1     & 2     & 3     & 0     & 1     & 1     & 1     &  3    & ⋯     & 0     & 0     & 1     & 0     & 0     & 0     & 0     & 1     &  5.06 & 1    \\\\\n",
       "\t2 & 0     & 1003  & 1     & 0     & 1     & 0     & 0     & 0     & 0     &  3    & ⋯     & 0     & 1     & 0     & 0     & 0     & 0     & 0     & 0     &  5.11 & 1    \\\\\n",
       "\t330 & 0     & 1003  & 1     & 1     & 2     & 0     & 0     & 0     & 0     &  3    & ⋯     & 0     & 1     & 0     & 0     & 0     & 0     & 0     & 0     &  5.11 & 1    \\\\\n",
       "\t658 & 0     & 1003  & 1     & 2     & 3     & 0     & 0     & 0     & 0     &  3    & ⋯     & 0     & 1     & 0     & 0     & 0     & 0     & 0     & 0     &  5.11 & 1    \\\\\n",
       "\t3 & 0     & 1005  & 1     & 0     & 1     & 0     & 0     & 0     & 0     &  9    & ⋯     & 0     & 1     & 0     & 0     & 0     & 0     & 0     & 0     &  8.01 & 2    \\\\\n",
       "\t331 & 0     & 1005  & 1     & 1     & 2     & 0     & 0     & 0     & 0     &  9    & ⋯     & 0     & 1     & 0     & 0     & 0     & 0     & 0     & 0     &  8.01 & 2    \\\\\n",
       "\t659 & 0     & 1005  & 1     & 2     & 3     & 0     & 0     & 0     & 0     &  9    & ⋯     & 0     & 1     & 0     & 0     & 0     & 0     & 0     & 0     &  8.01 & 2    \\\\\n",
       "\t987 & 0     & 1005  & 1     & 3     & 4     & 0     & 0     & 0     & 0     &  9    & ⋯     & 0     & 1     & 0     & 0     & 0     & 0     & 0     & 0     &  8.01 & 2    \\\\\n",
       "\t1315 & 0     & 1005  & 1     & 4     & 5     & 0     & 0     & 0     & 0     &  9    & ⋯     & 0     & 1     & 0     & 0     & 0     & 0     & 0     & 0     &  8.01 & 2    \\\\\n",
       "\t1643 & 0     & 1005  & 1     & 5     & 6     & 0     & 0     & 0     & 0     &  9    & ⋯     & 0     & 1     & 0     & 0     & 0     & 0     & 0     & 0     &  8.01 & 2    \\\\\n",
       "\t1971 & 0     & 1005  & 1     & 6     & 7     & 0     & 0     & 0     & 0     &  9    & ⋯     & 0     & 1     & 0     & 0     & 0     & 0     & 0     & 0     &  8.01 & 2    \\\\\n",
       "\t4 & 1     & 1006  & 1     & 0     & 1     & 0     & 0     & 0     & 0     & 59    & ⋯     & 0     & 1     & 0     & 0     & 0     & 0     & 0     & 1     & 20.63 & 4    \\\\\n",
       "\t332 & 1     & 1006  & 1     & 1     & 2     & 0     & 0     & 0     & 0     & 59    & ⋯     & 0     & 1     & 0     & 0     & 0     & 0     & 0     & 1     & 20.63 & 4    \\\\\n",
       "\t660 & 1     & 1006  & 1     & 2     & 3     & 0     & 0     & 0     & 0     & 59    & ⋯     & 0     & 1     & 0     & 0     & 0     & 0     & 0     & 1     & 20.63 & 4    \\\\\n",
       "\t988 & 1     & 1006  & 1     & 3     & 4     & 0     & 0     & 0     & 0     & 59    & ⋯     & 0     & 1     & 0     & 0     & 0     & 0     & 0     & 1     & 20.63 & 4    \\\\\n",
       "\t1316 & 1     & 1006  & 1     & 4     & 5     & 0     & 0     & 0     & 0     & 59    & ⋯     & 0     & 1     & 0     & 0     & 0     & 0     & 0     & 1     & 20.63 & 4    \\\\\n",
       "\t1644 & 1     & 1006  & 1     & 5     & 6     & 0     & 0     & 0     & 0     & 59    & ⋯     & 0     & 1     & 0     & 0     & 0     & 0     & 0     & 1     & 20.63 & 4    \\\\\n",
       "\t1972 & 1     & 1006  & 1     & 6     & 7     & 1     & 0     & 0     & 0     & 59    & ⋯     & 0     & 1     & 0     & 0     & 0     & 0     & 0     & 1     & 20.63 & 4    \\\\\n",
       "\\end{tabular}\n"
      ],
      "text/markdown": [
       "\n",
       "| <!--/--> | treatment | ID | hospital_number | start_day | end_day | HFV_indicator | event | died_in_ICU | mortality_28day | ICUduration | ⋯ | comorbidity | rf_pneumonia | rf_sepsis | rf_aspiration | rf_transfusion | rf_trauma | rf_drowning | MODS | OI | OI_cat | \n",
       "|---|---|---|---|---|---|---|---|---|---|---|---|---|---|---|---|---|---|---|---|\n",
       "| 1 | 0     | 1001  | 1     | 0     | 1     | 0     | 0     | 1     | 1     |  3    | ⋯     | 0     | 0     | 1     | 0     | 0     | 0     | 0     | 1     |  5.06 | 1     | \n",
       "| 329 | 0     | 1001  | 1     | 1     | 2     | 0     | 0     | 1     | 1     |  3    | ⋯     | 0     | 0     | 1     | 0     | 0     | 0     | 0     | 1     |  5.06 | 1     | \n",
       "| 657 | 0     | 1001  | 1     | 2     | 3     | 0     | 1     | 1     | 1     |  3    | ⋯     | 0     | 0     | 1     | 0     | 0     | 0     | 0     | 1     |  5.06 | 1     | \n",
       "| 2 | 0     | 1003  | 1     | 0     | 1     | 0     | 0     | 0     | 0     |  3    | ⋯     | 0     | 1     | 0     | 0     | 0     | 0     | 0     | 0     |  5.11 | 1     | \n",
       "| 330 | 0     | 1003  | 1     | 1     | 2     | 0     | 0     | 0     | 0     |  3    | ⋯     | 0     | 1     | 0     | 0     | 0     | 0     | 0     | 0     |  5.11 | 1     | \n",
       "| 658 | 0     | 1003  | 1     | 2     | 3     | 0     | 0     | 0     | 0     |  3    | ⋯     | 0     | 1     | 0     | 0     | 0     | 0     | 0     | 0     |  5.11 | 1     | \n",
       "| 3 | 0     | 1005  | 1     | 0     | 1     | 0     | 0     | 0     | 0     |  9    | ⋯     | 0     | 1     | 0     | 0     | 0     | 0     | 0     | 0     |  8.01 | 2     | \n",
       "| 331 | 0     | 1005  | 1     | 1     | 2     | 0     | 0     | 0     | 0     |  9    | ⋯     | 0     | 1     | 0     | 0     | 0     | 0     | 0     | 0     |  8.01 | 2     | \n",
       "| 659 | 0     | 1005  | 1     | 2     | 3     | 0     | 0     | 0     | 0     |  9    | ⋯     | 0     | 1     | 0     | 0     | 0     | 0     | 0     | 0     |  8.01 | 2     | \n",
       "| 987 | 0     | 1005  | 1     | 3     | 4     | 0     | 0     | 0     | 0     |  9    | ⋯     | 0     | 1     | 0     | 0     | 0     | 0     | 0     | 0     |  8.01 | 2     | \n",
       "| 1315 | 0     | 1005  | 1     | 4     | 5     | 0     | 0     | 0     | 0     |  9    | ⋯     | 0     | 1     | 0     | 0     | 0     | 0     | 0     | 0     |  8.01 | 2     | \n",
       "| 1643 | 0     | 1005  | 1     | 5     | 6     | 0     | 0     | 0     | 0     |  9    | ⋯     | 0     | 1     | 0     | 0     | 0     | 0     | 0     | 0     |  8.01 | 2     | \n",
       "| 1971 | 0     | 1005  | 1     | 6     | 7     | 0     | 0     | 0     | 0     |  9    | ⋯     | 0     | 1     | 0     | 0     | 0     | 0     | 0     | 0     |  8.01 | 2     | \n",
       "| 4 | 1     | 1006  | 1     | 0     | 1     | 0     | 0     | 0     | 0     | 59    | ⋯     | 0     | 1     | 0     | 0     | 0     | 0     | 0     | 1     | 20.63 | 4     | \n",
       "| 332 | 1     | 1006  | 1     | 1     | 2     | 0     | 0     | 0     | 0     | 59    | ⋯     | 0     | 1     | 0     | 0     | 0     | 0     | 0     | 1     | 20.63 | 4     | \n",
       "| 660 | 1     | 1006  | 1     | 2     | 3     | 0     | 0     | 0     | 0     | 59    | ⋯     | 0     | 1     | 0     | 0     | 0     | 0     | 0     | 1     | 20.63 | 4     | \n",
       "| 988 | 1     | 1006  | 1     | 3     | 4     | 0     | 0     | 0     | 0     | 59    | ⋯     | 0     | 1     | 0     | 0     | 0     | 0     | 0     | 1     | 20.63 | 4     | \n",
       "| 1316 | 1     | 1006  | 1     | 4     | 5     | 0     | 0     | 0     | 0     | 59    | ⋯     | 0     | 1     | 0     | 0     | 0     | 0     | 0     | 1     | 20.63 | 4     | \n",
       "| 1644 | 1     | 1006  | 1     | 5     | 6     | 0     | 0     | 0     | 0     | 59    | ⋯     | 0     | 1     | 0     | 0     | 0     | 0     | 0     | 1     | 20.63 | 4     | \n",
       "| 1972 | 1     | 1006  | 1     | 6     | 7     | 1     | 0     | 0     | 0     | 59    | ⋯     | 0     | 1     | 0     | 0     | 0     | 0     | 0     | 1     | 20.63 | 4     | \n",
       "\n",
       "\n"
      ],
      "text/plain": [
       "     treatment ID   hospital_number start_day end_day HFV_indicator event\n",
       "1    0         1001 1               0         1       0             0    \n",
       "329  0         1001 1               1         2       0             0    \n",
       "657  0         1001 1               2         3       0             1    \n",
       "2    0         1003 1               0         1       0             0    \n",
       "330  0         1003 1               1         2       0             0    \n",
       "658  0         1003 1               2         3       0             0    \n",
       "3    0         1005 1               0         1       0             0    \n",
       "331  0         1005 1               1         2       0             0    \n",
       "659  0         1005 1               2         3       0             0    \n",
       "987  0         1005 1               3         4       0             0    \n",
       "1315 0         1005 1               4         5       0             0    \n",
       "1643 0         1005 1               5         6       0             0    \n",
       "1971 0         1005 1               6         7       0             0    \n",
       "4    1         1006 1               0         1       0             0    \n",
       "332  1         1006 1               1         2       0             0    \n",
       "660  1         1006 1               2         3       0             0    \n",
       "988  1         1006 1               3         4       0             0    \n",
       "1316 1         1006 1               4         5       0             0    \n",
       "1644 1         1006 1               5         6       0             0    \n",
       "1972 1         1006 1               6         7       1             0    \n",
       "     died_in_ICU mortality_28day ICUduration ⋯ comorbidity rf_pneumonia\n",
       "1    1           1                3          ⋯ 0           0           \n",
       "329  1           1                3          ⋯ 0           0           \n",
       "657  1           1                3          ⋯ 0           0           \n",
       "2    0           0                3          ⋯ 0           1           \n",
       "330  0           0                3          ⋯ 0           1           \n",
       "658  0           0                3          ⋯ 0           1           \n",
       "3    0           0                9          ⋯ 0           1           \n",
       "331  0           0                9          ⋯ 0           1           \n",
       "659  0           0                9          ⋯ 0           1           \n",
       "987  0           0                9          ⋯ 0           1           \n",
       "1315 0           0                9          ⋯ 0           1           \n",
       "1643 0           0                9          ⋯ 0           1           \n",
       "1971 0           0                9          ⋯ 0           1           \n",
       "4    0           0               59          ⋯ 0           1           \n",
       "332  0           0               59          ⋯ 0           1           \n",
       "660  0           0               59          ⋯ 0           1           \n",
       "988  0           0               59          ⋯ 0           1           \n",
       "1316 0           0               59          ⋯ 0           1           \n",
       "1644 0           0               59          ⋯ 0           1           \n",
       "1972 0           0               59          ⋯ 0           1           \n",
       "     rf_sepsis rf_aspiration rf_transfusion rf_trauma rf_drowning MODS OI   \n",
       "1    1         0             0              0         0           1     5.06\n",
       "329  1         0             0              0         0           1     5.06\n",
       "657  1         0             0              0         0           1     5.06\n",
       "2    0         0             0              0         0           0     5.11\n",
       "330  0         0             0              0         0           0     5.11\n",
       "658  0         0             0              0         0           0     5.11\n",
       "3    0         0             0              0         0           0     8.01\n",
       "331  0         0             0              0         0           0     8.01\n",
       "659  0         0             0              0         0           0     8.01\n",
       "987  0         0             0              0         0           0     8.01\n",
       "1315 0         0             0              0         0           0     8.01\n",
       "1643 0         0             0              0         0           0     8.01\n",
       "1971 0         0             0              0         0           0     8.01\n",
       "4    0         0             0              0         0           1    20.63\n",
       "332  0         0             0              0         0           1    20.63\n",
       "660  0         0             0              0         0           1    20.63\n",
       "988  0         0             0              0         0           1    20.63\n",
       "1316 0         0             0              0         0           1    20.63\n",
       "1644 0         0             0              0         0           1    20.63\n",
       "1972 0         0             0              0         0           1    20.63\n",
       "     OI_cat\n",
       "1    1     \n",
       "329  1     \n",
       "657  1     \n",
       "2    1     \n",
       "330  1     \n",
       "658  1     \n",
       "3    2     \n",
       "331  2     \n",
       "659  2     \n",
       "987  2     \n",
       "1315 2     \n",
       "1643 2     \n",
       "1971 2     \n",
       "4    4     \n",
       "332  4     \n",
       "660  4     \n",
       "988  4     \n",
       "1316 4     \n",
       "1644 4     \n",
       "1972 4     "
      ]
     },
     "metadata": {},
     "output_type": "display_data"
    }
   ],
   "source": [
    "#create new dataset for cox ph model with time-dependent adjustment for treatment and covariates\n",
    "#df2 is the final dataset\n",
    "df<-melt(mydata,id.vars=c(\"ID\",\"hospital_number\",\"ICUduration\",\"died_in_ICU\",\"mortality_30day\",\"mortality_28day\",\"mortality_100day\",\"treatment\",\n",
    "                          \"female\",\"age\",\"pim2\",\"pelod\",\"p_bloodculture\",\n",
    "                          \"comorbidity\",\"rf_pneumonia\",\"rf_sepsis\",\"rf_aspiration\",\"rf_transfusion\", \n",
    "                          \"rf_trauma\", \"rf_drowning\",\"MODS\",\"OI\",\"OI_cat\"), \n",
    "         measure.vars=c(\"D1_HFV\",\"D2_HFV\",\"D3_HFV\",\"D4_HFV\",\"D5_HFV\",\"D6_HFV\",\"D7_HFV\"),\n",
    "         variable.name = \"end_day\",value.name = \"HFV_indicator\",factorsAsStrings = FALSE)\n",
    "\n",
    "df<-df[order(df$ID), , drop = FALSE]\n",
    "df$end_day<-revalue(df$end_day, c(\"D1_HFV\"=1,\"D2_HFV\"=2, \"D3_HFV\"=3,\"D4_HFV\"=4,\"D5_HFV\"=5, \"D6_HFV\"=6,\"D7_HFV\"=7))\n",
    "df$end_day<-as.numeric(df$end_day)\n",
    "df$start_day<-df$end_day-1\n",
    "\n",
    "df1<-df[df$start_day<df$ICUduration,]\n",
    "df1$event<-ifelse(df1$end_day<df1$ICUduration, 0,df1$died_in_ICU)\n",
    "\n",
    "df1 <- df1[c(\"treatment\",\"ID\",\"hospital_number\",\"start_day\",\"end_day\",\"HFV_indicator\",\"event\",\"died_in_ICU\",\"mortality_28day\",\"ICUduration\",\"female\",\"age\",\"pim2\",\"pelod\",\"p_bloodculture\",\"comorbidity\",\"rf_pneumonia\"\n",
    "         ,\"rf_sepsis\",\"rf_aspiration\" , \"rf_transfusion\", \"rf_trauma\", \"rf_drowning\",\"MODS\",\"OI\",\"OI_cat\")]\n",
    "\n",
    "\n",
    "length(df1$ID)\n",
    "df2 <- do.call(\"rbind\", lapply(unique(df1$ID), function(id) {\n",
    "    df1_id <- df1[df1$ID == id, ]\n",
    "    n_id <- nrow(df1_id)\n",
    "    n_all <- df1_id$ICUduration[1]\n",
    "    if(n_all>7){\n",
    "        n_all<-7\n",
    "    }\n",
    "    if (n_id == n_all) {\n",
    "        df1_id\n",
    "    } else {\n",
    "        last_row <- df1_id[n_id, ]\n",
    "        df1_add <- do.call(\"rbind\", lapply((n_id + 1):n_all, function(r) {\n",
    "            new_row <- last_row\n",
    "            new_row$start_day <- r - 1\n",
    "            new_row$end_day <- r\n",
    "            new_row$HFV_indicator<-0\n",
    "            if(r==n_all){\n",
    "                new_row$event<- new_row$mortality_28day\n",
    "            } else{\n",
    "                new_row$event<- 0\n",
    "            }\n",
    "            new_row\n",
    "        }))\n",
    "        rbind(df1_id, df1_add)\n",
    "    }\n",
    "}))\n",
    "#head(df2)\n",
    "df2[1:20,]\n"
   ]
  },
  {
   "cell_type": "markdown",
   "metadata": {},
   "source": [
    "# GenMatch with Matching package"
   ]
  },
  {
   "cell_type": "code",
   "execution_count": 6,
   "metadata": {},
   "outputs": [
    {
     "name": "stderr",
     "output_type": "stream",
     "text": [
      "Loading required namespace: rgenoud\n"
     ]
    }
   ],
   "source": [
    "\n",
    "force_exact<-c(rep(0, 13),1)\n",
    "var_list<-c(\"age\",\"pim2\",\"pelod\",\"female\",\"p_bloodculture\",\"comorbidity\",\"MODS\",\"rf_pneumonia\",'rf_sepsis','rf_aspiration',\n",
    "            'rf_transfusion','rf_trauma','rf_drowning',\"OI\")\n",
    "var_list2<-c(\"age\",\"pim2\",\"pelod\",\"female\",\"p_bloodculture\",\"comorbidity\",\"MODS\",\"rf_pneumonia\",'rf_sepsis','rf_aspiration',\n",
    "            'rf_transfusion','rf_trauma','rf_drowning',\"OI_cat\")\n",
    "treatment<-data.frame(mydata[,\"treatment\"])\n",
    "#mydata_wth_pscore<-data.frame(cbind(mydata[, var_list,pscore]))\n",
    "gen_data<-data.frame(mydata[, var_list])\n",
    "#mydata_wth_pscore$female<-as.factor(mydata_wth_pscore$female)\n",
    "\n",
    "# treatment~age+pim2+pelod+factor(female)+factor(p_bloodculture)+factor(comorbidity)+factor(rf_pneumonia)+factor(rf_sepsis)\n",
    "#                  +factor(rf_aspiration)+factor(rf_transfusion)+factor(rf_trauma)+factor(rf_drowning)+factor(MODS)+factor(OI_cat)\n",
    "gen.out<-GenMatch(mydata$treatment,mydata[,var_list], pop.size=328,replace=FALSE,exact=force_exact,distance.tolerance=4.0,print.level=0)\n",
    "gen_treat_data<-gen_data\n",
    "gen_treat_data$treatment<-mydata[,\"treatment\"]\n",
    "\n"
   ]
  },
  {
   "cell_type": "code",
   "execution_count": 7,
   "metadata": {},
   "outputs": [
    {
     "name": "stdout",
     "output_type": "stream",
     "text": [
      "\n",
      "Estimate...  0 \n",
      "SE.........  0 \n",
      "T-stat.....  NaN \n",
      "p.val......  NA \n",
      "\n",
      "Original number of observations..............  328 \n",
      "Original number of treated obs...............  122 \n",
      "Matched number of observations...............  118 \n",
      "Matched number of observations  (unweighted).  118 \n",
      "\n",
      "Number of obs dropped by 'exact' or 'caliper'  4 \n",
      "\n"
     ]
    }
   ],
   "source": [
    "m.out<-Match(Tr=gen_treat_data$treatment, X=gen_treat_data[,var_list], estimand = \"ATT\", M = 1,\n",
    "             exact =force_exact,distance.tolerance=3.0, caliper = NULL, replace=TRUE, ties=FALSE,\n",
    "             Weight.matrix = gen.out\n",
    "            )\n",
    "summary(m.out)"
   ]
  },
  {
   "cell_type": "code",
   "execution_count": 8,
   "metadata": {},
   "outputs": [
    {
     "data": {
      "text/plain": [
       "\n",
       "\tOne Sample t-test\n",
       "\n",
       "data:  diffy\n",
       "t = -1.239, df = 117, p-value = 0.2178\n",
       "alternative hypothesis: true mean is not equal to 0\n",
       "95 percent confidence interval:\n",
       " -3.5673768  0.8216141\n",
       "sample estimates:\n",
       "mean of x \n",
       "-1.372881 \n"
      ]
     },
     "metadata": {},
     "output_type": "display_data"
    },
    {
     "data": {
      "text/plain": [
       "\n",
       "\tOne Sample t-test\n",
       "\n",
       "data:  diffy1\n",
       "t = -2.1615, df = 117, p-value = 0.03269\n",
       "alternative hypothesis: true mean is not equal to 0\n",
       "95 percent confidence interval:\n",
       " -4.141030 -0.181004\n",
       "sample estimates:\n",
       "mean of x \n",
       "-2.161017 \n"
      ]
     },
     "metadata": {},
     "output_type": "display_data"
    },
    {
     "data": {
      "text/plain": [
       "\n",
       "\tMcNemar's Chi-squared test with continuity correction\n",
       "\n",
       "data:  hfv$mort_100day and non_hfv$mort_100day\n",
       "McNemar's chi-squared = 0.078431, df = 1, p-value = 0.7794\n"
      ]
     },
     "metadata": {},
     "output_type": "display_data"
    },
    {
     "name": "stdout",
     "output_type": "stream",
     "text": [
      "[1] \"Non-HFOV group 100day mortality n:\"\n"
     ]
    },
    {
     "data": {
      "text/html": [
       "51"
      ],
      "text/latex": [
       "51"
      ],
      "text/markdown": [
       "51"
      ],
      "text/plain": [
       "[1] 51"
      ]
     },
     "metadata": {},
     "output_type": "display_data"
    },
    {
     "name": "stdout",
     "output_type": "stream",
     "text": [
      "[1] \"%:\"\n"
     ]
    },
    {
     "data": {
      "text/html": [
       "0.432203389830508"
      ],
      "text/latex": [
       "0.432203389830508"
      ],
      "text/markdown": [
       "0.432203389830508"
      ],
      "text/plain": [
       "[1] 0.4322034"
      ]
     },
     "metadata": {},
     "output_type": "display_data"
    },
    {
     "name": "stdout",
     "output_type": "stream",
     "text": [
      "[1] \"HFOV group 100day mortality n:\"\n"
     ]
    },
    {
     "data": {
      "text/html": [
       "54"
      ],
      "text/latex": [
       "54"
      ],
      "text/markdown": [
       "54"
      ],
      "text/plain": [
       "[1] 54"
      ]
     },
     "metadata": {},
     "output_type": "display_data"
    },
    {
     "name": "stdout",
     "output_type": "stream",
     "text": [
      "[1] \"%:\"\n"
     ]
    },
    {
     "data": {
      "text/html": [
       "0.457627118644068"
      ],
      "text/latex": [
       "0.457627118644068"
      ],
      "text/markdown": [
       "0.457627118644068"
      ],
      "text/plain": [
       "[1] 0.4576271"
      ]
     },
     "metadata": {},
     "output_type": "display_data"
    },
    {
     "name": "stdout",
     "output_type": "stream",
     "text": [
      "[1] \"Non-HFOV group 28day mortality n:\"\n"
     ]
    },
    {
     "data": {
      "text/html": [
       "21"
      ],
      "text/latex": [
       "21"
      ],
      "text/markdown": [
       "21"
      ],
      "text/plain": [
       "[1] 21"
      ]
     },
     "metadata": {},
     "output_type": "display_data"
    },
    {
     "name": "stdout",
     "output_type": "stream",
     "text": [
      "[1] \"%:\"\n"
     ]
    },
    {
     "data": {
      "text/html": [
       "0.177966101694915"
      ],
      "text/latex": [
       "0.177966101694915"
      ],
      "text/markdown": [
       "0.177966101694915"
      ],
      "text/plain": [
       "[1] 0.1779661"
      ]
     },
     "metadata": {},
     "output_type": "display_data"
    },
    {
     "name": "stdout",
     "output_type": "stream",
     "text": [
      "[1] \"HFOV group 28day mortality n:\"\n"
     ]
    },
    {
     "data": {
      "text/html": [
       "38"
      ],
      "text/latex": [
       "38"
      ],
      "text/markdown": [
       "38"
      ],
      "text/plain": [
       "[1] 38"
      ]
     },
     "metadata": {},
     "output_type": "display_data"
    },
    {
     "name": "stdout",
     "output_type": "stream",
     "text": [
      "[1] \"%:\"\n"
     ]
    },
    {
     "data": {
      "text/html": [
       "0.322033898305085"
      ],
      "text/latex": [
       "0.322033898305085"
      ],
      "text/markdown": [
       "0.322033898305085"
      ],
      "text/plain": [
       "[1] 0.3220339"
      ]
     },
     "metadata": {},
     "output_type": "display_data"
    },
    {
     "data": {
      "text/plain": [
       "\n",
       "\tMcNemar's Chi-squared test with continuity correction\n",
       "\n",
       "data:  hfv$mortality_28day and non_hfv$mortality_28day\n",
       "McNemar's chi-squared = 5.6889, df = 1, p-value = 0.01707\n"
      ]
     },
     "metadata": {},
     "output_type": "display_data"
    },
    {
     "name": "stdout",
     "output_type": "stream",
     "text": [
      "[1] 38 21 80 97\n"
     ]
    },
    {
     "data": {
      "text/html": [
       "0.322033898305085"
      ],
      "text/latex": [
       "0.322033898305085"
      ],
      "text/markdown": [
       "0.322033898305085"
      ],
      "text/plain": [
       "[1] 0.3220339"
      ]
     },
     "metadata": {},
     "output_type": "display_data"
    },
    {
     "data": {
      "text/html": [
       "0.177966101694915"
      ],
      "text/latex": [
       "0.177966101694915"
      ],
      "text/markdown": [
       "0.177966101694915"
      ],
      "text/plain": [
       "[1] 0.1779661"
      ]
     },
     "metadata": {},
     "output_type": "display_data"
    },
    {
     "data": {
      "text/html": [
       "<dl>\n",
       "\t<dt>$data</dt>\n",
       "\t\t<dd><table>\n",
       "<thead><tr><th></th><th scope=col>Disease1</th><th scope=col>Disease2</th><th scope=col>Total</th></tr></thead>\n",
       "<tbody>\n",
       "\t<tr><th scope=row>Exposed1</th><td>38 </td><td> 80</td><td>118</td></tr>\n",
       "\t<tr><th scope=row>Exposed2</th><td>21 </td><td> 97</td><td>118</td></tr>\n",
       "\t<tr><th scope=row>Total</th><td>59 </td><td>177</td><td>236</td></tr>\n",
       "</tbody>\n",
       "</table>\n",
       "</dd>\n",
       "\t<dt>$measure</dt>\n",
       "\t\t<dd><table>\n",
       "<thead><tr><th></th><th scope=col>estimate</th><th scope=col>lower</th><th scope=col>upper</th></tr></thead>\n",
       "<tbody>\n",
       "\t<tr><th scope=row>Exposed1</th><td>1.000000</td><td>      NA</td><td>      NA</td></tr>\n",
       "\t<tr><th scope=row>Exposed2</th><td>2.180742</td><td>1.192347</td><td>4.077767</td></tr>\n",
       "</tbody>\n",
       "</table>\n",
       "</dd>\n",
       "\t<dt>$p.value</dt>\n",
       "\t\t<dd><table>\n",
       "<thead><tr><th></th><th scope=col>midp.exact</th><th scope=col>fisher.exact</th><th scope=col>chi.square</th></tr></thead>\n",
       "<tbody>\n",
       "\t<tr><th scope=row>Exposed1</th><td>        NA</td><td>        NA</td><td>       NA </td></tr>\n",
       "\t<tr><th scope=row>Exposed2</th><td>0.01112853</td><td>0.01573759</td><td>0.0106006 </td></tr>\n",
       "</tbody>\n",
       "</table>\n",
       "</dd>\n",
       "\t<dt>$correction</dt>\n",
       "\t\t<dd>FALSE</dd>\n",
       "</dl>\n"
      ],
      "text/latex": [
       "\\begin{description}\n",
       "\\item[\\$data] \\begin{tabular}{r|lll}\n",
       "  & Disease1 & Disease2 & Total\\\\\n",
       "\\hline\n",
       "\tExposed1 & 38  &  80 & 118\\\\\n",
       "\tExposed2 & 21  &  97 & 118\\\\\n",
       "\tTotal & 59  & 177 & 236\\\\\n",
       "\\end{tabular}\n",
       "\n",
       "\\item[\\$measure] \\begin{tabular}{r|lll}\n",
       "  & estimate & lower & upper\\\\\n",
       "\\hline\n",
       "\tExposed1 & 1.000000 &       NA &       NA\\\\\n",
       "\tExposed2 & 2.180742 & 1.192347 & 4.077767\\\\\n",
       "\\end{tabular}\n",
       "\n",
       "\\item[\\$p.value] \\begin{tabular}{r|lll}\n",
       "  & midp.exact & fisher.exact & chi.square\\\\\n",
       "\\hline\n",
       "\tExposed1 &         NA &         NA &        NA \\\\\n",
       "\tExposed2 & 0.01112853 & 0.01573759 & 0.0106006 \\\\\n",
       "\\end{tabular}\n",
       "\n",
       "\\item[\\$correction] FALSE\n",
       "\\end{description}\n"
      ],
      "text/markdown": [
       "$data\n",
       ":   \n",
       "| <!--/--> | Disease1 | Disease2 | Total | \n",
       "|---|---|---|\n",
       "| Exposed1 | 38  |  80 | 118 | \n",
       "| Exposed2 | 21  |  97 | 118 | \n",
       "| Total | 59  | 177 | 236 | \n",
       "\n",
       "\n",
       "\n",
       "$measure\n",
       ":   \n",
       "| <!--/--> | estimate | lower | upper | \n",
       "|---|---|\n",
       "| Exposed1 | 1.000000 |       NA |       NA | \n",
       "| Exposed2 | 2.180742 | 1.192347 | 4.077767 | \n",
       "\n",
       "\n",
       "\n",
       "$p.value\n",
       ":   \n",
       "| <!--/--> | midp.exact | fisher.exact | chi.square | \n",
       "|---|---|\n",
       "| Exposed1 |         NA |         NA |        NA  | \n",
       "| Exposed2 | 0.01112853 | 0.01573759 | 0.0106006  | \n",
       "\n",
       "\n",
       "\n",
       "$correction\n",
       ":   FALSE\n",
       "\n",
       "\n"
      ],
      "text/plain": [
       "$data\n",
       "          Outcome\n",
       "Predictor  Disease1 Disease2 Total\n",
       "  Exposed1       38       80   118\n",
       "  Exposed2       21       97   118\n",
       "  Total          59      177   236\n",
       "\n",
       "$measure\n",
       "          odds ratio with 95% C.I.\n",
       "Predictor  estimate    lower    upper\n",
       "  Exposed1 1.000000       NA       NA\n",
       "  Exposed2 2.180742 1.192347 4.077767\n",
       "\n",
       "$p.value\n",
       "          two-sided\n",
       "Predictor  midp.exact fisher.exact chi.square\n",
       "  Exposed1         NA           NA         NA\n",
       "  Exposed2 0.01112853   0.01573759  0.0106006\n",
       "\n",
       "$correction\n",
       "[1] FALSE\n",
       "\n",
       "attr(,\"method\")\n",
       "[1] \"median-unbiased estimate & mid-p exact CI\""
      ]
     },
     "metadata": {},
     "output_type": "display_data"
    },
    {
     "data": {
      "text/html": [
       "<table>\n",
       "<thead><tr><th></th><th scope=col>ID</th><th scope=col>hospital_number</th><th scope=col>female</th><th scope=col>age</th><th scope=col>pim2</th><th scope=col>pelod</th><th scope=col>p_bloodculture</th><th scope=col>comorbidity</th><th scope=col>rf_pneumonia</th><th scope=col>rf_sepsis</th><th scope=col>⋯</th><th scope=col>mortality_28day</th><th scope=col>mortality_100day</th><th scope=col>ventilation_free_day</th><th scope=col>picu_free_days</th><th scope=col>fio2</th><th scope=col>map</th><th scope=col>amplitude</th><th scope=col>OI_cat</th><th scope=col>ICUduration</th><th scope=col>mort_100day</th></tr></thead>\n",
       "<tbody>\n",
       "\t<tr><th scope=row>4</th><td>1006    </td><td>1       </td><td>1       </td><td>1.72    </td><td> 8.2    </td><td>12      </td><td>0       </td><td>0       </td><td>1       </td><td>0       </td><td>⋯       </td><td>0       </td><td>0       </td><td> 7      </td><td> 0      </td><td>100.00  </td><td>23.0    </td><td>70.00000</td><td>4       </td><td>59      </td><td>0       </td></tr>\n",
       "\t<tr><th scope=row>6</th><td>1009    </td><td>1       </td><td>0       </td><td>0.70    </td><td> 2.8    </td><td>10      </td><td>0       </td><td>1       </td><td>1       </td><td>0       </td><td>⋯       </td><td>1       </td><td>1       </td><td> 0      </td><td> 0      </td><td>100.00  </td><td>32.0    </td><td>43.66667</td><td>1       </td><td> 9      </td><td>1       </td></tr>\n",
       "\t<tr><th scope=row>8</th><td>1011    </td><td>1       </td><td>1       </td><td>1.31    </td><td>27.6    </td><td> 1      </td><td>1       </td><td>1       </td><td>1       </td><td>0       </td><td>⋯       </td><td>0       </td><td>0       </td><td> 0      </td><td> 0      </td><td>100.00  </td><td>30.0    </td><td>75.00000</td><td>4       </td><td>61      </td><td>0       </td></tr>\n",
       "\t<tr><th scope=row>18</th><td>1022    </td><td>1       </td><td>1       </td><td>0.28    </td><td> 9.0    </td><td>20      </td><td>0       </td><td>1       </td><td>1       </td><td>0       </td><td>⋯       </td><td>0       </td><td>0       </td><td>16      </td><td>15      </td><td> 58.75  </td><td>28.0    </td><td>50.00000</td><td>2       </td><td>14      </td><td>0       </td></tr>\n",
       "\t<tr><th scope=row>20</th><td>1024    </td><td>1       </td><td>0       </td><td>5.34    </td><td>75.6    </td><td>41      </td><td>1       </td><td>1       </td><td>1       </td><td>0       </td><td>⋯       </td><td>1       </td><td>1       </td><td> 0      </td><td> 0      </td><td>100.00  </td><td>25.5    </td><td>62.00000</td><td>1       </td><td> 3      </td><td>1       </td></tr>\n",
       "\t<tr><th scope=row>27</th><td>1037    </td><td>1       </td><td>1       </td><td>0.28    </td><td> 8.9    </td><td>20      </td><td>0       </td><td>1       </td><td>1       </td><td>0       </td><td>⋯       </td><td>0       </td><td>0       </td><td>16      </td><td>15      </td><td> 67.00  </td><td>28.0    </td><td>53.00000</td><td>2       </td><td>14      </td><td>0       </td></tr>\n",
       "</tbody>\n",
       "</table>\n"
      ],
      "text/latex": [
       "\\begin{tabular}{r|llllllllllllllllllllllllllllllllllllll}\n",
       "  & ID & hospital\\_number & female & age & pim2 & pelod & p\\_bloodculture & comorbidity & rf\\_pneumonia & rf\\_sepsis & ⋯ & mortality\\_28day & mortality\\_100day & ventilation\\_free\\_day & picu\\_free\\_days & fio2 & map & amplitude & OI\\_cat & ICUduration & mort\\_100day\\\\\n",
       "\\hline\n",
       "\t4 & 1006     & 1        & 1        & 1.72     &  8.2     & 12       & 0        & 0        & 1        & 0        & ⋯        & 0        & 0        &  7       &  0       & 100.00   & 23.0     & 70.00000 & 4        & 59       & 0       \\\\\n",
       "\t6 & 1009     & 1        & 0        & 0.70     &  2.8     & 10       & 0        & 1        & 1        & 0        & ⋯        & 1        & 1        &  0       &  0       & 100.00   & 32.0     & 43.66667 & 1        &  9       & 1       \\\\\n",
       "\t8 & 1011     & 1        & 1        & 1.31     & 27.6     &  1       & 1        & 1        & 1        & 0        & ⋯        & 0        & 0        &  0       &  0       & 100.00   & 30.0     & 75.00000 & 4        & 61       & 0       \\\\\n",
       "\t18 & 1022     & 1        & 1        & 0.28     &  9.0     & 20       & 0        & 1        & 1        & 0        & ⋯        & 0        & 0        & 16       & 15       &  58.75   & 28.0     & 50.00000 & 2        & 14       & 0       \\\\\n",
       "\t20 & 1024     & 1        & 0        & 5.34     & 75.6     & 41       & 1        & 1        & 1        & 0        & ⋯        & 1        & 1        &  0       &  0       & 100.00   & 25.5     & 62.00000 & 1        &  3       & 1       \\\\\n",
       "\t27 & 1037     & 1        & 1        & 0.28     &  8.9     & 20       & 0        & 1        & 1        & 0        & ⋯        & 0        & 0        & 16       & 15       &  67.00   & 28.0     & 53.00000 & 2        & 14       & 0       \\\\\n",
       "\\end{tabular}\n"
      ],
      "text/markdown": [
       "\n",
       "| <!--/--> | ID | hospital_number | female | age | pim2 | pelod | p_bloodculture | comorbidity | rf_pneumonia | rf_sepsis | ⋯ | mortality_28day | mortality_100day | ventilation_free_day | picu_free_days | fio2 | map | amplitude | OI_cat | ICUduration | mort_100day | \n",
       "|---|---|---|---|---|---|\n",
       "| 4 | 1006     | 1        | 1        | 1.72     |  8.2     | 12       | 0        | 0        | 1        | 0        | ⋯        | 0        | 0        |  7       |  0       | 100.00   | 23.0     | 70.00000 | 4        | 59       | 0        | \n",
       "| 6 | 1009     | 1        | 0        | 0.70     |  2.8     | 10       | 0        | 1        | 1        | 0        | ⋯        | 1        | 1        |  0       |  0       | 100.00   | 32.0     | 43.66667 | 1        |  9       | 1        | \n",
       "| 8 | 1011     | 1        | 1        | 1.31     | 27.6     |  1       | 1        | 1        | 1        | 0        | ⋯        | 0        | 0        |  0       |  0       | 100.00   | 30.0     | 75.00000 | 4        | 61       | 0        | \n",
       "| 18 | 1022     | 1        | 1        | 0.28     |  9.0     | 20       | 0        | 1        | 1        | 0        | ⋯        | 0        | 0        | 16       | 15       |  58.75   | 28.0     | 50.00000 | 2        | 14       | 0        | \n",
       "| 20 | 1024     | 1        | 0        | 5.34     | 75.6     | 41       | 1        | 1        | 1        | 0        | ⋯        | 1        | 1        |  0       |  0       | 100.00   | 25.5     | 62.00000 | 1        |  3       | 1        | \n",
       "| 27 | 1037     | 1        | 1        | 0.28     |  8.9     | 20       | 0        | 1        | 1        | 0        | ⋯        | 0        | 0        | 16       | 15       |  67.00   | 28.0     | 53.00000 | 2        | 14       | 0        | \n",
       "\n",
       "\n"
      ],
      "text/plain": [
       "   ID   hospital_number female age  pim2 pelod p_bloodculture comorbidity\n",
       "4  1006 1               1      1.72  8.2 12    0              0          \n",
       "6  1009 1               0      0.70  2.8 10    0              1          \n",
       "8  1011 1               1      1.31 27.6  1    1              1          \n",
       "18 1022 1               1      0.28  9.0 20    0              1          \n",
       "20 1024 1               0      5.34 75.6 41    1              1          \n",
       "27 1037 1               1      0.28  8.9 20    0              1          \n",
       "   rf_pneumonia rf_sepsis ⋯ mortality_28day mortality_100day\n",
       "4  1            0         ⋯ 0               0               \n",
       "6  1            0         ⋯ 1               1               \n",
       "8  1            0         ⋯ 0               0               \n",
       "18 1            0         ⋯ 0               0               \n",
       "20 1            0         ⋯ 1               1               \n",
       "27 1            0         ⋯ 0               0               \n",
       "   ventilation_free_day picu_free_days fio2   map  amplitude OI_cat ICUduration\n",
       "4   7                    0             100.00 23.0 70.00000  4      59         \n",
       "6   0                    0             100.00 32.0 43.66667  1       9         \n",
       "8   0                    0             100.00 30.0 75.00000  4      61         \n",
       "18 16                   15              58.75 28.0 50.00000  2      14         \n",
       "20  0                    0             100.00 25.5 62.00000  1       3         \n",
       "27 16                   15              67.00 28.0 53.00000  2      14         \n",
       "   mort_100day\n",
       "4  0          \n",
       "6  1          \n",
       "8  0          \n",
       "18 0          \n",
       "20 1          \n",
       "27 0          "
      ]
     },
     "metadata": {},
     "output_type": "display_data"
    },
    {
     "name": "stdout",
     "output_type": "stream",
     "text": [
      "                                     Stratified by treatment\n",
      "                                      0                 1                \n",
      "  n                                    118               118             \n",
      "  female = 1 (%)                        60 ( 50.8)        63 ( 53.4)     \n",
      "  age (median [IQR])                   2.0 [0.8, 5.8]    2.3 [0.8, 5.5]  \n",
      "  pim2 (median [IQR])                  9.4 [4.1, 18.2]   8.0 [4.7, 27.6] \n",
      "  pelod (median [IQR])                10.5 [1.0, 13.8]  10.0 [1.2, 16.0] \n",
      "  p_bloodculture = 1 (%)                22 ( 18.6)        21 ( 17.8)     \n",
      "  MODS = 1 (%)                          54 ( 45.8)        54 ( 45.8)     \n",
      "  comorbidity = 1 (%)                   66 ( 55.9)        66 ( 55.9)     \n",
      "  rf_pneumonia = 1 (%)                 100 ( 84.7)       102 ( 86.4)     \n",
      "  rf_sepsis = 1 (%)                     43 ( 36.4)        32 ( 27.1)     \n",
      "  rf_aspiration = 1 (%)                  5 (  4.2)         4 (  3.4)     \n",
      "  rf_transfusion = 1 (%)                 1 (  0.8)         3 (  2.5)     \n",
      "  rf_trauma = 0 (%)                    118 (100.0)       118 (100.0)     \n",
      "  rf_drowning = 1 (%)                    2 (  1.7)         3 (  2.5)     \n",
      "  OI (median [IQR])                   18.0 [12.3, 29.0] 18.5 [12.0, 28.1]\n",
      "  OI_cat (%)                                                             \n",
      "     1                                  14 ( 11.9)        10 (  8.5)     \n",
      "     2                                  34 ( 28.8)        35 ( 29.7)     \n",
      "     3                                   2 (  1.7)         3 (  2.5)     \n",
      "     4                                  68 ( 57.6)        70 ( 59.3)     \n",
      "  ventilation_free_day (median [IQR])  5.5 [0.0, 18.8]   4.0 [0.0, 16.0] \n",
      "  picu_free_days (median [IQR])        1.5 [0.0, 15.8]   0.0 [0.0, 11.0] \n",
      "  mortality_28day = 1 (%)               21 ( 17.8)        38 ( 32.2)     \n",
      "  mort_100day = 1 (%)                   51 ( 43.2)        54 ( 45.8)     \n",
      "  died_in_ICU = 1 (%)                   50 ( 42.4)        48 ( 40.7)     \n",
      "                                     Stratified by treatment\n",
      "                                      p       test    SMD    \n",
      "  n                                                          \n",
      "  female = 1 (%)                       0.7944          0.0509\n",
      "  age (median [IQR])                   0.6994 nonnorm  0.0084\n",
      "  pim2 (median [IQR])                  0.4399 nonnorm  0.2461\n",
      "  pelod (median [IQR])                 0.7557 nonnorm  0.1259\n",
      "  p_bloodculture = 1 (%)               1.0000          0.0220\n",
      "  MODS = 1 (%)                         1.0000         <0.0001\n",
      "  comorbidity = 1 (%)                  1.0000         <0.0001\n",
      "  rf_pneumonia = 1 (%)                 0.8529          0.0483\n",
      "  rf_sepsis = 1 (%)                    0.1621          0.2012\n",
      "  rf_aspiration = 1 (%)                1.0000          0.0443\n",
      "  rf_transfusion = 1 (%)               0.6141          0.1316\n",
      "  rf_trauma = 0 (%)                    NA             <0.0001\n",
      "  rf_drowning = 1 (%)                  1.0000          0.0589\n",
      "  OI (median [IQR])                    0.8953 nonnorm  0.0164\n",
      "  OI_cat (%)                           0.8230          0.1244\n",
      "     1                                                       \n",
      "     2                                                       \n",
      "     3                                                       \n",
      "     4                                                       \n",
      "  ventilation_free_day (median [IQR])  0.2694 nonnorm  0.1501\n",
      "  picu_free_days (median [IQR])        0.0872 nonnorm  0.2607\n",
      "  mortality_28day = 1 (%)              0.0162          0.3374\n",
      "  mort_100day = 1 (%)                  0.7933          0.0512\n",
      "  died_in_ICU = 1 (%)                  0.8949          0.0344\n"
     ]
    }
   ],
   "source": [
    "mydata$mort_100day<-ifelse(kkh$Died.within.100.days==\"Yes\",1,0)\n",
    "\n",
    "matchedID_hfv<-mydata[m.out$index.treated,\"ID\"]\n",
    "matchedID_non_hfv<-mydata[m.out$index.control,\"ID\"]\n",
    "hfv<-mydata[match(matchedID_hfv,mydata$ID),]\n",
    "non_hfv<-mydata[match(matchedID_non_hfv,mydata$ID),]\n",
    "\n",
    "\n",
    "#paired t-test for ventilator free days\n",
    "diffy<-hfv$ventilation_free_day-non_hfv$ventilation_free_day\n",
    "t.test(diffy)\n",
    "#paired t-test for picu free days\n",
    "diffy1<-hfv$picu_free_days-non_hfv$picu_free_days\n",
    "t.test(diffy1)\n",
    "\n",
    "#McNemar test for 100 day mortality\n",
    "mcnemar.test(hfv$mort_100day, non_hfv$mort_100day)\n",
    "\n",
    "#calculate n% of 100 day mortality for matched cohort\n",
    "print(\"Non-HFOV group 100day mortality n:\")\n",
    "length(non_hfv$ID[non_hfv$mort_100day==1])\n",
    "print(\"%:\")\n",
    "length(non_hfv$ID[non_hfv$mort_100day==1])/length(matchedID_hfv)\n",
    "print(\"HFOV group 100day mortality n:\")\n",
    "length(hfv$ID[hfv$mort_100day==1])\n",
    "print(\"%:\")\n",
    "length(hfv$ID[hfv$mort_100day==1])/length(matchedID_hfv)\n",
    "\n",
    "#calculate n% of 28 day mortality for matched cohort\n",
    "print(\"Non-HFOV group 28day mortality n:\")\n",
    "length(non_hfv$ID[non_hfv$mortality_28day==1])\n",
    "print(\"%:\")\n",
    "length(non_hfv$ID[non_hfv$mortality_28day==1])/length(matchedID_hfv)\n",
    "print(\"HFOV group 28day mortality n:\")\n",
    "length(hfv$ID[hfv$mortality_28day==1])\n",
    "print(\"%:\")\n",
    "length(hfv$ID[hfv$mortality_28day==1])/length(matchedID_hfv)\n",
    "\n",
    "#McNemar test for 28-day mortality\n",
    "#y_treatment<-hfv$mortality_28day[hfv$treatment==1] \n",
    "#y_control<-non_hfv$mortality_28day[non_hfv$treatment==0] \n",
    "#table(y_treatment,y_control)\n",
    "mcnemar.test(hfv$mortality_28day, non_hfv$mortality_28day)\n",
    "\n",
    "#calculate odds ratio for 28-day mortality\n",
    "#y_treatment<-data$mortality_28day[data$treatment==1] \n",
    "#y_control<-data$mortality_28day[data$treatment==0] \n",
    "\n",
    "#calculate odds ratio for ICU mortality\n",
    "#y_treatment<-hfv[died_in_ICU] \n",
    "#y_control<-non_hfv$died_in_ICU\n",
    "\n",
    "########## calculate Odd's ratio here!\n",
    "########## calculate Odd's ratio here!\n",
    "a<-sum(hfv$mortality_28day)\n",
    "b<-sum(non_hfv$mortality_28day)\n",
    "c<-sum(hfv$mortality_28day==0)\n",
    "d<-sum(non_hfv$mortality_28day==0)\n",
    "# c<-length(hfv[hfv$died_in_ICU==0,1])\n",
    "# d<-length(non_hfv[non_hfv$died_in_ICU==0,1])\n",
    " print(c(a,b,c,d))\n",
    " a/(a+c)\n",
    " b/(b+d)\n",
    " oddsratio(matrix(c(a,b,c,d), ncol=2, nrow=2))\n",
    "\n",
    "#Table1 for matching pairs\n",
    "\n",
    "PSmatching_data<-rbind(hfv,non_hfv)\n",
    "#PSmatching_data<-read.csv(\"PS_matching_data_significant_result.csv\")\n",
    "head(PSmatching_data)\n",
    "\n",
    "\n",
    "xvars<-c(\"female\",\"age\",\"pim2\",\"pelod\",\"p_bloodculture\",\"MODS\",\"comorbidity\",\"rf_pneumonia\",\"rf_sepsis\",\"rf_aspiration\" , \"rf_transfusion\", \"rf_trauma\",\"rf_drowning\",\n",
    "         \"OI\",\"OI_cat\",\"ventilation_free_day\",\"picu_free_days\",\"mortality_28day\",\"mort_100day\",\"died_in_ICU\")\n",
    "catvars<-c(\"female\",\"p_bloodculture\",\"comorbidity\",\"rf_pneumonia\",\"rf_sepsis\",\"rf_aspiration\" , \"rf_transfusion\", \n",
    "           \"rf_drowning\",\"rf_trauma\",\"MODS\",\"OI_cat\",\"mortality_28day\",\"mort_100day\",\"died_in_ICU\")\n",
    "\n",
    "\n",
    "TableOne_daily<-CreateTableOne(var = xvars, factorVars =catvars,strata =\"treatment\", data=PSmatching_data)\n",
    "\n",
    "print(TableOne_daily, nonnormal = c(\"age\",\"pim2\",\"pelod\",\"OI\",\"ventilation_free_day\",\"picu_free_days\"), contDigits = 1, catDigits = 1, pDigits = 4, smd = TRUE,testName=TRUE)\n",
    "#non parametric KruskalWalli test for PICU free days"
   ]
  },
  {
   "cell_type": "markdown",
   "metadata": {},
   "source": [
    "## Subgroup Analysis"
   ]
  },
  {
   "cell_type": "code",
   "execution_count": null,
   "metadata": {},
   "outputs": [],
   "source": [
    "####################################################\n",
    "#Subgroup Analysis: Drop one out method on daily matching\n",
    "####################################################\n",
    "#unique(mydata$hospital_number)\n",
    "\n",
    "############### Drop hospital 1 out from data ##############\n",
    "\n",
    "\n",
    "\n",
    "\n",
    "\n",
    "var_list<-c(\"age\",\"pim2\",\"pelod\",\"female\",\"p_bloodculture\",\"comorbidity\",\"MODS\",\"rf_pneumonia\",'rf_sepsis','rf_aspiration',\n",
    "            'rf_transfusion','rf_trauma','rf_drowning',\"OI\")\n",
    "\n",
    "\n",
    "gen_treat_data<-data.frame(mydata)\n",
    "df_not<-gen_treat_data[gen_treat_data$hospital_number!=1,]\n",
    "pop_size<-length(df_not[,1])\n",
    "#str(gen_treat_data)\n",
    "force_exact<-c(rep(0, 13),1)\n",
    "gen.out<-GenMatch(Tr=df_not$treatment,X=df_not[,var_list], pop.size=pop_size,replace=FALSE,exact=force_exact,distance.tolerance=5.0,print.level=0)\n",
    "m.out<-Match(Tr=df_not$treatment, X=df_not[,var_list], estimand = \"ATT\", M = 1,\n",
    "             exact =force_exact,distance.tolerance=5.0, caliper = NULL, replace=TRUE, ties=FALSE,\n",
    "             Weight.matrix = gen.out\n",
    "            )\n",
    "summary(m.out)\n",
    "\n",
    "matchedID_hfv<-df_not[m.out$index.treated,\"ID\"]\n",
    "matchedID_non_hfv<-df_not[m.out$index.control,\"ID\"]\n",
    "hfv<-df_not[match(matchedID_hfv,df_not$ID),]\n",
    "non_hfv<-df_not[match(matchedID_non_hfv,df_not$ID),]\n",
    "\n",
    "\n",
    "#paired t-test for ventilator free days\n",
    "diffy<-hfv$ventilation_free_day-non_hfv$ventilation_free_day\n",
    "t.test(diffy)\n",
    "#paired t-test for picu free days\n",
    "diffy1<-hfv$picu_free_days-non_hfv$picu_free_days\n",
    "t.test(diffy1)\n",
    "\n",
    "#McNemar test for 100 day mortality\n",
    "mcnemar.test(hfv$mort_100day, non_hfv$mort_100day)\n",
    "\n",
    "#calculate n% of 100 day mortality for matched cohort\n",
    "print(\"Non-HFOV group 100day mortality n:\")\n",
    "length(non_hfv$ID[non_hfv$mort_100day==1])\n",
    "print(\"%:\")\n",
    "length(non_hfv$ID[non_hfv$mort_100day==1])/length(matchedID_hfv)\n",
    "print(\"HFOV group 100day mortality n:\")\n",
    "length(hfv$ID[hfv$mort_100day==1])\n",
    "print(\"%:\")\n",
    "length(hfv$ID[hfv$mort_100day==1])/length(matchedID_hfv)\n",
    "\n",
    "#calculate n% of 28 day mortality for matched cohort\n",
    "print(\"Non-HFOV group 28day mortality n:\")\n",
    "length(non_hfv$ID[non_hfv$mortality_28day==1])\n",
    "print(\"%:\")\n",
    "length(non_hfv$ID[non_hfv$mortality_28day==1])/length(matchedID_hfv)\n",
    "print(\"HFOV group 28day mortality n:\")\n",
    "length(hfv$ID[hfv$mortality_28day==1])\n",
    "print(\"%:\")\n",
    "length(hfv$ID[hfv$mortality_28day==1])/length(matchedID_hfv)\n",
    "\n",
    "#McNemar test for 28-day mortality\n",
    "#y_treatment<-hfv$mortality_28day[hfv$treatment==1] \n",
    "#y_control<-non_hfv$mortality_28day[non_hfv$treatment==0] \n",
    "#table(y_treatment,y_control)\n",
    "mcnemar.test(hfv$mortality_28day, non_hfv$mortality_28day)\n",
    "\n",
    "#calculate odds ratio for 28-day mortality\n",
    "########## calculate Odd's ratio here!\n",
    "a<-sum(hfv$mortality_28day==1)\n",
    "b<-sum(non_hfv$mortality_28day==1)\n",
    "c<-sum(hfv$mortality_28day==0)\n",
    "d<-sum(non_hfv$mortality_28day==0)\n",
    "# c<-length(hfv[hfv$died_in_ICU==0,1])\n",
    "# d<-length(non_hfv[non_hfv$died_in_ICU==0,1])\n",
    "print(c(a,b,c,d))\n",
    "a/(a+c)\n",
    "b/(b+d)\n",
    "oddsratio(matrix(c(a,b,c,d), ncol=2, nrow=2))\n",
    "\n",
    "#Table1 for matching pairs\n",
    "\n",
    "PSmatching_data<-rbind(hfv,non_hfv)\n",
    "#PSmatching_data<-read.csv(\"PS_matching_data_significant_result.csv\")\n",
    "head(PSmatching_data)\n",
    "\n",
    "\n",
    "xvars<-c(\"female\",\"age\",\"pim2\",\"pelod\",\"p_bloodculture\",\"MODS\",\"comorbidity\",\"rf_pneumonia\",\"rf_sepsis\",\"rf_aspiration\" , \"rf_transfusion\", \"rf_trauma\",\"rf_drowning\",\n",
    "         \"OI\",\"OI_cat\",\"ventilation_free_day\",\"picu_free_days\",\"mortality_28day\",\"mort_100day\",\"died_in_ICU\")\n",
    "catvars<-c(\"female\",\"p_bloodculture\",\"comorbidity\",\"rf_pneumonia\",\"rf_sepsis\",\"rf_aspiration\" , \"rf_transfusion\", \n",
    "           \"rf_drowning\",\"rf_trauma\",\"MODS\",\"OI_cat\",\"mortality_28day\",\"mort_100day\",\"died_in_ICU\")\n",
    "\n",
    "\n",
    "TableOne_daily<-CreateTableOne(var = xvars, factorVars =catvars,strata =\"treatment\", data=PSmatching_data)\n",
    "\n",
    "print(TableOne_daily, nonnormal = c(\"age\",\"pim2\",\"pelod\",\"OI\",\"ventilation_free_day\",\"picu_free_days\"), contDigits = 1, catDigits = 1, pDigits = 4, smd = TRUE,testName=TRUE)\n",
    "#non parametric KruskalWalli test for PICU free days\n"
   ]
  },
  {
   "cell_type": "code",
   "execution_count": null,
   "metadata": {},
   "outputs": [],
   "source": [
    "####################################################\n",
    "#Subgroup Analysis: Drop one out method on daily matching\n",
    "####################################################\n",
    "#unique(mydata$hospital_number)\n",
    "\n",
    "############### Drop hospital 2 out from data ##############\n",
    "\n",
    "\n",
    "\n",
    "\n",
    "\n",
    "var_list<-c(\"age\",\"pim2\",\"pelod\",\"female\",\"p_bloodculture\",\"comorbidity\",\"MODS\",\"rf_pneumonia\",'rf_sepsis','rf_aspiration',\n",
    "            'rf_transfusion','rf_trauma','rf_drowning',\"OI\")\n",
    "\n",
    "\n",
    "gen_treat_data<-data.frame(mydata)\n",
    "df_not<-gen_treat_data[gen_treat_data$hospital_number!=2,]\n",
    "pop_size<-length(df_not[,1])\n",
    "#str(gen_treat_data)\n",
    "force_exact<-c(rep(0, 13),1)\n",
    "gen.out<-GenMatch(Tr=df_not$treatment,X=df_not[,var_list], pop.size=pop_size,replace=FALSE,exact=force_exact,distance.tolerance=5.0,print.level=0)\n",
    "m.out<-Match(Tr=df_not$treatment, X=df_not[,var_list], estimand = \"ATT\", M = 1,\n",
    "             exact =force_exact,distance.tolerance=5.0, caliper = NULL, replace=TRUE, ties=FALSE,\n",
    "             Weight.matrix = gen.out\n",
    "            )\n",
    "summary(m.out)\n",
    "\n",
    "matchedID_hfv<-df_not[m.out$index.treated,\"ID\"]\n",
    "matchedID_non_hfv<-df_not[m.out$index.control,\"ID\"]\n",
    "hfv<-df_not[match(matchedID_hfv,df_not$ID),]\n",
    "non_hfv<-df_not[match(matchedID_non_hfv,df_not$ID),]\n",
    "\n",
    "\n",
    "#paired t-test for ventilator free days\n",
    "diffy<-hfv$ventilation_free_day-non_hfv$ventilation_free_day\n",
    "t.test(diffy)\n",
    "#paired t-test for picu free days\n",
    "diffy1<-hfv$picu_free_days-non_hfv$picu_free_days\n",
    "t.test(diffy1)\n",
    "\n",
    "#McNemar test for 100 day mortality\n",
    "mcnemar.test(hfv$mort_100day, non_hfv$mort_100day)\n",
    "\n",
    "#calculate n% of 100 day mortality for matched cohort\n",
    "print(\"Non-HFOV group 100day mortality n:\")\n",
    "length(non_hfv$ID[non_hfv$mort_100day==1])\n",
    "print(\"%:\")\n",
    "length(non_hfv$ID[non_hfv$mort_100day==1])/length(matchedID_hfv)\n",
    "print(\"HFOV group 100day mortality n:\")\n",
    "length(hfv$ID[hfv$mort_100day==1])\n",
    "print(\"%:\")\n",
    "length(hfv$ID[hfv$mort_100day==1])/length(matchedID_hfv)\n",
    "\n",
    "#calculate n% of 28 day mortality for matched cohort\n",
    "print(\"Non-HFOV group 28day mortality n:\")\n",
    "length(non_hfv$ID[non_hfv$mortality_28day==1])\n",
    "print(\"%:\")\n",
    "length(non_hfv$ID[non_hfv$mortality_28day==1])/length(matchedID_hfv)\n",
    "print(\"HFOV group 28day mortality n:\")\n",
    "length(hfv$ID[hfv$mortality_28day==1])\n",
    "print(\"%:\")\n",
    "length(hfv$ID[hfv$mortality_28day==1])/length(matchedID_hfv)\n",
    "\n",
    "#McNemar test for 28-day mortality\n",
    "#y_treatment<-hfv$mortality_28day[hfv$treatment==1] \n",
    "#y_control<-non_hfv$mortality_28day[non_hfv$treatment==0] \n",
    "#table(y_treatment,y_control)\n",
    "mcnemar.test(hfv$mortality_28day, non_hfv$mortality_28day)\n",
    "\n",
    "#calculate odds ratio for 28-day mortality\n",
    "########## calculate Odd's ratio here!\n",
    "a<-sum(hfv$mortality_28day==1)\n",
    "b<-sum(non_hfv$mortality_28day==1)\n",
    "c<-sum(hfv$mortality_28day==0)\n",
    "d<-sum(non_hfv$mortality_28day==0)\n",
    "# c<-length(hfv[hfv$died_in_ICU==0,1])\n",
    "# d<-length(non_hfv[non_hfv$died_in_ICU==0,1])\n",
    "print(c(a,b,c,d))\n",
    "a/(a+c)\n",
    "b/(b+d)\n",
    "oddsratio(matrix(c(a,b,c,d), ncol=2, nrow=2))\n",
    "\n",
    "#Table1 for matching pairs\n",
    "\n",
    "PSmatching_data<-rbind(hfv,non_hfv)\n",
    "#PSmatching_data<-read.csv(\"PS_matching_data_significant_result.csv\")\n",
    "head(PSmatching_data)\n",
    "\n",
    "\n",
    "xvars<-c(\"female\",\"age\",\"pim2\",\"pelod\",\"p_bloodculture\",\"MODS\",\"comorbidity\",\"rf_pneumonia\",\"rf_sepsis\",\"rf_aspiration\" , \"rf_transfusion\", \"rf_trauma\",\"rf_drowning\",\n",
    "         \"OI\",\"OI_cat\",\"ventilation_free_day\",\"picu_free_days\",\"mortality_28day\",\"mort_100day\",\"died_in_ICU\")\n",
    "catvars<-c(\"female\",\"p_bloodculture\",\"comorbidity\",\"rf_pneumonia\",\"rf_sepsis\",\"rf_aspiration\" , \"rf_transfusion\", \n",
    "           \"rf_drowning\",\"rf_trauma\",\"MODS\",\"OI_cat\",\"mortality_28day\",\"mort_100day\",\"died_in_ICU\")\n",
    "\n",
    "\n",
    "TableOne_daily<-CreateTableOne(var = xvars, factorVars =catvars,strata =\"treatment\", data=PSmatching_data)\n",
    "\n",
    "print(TableOne_daily, nonnormal = c(\"age\",\"pim2\",\"pelod\",\"OI\",\"ventilation_free_day\",\"picu_free_days\"), contDigits = 1, catDigits = 1, pDigits = 4, smd = TRUE,testName=TRUE)\n",
    "#non parametric KruskalWalli test for PICU free days\n"
   ]
  },
  {
   "cell_type": "code",
   "execution_count": null,
   "metadata": {},
   "outputs": [],
   "source": [
    "####################################################\n",
    "#Subgroup Analysis: Drop one out method on daily matching\n",
    "####################################################\n",
    "#unique(mydata$hospital_number)\n",
    "\n",
    "############### Drop hospital 3 out from data ##############\n",
    "\n",
    "\n",
    "\n",
    "\n",
    "\n",
    "var_list<-c(\"age\",\"pim2\",\"pelod\",\"female\",\"p_bloodculture\",\"comorbidity\",\"MODS\",\"rf_pneumonia\",'rf_sepsis','rf_aspiration',\n",
    "            'rf_transfusion','rf_trauma','rf_drowning',\"OI\")\n",
    "\n",
    "\n",
    "gen_treat_data<-data.frame(mydata)\n",
    "df_not<-gen_treat_data[gen_treat_data$hospital_number!=3,]\n",
    "pop_size<-length(df_not[,1])\n",
    "#str(gen_treat_data)\n",
    "force_exact<-c(rep(0, 13),1)\n",
    "gen.out<-GenMatch(Tr=df_not$treatment,X=df_not[,var_list], pop.size=pop_size,replace=FALSE,exact=force_exact,distance.tolerance=5.0,print.level=0)\n",
    "m.out<-Match(Tr=df_not$treatment, X=df_not[,var_list], estimand = \"ATT\", M = 1,\n",
    "             exact =force_exact,distance.tolerance=5.0, caliper = NULL, replace=TRUE, ties=FALSE,\n",
    "             Weight.matrix = gen.out\n",
    "            )\n",
    "summary(m.out)\n",
    "\n",
    "matchedID_hfv<-df_not[m.out$index.treated,\"ID\"]\n",
    "matchedID_non_hfv<-df_not[m.out$index.control,\"ID\"]\n",
    "hfv<-df_not[match(matchedID_hfv,df_not$ID),]\n",
    "non_hfv<-df_not[match(matchedID_non_hfv,df_not$ID),]\n",
    "\n",
    "\n",
    "#paired t-test for ventilator free days\n",
    "diffy<-hfv$ventilation_free_day-non_hfv$ventilation_free_day\n",
    "t.test(diffy)\n",
    "#paired t-test for picu free days\n",
    "diffy1<-hfv$picu_free_days-non_hfv$picu_free_days\n",
    "t.test(diffy1)\n",
    "\n",
    "#McNemar test for 100 day mortality\n",
    "mcnemar.test(hfv$mort_100day, non_hfv$mort_100day)\n",
    "\n",
    "#calculate n% of 100 day mortality for matched cohort\n",
    "print(\"Non-HFOV group 100day mortality n:\")\n",
    "length(non_hfv$ID[non_hfv$mort_100day==1])\n",
    "print(\"%:\")\n",
    "length(non_hfv$ID[non_hfv$mort_100day==1])/length(matchedID_hfv)\n",
    "print(\"HFOV group 100day mortality n:\")\n",
    "length(hfv$ID[hfv$mort_100day==1])\n",
    "print(\"%:\")\n",
    "length(hfv$ID[hfv$mort_100day==1])/length(matchedID_hfv)\n",
    "\n",
    "#calculate n% of 28 day mortality for matched cohort\n",
    "print(\"Non-HFOV group 28day mortality n:\")\n",
    "length(non_hfv$ID[non_hfv$mortality_28day==1])\n",
    "print(\"%:\")\n",
    "length(non_hfv$ID[non_hfv$mortality_28day==1])/length(matchedID_hfv)\n",
    "print(\"HFOV group 28day mortality n:\")\n",
    "length(hfv$ID[hfv$mortality_28day==1])\n",
    "print(\"%:\")\n",
    "length(hfv$ID[hfv$mortality_28day==1])/length(matchedID_hfv)\n",
    "\n",
    "#McNemar test for 28-day mortality\n",
    "#y_treatment<-hfv$mortality_28day[hfv$treatment==1] \n",
    "#y_control<-non_hfv$mortality_28day[non_hfv$treatment==0] \n",
    "#table(y_treatment,y_control)\n",
    "mcnemar.test(hfv$mortality_28day, non_hfv$mortality_28day)\n",
    "\n",
    "#calculate odds ratio for 28-day mortality\n",
    "########## calculate Odd's ratio here!\n",
    "a<-sum(hfv$mortality_28day==1)\n",
    "b<-sum(non_hfv$mortality_28day==1)\n",
    "c<-sum(hfv$mortality_28day==0)\n",
    "d<-sum(non_hfv$mortality_28day==0)\n",
    "# c<-length(hfv[hfv$died_in_ICU==0,1])\n",
    "# d<-length(non_hfv[non_hfv$died_in_ICU==0,1])\n",
    "print(c(a,b,c,d))\n",
    "a/(a+c)\n",
    "b/(b+d)\n",
    "oddsratio(matrix(c(a,b,c,d), ncol=2, nrow=2))\n",
    "\n",
    "#Table1 for matching pairs\n",
    "\n",
    "PSmatching_data<-rbind(hfv,non_hfv)\n",
    "#PSmatching_data<-read.csv(\"PS_matching_data_significant_result.csv\")\n",
    "head(PSmatching_data)\n",
    "\n",
    "\n",
    "xvars<-c(\"female\",\"age\",\"pim2\",\"pelod\",\"p_bloodculture\",\"MODS\",\"comorbidity\",\"rf_pneumonia\",\"rf_sepsis\",\"rf_aspiration\" , \"rf_transfusion\", \"rf_trauma\",\"rf_drowning\",\n",
    "         \"OI\",\"OI_cat\",\"ventilation_free_day\",\"picu_free_days\",\"mortality_28day\",\"mort_100day\",\"died_in_ICU\")\n",
    "catvars<-c(\"female\",\"p_bloodculture\",\"comorbidity\",\"rf_pneumonia\",\"rf_sepsis\",\"rf_aspiration\" , \"rf_transfusion\", \n",
    "           \"rf_drowning\",\"rf_trauma\",\"MODS\",\"OI_cat\",\"mortality_28day\",\"mort_100day\",\"died_in_ICU\")\n",
    "\n",
    "\n",
    "TableOne_daily<-CreateTableOne(var = xvars, factorVars =catvars,strata =\"treatment\", data=PSmatching_data)\n",
    "\n",
    "print(TableOne_daily, nonnormal = c(\"age\",\"pim2\",\"pelod\",\"OI\",\"ventilation_free_day\",\"picu_free_days\"), contDigits = 1, catDigits = 1, pDigits = 4, smd = TRUE,testName=TRUE)\n",
    "#non parametric KruskalWalli test for PICU free days\n"
   ]
  },
  {
   "cell_type": "code",
   "execution_count": null,
   "metadata": {},
   "outputs": [],
   "source": [
    "####################################################\n",
    "#Subgroup Analysis: Drop one out method on daily matching\n",
    "####################################################\n",
    "#unique(mydata$hospital_number)\n",
    "\n",
    "############### Drop hospital 4 out from data ##############\n",
    "\n",
    "\n",
    "\n",
    "\n",
    "\n",
    "var_list<-c(\"age\",\"pim2\",\"pelod\",\"female\",\"p_bloodculture\",\"comorbidity\",\"MODS\",\"rf_pneumonia\",'rf_sepsis','rf_aspiration',\n",
    "            'rf_transfusion','rf_trauma','rf_drowning',\"OI\")\n",
    "\n",
    "\n",
    "gen_treat_data<-data.frame(mydata)\n",
    "df_not<-gen_treat_data[gen_treat_data$hospital_number!=4,]\n",
    "pop_size<-length(df_not[,1])\n",
    "#str(gen_treat_data)\n",
    "force_exact<-c(rep(0, 13),1)\n",
    "gen.out<-GenMatch(Tr=df_not$treatment,X=df_not[,var_list], pop.size=pop_size,replace=FALSE,exact=force_exact,distance.tolerance=5.0,print.level=0)\n",
    "m.out<-Match(Tr=df_not$treatment, X=df_not[,var_list], estimand = \"ATT\", M = 1,\n",
    "             exact =force_exact,distance.tolerance=5.0, caliper = NULL, replace=TRUE, ties=FALSE,\n",
    "             Weight.matrix = gen.out\n",
    "            )\n",
    "summary(m.out)\n",
    "\n",
    "matchedID_hfv<-df_not[m.out$index.treated,\"ID\"]\n",
    "matchedID_non_hfv<-df_not[m.out$index.control,\"ID\"]\n",
    "hfv<-df_not[match(matchedID_hfv,df_not$ID),]\n",
    "non_hfv<-df_not[match(matchedID_non_hfv,df_not$ID),]\n",
    "\n",
    "\n",
    "#paired t-test for ventilator free days\n",
    "diffy<-hfv$ventilation_free_day-non_hfv$ventilation_free_day\n",
    "t.test(diffy)\n",
    "#paired t-test for picu free days\n",
    "diffy1<-hfv$picu_free_days-non_hfv$picu_free_days\n",
    "t.test(diffy1)\n",
    "\n",
    "#McNemar test for 100 day mortality\n",
    "mcnemar.test(hfv$mort_100day, non_hfv$mort_100day)\n",
    "\n",
    "#calculate n% of 100 day mortality for matched cohort\n",
    "print(\"Non-HFOV group 100day mortality n:\")\n",
    "length(non_hfv$ID[non_hfv$mort_100day==1])\n",
    "print(\"%:\")\n",
    "length(non_hfv$ID[non_hfv$mort_100day==1])/length(matchedID_hfv)\n",
    "print(\"HFOV group 100day mortality n:\")\n",
    "length(hfv$ID[hfv$mort_100day==1])\n",
    "print(\"%:\")\n",
    "length(hfv$ID[hfv$mort_100day==1])/length(matchedID_hfv)\n",
    "\n",
    "#calculate n% of 28 day mortality for matched cohort\n",
    "print(\"Non-HFOV group 28day mortality n:\")\n",
    "length(non_hfv$ID[non_hfv$mortality_28day==1])\n",
    "print(\"%:\")\n",
    "length(non_hfv$ID[non_hfv$mortality_28day==1])/length(matchedID_hfv)\n",
    "print(\"HFOV group 28day mortality n:\")\n",
    "length(hfv$ID[hfv$mortality_28day==1])\n",
    "print(\"%:\")\n",
    "length(hfv$ID[hfv$mortality_28day==1])/length(matchedID_hfv)\n",
    "\n",
    "#McNemar test for 28-day mortality\n",
    "#y_treatment<-hfv$mortality_28day[hfv$treatment==1] \n",
    "#y_control<-non_hfv$mortality_28day[non_hfv$treatment==0] \n",
    "#table(y_treatment,y_control)\n",
    "mcnemar.test(hfv$mortality_28day, non_hfv$mortality_28day)\n",
    "\n",
    "#calculate odds ratio for 28-day mortality\n",
    "########## calculate Odd's ratio here!\n",
    "a<-sum(hfv$mortality_28day==1)\n",
    "b<-sum(non_hfv$mortality_28day==1)\n",
    "c<-sum(hfv$mortality_28day==0)\n",
    "d<-sum(non_hfv$mortality_28day==0)\n",
    "# c<-length(hfv[hfv$died_in_ICU==0,1])\n",
    "# d<-length(non_hfv[non_hfv$died_in_ICU==0,1])\n",
    "print(c(a,b,c,d))\n",
    "a/(a+c)\n",
    "b/(b+d)\n",
    "oddsratio(matrix(c(a,b,c,d), ncol=2, nrow=2))\n",
    "\n",
    "#Table1 for matching pairs\n",
    "\n",
    "PSmatching_data<-rbind(hfv,non_hfv)\n",
    "#PSmatching_data<-read.csv(\"PS_matching_data_significant_result.csv\")\n",
    "head(PSmatching_data)\n",
    "\n",
    "\n",
    "xvars<-c(\"female\",\"age\",\"pim2\",\"pelod\",\"p_bloodculture\",\"MODS\",\"comorbidity\",\"rf_pneumonia\",\"rf_sepsis\",\"rf_aspiration\" , \"rf_transfusion\", \"rf_trauma\",\"rf_drowning\",\n",
    "         \"OI\",\"OI_cat\",\"ventilation_free_day\",\"picu_free_days\",\"mortality_28day\",\"mort_100day\",\"died_in_ICU\")\n",
    "catvars<-c(\"female\",\"p_bloodculture\",\"comorbidity\",\"rf_pneumonia\",\"rf_sepsis\",\"rf_aspiration\" , \"rf_transfusion\", \n",
    "           \"rf_drowning\",\"rf_trauma\",\"MODS\",\"OI_cat\",\"mortality_28day\",\"mort_100day\",\"died_in_ICU\")\n",
    "\n",
    "\n",
    "TableOne_daily<-CreateTableOne(var = xvars, factorVars =catvars,strata =\"treatment\", data=PSmatching_data)\n",
    "\n",
    "print(TableOne_daily, nonnormal = c(\"age\",\"pim2\",\"pelod\",\"OI\",\"ventilation_free_day\",\"picu_free_days\"), contDigits = 1, catDigits = 1, pDigits = 4, smd = TRUE,testName=TRUE)\n",
    "#non parametric KruskalWalli test for PICU free days\n"
   ]
  },
  {
   "cell_type": "code",
   "execution_count": null,
   "metadata": {},
   "outputs": [],
   "source": [
    "####################################################\n",
    "#Subgroup Analysis: Drop one out method on daily matching\n",
    "####################################################\n",
    "#unique(mydata$hospital_number)\n",
    "\n",
    "############### Drop hospital 6 out from data ##############\n",
    "\n",
    "\n",
    "\n",
    "\n",
    "\n",
    "var_list<-c(\"age\",\"pim2\",\"pelod\",\"female\",\"p_bloodculture\",\"comorbidity\",\"MODS\",\"rf_pneumonia\",'rf_sepsis','rf_aspiration',\n",
    "            'rf_transfusion','rf_trauma','rf_drowning',\"OI\")\n",
    "\n",
    "\n",
    "gen_treat_data<-data.frame(mydata)\n",
    "df_not<-gen_treat_data[gen_treat_data$hospital_number!=6,]\n",
    "pop_size<-length(df_not[,1])\n",
    "#str(gen_treat_data)\n",
    "force_exact<-c(rep(0, 13),1)\n",
    "gen.out<-GenMatch(Tr=df_not$treatment,X=df_not[,var_list], pop.size=pop_size,replace=FALSE,exact=force_exact,distance.tolerance=4.0,print.level=0)\n",
    "m.out<-Match(Tr=df_not$treatment, X=df_not[,var_list], estimand = \"ATT\", M = 1,\n",
    "             exact =force_exact,distance.tolerance=4.0, caliper = NULL, replace=TRUE, ties=FALSE,\n",
    "             Weight.matrix = gen.out\n",
    "            )\n",
    "summary(m.out)\n",
    "\n",
    "matchedID_hfv<-df_not[m.out$index.treated,\"ID\"]\n",
    "matchedID_non_hfv<-df_not[m.out$index.control,\"ID\"]\n",
    "hfv<-df_not[match(matchedID_hfv,df_not$ID),]\n",
    "non_hfv<-df_not[match(matchedID_non_hfv,df_not$ID),]\n",
    "\n",
    "\n",
    "#paired t-test for ventilator free days\n",
    "diffy<-hfv$ventilation_free_day-non_hfv$ventilation_free_day\n",
    "t.test(diffy)\n",
    "#paired t-test for picu free days\n",
    "diffy1<-hfv$picu_free_days-non_hfv$picu_free_days\n",
    "t.test(diffy1)\n",
    "\n",
    "#McNemar test for 100 day mortality\n",
    "mcnemar.test(hfv$mort_100day, non_hfv$mort_100day)\n",
    "\n",
    "#calculate n% of 100 day mortality for matched cohort\n",
    "print(\"Non-HFOV group 100day mortality n:\")\n",
    "length(non_hfv$ID[non_hfv$mort_100day==1])\n",
    "print(\"%:\")\n",
    "length(non_hfv$ID[non_hfv$mort_100day==1])/length(matchedID_hfv)\n",
    "print(\"HFOV group 100day mortality n:\")\n",
    "length(hfv$ID[hfv$mort_100day==1])\n",
    "print(\"%:\")\n",
    "length(hfv$ID[hfv$mort_100day==1])/length(matchedID_hfv)\n",
    "\n",
    "#calculate n% of 28 day mortality for matched cohort\n",
    "print(\"Non-HFOV group 28day mortality n:\")\n",
    "length(non_hfv$ID[non_hfv$mortality_28day==1])\n",
    "print(\"%:\")\n",
    "length(non_hfv$ID[non_hfv$mortality_28day==1])/length(matchedID_hfv)\n",
    "print(\"HFOV group 28day mortality n:\")\n",
    "length(hfv$ID[hfv$mortality_28day==1])\n",
    "print(\"%:\")\n",
    "length(hfv$ID[hfv$mortality_28day==1])/length(matchedID_hfv)\n",
    "\n",
    "#McNemar test for 28-day mortality\n",
    "#y_treatment<-hfv$mortality_28day[hfv$treatment==1] \n",
    "#y_control<-non_hfv$mortality_28day[non_hfv$treatment==0] \n",
    "#table(y_treatment,y_control)\n",
    "mcnemar.test(hfv$mortality_28day, non_hfv$mortality_28day)\n",
    "\n",
    "#calculate odds ratio for 28-day mortality\n",
    "########## calculate Odd's ratio here!\n",
    "a<-sum(hfv$mortality_28day==1)\n",
    "b<-sum(non_hfv$mortality_28day==1)\n",
    "c<-sum(hfv$mortality_28day==0)\n",
    "d<-sum(non_hfv$mortality_28day==0)\n",
    "# c<-length(hfv[hfv$died_in_ICU==0,1])\n",
    "# d<-length(non_hfv[non_hfv$died_in_ICU==0,1])\n",
    "print(c(a,b,c,d))\n",
    "a/(a+c)\n",
    "b/(b+d)\n",
    "oddsratio(matrix(c(a,b,c,d), ncol=2, nrow=2))\n",
    "\n",
    "#Table1 for matching pairs\n",
    "\n",
    "PSmatching_data<-rbind(hfv,non_hfv)\n",
    "#PSmatching_data<-read.csv(\"PS_matching_data_significant_result.csv\")\n",
    "head(PSmatching_data)\n",
    "\n",
    "\n",
    "xvars<-c(\"female\",\"age\",\"pim2\",\"pelod\",\"p_bloodculture\",\"MODS\",\"comorbidity\",\"rf_pneumonia\",\"rf_sepsis\",\"rf_aspiration\" , \"rf_transfusion\", \"rf_trauma\",\"rf_drowning\",\n",
    "         \"OI\",\"OI_cat\",\"ventilation_free_day\",\"picu_free_days\",\"mortality_28day\",\"mort_100day\",\"died_in_ICU\")\n",
    "catvars<-c(\"female\",\"p_bloodculture\",\"comorbidity\",\"rf_pneumonia\",\"rf_sepsis\",\"rf_aspiration\" , \"rf_transfusion\", \n",
    "           \"rf_drowning\",\"rf_trauma\",\"MODS\",\"OI_cat\",\"mortality_28day\",\"mort_100day\",\"died_in_ICU\")\n",
    "\n",
    "\n",
    "TableOne_daily<-CreateTableOne(var = xvars, factorVars =catvars,strata =\"treatment\", data=PSmatching_data)\n",
    "\n",
    "print(TableOne_daily, nonnormal = c(\"age\",\"pim2\",\"pelod\",\"OI\",\"ventilation_free_day\",\"picu_free_days\"), contDigits = 1, catDigits = 1, pDigits = 4, smd = TRUE,testName=TRUE)\n",
    "#non parametric KruskalWalli test for PICU free days\n"
   ]
  },
  {
   "cell_type": "code",
   "execution_count": null,
   "metadata": {},
   "outputs": [],
   "source": [
    "####################################################\n",
    "#Subgroup Analysis: Drop one out method on daily matching\n",
    "####################################################\n",
    "#unique(mydata$hospital_number)\n",
    "\n",
    "############### Drop hospital 6 out from data ##############\n",
    "\n",
    "\n",
    "\n",
    "\n",
    "\n",
    "var_list<-c(\"age\",\"pim2\",\"pelod\",\"female\",\"p_bloodculture\",\"comorbidity\",\"MODS\",\"rf_pneumonia\",'rf_sepsis','rf_aspiration',\n",
    "            'rf_transfusion','rf_trauma','rf_drowning',\"OI\")\n",
    "\n",
    "\n",
    "gen_treat_data<-data.frame(mydata)\n",
    "df_not<-gen_treat_data[gen_treat_data$hospital_number!=6,]\n",
    "pop_size<-length(df_not[,1])\n",
    "#str(gen_treat_data)\n",
    "force_exact<-c(rep(0, 13),1)\n",
    "gen.out<-GenMatch(Tr=df_not$treatment,X=df_not[,var_list], pop.size=pop_size,replace=FALSE,exact=force_exact,distance.tolerance=4.0,print.level=0)\n",
    "m.out<-Match(Tr=df_not$treatment, X=df_not[,var_list], estimand = \"ATT\", M = 1,\n",
    "             exact =force_exact,distance.tolerance=4.0, caliper = NULL, replace=TRUE, ties=FALSE,\n",
    "             Weight.matrix = gen.out\n",
    "            )\n",
    "summary(m.out)\n",
    "\n",
    "matchedID_hfv<-df_not[m.out$index.treated,\"ID\"]\n",
    "matchedID_non_hfv<-df_not[m.out$index.control,\"ID\"]\n",
    "hfv<-df_not[match(matchedID_hfv,df_not$ID),]\n",
    "non_hfv<-df_not[match(matchedID_non_hfv,df_not$ID),]\n",
    "\n",
    "\n",
    "#paired t-test for ventilator free days\n",
    "diffy<-hfv$ventilation_free_day-non_hfv$ventilation_free_day\n",
    "t.test(diffy)\n",
    "#paired t-test for picu free days\n",
    "diffy1<-hfv$picu_free_days-non_hfv$picu_free_days\n",
    "t.test(diffy1)\n",
    "\n",
    "#McNemar test for 100 day mortality\n",
    "mcnemar.test(hfv$mort_100day, non_hfv$mort_100day)\n",
    "\n",
    "#calculate n% of 100 day mortality for matched cohort\n",
    "print(\"Non-HFOV group 100day mortality n:\")\n",
    "length(non_hfv$ID[non_hfv$mort_100day==1])\n",
    "print(\"%:\")\n",
    "length(non_hfv$ID[non_hfv$mort_100day==1])/length(matchedID_hfv)\n",
    "print(\"HFOV group 100day mortality n:\")\n",
    "length(hfv$ID[hfv$mort_100day==1])\n",
    "print(\"%:\")\n",
    "length(hfv$ID[hfv$mort_100day==1])/length(matchedID_hfv)\n",
    "\n",
    "#calculate n% of 28 day mortality for matched cohort\n",
    "print(\"Non-HFOV group 28day mortality n:\")\n",
    "length(non_hfv$ID[non_hfv$mortality_28day==1])\n",
    "print(\"%:\")\n",
    "length(non_hfv$ID[non_hfv$mortality_28day==1])/length(matchedID_hfv)\n",
    "print(\"HFOV group 28day mortality n:\")\n",
    "length(hfv$ID[hfv$mortality_28day==1])\n",
    "print(\"%:\")\n",
    "length(hfv$ID[hfv$mortality_28day==1])/length(matchedID_hfv)\n",
    "\n",
    "#McNemar test for 28-day mortality\n",
    "#y_treatment<-hfv$mortality_28day[hfv$treatment==1] \n",
    "#y_control<-non_hfv$mortality_28day[non_hfv$treatment==0] \n",
    "#table(y_treatment,y_control)\n",
    "mcnemar.test(hfv$mortality_28day, non_hfv$mortality_28day)\n",
    "\n",
    "#calculate odds ratio for 28-day mortality\n",
    "########## calculate Odd's ratio here!\n",
    "a<-sum(hfv$mortality_28day==1)\n",
    "b<-sum(non_hfv$mortality_28day==1)\n",
    "c<-sum(hfv$mortality_28day==0)\n",
    "d<-sum(non_hfv$mortality_28day==0)\n",
    "# c<-length(hfv[hfv$died_in_ICU==0,1])\n",
    "# d<-length(non_hfv[non_hfv$died_in_ICU==0,1])\n",
    "print(c(a,b,c,d))\n",
    "a/(a+c)\n",
    "b/(b+d)\n",
    "oddsratio(matrix(c(a,b,c,d), ncol=2, nrow=2))\n",
    "\n",
    "#Table1 for matching pairs\n",
    "\n",
    "PSmatching_data<-rbind(hfv,non_hfv)\n",
    "#PSmatching_data<-read.csv(\"PS_matching_data_significant_result.csv\")\n",
    "head(PSmatching_data)\n",
    "\n",
    "\n",
    "xvars<-c(\"female\",\"age\",\"pim2\",\"pelod\",\"p_bloodculture\",\"MODS\",\"comorbidity\",\"rf_pneumonia\",\"rf_sepsis\",\"rf_aspiration\" , \"rf_transfusion\", \"rf_trauma\",\"rf_drowning\",\n",
    "         \"OI\",\"OI_cat\",\"ventilation_free_day\",\"picu_free_days\",\"mortality_28day\",\"mort_100day\",\"died_in_ICU\")\n",
    "catvars<-c(\"female\",\"p_bloodculture\",\"comorbidity\",\"rf_pneumonia\",\"rf_sepsis\",\"rf_aspiration\" , \"rf_transfusion\", \n",
    "           \"rf_drowning\",\"rf_trauma\",\"MODS\",\"OI_cat\",\"mortality_28day\",\"mort_100day\",\"died_in_ICU\")\n",
    "\n",
    "\n",
    "TableOne_daily<-CreateTableOne(var = xvars, factorVars =catvars,strata =\"treatment\", data=PSmatching_data)\n",
    "\n",
    "print(TableOne_daily, nonnormal = c(\"age\",\"pim2\",\"pelod\",\"OI\",\"ventilation_free_day\",\"picu_free_days\"), contDigits = 1, catDigits = 1, pDigits = 4, smd = TRUE,testName=TRUE)\n",
    "#non parametric KruskalWalli test for PICU free days\n"
   ]
  },
  {
   "cell_type": "code",
   "execution_count": null,
   "metadata": {},
   "outputs": [],
   "source": [
    "####################################################\n",
    "#Subgroup Analysis: Drop one out method on daily matching\n",
    "####################################################\n",
    "#unique(mydata$hospital_number)\n",
    "\n",
    "############### Drop hospital 7 out from data ##############\n",
    "\n",
    "\n",
    "\n",
    "\n",
    "\n",
    "var_list<-c(\"age\",\"pim2\",\"pelod\",\"female\",\"p_bloodculture\",\"comorbidity\",\"MODS\",\"rf_pneumonia\",'rf_sepsis','rf_aspiration',\n",
    "            'rf_transfusion','rf_trauma','rf_drowning',\"OI\")\n",
    "\n",
    "\n",
    "gen_treat_data<-data.frame(mydata)\n",
    "df_not<-gen_treat_data[gen_treat_data$hospital_number!=7,]\n",
    "pop_size<-length(df_not[,1])\n",
    "#str(gen_treat_data)\n",
    "force_exact<-c(rep(0, 13),1)\n",
    "gen.out<-GenMatch(Tr=df_not$treatment,X=df_not[,var_list], pop.size=pop_size,replace=FALSE,exact=force_exact,distance.tolerance=5.0,print.level=0)\n",
    "m.out<-Match(Tr=df_not$treatment, X=df_not[,var_list], estimand = \"ATT\", M = 1,\n",
    "             exact =force_exact,distance.tolerance=4.0, caliper = NULL, replace=TRUE, ties=FALSE,\n",
    "             Weight.matrix = gen.out\n",
    "            )\n",
    "summary(m.out)\n",
    "\n",
    "matchedID_hfv<-df_not[m.out$index.treated,\"ID\"]\n",
    "matchedID_non_hfv<-df_not[m.out$index.control,\"ID\"]\n",
    "hfv<-df_not[match(matchedID_hfv,df_not$ID),]\n",
    "non_hfv<-df_not[match(matchedID_non_hfv,df_not$ID),]\n",
    "\n",
    "\n",
    "#paired t-test for ventilator free days\n",
    "diffy<-hfv$ventilation_free_day-non_hfv$ventilation_free_day\n",
    "t.test(diffy)\n",
    "#paired t-test for picu free days\n",
    "diffy1<-hfv$picu_free_days-non_hfv$picu_free_days\n",
    "t.test(diffy1)\n",
    "\n",
    "#McNemar test for 100 day mortality\n",
    "mcnemar.test(hfv$mort_100day, non_hfv$mort_100day)\n",
    "\n",
    "#calculate n% of 100 day mortality for matched cohort\n",
    "print(\"Non-HFOV group 100day mortality n:\")\n",
    "length(non_hfv$ID[non_hfv$mort_100day==1])\n",
    "print(\"%:\")\n",
    "length(non_hfv$ID[non_hfv$mort_100day==1])/length(matchedID_hfv)\n",
    "print(\"HFOV group 100day mortality n:\")\n",
    "length(hfv$ID[hfv$mort_100day==1])\n",
    "print(\"%:\")\n",
    "length(hfv$ID[hfv$mort_100day==1])/length(matchedID_hfv)\n",
    "\n",
    "#calculate n% of 28 day mortality for matched cohort\n",
    "print(\"Non-HFOV group 28day mortality n:\")\n",
    "length(non_hfv$ID[non_hfv$mortality_28day==1])\n",
    "print(\"%:\")\n",
    "length(non_hfv$ID[non_hfv$mortality_28day==1])/length(matchedID_hfv)\n",
    "print(\"HFOV group 28day mortality n:\")\n",
    "length(hfv$ID[hfv$mortality_28day==1])\n",
    "print(\"%:\")\n",
    "length(hfv$ID[hfv$mortality_28day==1])/length(matchedID_hfv)\n",
    "\n",
    "#McNemar test for 28-day mortality\n",
    "#y_treatment<-hfv$mortality_28day[hfv$treatment==1] \n",
    "#y_control<-non_hfv$mortality_28day[non_hfv$treatment==0] \n",
    "#table(y_treatment,y_control)\n",
    "mcnemar.test(hfv$mortality_28day, non_hfv$mortality_28day)\n",
    "\n",
    "#calculate odds ratio for 28-day mortality\n",
    "########## calculate Odd's ratio here!\n",
    "a<-sum(hfv$mortality_28day==1)\n",
    "b<-sum(non_hfv$mortality_28day==1)\n",
    "c<-sum(hfv$mortality_28day==0)\n",
    "d<-sum(non_hfv$mortality_28day==0)\n",
    "# c<-length(hfv[hfv$died_in_ICU==0,1])\n",
    "# d<-length(non_hfv[non_hfv$died_in_ICU==0,1])\n",
    "print(c(a,b,c,d))\n",
    "a/(a+c)\n",
    "b/(b+d)\n",
    "oddsratio(matrix(c(a,b,c,d), ncol=2, nrow=2))\n",
    "\n",
    "#Table1 for matching pairs\n",
    "\n",
    "PSmatching_data<-rbind(hfv,non_hfv)\n",
    "#PSmatching_data<-read.csv(\"PS_matching_data_significant_result.csv\")\n",
    "head(PSmatching_data)\n",
    "\n",
    "\n",
    "xvars<-c(\"female\",\"age\",\"pim2\",\"pelod\",\"p_bloodculture\",\"MODS\",\"comorbidity\",\"rf_pneumonia\",\"rf_sepsis\",\"rf_aspiration\" , \"rf_transfusion\", \"rf_trauma\",\"rf_drowning\",\n",
    "         \"OI\",\"OI_cat\",\"ventilation_free_day\",\"picu_free_days\",\"mortality_28day\",\"mort_100day\",\"died_in_ICU\")\n",
    "catvars<-c(\"female\",\"p_bloodculture\",\"comorbidity\",\"rf_pneumonia\",\"rf_sepsis\",\"rf_aspiration\" , \"rf_transfusion\", \n",
    "           \"rf_drowning\",\"rf_trauma\",\"MODS\",\"OI_cat\",\"mortality_28day\",\"mort_100day\",\"died_in_ICU\")\n",
    "\n",
    "\n",
    "TableOne_daily<-CreateTableOne(var = xvars, factorVars =catvars,strata =\"treatment\", data=PSmatching_data)\n",
    "\n",
    "print(TableOne_daily, nonnormal = c(\"age\",\"pim2\",\"pelod\",\"OI\",\"ventilation_free_day\",\"picu_free_days\"), contDigits = 1, catDigits = 1, pDigits = 4, smd = TRUE,testName=TRUE)\n",
    "#non parametric KruskalWalli test for PICU free days\n"
   ]
  },
  {
   "cell_type": "code",
   "execution_count": null,
   "metadata": {},
   "outputs": [],
   "source": [
    "####################################################\n",
    "#Subgroup Analysis: Drop one out method on daily matching\n",
    "####################################################\n",
    "#unique(mydata$hospital_number)\n",
    "\n",
    "############### Drop hospital 8 out from data ##############\n",
    "\n",
    "\n",
    "\n",
    "\n",
    "\n",
    "var_list<-c(\"age\",\"pim2\",\"pelod\",\"female\",\"p_bloodculture\",\"comorbidity\",\"MODS\",\"rf_pneumonia\",'rf_sepsis','rf_aspiration',\n",
    "            'rf_transfusion','rf_trauma','rf_drowning',\"OI\")\n",
    "\n",
    "\n",
    "gen_treat_data<-data.frame(mydata)\n",
    "df_not<-gen_treat_data[gen_treat_data$hospital_number!=8,]\n",
    "pop_size<-length(df_not[,1])\n",
    "#str(gen_treat_data)\n",
    "force_exact<-c(rep(0, 13),1)\n",
    "gen.out<-GenMatch(Tr=df_not$treatment,X=df_not[,var_list], pop.size=pop_size,replace=FALSE,exact=force_exact,distance.tolerance=5.0,print.level=0)\n",
    "m.out<-Match(Tr=df_not$treatment, X=df_not[,var_list], estimand = \"ATT\", M = 1,\n",
    "             exact =force_exact,distance.tolerance=5.0, caliper = NULL, replace=TRUE, ties=FALSE,\n",
    "             Weight.matrix = gen.out\n",
    "            )\n",
    "summary(m.out)\n",
    "\n",
    "matchedID_hfv<-df_not[m.out$index.treated,\"ID\"]\n",
    "matchedID_non_hfv<-df_not[m.out$index.control,\"ID\"]\n",
    "hfv<-df_not[match(matchedID_hfv,df_not$ID),]\n",
    "non_hfv<-df_not[match(matchedID_non_hfv,df_not$ID),]\n",
    "\n",
    "\n",
    "#paired t-test for ventilator free days\n",
    "diffy<-hfv$ventilation_free_day-non_hfv$ventilation_free_day\n",
    "t.test(diffy)\n",
    "#paired t-test for picu free days\n",
    "diffy1<-hfv$picu_free_days-non_hfv$picu_free_days\n",
    "t.test(diffy1)\n",
    "\n",
    "#McNemar test for 100 day mortality\n",
    "mcnemar.test(hfv$mort_100day, non_hfv$mort_100day)\n",
    "\n",
    "#calculate n% of 100 day mortality for matched cohort\n",
    "print(\"Non-HFOV group 100day mortality n:\")\n",
    "length(non_hfv$ID[non_hfv$mort_100day==1])\n",
    "print(\"%:\")\n",
    "length(non_hfv$ID[non_hfv$mort_100day==1])/length(matchedID_hfv)\n",
    "print(\"HFOV group 100day mortality n:\")\n",
    "length(hfv$ID[hfv$mort_100day==1])\n",
    "print(\"%:\")\n",
    "length(hfv$ID[hfv$mort_100day==1])/length(matchedID_hfv)\n",
    "\n",
    "#calculate n% of 28 day mortality for matched cohort\n",
    "print(\"Non-HFOV group 28day mortality n:\")\n",
    "length(non_hfv$ID[non_hfv$mortality_28day==1])\n",
    "print(\"%:\")\n",
    "length(non_hfv$ID[non_hfv$mortality_28day==1])/length(matchedID_hfv)\n",
    "print(\"HFOV group 28day mortality n:\")\n",
    "length(hfv$ID[hfv$mortality_28day==1])\n",
    "print(\"%:\")\n",
    "length(hfv$ID[hfv$mortality_28day==1])/length(matchedID_hfv)\n",
    "\n",
    "#McNemar test for 28-day mortality\n",
    "#y_treatment<-hfv$mortality_28day[hfv$treatment==1] \n",
    "#y_control<-non_hfv$mortality_28day[non_hfv$treatment==0] \n",
    "#table(y_treatment,y_control)\n",
    "mcnemar.test(hfv$mortality_28day, non_hfv$mortality_28day)\n",
    "\n",
    "#calculate odds ratio for 28-day mortality\n",
    "########## calculate Odd's ratio here!\n",
    "a<-sum(hfv$mortality_28day==1)\n",
    "b<-sum(non_hfv$mortality_28day==1)\n",
    "c<-sum(hfv$mortality_28day==0)\n",
    "d<-sum(non_hfv$mortality_28day==0)\n",
    "# c<-length(hfv[hfv$died_in_ICU==0,1])\n",
    "# d<-length(non_hfv[non_hfv$died_in_ICU==0,1])\n",
    "print(c(a,b,c,d))\n",
    "a/(a+c)\n",
    "b/(b+d)\n",
    "oddsratio(matrix(c(a,b,c,d), ncol=2, nrow=2))\n",
    "\n",
    "#Table1 for matching pairs\n",
    "\n",
    "PSmatching_data<-rbind(hfv,non_hfv)\n",
    "#PSmatching_data<-read.csv(\"PS_matching_data_significant_result.csv\")\n",
    "head(PSmatching_data)\n",
    "\n",
    "\n",
    "xvars<-c(\"female\",\"age\",\"pim2\",\"pelod\",\"p_bloodculture\",\"MODS\",\"comorbidity\",\"rf_pneumonia\",\"rf_sepsis\",\"rf_aspiration\" , \"rf_transfusion\", \"rf_trauma\",\"rf_drowning\",\n",
    "         \"OI\",\"OI_cat\",\"ventilation_free_day\",\"picu_free_days\",\"mortality_28day\",\"mort_100day\",\"died_in_ICU\")\n",
    "catvars<-c(\"female\",\"p_bloodculture\",\"comorbidity\",\"rf_pneumonia\",\"rf_sepsis\",\"rf_aspiration\" , \"rf_transfusion\", \n",
    "           \"rf_drowning\",\"rf_trauma\",\"MODS\",\"OI_cat\",\"mortality_28day\",\"mort_100day\",\"died_in_ICU\")\n",
    "\n",
    "\n",
    "TableOne_daily<-CreateTableOne(var = xvars, factorVars =catvars,strata =\"treatment\", data=PSmatching_data)\n",
    "\n",
    "print(TableOne_daily, nonnormal = c(\"age\",\"pim2\",\"pelod\",\"OI\",\"ventilation_free_day\",\"picu_free_days\"), contDigits = 1, catDigits = 1, pDigits = 4, smd = TRUE,testName=TRUE)\n",
    "#non parametric KruskalWalli test for PICU free days\n"
   ]
  },
  {
   "cell_type": "code",
   "execution_count": null,
   "metadata": {},
   "outputs": [],
   "source": [
    "####################################################\n",
    "#Subgroup Analysis: Drop one out method on daily matching\n",
    "####################################################\n",
    "#unique(mydata$hospital_number)\n",
    "\n",
    "############### Drop hospital 9 out from data ##############\n",
    "\n",
    "\n",
    "\n",
    "\n",
    "\n",
    "var_list<-c(\"age\",\"pim2\",\"pelod\",\"female\",\"p_bloodculture\",\"comorbidity\",\"MODS\",\"rf_pneumonia\",'rf_sepsis','rf_aspiration',\n",
    "            'rf_transfusion','rf_trauma','rf_drowning',\"OI\")\n",
    "\n",
    "\n",
    "gen_treat_data<-data.frame(mydata)\n",
    "df_not<-gen_treat_data[gen_treat_data$hospital_number!=9,]\n",
    "pop_size<-length(df_not[,1])\n",
    "#str(gen_treat_data)\n",
    "force_exact<-c(rep(0, 13),1)\n",
    "gen.out<-GenMatch(Tr=df_not$treatment,X=df_not[,var_list], pop.size=pop_size,replace=FALSE,exact=force_exact,distance.tolerance=5.0,print.level=0)\n",
    "m.out<-Match(Tr=df_not$treatment, X=df_not[,var_list], estimand = \"ATT\", M = 1,\n",
    "             exact =force_exact,distance.tolerance=5.0, caliper = NULL, replace=TRUE, ties=FALSE,\n",
    "             Weight.matrix = gen.out\n",
    "            )\n",
    "summary(m.out)\n",
    "\n",
    "matchedID_hfv<-df_not[m.out$index.treated,\"ID\"]\n",
    "matchedID_non_hfv<-df_not[m.out$index.control,\"ID\"]\n",
    "hfv<-df_not[match(matchedID_hfv,df_not$ID),]\n",
    "non_hfv<-df_not[match(matchedID_non_hfv,df_not$ID),]\n",
    "\n",
    "\n",
    "#paired t-test for ventilator free days\n",
    "diffy<-hfv$ventilation_free_day-non_hfv$ventilation_free_day\n",
    "t.test(diffy)\n",
    "#paired t-test for picu free days\n",
    "diffy1<-hfv$picu_free_days-non_hfv$picu_free_days\n",
    "t.test(diffy1)\n",
    "\n",
    "#McNemar test for 100 day mortality\n",
    "mcnemar.test(hfv$mort_100day, non_hfv$mort_100day)\n",
    "\n",
    "#calculate n% of 100 day mortality for matched cohort\n",
    "print(\"Non-HFOV group 100day mortality n:\")\n",
    "length(non_hfv$ID[non_hfv$mort_100day==1])\n",
    "print(\"%:\")\n",
    "length(non_hfv$ID[non_hfv$mort_100day==1])/length(matchedID_hfv)\n",
    "print(\"HFOV group 100day mortality n:\")\n",
    "length(hfv$ID[hfv$mort_100day==1])\n",
    "print(\"%:\")\n",
    "length(hfv$ID[hfv$mort_100day==1])/length(matchedID_hfv)\n",
    "\n",
    "#calculate n% of 28 day mortality for matched cohort\n",
    "print(\"Non-HFOV group 28day mortality n:\")\n",
    "length(non_hfv$ID[non_hfv$mortality_28day==1])\n",
    "print(\"%:\")\n",
    "length(non_hfv$ID[non_hfv$mortality_28day==1])/length(matchedID_hfv)\n",
    "print(\"HFOV group 28day mortality n:\")\n",
    "length(hfv$ID[hfv$mortality_28day==1])\n",
    "print(\"%:\")\n",
    "length(hfv$ID[hfv$mortality_28day==1])/length(matchedID_hfv)\n",
    "\n",
    "#McNemar test for 28-day mortality\n",
    "#y_treatment<-hfv$mortality_28day[hfv$treatment==1] \n",
    "#y_control<-non_hfv$mortality_28day[non_hfv$treatment==0] \n",
    "#table(y_treatment,y_control)\n",
    "mcnemar.test(hfv$mortality_28day, non_hfv$mortality_28day)\n",
    "\n",
    "#calculate odds ratio for 28-day mortality\n",
    "########## calculate Odd's ratio here!\n",
    "a<-sum(hfv$mortality_28day==1)\n",
    "b<-sum(non_hfv$mortality_28day==1)\n",
    "c<-sum(hfv$mortality_28day==0)\n",
    "d<-sum(non_hfv$mortality_28day==0)\n",
    "# c<-length(hfv[hfv$died_in_ICU==0,1])\n",
    "# d<-length(non_hfv[non_hfv$died_in_ICU==0,1])\n",
    "print(c(a,b,c,d))\n",
    "a/(a+c)\n",
    "b/(b+d)\n",
    "oddsratio(matrix(c(a,b,c,d), ncol=2, nrow=2))\n",
    "\n",
    "#Table1 for matching pairs\n",
    "\n",
    "PSmatching_data<-rbind(hfv,non_hfv)\n",
    "#PSmatching_data<-read.csv(\"PS_matching_data_significant_result.csv\")\n",
    "head(PSmatching_data)\n",
    "\n",
    "\n",
    "xvars<-c(\"female\",\"age\",\"pim2\",\"pelod\",\"p_bloodculture\",\"MODS\",\"comorbidity\",\"rf_pneumonia\",\"rf_sepsis\",\"rf_aspiration\" , \"rf_transfusion\", \"rf_trauma\",\"rf_drowning\",\n",
    "         \"OI\",\"OI_cat\",\"ventilation_free_day\",\"picu_free_days\",\"mortality_28day\",\"mort_100day\",\"died_in_ICU\")\n",
    "catvars<-c(\"female\",\"p_bloodculture\",\"comorbidity\",\"rf_pneumonia\",\"rf_sepsis\",\"rf_aspiration\" , \"rf_transfusion\", \n",
    "           \"rf_drowning\",\"rf_trauma\",\"MODS\",\"OI_cat\",\"mortality_28day\",\"mort_100day\",\"died_in_ICU\")\n",
    "\n",
    "\n",
    "TableOne_daily<-CreateTableOne(var = xvars, factorVars =catvars,strata =\"treatment\", data=PSmatching_data)\n",
    "\n",
    "print(TableOne_daily, nonnormal = c(\"age\",\"pim2\",\"pelod\",\"OI\",\"ventilation_free_day\",\"picu_free_days\"), contDigits = 1, catDigits = 1, pDigits = 4, smd = TRUE,testName=TRUE)\n",
    "#non parametric KruskalWalli test for PICU free days\n"
   ]
  },
  {
   "cell_type": "code",
   "execution_count": null,
   "metadata": {},
   "outputs": [],
   "source": [
    "####################################################\n",
    "#Subgroup Analysis: Drop one out method on daily matching\n",
    "####################################################\n",
    "#unique(mydata$hospital_number)\n",
    "\n",
    "############### Drop hospital 10 out from data ##############\n",
    "\n",
    "\n",
    "\n",
    "\n",
    "\n",
    "var_list<-c(\"age\",\"pim2\",\"pelod\",\"female\",\"p_bloodculture\",\"comorbidity\",\"MODS\",\"rf_pneumonia\",'rf_sepsis','rf_aspiration',\n",
    "            'rf_transfusion','rf_trauma','rf_drowning',\"OI\")\n",
    "\n",
    "\n",
    "gen_treat_data<-data.frame(mydata)\n",
    "df_not<-gen_treat_data[gen_treat_data$hospital_number!=10,]\n",
    "pop_size<-length(df_not[,1])\n",
    "#str(gen_treat_data)\n",
    "force_exact<-c(rep(0, 13),1)\n",
    "gen.out<-GenMatch(Tr=df_not$treatment,X=df_not[,var_list], pop.size=pop_size,replace=FALSE,exact=force_exact,distance.tolerance=5.0,print.level=0)\n",
    "m.out<-Match(Tr=df_not$treatment, X=df_not[,var_list], estimand = \"ATT\", M = 1,\n",
    "             exact =force_exact,distance.tolerance=5.0, caliper = NULL, replace=TRUE, ties=FALSE,\n",
    "             Weight.matrix = gen.out\n",
    "            )\n",
    "summary(m.out)\n",
    "\n",
    "matchedID_hfv<-df_not[m.out$index.treated,\"ID\"]\n",
    "matchedID_non_hfv<-df_not[m.out$index.control,\"ID\"]\n",
    "hfv<-df_not[match(matchedID_hfv,df_not$ID),]\n",
    "non_hfv<-df_not[match(matchedID_non_hfv,df_not$ID),]\n",
    "\n",
    "\n",
    "#paired t-test for ventilator free days\n",
    "diffy<-hfv$ventilation_free_day-non_hfv$ventilation_free_day\n",
    "t.test(diffy)\n",
    "#paired t-test for picu free days\n",
    "diffy1<-hfv$picu_free_days-non_hfv$picu_free_days\n",
    "t.test(diffy1)\n",
    "\n",
    "#McNemar test for 100 day mortality\n",
    "mcnemar.test(hfv$mort_100day, non_hfv$mort_100day)\n",
    "\n",
    "#calculate n% of 100 day mortality for matched cohort\n",
    "print(\"Non-HFOV group 100day mortality n:\")\n",
    "length(non_hfv$ID[non_hfv$mort_100day==1])\n",
    "print(\"%:\")\n",
    "length(non_hfv$ID[non_hfv$mort_100day==1])/length(matchedID_hfv)\n",
    "print(\"HFOV group 100day mortality n:\")\n",
    "length(hfv$ID[hfv$mort_100day==1])\n",
    "print(\"%:\")\n",
    "length(hfv$ID[hfv$mort_100day==1])/length(matchedID_hfv)\n",
    "\n",
    "#calculate n% of 28 day mortality for matched cohort\n",
    "print(\"Non-HFOV group 28day mortality n:\")\n",
    "length(non_hfv$ID[non_hfv$mortality_28day==1])\n",
    "print(\"%:\")\n",
    "length(non_hfv$ID[non_hfv$mortality_28day==1])/length(matchedID_hfv)\n",
    "print(\"HFOV group 28day mortality n:\")\n",
    "length(hfv$ID[hfv$mortality_28day==1])\n",
    "print(\"%:\")\n",
    "length(hfv$ID[hfv$mortality_28day==1])/length(matchedID_hfv)\n",
    "\n",
    "#McNemar test for 28-day mortality\n",
    "#y_treatment<-hfv$mortality_28day[hfv$treatment==1] \n",
    "#y_control<-non_hfv$mortality_28day[non_hfv$treatment==0] \n",
    "#table(y_treatment,y_control)\n",
    "mcnemar.test(hfv$mortality_28day, non_hfv$mortality_28day)\n",
    "\n",
    "#calculate odds ratio for 28-day mortality\n",
    "########## calculate Odd's ratio here!\n",
    "a<-sum(hfv$mortality_28day==1)\n",
    "b<-sum(non_hfv$mortality_28day==1)\n",
    "c<-sum(hfv$mortality_28day==0)\n",
    "d<-sum(non_hfv$mortality_28day==0)\n",
    "# c<-length(hfv[hfv$died_in_ICU==0,1])\n",
    "# d<-length(non_hfv[non_hfv$died_in_ICU==0,1])\n",
    "print(c(a,b,c,d))\n",
    "a/(a+c)\n",
    "b/(b+d)\n",
    "oddsratio(matrix(c(a,b,c,d), ncol=2, nrow=2))\n",
    "\n",
    "#Table1 for matching pairs\n",
    "\n",
    "PSmatching_data<-rbind(hfv,non_hfv)\n",
    "#PSmatching_data<-read.csv(\"PS_matching_data_significant_result.csv\")\n",
    "head(PSmatching_data)\n",
    "\n",
    "\n",
    "xvars<-c(\"female\",\"age\",\"pim2\",\"pelod\",\"p_bloodculture\",\"MODS\",\"comorbidity\",\"rf_pneumonia\",\"rf_sepsis\",\"rf_aspiration\" , \"rf_transfusion\", \"rf_trauma\",\"rf_drowning\",\n",
    "         \"OI\",\"OI_cat\",\"ventilation_free_day\",\"picu_free_days\",\"mortality_28day\",\"mort_100day\",\"died_in_ICU\")\n",
    "catvars<-c(\"female\",\"p_bloodculture\",\"comorbidity\",\"rf_pneumonia\",\"rf_sepsis\",\"rf_aspiration\" , \"rf_transfusion\", \n",
    "           \"rf_drowning\",\"rf_trauma\",\"MODS\",\"OI_cat\",\"mortality_28day\",\"mort_100day\",\"died_in_ICU\")\n",
    "\n",
    "\n",
    "TableOne_daily<-CreateTableOne(var = xvars, factorVars =catvars,strata =\"treatment\", data=PSmatching_data)\n",
    "\n",
    "print(TableOne_daily, nonnormal = c(\"age\",\"pim2\",\"pelod\",\"OI\",\"ventilation_free_day\",\"picu_free_days\"), contDigits = 1, catDigits = 1, pDigits = 4, smd = TRUE,testName=TRUE)\n",
    "#non parametric KruskalWalli test for PICU free days\n"
   ]
  },
  {
   "cell_type": "code",
   "execution_count": null,
   "metadata": {},
   "outputs": [],
   "source": [
    "####################################################\n",
    "#Subgroup Analysis: Drop one out method on daily matching\n",
    "####################################################\n",
    "#unique(mydata$hospital_number)\n",
    "\n",
    "############### Drop hospital 11 out from data ##############\n",
    "\n",
    "\n",
    "\n",
    "\n",
    "\n",
    "var_list<-c(\"age\",\"pim2\",\"pelod\",\"female\",\"p_bloodculture\",\"comorbidity\",\"MODS\",\"rf_pneumonia\",'rf_sepsis','rf_aspiration',\n",
    "            'rf_transfusion','rf_trauma','rf_drowning',\"OI\")\n",
    "\n",
    "\n",
    "gen_treat_data<-data.frame(mydata)\n",
    "df_not<-gen_treat_data[gen_treat_data$hospital_number!=11,]\n",
    "pop_size<-length(df_not[,1])\n",
    "#str(gen_treat_data)\n",
    "force_exact<-c(rep(0, 13),1)\n",
    "gen.out<-GenMatch(Tr=df_not$treatment,X=df_not[,var_list], pop.size=pop_size,replace=FALSE,exact=force_exact,distance.tolerance=4.0,print.level=0)\n",
    "m.out<-Match(Tr=df_not$treatment, X=df_not[,var_list], estimand = \"ATT\", M = 1,\n",
    "             exact =force_exact,distance.tolerance=4.0, caliper = NULL, replace=TRUE, ties=FALSE,\n",
    "             Weight.matrix = gen.out\n",
    "            )\n",
    "summary(m.out)\n",
    "\n",
    "matchedID_hfv<-df_not[m.out$index.treated,\"ID\"]\n",
    "matchedID_non_hfv<-df_not[m.out$index.control,\"ID\"]\n",
    "hfv<-df_not[match(matchedID_hfv,df_not$ID),]\n",
    "non_hfv<-df_not[match(matchedID_non_hfv,df_not$ID),]\n",
    "\n",
    "\n",
    "#paired t-test for ventilator free days\n",
    "diffy<-hfv$ventilation_free_day-non_hfv$ventilation_free_day\n",
    "t.test(diffy)\n",
    "#paired t-test for picu free days\n",
    "diffy1<-hfv$picu_free_days-non_hfv$picu_free_days\n",
    "t.test(diffy1)\n",
    "\n",
    "#McNemar test for 100 day mortality\n",
    "mcnemar.test(hfv$mort_100day, non_hfv$mort_100day)\n",
    "\n",
    "#calculate n% of 100 day mortality for matched cohort\n",
    "print(\"Non-HFOV group 100day mortality n:\")\n",
    "length(non_hfv$ID[non_hfv$mort_100day==1])\n",
    "print(\"%:\")\n",
    "length(non_hfv$ID[non_hfv$mort_100day==1])/length(matchedID_hfv)\n",
    "print(\"HFOV group 100day mortality n:\")\n",
    "length(hfv$ID[hfv$mort_100day==1])\n",
    "print(\"%:\")\n",
    "length(hfv$ID[hfv$mort_100day==1])/length(matchedID_hfv)\n",
    "\n",
    "#calculate n% of 28 day mortality for matched cohort\n",
    "print(\"Non-HFOV group 28day mortality n:\")\n",
    "length(non_hfv$ID[non_hfv$mortality_28day==1])\n",
    "print(\"%:\")\n",
    "length(non_hfv$ID[non_hfv$mortality_28day==1])/length(matchedID_hfv)\n",
    "print(\"HFOV group 28day mortality n:\")\n",
    "length(hfv$ID[hfv$mortality_28day==1])\n",
    "print(\"%:\")\n",
    "length(hfv$ID[hfv$mortality_28day==1])/length(matchedID_hfv)\n",
    "\n",
    "#McNemar test for 28-day mortality\n",
    "#y_treatment<-hfv$mortality_28day[hfv$treatment==1] \n",
    "#y_control<-non_hfv$mortality_28day[non_hfv$treatment==0] \n",
    "#table(y_treatment,y_control)\n",
    "mcnemar.test(hfv$mortality_28day, non_hfv$mortality_28day)\n",
    "\n",
    "#calculate odds ratio for 28-day mortality\n",
    "########## calculate Odd's ratio here!\n",
    "a<-sum(hfv$mortality_28day==1)\n",
    "b<-sum(non_hfv$mortality_28day==1)\n",
    "c<-sum(hfv$mortality_28day==0)\n",
    "d<-sum(non_hfv$mortality_28day==0)\n",
    "# c<-length(hfv[hfv$died_in_ICU==0,1])\n",
    "# d<-length(non_hfv[non_hfv$died_in_ICU==0,1])\n",
    "print(c(a,b,c,d))\n",
    "a/(a+c)\n",
    "b/(b+d)\n",
    "oddsratio(matrix(c(a,b,c,d), ncol=2, nrow=2))\n",
    "\n",
    "#Table1 for matching pairs\n",
    "\n",
    "PSmatching_data<-rbind(hfv,non_hfv)\n",
    "#PSmatching_data<-read.csv(\"PS_matching_data_significant_result.csv\")\n",
    "head(PSmatching_data)\n",
    "\n",
    "\n",
    "xvars<-c(\"female\",\"age\",\"pim2\",\"pelod\",\"p_bloodculture\",\"MODS\",\"comorbidity\",\"rf_pneumonia\",\"rf_sepsis\",\"rf_aspiration\" , \"rf_transfusion\", \"rf_trauma\",\"rf_drowning\",\n",
    "         \"OI\",\"OI_cat\",\"ventilation_free_day\",\"picu_free_days\",\"mortality_28day\",\"mort_100day\",\"died_in_ICU\")\n",
    "catvars<-c(\"female\",\"p_bloodculture\",\"comorbidity\",\"rf_pneumonia\",\"rf_sepsis\",\"rf_aspiration\" , \"rf_transfusion\", \n",
    "           \"rf_drowning\",\"rf_trauma\",\"MODS\",\"OI_cat\",\"mortality_28day\",\"mort_100day\",\"died_in_ICU\")\n",
    "\n",
    "\n",
    "TableOne_daily<-CreateTableOne(var = xvars, factorVars =catvars,strata =\"treatment\", data=PSmatching_data)\n",
    "\n",
    "print(TableOne_daily, nonnormal = c(\"age\",\"pim2\",\"pelod\",\"OI\",\"ventilation_free_day\",\"picu_free_days\"), contDigits = 1, catDigits = 1, pDigits = 4, smd = TRUE,testName=TRUE)\n",
    "#non parametric KruskalWalli test for PICU free days\n"
   ]
  },
  {
   "cell_type": "code",
   "execution_count": null,
   "metadata": {},
   "outputs": [],
   "source": [
    "##### plot Odds Ratio for the drop one out subgroup analysis\n",
    "drop_out<-read.csv(\"gm_drop_out.csv\")\n",
    "drop_out\n",
    "df<-data.frame(drop_out[-1,])\n",
    "#df$group<-c(1,2,3,4,5,6,7,8,9,10,11)"
   ]
  },
  {
   "cell_type": "code",
   "execution_count": null,
   "metadata": {},
   "outputs": [],
   "source": [
    "tiff(\"dropout_grey.tif\", units=\"in\", width=7, height=5.5, res=300)\n",
    "\n",
    "#png(\"dropout_grey.png\")\n",
    "p <- ggplot(df, aes(OR, Sequence))\n",
    "p + geom_point(size=4, shape=21, fill=\"black\",alpha=1) +\n",
    "  geom_errorbarh(mapping=aes(xmax = upper, xmin = lower),height=0.2, size=1, color=\"black\", alpha=0.6)+\n",
    "geom_vline(xintercept=1.0, color=\"black\",linetype=c)+\n",
    "coord_cartesian(xlim = c(0.8, 5.9), ylim = c(0,11)) +\n",
    "scale_x_discrete(limits=c(\"1\",\"2\",\"3\",\"4\",\"5\",\"6\"))+\n",
    "labs(x = \"Odds Ratio (95% CI)\",y =  \"Subgroup Analysis\" )+\n",
    "geom_text(aes(x=c(5.58,5.58,5.58,5.58,5.58,5.75,5.75,5.75,5.75,5.58),\n",
    "              y = c(10.35,9.3,8.3,7.3,6.2,5.2,4.2,3.3,2.2,1.2),label=sprintf(\"%0.3f\", round(p.value, digits = 3))),colour = \"grey32\",size=4, fontface = \"bold\")+\n",
    "annotate(\"text\", label = \"p-value=\", x = c(5.0,5.0,5.0,5.0,5.0,5.15,5.15,5.15,5.15,4.98), y = c(10.35,9.3,8.3,7.3,6.2,5.2,4.2,3.3,2.2,1.2), size = 4, colour = \"grey32\",fontface = \"bold\")+\n",
    "theme_bw()+\n",
    "scale_y_discrete(\n",
    "                    limits=c(\"1\",\"2\",\"3\",\"4\",\"5\",\"6\",\"7\",\"8\",\"9\",\"10\"))+\n",
    "theme(axis.text.y = element_text(size=18),axis.title.y = element_text(color=\"black\", size=14, face=\"bold\"),\n",
    "      axis.text.x = element_text(size=18),\n",
    "      axis.title.x = element_text(color=\"black\", size=12, face=\"bold\"),)\n",
    "\n",
    "dev.off()"
   ]
  },
  {
   "cell_type": "markdown",
   "metadata": {},
   "source": [
    "## PSM"
   ]
  },
  {
   "cell_type": "code",
   "execution_count": null,
   "metadata": {},
   "outputs": [],
   "source": [
    "\n",
    "####################################################\n",
    "#Alternative Method: PS matching (average)\n",
    "####################################################\n",
    "psmodel <-glm(treatment~female+age+pim2+pelod+p_bloodculture+comorbidity+rf_pneumonia+rf_sepsis\n",
    "                 +rf_aspiration+rf_transfusion+rf_trauma+rf_drowning+MODS+OI_cat, data = mydata,family=binomial(link=\"logit\"))\n",
    "#show coefficients etc\n",
    "#summary(psmodel)\n",
    "#create propensity score\n",
    "pscore<-psmodel$fitted.values\n",
    "drops <- c(\"fio2\",\"map\",\"amplitude\")\n",
    "set.seed(19)\n",
    "mydata_wth_pscore<-data.frame(cbind(mydata[ , !(colnames(mydata) %in% drops)],pscore))\n",
    "\n",
    "m.out <- matchit(treatment~female+age+pim2+pelod+p_bloodculture+comorbidity+rf_pneumonia+rf_sepsis\n",
    "                 +rf_aspiration+rf_transfusion+rf_trauma+rf_drowning+MODS+OI_cat, data = mydata_wth_pscore,              \n",
    "                 method = \"nearest\", distance=mydata_wth_pscore$pscore,caliper=0.01\n",
    "                 ,ratio=1)\n",
    "\n",
    "\n",
    "matchedID_hfv<-match.data(m.out, \"treat\")$ID\n",
    "matchedID_non_hfv<-match.data(m.out, \"control\")$ID\n",
    "pairs<-data.frame(cbind(matchedID_hfv,matchedID_non_hfv))\n",
    "write.csv(pairs, file = \"PS_pair_ID.csv\")\n",
    "###################################\n",
    "#outcome analysis for PS matching\n",
    "y_treatment<-match.data(m.out)$mortality_28day[match.data(m.out, \"all\")$treatment==1] \n",
    "y_control<-match.data(m.out)$mortality_28day[match.data(m.out, \"all\")$treatment==0] \n",
    "#head(mydata)\n",
    "#colnames(mydata)\n",
    "#y_treatment<-mydata$mortality_28day[mydata$treatment==1] \n",
    "#y_control<-mydata$mortality_28day[mydata$treatment==0] \n",
    "length(y_treatment)\n",
    "length(y_control)\n",
    "#y_treatment\n",
    "#table(y_treatment,y_control)\n",
    "#McNemar test for PICU mortality\n",
    "mcnemar.test(y_treatment, y_control)\n",
    "\n",
    "########## calculate Odd's ratio here!\n",
    "a<-length(y_treatment[y_treatment==1])\n",
    "b<-length(y_control[y_control==1])\n",
    "c<-length(y_treatment[y_treatment==0])\n",
    "d<-length(y_control[y_control==0])\n",
    "\n",
    "oddsratio(matrix(c(a,b,c,d), ncol=2, nrow=2))"
   ]
  },
  {
   "cell_type": "code",
   "execution_count": null,
   "metadata": {},
   "outputs": [],
   "source": [
    "########## Tableone for PS 55 pairs ####################\n",
    "########## Note that age, pim2 and pelod are skewed data\n",
    "##### so we used IQR and Kruskal-Wallis test instead\n",
    "\n",
    "\n",
    "#Table1 for PS (average) pairs\n",
    "PSmatching_pairs<-read.csv(\"PS_pair_ID.csv\")\n",
    "mydata$mort_100day<-ifelse(kkh$Died.within.100.days==\"Yes\",1,0)\n",
    "PSmatching_data<-mydata[(mydata$ID %in% PSmatching_pairs$matchedID_hfv)| (mydata$ID %in% PSmatching_pairs$matchedID_non_hfv),]\n",
    "head(PSmatching_data)\n",
    "\n",
    "xvars<-c(\"female\",\"age\",\"pim2\",\"pelod\",\"p_bloodculture\",\"MODS\",\"comorbidity\",\"rf_pneumonia\",\"rf_sepsis\",\"rf_aspiration\" , \"rf_transfusion\", \"rf_trauma\",\"rf_drowning\",\n",
    "         \"OI\",\"OI_cat\",\"ventilation_free_day\",\"picu_free_days\",\"mortality_28day\")\n",
    "catvars<-c(\"female\",\"p_bloodculture\",\"comorbidity\",\"rf_pneumonia\",\"rf_sepsis\",\"rf_aspiration\" , \"rf_transfusion\", \n",
    "           \"rf_drowning\",\"rf_trauma\",\"MODS\",\"OI_cat\",\"mortality_28day\")\n",
    "\n",
    "\n",
    "TableOne_daily<-CreateTableOne(var = xvars, factorVars =catvars,strata =\"treatment\", data=PSmatching_data)\n",
    "\n",
    "print(TableOne_daily, nonnormal = c(\"age\",\"pim2\",\"pelod\",\"OI\",\"ventilation_free_day\",\"picu_free_days\"), contDigits = 1, catDigits = 1, pDigits = 2, smd = TRUE)\n",
    "#non parametric KruskalWalli test for PICU free days\n"
   ]
  },
  {
   "cell_type": "markdown",
   "metadata": {},
   "source": [
    "## IPTW"
   ]
  },
  {
   "cell_type": "code",
   "execution_count": 9,
   "metadata": {},
   "outputs": [
    {
     "data": {
      "text/plain": [
       "\n",
       "Call:\n",
       "glm(formula = treatment ~ female + age + pim2 + pelod + p_bloodculture + \n",
       "    comorbidity + rf_pneumonia + rf_sepsis + rf_aspiration + \n",
       "    rf_transfusion + rf_drowning + MODS + factor(OI_cat), family = binomial(link = \"logit\"), \n",
       "    data = mydata)\n",
       "\n",
       "Deviance Residuals: \n",
       "    Min       1Q   Median       3Q      Max  \n",
       "-1.9023  -0.8269  -0.4074   0.8808   2.7528  \n",
       "\n",
       "Coefficients:\n",
       "                 Estimate Std. Error z value Pr(>|z|)    \n",
       "(Intercept)     -3.099726   0.618075  -5.015 5.30e-07 ***\n",
       "female           0.392725   0.282944   1.388   0.1651    \n",
       "age             -0.007870   0.030752  -0.256   0.7980    \n",
       "pim2             0.005246   0.008290   0.633   0.5268    \n",
       "pelod            0.026776   0.017062   1.569   0.1166    \n",
       "p_bloodculture   0.431948   0.406125   1.064   0.2875    \n",
       "comorbidity      0.093346   0.289559   0.322   0.7472    \n",
       "rf_pneumonia     0.509078   0.445919   1.142   0.2536    \n",
       "rf_sepsis       -0.725136   0.366442  -1.979   0.0478 *  \n",
       "rf_aspiration   -0.060818   0.692903  -0.088   0.9301    \n",
       "rf_transfusion   2.296029   1.135860   2.021   0.0432 *  \n",
       "rf_drowning     -0.139380   0.955147  -0.146   0.8840    \n",
       "MODS            -0.196494   0.311507  -0.631   0.5282    \n",
       "factor(OI_cat)2  1.801127   0.419753   4.291 1.78e-05 ***\n",
       "factor(OI_cat)3  0.101830   0.729003   0.140   0.8889    \n",
       "factor(OI_cat)4  3.045389   0.423836   7.185 6.71e-13 ***\n",
       "---\n",
       "Signif. codes:  0 ‘***’ 0.001 ‘**’ 0.01 ‘*’ 0.05 ‘.’ 0.1 ‘ ’ 1\n",
       "\n",
       "(Dispersion parameter for binomial family taken to be 1)\n",
       "\n",
       "    Null deviance: 432.95  on 327  degrees of freedom\n",
       "Residual deviance: 334.65  on 312  degrees of freedom\n",
       "AIC: 366.65\n",
       "\n",
       "Number of Fisher Scoring iterations: 5\n"
      ]
     },
     "metadata": {},
     "output_type": "display_data"
    },
    {
     "name": "stdout",
     "output_type": "stream",
     "text": [
      "[[1]]\n",
      "[1] 0.812311\n",
      "\n",
      "                                     Stratified by treatment\n",
      "                                      0                 1                \n",
      "  n                                   326.5             362.4            \n",
      "  female = 1 (%)                      159.5 (48.8)      139.4 (38.5)     \n",
      "  age (median [IQR])                    1.8 [0.5, 5.8]    1.8 [0.3, 5.9] \n",
      "  pim2 (median [IQR])                   9.2 [4.1, 18.5]   6.8 [2.7, 26.6]\n",
      "  pelod (median [IQR])                 10.0 [1.0, 13.0]  10.0 [2.0, 15.1]\n",
      "  p_bloodculture = 1 (%)               51.3 (15.7)       46.1 (12.7)     \n",
      "  MODS = 1 (%)                        137.5 (42.1)      151.2 (41.7)     \n",
      "  comorbidity = 1 (%)                 163.8 (50.2)      162.7 (44.9)     \n",
      "  rf_pneumonia = 1 (%)                268.5 (82.2)      255.5 (70.5)     \n",
      "  rf_sepsis = 1 (%)                    93.1 (28.5)      139.8 (38.6)     \n",
      "  rf_aspiration = 1 (%)                13.8 ( 4.2)        9.1 ( 2.5)     \n",
      "  rf_transfusion = 1 (%)                3.1 ( 1.0)        4.5 ( 1.2)     \n",
      "  rf_trauma = 1 (%)                     5.3 ( 1.6)        0.0 ( 0.0)     \n",
      "  rf_drowning = 1 (%)                  11.1 ( 3.4)        7.5 ( 2.1)     \n",
      "  OI (median [IQR])                    10.5 [6.0, 18.0]  10.4 [6.5, 19.0]\n",
      "  OI_cat (%)                                                             \n",
      "     1                                 94.8 (29.0)      138.2 (38.1)     \n",
      "     2                                 91.8 (28.1)       87.5 (24.2)     \n",
      "     3                                 27.1 ( 8.3)       22.7 ( 6.3)     \n",
      "     4                                112.8 (34.6)      113.9 (31.4)     \n",
      "  ventilation_free_day (median [IQR])  15.0 [0.0, 22.0]   6.6 [0.0, 18.9]\n",
      "  picu_free_days (median [IQR])        10.0 [0.0, 19.0]   0.0 [0.0, 15.0]\n",
      "  mortality_28day = 1 (%)              62.3 (19.1)      120.5 (33.3)     \n",
      "  mort_100day = 1 (%)                 103.7 (31.8)      164.0 (45.3)     \n",
      "  died_in_ICU = 1 (%)                  97.5 (29.9)      151.1 (41.7)     \n",
      "                                     Stratified by treatment\n",
      "                                      p       test    SMD    \n",
      "  n                                                          \n",
      "  female = 1 (%)                       0.2198          0.2101\n",
      "  age (median [IQR])                   0.9052 nonnorm  0.1142\n",
      "  pim2 (median [IQR])                  0.6992 nonnorm  0.0059\n",
      "  pelod (median [IQR])                 0.6948 nonnorm  0.0233\n",
      "  p_bloodculture = 1 (%)               0.5163          0.0860\n",
      "  MODS = 1 (%)                         0.9657          0.0080\n",
      "  comorbidity = 1 (%)                  0.5631          0.1057\n",
      "  rf_pneumonia = 1 (%)                 0.2259          0.2786\n",
      "  rf_sepsis = 1 (%)                    0.3084          0.2143\n",
      "  rf_aspiration = 1 (%)                0.3940          0.0952\n",
      "  rf_transfusion = 1 (%)               0.7946          0.0259\n",
      "  rf_trauma = 1 (%)                    0.0407          0.1814\n",
      "  rf_drowning = 1 (%)                  0.4892          0.0816\n",
      "  OI (median [IQR])                    0.7972 nonnorm  0.1400\n",
      "  OI_cat (%)                           0.6705          0.1994\n",
      "     1                                                       \n",
      "     2                                                       \n",
      "     3                                                       \n",
      "     4                                                       \n",
      "  ventilation_free_day (median [IQR])  0.0516 nonnorm  0.3392\n",
      "  picu_free_days (median [IQR])        0.1289 nonnorm  0.3516\n",
      "  mortality_28day = 1 (%)              0.0708          0.3273\n",
      "  mort_100day = 1 (%)                  0.1339          0.2803\n",
      "  died_in_ICU = 1 (%)                  0.1797          0.2489\n"
     ]
    }
   ],
   "source": [
    "#To get table 1 for the weighted cohort\n",
    "\n",
    "#fit a propensity score model with logistic regression\n",
    "psmodel <-glm(treatment~female+age+pim2+pelod+p_bloodculture+comorbidity+rf_pneumonia+rf_sepsis\n",
    "                 +rf_aspiration+rf_transfusion+rf_drowning+MODS+factor(OI_cat)\n",
    "                 , data = mydata,family=binomial(link=\"logit\"))\n",
    "#show coefficients etc\n",
    "summary(psmodel)\n",
    "\n",
    "\n",
    "xvars<-c(\"female\",\"age\",\"pim2\",\"pelod\",\"p_bloodculture\",\"MODS\",\"comorbidity\",\"rf_pneumonia\",\"rf_sepsis\",\"rf_aspiration\" , \"rf_transfusion\", \"rf_trauma\",\"rf_drowning\",\n",
    "         \"OI\",\"OI_cat\",\"ventilation_free_day\",\"picu_free_days\",\"mortality_28day\",\"mort_100day\",\"died_in_ICU\")\n",
    "catvars<-c(\"female\",\"p_bloodculture\",\"comorbidity\",\"rf_pneumonia\",\"rf_sepsis\",\"rf_aspiration\" , \"rf_transfusion\", \n",
    "           \"rf_drowning\",\"rf_trauma\",\"MODS\",\"OI_cat\",\"mortality_28day\",\"mort_100day\",\"died_in_ICU\")\n",
    "\n",
    "\n",
    "\n",
    "\n",
    "\n",
    "#create propensity score\n",
    "pscore<-psmodel$fitted.values\n",
    "label<-mydata$treatment\n",
    "perf<- ROCR::prediction(pscore, label)\n",
    "psm_auc<-ROCR::performance(ROCR::prediction(pscore, label), \"auc\")@y.values[1]\n",
    "print(psm_auc)\n",
    "\n",
    "\n",
    "mydata$weight<-ifelse(treatment==1,1/pscore, 1/(1-pscore))\n",
    "weighteddata<-svydesign(ids=~1, data= mydata, weights = ~weight)\n",
    "weighted_table<-svyCreateTableOne(var = xvars, factorVars = catvars, strata =\"treatment\",\n",
    "                                data=weighteddata)\n",
    "#print(weighted_table, smd=TRUE)\n",
    "print(weighted_table, nonnormal = c(\"age\",\"pim2\",\"pelod\",\"OI\",\"ventilation_free_day\",\"picu_free_days\"), contDigits = 1, catDigits = 1, pDigits = 4, smd = TRUE,testName=TRUE)"
   ]
  },
  {
   "cell_type": "code",
   "execution_count": 10,
   "metadata": {},
   "outputs": [
    {
     "data": {
      "text/plain": [
       "\n",
       "\tMcNemar's Chi-squared test with continuity correction\n",
       "\n",
       "data:  matrix(c(a, b, c, d), ncol = 2, nrow = 2)\n",
       "McNemar's chi-squared = 104.86, df = 1, p-value < 2.2e-16\n"
      ]
     },
     "metadata": {},
     "output_type": "display_data"
    },
    {
     "data": {
      "text/html": [
       "<dl>\n",
       "\t<dt>$data</dt>\n",
       "\t\t<dd><table>\n",
       "<thead><tr><th></th><th scope=col>Disease1</th><th scope=col>Disease2</th><th scope=col>Total</th></tr></thead>\n",
       "<tbody>\n",
       "\t<tr><th scope=row>Exposed1</th><td>121</td><td>242</td><td>363</td></tr>\n",
       "\t<tr><th scope=row>Exposed2</th><td> 62</td><td>264</td><td>326</td></tr>\n",
       "\t<tr><th scope=row>Total</th><td>183</td><td>506</td><td>689</td></tr>\n",
       "</tbody>\n",
       "</table>\n",
       "</dd>\n",
       "\t<dt>$measure</dt>\n",
       "\t\t<dd><table>\n",
       "<thead><tr><th></th><th scope=col>estimate</th><th scope=col>lower</th><th scope=col>upper</th></tr></thead>\n",
       "<tbody>\n",
       "\t<tr><th scope=row>Exposed1</th><td>1.000000</td><td>     NA </td><td>      NA</td></tr>\n",
       "\t<tr><th scope=row>Exposed2</th><td>2.124587</td><td>1.49803 </td><td>3.036639</td></tr>\n",
       "</tbody>\n",
       "</table>\n",
       "</dd>\n",
       "\t<dt>$p.value</dt>\n",
       "\t\t<dd><table>\n",
       "<thead><tr><th></th><th scope=col>midp.exact</th><th scope=col>fisher.exact</th><th scope=col>chi.square</th></tr></thead>\n",
       "<tbody>\n",
       "\t<tr><th scope=row>Exposed1</th><td>          NA</td><td>          NA</td><td>          NA</td></tr>\n",
       "\t<tr><th scope=row>Exposed2</th><td>2.009576e-05</td><td>2.195544e-05</td><td>2.159173e-05</td></tr>\n",
       "</tbody>\n",
       "</table>\n",
       "</dd>\n",
       "\t<dt>$correction</dt>\n",
       "\t\t<dd>FALSE</dd>\n",
       "</dl>\n"
      ],
      "text/latex": [
       "\\begin{description}\n",
       "\\item[\\$data] \\begin{tabular}{r|lll}\n",
       "  & Disease1 & Disease2 & Total\\\\\n",
       "\\hline\n",
       "\tExposed1 & 121 & 242 & 363\\\\\n",
       "\tExposed2 &  62 & 264 & 326\\\\\n",
       "\tTotal & 183 & 506 & 689\\\\\n",
       "\\end{tabular}\n",
       "\n",
       "\\item[\\$measure] \\begin{tabular}{r|lll}\n",
       "  & estimate & lower & upper\\\\\n",
       "\\hline\n",
       "\tExposed1 & 1.000000 &      NA  &       NA\\\\\n",
       "\tExposed2 & 2.124587 & 1.49803  & 3.036639\\\\\n",
       "\\end{tabular}\n",
       "\n",
       "\\item[\\$p.value] \\begin{tabular}{r|lll}\n",
       "  & midp.exact & fisher.exact & chi.square\\\\\n",
       "\\hline\n",
       "\tExposed1 &           NA &           NA &           NA\\\\\n",
       "\tExposed2 & 2.009576e-05 & 2.195544e-05 & 2.159173e-05\\\\\n",
       "\\end{tabular}\n",
       "\n",
       "\\item[\\$correction] FALSE\n",
       "\\end{description}\n"
      ],
      "text/markdown": [
       "$data\n",
       ":   \n",
       "| <!--/--> | Disease1 | Disease2 | Total | \n",
       "|---|---|---|\n",
       "| Exposed1 | 121 | 242 | 363 | \n",
       "| Exposed2 |  62 | 264 | 326 | \n",
       "| Total | 183 | 506 | 689 | \n",
       "\n",
       "\n",
       "\n",
       "$measure\n",
       ":   \n",
       "| <!--/--> | estimate | lower | upper | \n",
       "|---|---|\n",
       "| Exposed1 | 1.000000 |      NA  |       NA | \n",
       "| Exposed2 | 2.124587 | 1.49803  | 3.036639 | \n",
       "\n",
       "\n",
       "\n",
       "$p.value\n",
       ":   \n",
       "| <!--/--> | midp.exact | fisher.exact | chi.square | \n",
       "|---|---|\n",
       "| Exposed1 |           NA |           NA |           NA | \n",
       "| Exposed2 | 2.009576e-05 | 2.195544e-05 | 2.159173e-05 | \n",
       "\n",
       "\n",
       "\n",
       "$correction\n",
       ":   FALSE\n",
       "\n",
       "\n"
      ],
      "text/plain": [
       "$data\n",
       "          Outcome\n",
       "Predictor  Disease1 Disease2 Total\n",
       "  Exposed1      121      242   363\n",
       "  Exposed2       62      264   326\n",
       "  Total         183      506   689\n",
       "\n",
       "$measure\n",
       "          odds ratio with 95% C.I.\n",
       "Predictor  estimate   lower    upper\n",
       "  Exposed1 1.000000      NA       NA\n",
       "  Exposed2 2.124587 1.49803 3.036639\n",
       "\n",
       "$p.value\n",
       "          two-sided\n",
       "Predictor    midp.exact fisher.exact   chi.square\n",
       "  Exposed1           NA           NA           NA\n",
       "  Exposed2 2.009576e-05 2.195544e-05 2.159173e-05\n",
       "\n",
       "$correction\n",
       "[1] FALSE\n",
       "\n",
       "attr(,\"method\")\n",
       "[1] \"median-unbiased estimate & mid-p exact CI\""
      ]
     },
     "metadata": {},
     "output_type": "display_data"
    },
    {
     "data": {
      "text/plain": [
       "\n",
       "\tDesign-based t-test\n",
       "\n",
       "data:  ventilation_free_day ~ treatment\n",
       "t = -1.6581, df = 326, p-value = 0.09825\n",
       "alternative hypothesis: true difference in mean is not equal to 0\n",
       "95 percent confidence interval:\n",
       " -7.2310135  0.6031956\n",
       "sample estimates:\n",
       "difference in mean \n",
       "         -3.313909 \n"
      ]
     },
     "metadata": {},
     "output_type": "display_data"
    },
    {
     "data": {
      "text/plain": [
       "\n",
       "\tDesign-based t-test\n",
       "\n",
       "data:  picu_free_days ~ treatment\n",
       "t = -1.5097, df = 326, p-value = 0.1321\n",
       "alternative hypothesis: true difference in mean is not equal to 0\n",
       "95 percent confidence interval:\n",
       " -7.263533  0.942545\n",
       "sample estimates:\n",
       "difference in mean \n",
       "         -3.160494 \n"
      ]
     },
     "metadata": {},
     "output_type": "display_data"
    },
    {
     "data": {
      "text/plain": [
       "\n",
       "\tDesign-based KruskalWallis test\n",
       "\n",
       "data:  ventilation_free_day ~ treatment\n",
       "t = -1.9536, df = 326, p-value = 0.05161\n",
       "alternative hypothesis: true difference in mean rank score is not equal to 0\n",
       "sample estimates:\n",
       "difference in mean rank score \n",
       "                   -0.1055206 \n"
      ]
     },
     "metadata": {},
     "output_type": "display_data"
    },
    {
     "data": {
      "text/plain": [
       "\n",
       "\tDesign-based KruskalWallis test\n",
       "\n",
       "data:  picu_free_days ~ treatment\n",
       "t = -1.5222, df = 326, p-value = 0.1289\n",
       "alternative hypothesis: true difference in mean rank score is not equal to 0\n",
       "sample estimates:\n",
       "difference in mean rank score \n",
       "                  -0.08964588 \n"
      ]
     },
     "metadata": {},
     "output_type": "display_data"
    }
   ],
   "source": [
    "#IPTW outcome anlaysis\n",
    "\n",
    "#Mcnemar test for 28-day mortality\n",
    "a<-120.5\n",
    "b<-62.3\n",
    "#c<-(362.4-120.5)\n",
    "c<-241.9\n",
    "#d<-(326.5-62.3)\n",
    "d<-264.2\n",
    "\n",
    "mcnemar.test(matrix(c(a,b,c,d), ncol=2, nrow=2))\n",
    "# odds ratio for 28-day mortality\n",
    "a<-121\n",
    "b<-62\n",
    "#c<-(362.4-120.5)\n",
    "c<-242\n",
    "#d<-(326.5-62.3)\n",
    "d<-264\n",
    "oddsratio(matrix(c(a,b,c,d), ncol=2, nrow=2))\n",
    "\n",
    "#paired t-test for ventilator free days\n",
    "svyttest(ventilation_free_day~treatment, weighteddata)\n",
    "#paired t-test for picu free days\n",
    "svyttest(picu_free_days~treatment, weighteddata)\n",
    "\n",
    "# non parametric KruskalWalli test for  ventilation free day\n",
    "svyranktest(ventilation_free_day~treatment, weighteddata, test=\"KruskalWallis\")\n",
    "\n",
    "# non parametric KruskalWalli test for  PICU free day\n",
    "svyranktest(picu_free_days~treatment, weighteddata, test=\"KruskalWallis\")\n"
   ]
  },
  {
   "cell_type": "markdown",
   "metadata": {},
   "source": [
    "## Marginal Structural Model"
   ]
  },
  {
   "cell_type": "code",
   "execution_count": 11,
   "metadata": {},
   "outputs": [],
   "source": [
    "df3<-df2\n",
    "df3$event_7<-ifelse(df3$end_day==7,df3$mortality_28day, df3$event)"
   ]
  },
  {
   "cell_type": "code",
   "execution_count": 15,
   "metadata": {},
   "outputs": [
    {
     "data": {
      "text/plain": [
       "Call:\n",
       "coxph(formula = Surv(start_day, end_day, event) ~ HFV_indicator + \n",
       "    cluster(ID), data = df3, weights = time_model$weights.trunc)\n",
       "\n",
       "  n= 2162, number of events= 34 \n",
       "\n",
       "                 coef exp(coef) se(coef) robust se    z Pr(>|z|)\n",
       "HFV_indicator -0.6243    0.5356   0.4150    0.5203 -1.2     0.23\n",
       "\n",
       "              exp(coef) exp(-coef) lower .95 upper .95\n",
       "HFV_indicator    0.5356      1.867    0.1932     1.485\n",
       "\n",
       "Concordance= 0.556  (se = 0.038 )\n",
       "Rsquare= 0.001   (max possible= 0.189 )\n",
       "Likelihood ratio test= 2.56  on 1 df,   p=0.1\n",
       "Wald test            = 1.44  on 1 df,   p=0.2\n",
       "Score (logrank) test = 2.34  on 1 df,   p=0.1,   Robust = 1.95  p=0.2\n",
       "\n",
       "  (Note: the likelihood ratio and score tests assume independence of\n",
       "     observations within a cluster, the Wald and robust score tests do not)."
      ]
     },
     "metadata": {},
     "output_type": "display_data"
    },
    {
     "data": {
      "text/plain": [
       "                  rho chisq     p\n",
       "HFV_indicator -0.0558 0.143 0.706"
      ]
     },
     "metadata": {},
     "output_type": "display_data"
    }
   ],
   "source": [
    "## with weight but without confounding adjustment\n",
    "MSM<-coxph(Surv(start_day, end_day, event) ~ HFV_indicator\n",
    "           +cluster(ID), data = df3, weights = time_model$weights.trunc)\n",
    "\n",
    "summary(MSM)\n",
    "\n",
    "fit0<-cox.zph(MSM, global=TRUE)\n",
    "cox.zph(MSM, global=TRUE)"
   ]
  },
  {
   "cell_type": "code",
   "execution_count": 16,
   "metadata": {},
   "outputs": [
    {
     "data": {
      "text/plain": [
       "   Min. 1st Qu.  Median    Mean 3rd Qu.    Max. \n",
       " 0.3681  0.7117  0.8676  0.9793  1.0308  4.1047 "
      ]
     },
     "metadata": {},
     "output_type": "display_data"
    },
    {
     "data": {
      "text/plain": [
       "Call:\n",
       "coxph(formula = Surv(start_day, end_day, event) ~ HFV_indicator + \n",
       "    factor(female) + age + pim2 + pelod + factor(p_bloodculture) + \n",
       "    factor(MODS) + factor(comorbidity) + cluster(ID), data = df3, \n",
       "    weights = time_model$weights.trunc)\n",
       "\n",
       "  n= 2162, number of events= 34 \n",
       "\n",
       "                            coef exp(coef) se(coef) robust se      z Pr(>|z|)\n",
       "HFV_indicator            0.29194   1.33902  0.37709   0.57527  0.507   0.6118\n",
       "factor(female)1         -0.12679   0.88092  0.33090   0.44091 -0.288   0.7737\n",
       "age                      0.01876   1.01894  0.03145   0.03533  0.531   0.5954\n",
       "pim2                    -0.01349   0.98660  0.00861   0.01059 -1.273   0.2030\n",
       "pelod                    0.07136   1.07396  0.01704   0.01725  4.137 3.51e-05\n",
       "factor(p_bloodculture)1  0.89457   2.44629  0.35907   0.38859  2.302   0.0213\n",
       "factor(MODS)1            0.68364   1.98107  0.39736   0.57819  1.182   0.2371\n",
       "factor(comorbidity)1     0.95796   2.60637  0.37519   0.46511  2.060   0.0394\n",
       "                           \n",
       "HFV_indicator              \n",
       "factor(female)1            \n",
       "age                        \n",
       "pim2                       \n",
       "pelod                   ***\n",
       "factor(p_bloodculture)1 *  \n",
       "factor(MODS)1              \n",
       "factor(comorbidity)1    *  \n",
       "---\n",
       "Signif. codes:  0 ‘***’ 0.001 ‘**’ 0.01 ‘*’ 0.05 ‘.’ 0.1 ‘ ’ 1\n",
       "\n",
       "                        exp(coef) exp(-coef) lower .95 upper .95\n",
       "HFV_indicator              1.3390     0.7468    0.4336     4.135\n",
       "factor(female)1            0.8809     1.1352    0.3712     2.090\n",
       "age                        1.0189     0.9814    0.9508     1.092\n",
       "pim2                       0.9866     1.0136    0.9663     1.007\n",
       "pelod                      1.0740     0.9311    1.0383     1.111\n",
       "factor(p_bloodculture)1    2.4463     0.4088    1.1422     5.239\n",
       "factor(MODS)1              1.9811     0.5048    0.6379     6.153\n",
       "factor(comorbidity)1       2.6064     0.3837    1.0475     6.485\n",
       "\n",
       "Concordance= 0.808  (se = 0.048 )\n",
       "Rsquare= 0.023   (max possible= 0.186 )\n",
       "Likelihood ratio test= 49.52  on 8 df,   p=5e-08\n",
       "Wald test            = 66.15  on 8 df,   p=3e-11\n",
       "Score (logrank) test = 63.73  on 8 df,   p=9e-11,   Robust = 23.3  p=0.003\n",
       "\n",
       "  (Note: the likelihood ratio and score tests assume independence of\n",
       "     observations within a cluster, the Wald and robust score tests do not)."
      ]
     },
     "metadata": {},
     "output_type": "display_data"
    },
    {
     "data": {
      "text/plain": [
       "                            rho    chisq      p\n",
       "HFV_indicator           -0.1426  3.77405 0.0521\n",
       "factor(female)1          0.0405  0.15919 0.6899\n",
       "age                     -0.1078  0.81512 0.3666\n",
       "pim2                    -0.0516  0.29199 0.5890\n",
       "pelod                   -0.0122  0.00692 0.9337\n",
       "factor(p_bloodculture)1 -0.2261  2.59700 0.1071\n",
       "factor(MODS)1            0.2033  6.42048 0.0113\n",
       "factor(comorbidity)1    -0.1470  3.88102 0.0488\n",
       "GLOBAL                       NA 11.50730 0.1746"
      ]
     },
     "metadata": {},
     "output_type": "display_data"
    },
    {
     "data": {
      "image/png": "[encoded data removed]",
      "text/plain": [
       "Plot with title “”"
      ]
     },
     "metadata": {},
     "output_type": "display_data"
    }
   ],
   "source": [
    "# stabilized weights for MSM Cox PH model for 7 days\n",
    "time_model <- ipwtm(\n",
    "  exposure = HFV_indicator,\n",
    "  family = \"survival\",\n",
    "  numerator = ~1,\n",
    "  denominator = ~ age+pim2+pelod+factor(female)+factor(p_bloodculture)+factor(comorbidity)+factor(rf_pneumonia)+factor(rf_sepsis)\n",
    "                 +factor(rf_aspiration)+factor(rf_transfusion)+factor(rf_drowning)+factor(MODS)+factor(OI_cat),\n",
    "  \n",
    "  id = ID,\n",
    "  tstart = start_day,\n",
    "  timevar = end_day,\n",
    "  type = \"first\",\n",
    "  data = df3, trunc=0.01)\n",
    "summary(time_model$weights.trunc)\n",
    "\n",
    "\n",
    "######################plot (stabilized) inverse probability weights######################\n",
    "\n",
    "#tiff(\"sw_plot.tiff\", width = 4, height = 4,  units = 'in', res = 300)\n",
    "#png(filename=\"sw_plot.png\")\n",
    "ipwplot(weights = time_model$weights.trunc, timevar = df2$end_day, xlab=\"Days in PICU\", ylab=\"Log of Stabilized Weights\",\n",
    "   binwidth = 1, ylim=c(-2,2))\n",
    "#dev.off()\n",
    "\n",
    "#MSM Cox PH model with adjustment for covariates\n",
    "# MSM<-coxph(Surv(start_day, end_day, event_7) ~ HFV_indicator+factor(female)+pim2+pelod+factor(p_bloodculture)+factor(comorbidity)\n",
    "#            +factor(rf_pneumonia)+factor(rf_sepsis)+factor(rf_aspiration)+factor(rf_transfusion)+factor(rf_drowning)+factor(MODS)\n",
    "#            +factor(OI_cat)+cluster(ID)+age:end_day+pim2:end_day+pelod:end_day, data = df3, weights = time_model$weights.trunc)\n",
    "\n",
    "MSM<-coxph(Surv(start_day, end_day, event) ~ HFV_indicator+factor(female)+age+pim2+pelod+factor(p_bloodculture) +factor(MODS)+factor(comorbidity)\n",
    "           +cluster(ID), data = df3, weights = time_model$weights.trunc)\n",
    "\n",
    "summary(MSM)\n",
    "\n",
    "fit0<-cox.zph(MSM, global=TRUE)\n",
    "cox.zph(MSM, global=TRUE)"
   ]
  },
  {
   "cell_type": "code",
   "execution_count": 14,
   "metadata": {},
   "outputs": [
    {
     "name": "stderr",
     "output_type": "stream",
     "text": [
      "Warning message in fitter(X, Y, strats, offset, init, control, weights = weights, :\n",
      "“Loglik converged before variable  11 ; beta may be infinite. ”"
     ]
    },
    {
     "data": {
      "text/plain": [
       "                         rho    chisq        p\n",
       "HFV_indicator        0.17065 3.56e+00 5.91e-02\n",
       "female              -0.11480 3.52e+00 6.08e-02\n",
       "age                  0.09304 8.66e-01 3.52e-01\n",
       "pim2                -0.19556 9.08e+00 2.59e-03\n",
       "pelod                0.02630 8.91e-02 7.65e-01\n",
       "p_bloodculture      -0.12243 1.38e+00 2.40e-01\n",
       "comorbidity         -0.08322 1.20e+00 2.74e-01\n",
       "rf_pneumonia         0.22290 1.42e+01 1.67e-04\n",
       "rf_sepsis            0.01670 2.13e-02 8.84e-01\n",
       "rf_aspiration       -0.18491 8.33e+00 3.90e-03\n",
       "rf_transfusion      -0.21963 4.03e+00 4.47e-02\n",
       "rf_drowning         -0.01107 8.38e-03 9.27e-01\n",
       "MODS                 0.22079 1.89e+01 1.40e-05\n",
       "factor(OI_cat)2      0.04033 1.16e-01 7.33e-01\n",
       "factor(OI_cat)3     -0.22963 1.25e+01 4.05e-04\n",
       "factor(OI_cat)4     -0.36164 1.79e+01 2.35e-05\n",
       "age:end_day         -0.15472 2.51e+00 1.13e-01\n",
       "comorbidity:end_day  0.07478 1.01e+00 3.15e-01\n",
       "pelod:end_day       -0.00226 7.01e-04 9.79e-01\n",
       "GLOBAL                    NA 5.03e+01 1.19e-04"
      ]
     },
     "metadata": {},
     "output_type": "display_data"
    },
    {
     "data": {
      "text/html": [
       "<strong>png:</strong> 2"
      ],
      "text/latex": [
       "\\textbf{png:} 2"
      ],
      "text/markdown": [
       "**png:** 2"
      ],
      "text/plain": [
       "png \n",
       "  2 "
      ]
     },
     "metadata": {},
     "output_type": "display_data"
    },
    {
     "data": {
      "text/html": [
       "<strong>png:</strong> 2"
      ],
      "text/latex": [
       "\\textbf{png:} 2"
      ],
      "text/markdown": [
       "**png:** 2"
      ],
      "text/plain": [
       "png \n",
       "  2 "
      ]
     },
     "metadata": {},
     "output_type": "display_data"
    },
    {
     "data": {
      "text/html": [
       "<strong>png:</strong> 2"
      ],
      "text/latex": [
       "\\textbf{png:} 2"
      ],
      "text/markdown": [
       "**png:** 2"
      ],
      "text/plain": [
       "png \n",
       "  2 "
      ]
     },
     "metadata": {},
     "output_type": "display_data"
    },
    {
     "data": {
      "text/html": [
       "<strong>png:</strong> 2"
      ],
      "text/latex": [
       "\\textbf{png:} 2"
      ],
      "text/markdown": [
       "**png:** 2"
      ],
      "text/plain": [
       "png \n",
       "  2 "
      ]
     },
     "metadata": {},
     "output_type": "display_data"
    },
    {
     "data": {
      "text/html": [
       "<strong>png:</strong> 2"
      ],
      "text/latex": [
       "\\textbf{png:} 2"
      ],
      "text/markdown": [
       "**png:** 2"
      ],
      "text/plain": [
       "png \n",
       "  2 "
      ]
     },
     "metadata": {},
     "output_type": "display_data"
    }
   ],
   "source": [
    "###### Check for PH assumption of MSM\n",
    "#####      redisual plots for MSM\n",
    "\n",
    "time_model <- ipwtm(\n",
    "  exposure = HFV_indicator,\n",
    "  family = \"survival\",\n",
    "\n",
    "  numerator = ~ female+age+pim2+pelod+p_bloodculture+comorbidity+rf_pneumonia+rf_sepsis\n",
    "                 +rf_aspiration+rf_transfusion+rf_drowning+MODS+factor(OI_cat),\n",
    "  denominator = ~1,\n",
    "  id = ID,\n",
    "  tstart = start_day,\n",
    "  timevar = end_day,\n",
    "  type = \"first\",\n",
    "  data = df2, trunc=0.01)\n",
    "\n",
    "\n",
    "#MSM Cox PH model with adjustment for covariates\n",
    "MSM<-coxph(Surv(start_day, end_day, event) ~ HFV_indicator+female+age+pim2+pelod+p_bloodculture+comorbidity+rf_pneumonia+rf_sepsis\n",
    "                 +rf_aspiration+rf_transfusion+rf_drowning+MODS+factor(OI_cat)+cluster(ID)+age:end_day+comorbidity:end_day+pelod:end_day,\n",
    "   data = df2, weights = time_model$weights.trunc)\n",
    "\n",
    "\n",
    "fit0<-cox.zph(MSM, global=TRUE)\n",
    "cox.zph(MSM, global=TRUE)\n",
    "\n",
    "vars<-c(\"HFOV\",\"Gender(Female)\",\"Age\",\"PIM2\",\"PELOD\",\"Bacteremia\",\"Comorbidity\",\"Pneumonia Risk\",\"Sepsis Risk\",\"Aspiration Risk\",\n",
    "        \"Transfusion Risk\",\"Drowning Risk\",\"Multiorgan dysfunction\",\"Oxygenation index\",\"Cat2\",\"Cat3\",\"Age:Time\",\"Comorbidity:Time\",\"PELOD:Time\")\n",
    "\n",
    "\n",
    "png(\"rplot0.png\",width = 600, height = 600)\n",
    "p1<-plot(fit0, ylab=vars, var=1,col=\"red\")\n",
    "dev.off()\n",
    "\n",
    "\n",
    "png(\"rplot1.png\",width = 600, height = 600)\n",
    "layout(matrix(c(1,2,3,4), 2, 2, byrow = TRUE), \n",
    "   widths=c(1,1,1,1), heights=c(1,1,1,1))\n",
    "#p1<-plot(fit0, ylab=vars, var=1,col=\"red\")\n",
    "\n",
    "p2<-plot(fit0, ylab=vars, var=2,col=\"red\")\n",
    "p3<-plot(fit0, ylab=vars, var=3,col=\"red\")\n",
    "p4<-plot(fit0, ylab=vars, var=4,col=\"red\")\n",
    "p5<-plot(fit0, ylab=vars, var=5,col=\"red\")\n",
    "dev.off()\n",
    "png(\"rplot2.png\",width = 600, height = 600)\n",
    "layout(matrix(c(1,2,3,4), 2, 2, byrow = TRUE), \n",
    "   widths=c(1,1,1,1), heights=c(1,1,1,1))\n",
    "p6<-plot(fit0, ylab=vars, var=6,col=\"red\")\n",
    "p7<-plot(fit0, ylab=vars, var=7,col=\"red\")\n",
    "p8<-plot(fit0, ylab=vars, var=8,col=\"red\")\n",
    "p9<-plot(fit0, ylab=vars, var=9,col=\"red\")\n",
    "dev.off()\n",
    "png(\"rplot3.png\",width = 600, height = 600)\n",
    "layout(matrix(c(1,2,3,4), 2, 2, byrow = TRUE), \n",
    "   widths=c(1,1,1,1), heights=c(1,1,1,1))\n",
    "p10<-plot(fit0, ylab=vars, var=10,col=\"red\")\n",
    "p11<-plot(fit0, ylab=vars, var=11,col=\"red\")\n",
    "p12<-plot(fit0, ylab=vars, var=12,col=\"red\")\n",
    "p13<-plot(fit0, ylab=vars, var=13,col=\"red\")\n",
    "dev.off()\n",
    "png(\"rplot4.png\",width = 600, height = 600)\n",
    "layout(matrix(c(1,2,3,4), 2, 2, byrow = TRUE), \n",
    "   widths=c(1,1,1,1), heights=c(1,1,1,1))\n",
    "p14<-plot(fit0, ylab=vars, var=14,col=\"red\")\n",
    "#p15<-plot(fit0, ylab=vars, var=15,col=\"red\")\n",
    "#p16<-plot(fit0, ylab=vars, var=16,col=\"red\")\n",
    "p17<-plot(fit0, ylab=vars, var=17,col=\"red\")\n",
    "p18<-plot(fit0, ylab=vars, var=18,col=\"red\")\n",
    "p19<-plot(fit0, ylab=vars, var=19,col=\"red\")\n",
    "dev.off()"
   ]
  },
  {
   "cell_type": "markdown",
   "metadata": {},
   "source": [
    "## PSM on a daily basis"
   ]
  },
  {
   "cell_type": "code",
   "execution_count": 17,
   "metadata": {},
   "outputs": [
    {
     "data": {
      "image/png": "[encoded data removed]",
      "text/plain": [
       "Plot with title “Histogram of df2_treat$ps”"
      ]
     },
     "metadata": {},
     "output_type": "display_data"
    },
    {
     "data": {
      "image/png": "[encoded data removed]",
      "text/plain": [
       "Plot with title “Histogram of df2_control$ps”"
      ]
     },
     "metadata": {},
     "output_type": "display_data"
    }
   ],
   "source": [
    "df2$weight_trunc<-time_model$weights.trunc\n",
    "####################################################\n",
    "#Alternative Method: PS matching on a daily basis\n",
    "####################################################\n",
    "\n",
    "########## Prepare Dataset for matching ####################\n",
    "df2_treat<-df2[df2$treatment==1,]\n",
    "df2_control<-df2[df2$treatment==0,]\n",
    "\n",
    "df2_treat$ps<-log(1/df2_treat$weight_trunc)\n",
    "hist(df2_treat$ps)\n",
    "\n",
    "df2_control$ps<-log(1/df2_control$weight_trunc)\n",
    "hist(df2_control$ps)\n",
    "\n"
   ]
  },
  {
   "cell_type": "code",
   "execution_count": null,
   "metadata": {},
   "outputs": [],
   "source": [
    "# ########### Match for Day 2 hfov ####################\n",
    "# treat_day<-df2_treat[df2_treat$end_day==2 & df2_treat$HFV_indicator==1 & !(df2_treat$ID %in% pairs_total$matchedID_hfv),]\n",
    "# control_day<-df2_control[df2_control$end_day==2 & !(df2_control$ID %in% pairs_total$matchedID_non_hfv),]\n",
    "# #nrow(treat_day)\n",
    "# #nrow(control_day)\n",
    "# df_day2<-rbind(treat_day,control_day)\n",
    "# #nrow(df_day2)\n",
    "\n",
    "# m.out <- matchit(treatment~age+pim2+pelod+factor(female)+factor(p_bloodculture)+factor(comorbidity)+factor(MODS)+factor(OI_cat), data = df_day2,              \n",
    "#                  method = \"nearest\",\n",
    "#                  distance=\"linear.logit\",\n",
    "#                  discard=\"both\",\n",
    "#                  m.order=\"smallest\",\n",
    "#                  calclosest=TRUE)\n",
    "# #summary(m.out)\n",
    "# matchedID_hfv<-match.data(m.out, \"treat\")$ID\n",
    "# matchedID_non_hfv<-match.data(m.out, \"control\")$ID\n",
    "# pairs<-data.frame(cbind(matchedID_hfv,matchedID_non_hfv))\n",
    "# pairs_total<-rbind(pairs_total, pairs)\n",
    "\n",
    "# #write.csv(pairs, file = \"pair_ID.csv\")\n",
    "# nrow(pairs)\n",
    "# #nrow(pairs_total)\n",
    "\n",
    "# ########## Match for Day 3 hfov ####################\n",
    "\n",
    "# treat_day<-df2_treat[df2_treat$end_day==3 & df2_treat$HFV_indicator==1 & !(df2_treat$ID %in% pairs_total$matchedID_hfv),]\n",
    "# control_day<-df2_control[df2_control$end_day==3 & !(df2_control$ID %in% pairs_total$matchedID_non_hfv),]\n",
    "# #nrow(treat_day)\n",
    "# #nrow(control_day)\n",
    "# df_day3<-rbind(treat_day,control_day)\n",
    "# #nrow(df_day3)\n",
    "\n",
    "# m.out <- matchit(treatment~age+pim2+pelod+factor(female)+factor(p_bloodculture)+factor(comorbidity)+factor(rf_pneumonia)+factor(rf_sepsis)\n",
    "#                  +factor(rf_aspiration)\n",
    "#                  #+factor(rf_transfusion)\n",
    "#                  +factor(rf_drowning)+factor(MODS)+factor(OI_cat), data = df_day3,              \n",
    "#                  method = \"nearest\",\n",
    "#                  distance=\"linear.logit\",\n",
    "#                  discard=\"both\",\n",
    "#                  m.order=\"smallest\",\n",
    "#                  calclosest=TRUE)\n",
    "# #summary(m.out)\n",
    "# matchedID_hfv<-match.data(m.out, \"treat\")$ID\n",
    "# matchedID_non_hfv<-match.data(m.out, \"control\")$ID\n",
    "# pairs<-data.frame(cbind(matchedID_hfv,matchedID_non_hfv))\n",
    "# pairs_total<-rbind(pairs_total, pairs)\n",
    "\n",
    "\n",
    "# nrow(pairs)\n",
    "# #nrow(pairs_total)\n",
    "\n",
    "# ########## Match for Day 4 hfov ####################\n",
    "\n",
    "# treat_day<-df2_treat[df2_treat$end_day==4 & df2_treat$HFV_indicator==1 & !(df2_treat$ID %in% pairs_total$matchedID_hfv),]\n",
    "# control_day<-df2_control[df2_control$end_day==4 & !(df2_control$ID %in% pairs_total$matchedID_non_hfv),]\n",
    "# #nrow(treat_day)\n",
    "# #nrow(control_day)\n",
    "# df_day4<-rbind(treat_day,control_day)\n",
    "# #nrow(df_day4)\n",
    "\n",
    "# m.out <- matchit(treatment~age+pim2+pelod+factor(female)+factor(p_bloodculture)+factor(comorbidity)+factor(rf_pneumonia)+factor(rf_sepsis)\n",
    "#                  +factor(rf_aspiration)\n",
    "#                  #+factor(rf_transfusion)\n",
    "#                  +factor(rf_drowning)+factor(MODS)+factor(OI_cat),  data = df_day4,              \n",
    "#                  method = \"nearest\",\n",
    "#                  distance=\"linear.logit\",\n",
    "#                  discard=\"both\",\n",
    "#                  m.order=\"smallest\",\n",
    "#                  calclosest=TRUE)\n",
    "# #summary(m.out)\n",
    "# matchedID_hfv<-match.data(m.out, \"treat\")$ID\n",
    "# matchedID_non_hfv<-match.data(m.out, \"control\")$ID\n",
    "# pairs<-data.frame(cbind(matchedID_hfv,matchedID_non_hfv))\n",
    "# pairs_total<-rbind(pairs_total, pairs)\n",
    "\n",
    "\n",
    "# nrow(pairs)\n",
    "# #nrow(pairs_total)\n",
    "\n",
    "# ########## Match for Day 5 hfov ####################\n",
    "\n",
    "# treat_day<-df2_treat[df2_treat$end_day==5 & df2_treat$HFV_indicator==1 & !(df2_treat$ID %in% pairs_total$matchedID_hfv),]\n",
    "# control_day<-df2_control[df2_control$end_day==5 & !(df2_control$ID %in% pairs_total$matchedID_non_hfv),]\n",
    "# #nrow(treat_day)\n",
    "# #nrow(control_day)\n",
    "# df_day5<-rbind(treat_day,control_day)\n",
    "# #nrow(df_day5)\n",
    "\n",
    "# m.out <- matchit(treatment~age+pim2+pelod+factor(female)+factor(p_bloodculture)+factor(comorbidity)+factor(rf_pneumonia)+factor(rf_sepsis)\n",
    "#                  +factor(rf_aspiration)\n",
    "#                  #+factor(rf_transfusion)\n",
    "#                  +factor(rf_drowning)+factor(MODS)+factor(OI_cat),  data = df_day5,              \n",
    "#                  method = \"nearest\",\n",
    "#                  distance=\"linear.logit\",\n",
    "#                  discard=\"both\",\n",
    "#                  m.order=\"smallest\",\n",
    "#                  calclosest=TRUE)\n",
    "# #summary(m.out)\n",
    "# matchedID_hfv<-match.data(m.out, \"treat\")$ID\n",
    "# matchedID_non_hfv<-match.data(m.out, \"control\")$ID\n",
    "# pairs<-data.frame(cbind(matchedID_hfv,matchedID_non_hfv))\n",
    "# pairs_total<-rbind(pairs_total, pairs)\n",
    "\n",
    "\n",
    "# nrow(pairs)\n",
    "# #nrow(pairs_total)\n",
    "\n",
    "# ########### Match for Day 6 hfov ####################\n",
    "# treat_day<-df2_treat[df2_treat$end_day==6 & df2_treat$HFV_indicator==1 & !(df2_treat$ID %in% pairs_total$matchedID_hfv),]\n",
    "# control_day<-df2_control[df2_control$end_day==6 & !(df2_control$ID %in% pairs_total$matchedID_non_hfv),]\n",
    "# #nrow(treat_day)\n",
    "# #nrow(control_day)\n",
    "# df_day6<-rbind(treat_day,control_day)\n",
    "# #nrow(df_day6)\n",
    "\n",
    "# m.out <- matchit(treatment~age+pim2+pelod+factor(female)+factor(p_bloodculture)+factor(comorbidity)+factor(rf_pneumonia)+factor(rf_sepsis)\n",
    "#                  +factor(rf_aspiration)\n",
    "#                  #+factor(rf_transfusion)\n",
    "#                  +factor(rf_drowning)+factor(MODS)+factor(OI_cat), data = df_day6,              \n",
    "#                  method = \"nearest\",\n",
    "#                  distance=\"linear.logit\",\n",
    "#                  discard=\"both\",\n",
    "#                  m.order=\"smallest\",\n",
    "#                  calclosest=TRUE)\n",
    "# #summary(m.out)\n",
    "# matchedID_hfv<-match.data(m.out, \"treat\")$ID\n",
    "# matchedID_non_hfv<-match.data(m.out, \"control\")$ID\n",
    "# pairs<-data.frame(cbind(matchedID_hfv,matchedID_non_hfv))\n",
    "# pairs_total<-rbind(pairs_total, pairs)\n",
    "\n",
    "# #write.csv(pairs, file = \"pair_ID.csv\")\n",
    "# nrow(pairs)\n",
    "# #nrow(pairs_total)\n",
    "\n",
    "# ########## Match for Day 7 hfov ####################\n",
    "# treat_day<-df2_treat[df2_treat$end_day==7 & df2_treat$HFV_indicator==1 & !(df2_treat$ID %in% pairs_total$matchedID_hfv),]\n",
    "# control_day<-df2_control[df2_control$end_day==7 & !(df2_control$ID %in% pairs_total$matchedID_non_hfv),]\n",
    "# #nrow(treat_day)\n",
    "# #nrow(control_day)\n",
    "# df_day7<-rbind(treat_day,control_day)\n",
    "# #nrow(df_day7)\n",
    "\n",
    "# m.out <- matchit(treatment~age+pim2+pelod+factor(female)+factor(p_bloodculture)+factor(comorbidity)+factor(rf_pneumonia)+factor(rf_sepsis)\n",
    "#                  +factor(rf_aspiration)\n",
    "#                  #+factor(rf_transfusion)\n",
    "#                  +factor(rf_drowning)+factor(MODS)+factor(OI_cat),  data = df_day7,              \n",
    "#                  method = \"nearest\",\n",
    "#                  distance=\"linear.logit\",\n",
    "#                  discard=\"both\",\n",
    "#                  m.order=\"smallest\",\n",
    "#                  calclosest=TRUE)\n",
    "# #summary(m.out)\n",
    "# matchedID_hfv<-match.data(m.out, \"treat\")$ID\n",
    "# matchedID_non_hfv<-match.data(m.out, \"control\")$ID\n",
    "# pairs<-data.frame(cbind(matchedID_hfv,matchedID_non_hfv))\n",
    "# pairs_total<-rbind(pairs_total, pairs)\n",
    "\n",
    "\n",
    "# nrow(pairs)\n",
    "# nrow(pairs_total)\n",
    "\n",
    "\n",
    "# ####################################################\n",
    "# #Alternative Method: PS matching on a daily basis\n",
    "# ####################################################\n",
    "\n",
    "# ########## Outcome analysis for daily pairs ####################\n",
    "\n",
    "# #daily_pair_ID <- read.csv(\"daily_pair_ID.csv\")\n",
    "# daily_pair_ID<- pairs_total\n",
    "# mydata$mort_100day<-ifelse(kkh$Died.within.100.days==\"Yes\",1,0)\n",
    "# sensitivity_data<-mydata[(mydata$ID %in% daily_pair_ID$matchedID_hfv)| (mydata$ID %in% daily_pair_ID$matchedID_non_hfv),]\n",
    "# head(sensitivity_data)\n",
    "# pair_number<-length(sensitivity_data[,1])\n",
    "\n",
    "# #pairwise difference for continuous data\n",
    "# hfv<-sensitivity_data[sensitivity_data$ID %in% daily_pair_ID$matchedID_hfv,]\n",
    "# non_hfv<-sensitivity_data[sensitivity_data$ID %in% daily_pair_ID$matchedID_non_hfv,]\n",
    "\n",
    "\n",
    "\n",
    "\n",
    "# #paired t-test for ventilator free days\n",
    "# print(\"paired t-test for ventilator free days difference between HFOV less Non-HFOV\")\n",
    "# diffy<-hfv$ventilation_free_day-non_hfv$ventilation_free_day\n",
    "# t.test(diffy)\n",
    "\n",
    "# #paired t-test for picu free days\n",
    "# print(\"paired t-test for picu free days difference between HFOV less Non-HFOV\")\n",
    "# diffy1<-hfv$picu_free_days-non_hfv$picu_free_days\n",
    "# t.test(diffy1)\n",
    "\n",
    "# #McNemar test for 100 day mortality\n",
    "# print(\"100 day mortality difference between HFOV less Non-HFOV\")\n",
    "# mcnemar.test(hfv$mort_100day, non_hfv$mort_100day)\n",
    "\n",
    "# #calculate n% of 100 day mortality for matched cohort\n",
    "# print(\"Non-HFOV group 100day mortality n:\")\n",
    "# length(non_hfv$ID[non_hfv$mort_100day==1])\n",
    "# print(\"%:\")\n",
    "# length(non_hfv$ID[non_hfv$mort_100day==1])/pair_number\n",
    "# print(\"HFOV group 100day mortality n:\")\n",
    "# length(hfv$ID[hfv$mort_100day==1])\n",
    "# print(\"%:\")\n",
    "# length(hfv$ID[hfv$mort_100day==1])/pair_number\n",
    "\n",
    "# #McNemar test for 28-day mortality\n",
    "# y_treatment<-hfv$mortality_28day[hfv$treatment==1] \n",
    "# y_control<-non_hfv$mortality_28day[non_hfv$treatment==0] \n",
    "# table(y_treatment,y_control)\n",
    "# print(\"28 day mortality difference between HFOV less Non-HFOV\")\n",
    "# mcnemar.test(y_treatment, y_control)\n",
    "\n",
    "# #calculate odds ratio for 28-day mortality\n",
    "# y_treatment<-sensitivity_data$mortality_28day[sensitivity_data$treatment==1] \n",
    "# y_control<-sensitivity_data$mortality_28day[sensitivity_data$treatment==0] \n",
    "\n",
    "# ########## calculate Odd's ratio here!\n",
    "# print(\"Odds ratio\")\n",
    "# a<-length(y_treatment[y_treatment==1])\n",
    "# b<-length(y_control[y_control==1])\n",
    "# c<-length(y_treatment[y_treatment==0])\n",
    "# d<-length(y_control[y_control==0])\n",
    "# print(c(a,b,c,d))\n",
    "# a/(a+c)\n",
    "# b/(b+d)\n",
    "\n",
    "# oddsratio(matrix(c(a,b,c,d), ncol=2, nrow=2))\n"
   ]
  },
  {
   "cell_type": "code",
   "execution_count": 18,
   "metadata": {},
   "outputs": [
    {
     "data": {
      "text/html": [
       "<table>\n",
       "<thead><tr><th></th><th scope=col>ID</th><th scope=col>hospital_number</th><th scope=col>female</th><th scope=col>age</th><th scope=col>pim2</th><th scope=col>pelod</th><th scope=col>p_bloodculture</th><th scope=col>comorbidity</th><th scope=col>rf_pneumonia</th><th scope=col>rf_sepsis</th><th scope=col>⋯</th><th scope=col>mortality_100day</th><th scope=col>ventilation_free_day</th><th scope=col>picu_free_days</th><th scope=col>fio2</th><th scope=col>map</th><th scope=col>amplitude</th><th scope=col>OI_cat</th><th scope=col>ICUduration</th><th scope=col>mort_100day</th><th scope=col>weight</th></tr></thead>\n",
       "<tbody>\n",
       "\t<tr><th scope=row>3</th><td>1005    </td><td>1       </td><td>1       </td><td>0.10    </td><td> 0.6    </td><td> 1      </td><td>0       </td><td>0       </td><td>1       </td><td>0       </td><td>⋯       </td><td>0       </td><td>21      </td><td>20      </td><td>   NA   </td><td>NA      </td><td>NA      </td><td>2       </td><td> 9      </td><td>0       </td><td>1.692353</td></tr>\n",
       "\t<tr><th scope=row>10</th><td>1014    </td><td>1       </td><td>1       </td><td>5.08    </td><td>18.2    </td><td> 3      </td><td>0       </td><td>0       </td><td>1       </td><td>1       </td><td>⋯       </td><td>1       </td><td> 0      </td><td> 0      </td><td>   NA   </td><td>NA      </td><td>NA      </td><td>1       </td><td>62      </td><td>1       </td><td>1.050604</td></tr>\n",
       "\t<tr><th scope=row>11</th><td>1015    </td><td>1       </td><td>1       </td><td>5.08    </td><td>18.2    </td><td> 3      </td><td>1       </td><td>0       </td><td>1       </td><td>1       </td><td>⋯       </td><td>1       </td><td> 0      </td><td> 0      </td><td>   NA   </td><td>NA      </td><td>NA      </td><td>4       </td><td>62      </td><td>1       </td><td>2.638227</td></tr>\n",
       "\t<tr><th scope=row>16</th><td>1020    </td><td>1       </td><td>0       </td><td>2.78    </td><td>41.8    </td><td>21      </td><td>0       </td><td>0       </td><td>0       </td><td>0       </td><td>⋯       </td><td>0       </td><td>24      </td><td>23      </td><td>   NA   </td><td>NA      </td><td>NA      </td><td>1       </td><td> 6      </td><td>0       </td><td>1.068845</td></tr>\n",
       "\t<tr><th scope=row>18</th><td>1022    </td><td>1       </td><td>1       </td><td>0.28    </td><td> 9.0    </td><td>20      </td><td>0       </td><td>1       </td><td>1       </td><td>0       </td><td>⋯       </td><td>0       </td><td>16      </td><td>15      </td><td>58.75   </td><td>28      </td><td>50      </td><td>2       </td><td>14      </td><td>0       </td><td>1.757998</td></tr>\n",
       "\t<tr><th scope=row>27</th><td>1037    </td><td>1       </td><td>1       </td><td>0.28    </td><td> 8.9    </td><td>20      </td><td>0       </td><td>1       </td><td>1       </td><td>0       </td><td>⋯       </td><td>0       </td><td>16      </td><td>15      </td><td>67.00   </td><td>28      </td><td>53      </td><td>2       </td><td>14      </td><td>0       </td><td>1.758396</td></tr>\n",
       "</tbody>\n",
       "</table>\n"
      ],
      "text/latex": [
       "\\begin{tabular}{r|lllllllllllllllllllllllllllllllllllllll}\n",
       "  & ID & hospital\\_number & female & age & pim2 & pelod & p\\_bloodculture & comorbidity & rf\\_pneumonia & rf\\_sepsis & ⋯ & mortality\\_100day & ventilation\\_free\\_day & picu\\_free\\_days & fio2 & map & amplitude & OI\\_cat & ICUduration & mort\\_100day & weight\\\\\n",
       "\\hline\n",
       "\t3 & 1005     & 1        & 1        & 0.10     &  0.6     &  1       & 0        & 0        & 1        & 0        & ⋯        & 0        & 21       & 20       &    NA    & NA       & NA       & 2        &  9       & 0        & 1.692353\\\\\n",
       "\t10 & 1014     & 1        & 1        & 5.08     & 18.2     &  3       & 0        & 0        & 1        & 1        & ⋯        & 1        &  0       &  0       &    NA    & NA       & NA       & 1        & 62       & 1        & 1.050604\\\\\n",
       "\t11 & 1015     & 1        & 1        & 5.08     & 18.2     &  3       & 1        & 0        & 1        & 1        & ⋯        & 1        &  0       &  0       &    NA    & NA       & NA       & 4        & 62       & 1        & 2.638227\\\\\n",
       "\t16 & 1020     & 1        & 0        & 2.78     & 41.8     & 21       & 0        & 0        & 0        & 0        & ⋯        & 0        & 24       & 23       &    NA    & NA       & NA       & 1        &  6       & 0        & 1.068845\\\\\n",
       "\t18 & 1022     & 1        & 1        & 0.28     &  9.0     & 20       & 0        & 1        & 1        & 0        & ⋯        & 0        & 16       & 15       & 58.75    & 28       & 50       & 2        & 14       & 0        & 1.757998\\\\\n",
       "\t27 & 1037     & 1        & 1        & 0.28     &  8.9     & 20       & 0        & 1        & 1        & 0        & ⋯        & 0        & 16       & 15       & 67.00    & 28       & 53       & 2        & 14       & 0        & 1.758396\\\\\n",
       "\\end{tabular}\n"
      ],
      "text/markdown": [
       "\n",
       "| <!--/--> | ID | hospital_number | female | age | pim2 | pelod | p_bloodculture | comorbidity | rf_pneumonia | rf_sepsis | ⋯ | mortality_100day | ventilation_free_day | picu_free_days | fio2 | map | amplitude | OI_cat | ICUduration | mort_100day | weight | \n",
       "|---|---|---|---|---|---|\n",
       "| 3 | 1005     | 1        | 1        | 0.10     |  0.6     |  1       | 0        | 0        | 1        | 0        | ⋯        | 0        | 21       | 20       |    NA    | NA       | NA       | 2        |  9       | 0        | 1.692353 | \n",
       "| 10 | 1014     | 1        | 1        | 5.08     | 18.2     |  3       | 0        | 0        | 1        | 1        | ⋯        | 1        |  0       |  0       |    NA    | NA       | NA       | 1        | 62       | 1        | 1.050604 | \n",
       "| 11 | 1015     | 1        | 1        | 5.08     | 18.2     |  3       | 1        | 0        | 1        | 1        | ⋯        | 1        |  0       |  0       |    NA    | NA       | NA       | 4        | 62       | 1        | 2.638227 | \n",
       "| 16 | 1020     | 1        | 0        | 2.78     | 41.8     | 21       | 0        | 0        | 0        | 0        | ⋯        | 0        | 24       | 23       |    NA    | NA       | NA       | 1        |  6       | 0        | 1.068845 | \n",
       "| 18 | 1022     | 1        | 1        | 0.28     |  9.0     | 20       | 0        | 1        | 1        | 0        | ⋯        | 0        | 16       | 15       | 58.75    | 28       | 50       | 2        | 14       | 0        | 1.757998 | \n",
       "| 27 | 1037     | 1        | 1        | 0.28     |  8.9     | 20       | 0        | 1        | 1        | 0        | ⋯        | 0        | 16       | 15       | 67.00    | 28       | 53       | 2        | 14       | 0        | 1.758396 | \n",
       "\n",
       "\n"
      ],
      "text/plain": [
       "   ID   hospital_number female age  pim2 pelod p_bloodculture comorbidity\n",
       "3  1005 1               1      0.10  0.6  1    0              0          \n",
       "10 1014 1               1      5.08 18.2  3    0              0          \n",
       "11 1015 1               1      5.08 18.2  3    1              0          \n",
       "16 1020 1               0      2.78 41.8 21    0              0          \n",
       "18 1022 1               1      0.28  9.0 20    0              1          \n",
       "27 1037 1               1      0.28  8.9 20    0              1          \n",
       "   rf_pneumonia rf_sepsis ⋯ mortality_100day ventilation_free_day\n",
       "3  1            0         ⋯ 0                21                  \n",
       "10 1            1         ⋯ 1                 0                  \n",
       "11 1            1         ⋯ 1                 0                  \n",
       "16 0            0         ⋯ 0                24                  \n",
       "18 1            0         ⋯ 0                16                  \n",
       "27 1            0         ⋯ 0                16                  \n",
       "   picu_free_days fio2  map amplitude OI_cat ICUduration mort_100day weight  \n",
       "3  20                NA NA  NA        2       9          0           1.692353\n",
       "10  0                NA NA  NA        1      62          1           1.050604\n",
       "11  0                NA NA  NA        4      62          1           2.638227\n",
       "16 23                NA NA  NA        1       6          0           1.068845\n",
       "18 15             58.75 28  50        2      14          0           1.757998\n",
       "27 15             67.00 28  53        2      14          0           1.758396"
      ]
     },
     "metadata": {},
     "output_type": "display_data"
    },
    {
     "name": "stdout",
     "output_type": "stream",
     "text": [
      "[1] \"paired t-test for ventilator free days difference between HFOV less Non-HFOV\"\n"
     ]
    },
    {
     "data": {
      "text/plain": [
       "\n",
       "\tOne Sample t-test\n",
       "\n",
       "data:  diffy\n",
       "t = -2.4547, df = 38, p-value = 0.01879\n",
       "alternative hypothesis: true mean is not equal to 0\n",
       "95 percent confidence interval:\n",
       " -9.5913158 -0.9215048\n",
       "sample estimates:\n",
       "mean of x \n",
       " -5.25641 \n"
      ]
     },
     "metadata": {},
     "output_type": "display_data"
    },
    {
     "name": "stdout",
     "output_type": "stream",
     "text": [
      "[1] \"paired t-test for picu free days difference between HFOV less Non-HFOV\"\n"
     ]
    },
    {
     "data": {
      "text/plain": [
       "\n",
       "\tOne Sample t-test\n",
       "\n",
       "data:  diffy1\n",
       "t = -1.9139, df = 38, p-value = 0.06318\n",
       "alternative hypothesis: true mean is not equal to 0\n",
       "95 percent confidence interval:\n",
       " -7.3866771  0.2071899\n",
       "sample estimates:\n",
       "mean of x \n",
       "-3.589744 \n"
      ]
     },
     "metadata": {},
     "output_type": "display_data"
    },
    {
     "name": "stdout",
     "output_type": "stream",
     "text": [
      "[1] \"100 day mortality difference between HFOV less Non-HFOV\"\n"
     ]
    },
    {
     "data": {
      "text/plain": [
       "\n",
       "\tMcNemar's Chi-squared test with continuity correction\n",
       "\n",
       "data:  hfv$mort_100day and non_hfv$mort_100day\n",
       "McNemar's chi-squared = 0.94118, df = 1, p-value = 0.332\n"
      ]
     },
     "metadata": {},
     "output_type": "display_data"
    },
    {
     "name": "stdout",
     "output_type": "stream",
     "text": [
      "[1] \"Non-HFOV group 100day mortality n:\"\n"
     ]
    },
    {
     "data": {
      "text/html": [
       "9"
      ],
      "text/latex": [
       "9"
      ],
      "text/markdown": [
       "9"
      ],
      "text/plain": [
       "[1] 9"
      ]
     },
     "metadata": {},
     "output_type": "display_data"
    },
    {
     "name": "stdout",
     "output_type": "stream",
     "text": [
      "[1] \"%:\"\n"
     ]
    },
    {
     "data": {
      "text/html": [
       "0.115384615384615"
      ],
      "text/latex": [
       "0.115384615384615"
      ],
      "text/markdown": [
       "0.115384615384615"
      ],
      "text/plain": [
       "[1] 0.1153846"
      ]
     },
     "metadata": {},
     "output_type": "display_data"
    },
    {
     "name": "stdout",
     "output_type": "stream",
     "text": [
      "[1] \"HFOV group 100day mortality n:\"\n"
     ]
    },
    {
     "data": {
      "text/html": [
       "14"
      ],
      "text/latex": [
       "14"
      ],
      "text/markdown": [
       "14"
      ],
      "text/plain": [
       "[1] 14"
      ]
     },
     "metadata": {},
     "output_type": "display_data"
    },
    {
     "name": "stdout",
     "output_type": "stream",
     "text": [
      "[1] \"%:\"\n"
     ]
    },
    {
     "data": {
      "text/html": [
       "0.179487179487179"
      ],
      "text/latex": [
       "0.179487179487179"
      ],
      "text/markdown": [
       "0.179487179487179"
      ],
      "text/plain": [
       "[1] 0.1794872"
      ]
     },
     "metadata": {},
     "output_type": "display_data"
    },
    {
     "data": {
      "text/plain": [
       "           y_control\n",
       "y_treatment  0  1\n",
       "          0 25  5\n",
       "          1  7  2"
      ]
     },
     "metadata": {},
     "output_type": "display_data"
    },
    {
     "name": "stdout",
     "output_type": "stream",
     "text": [
      "[1] \"28 day mortality difference between HFOV less Non-HFOV\"\n"
     ]
    },
    {
     "data": {
      "text/plain": [
       "\n",
       "\tMcNemar's Chi-squared test with continuity correction\n",
       "\n",
       "data:  y_treatment and y_control\n",
       "McNemar's chi-squared = 0.083333, df = 1, p-value = 0.7728\n"
      ]
     },
     "metadata": {},
     "output_type": "display_data"
    },
    {
     "name": "stdout",
     "output_type": "stream",
     "text": [
      "[1] \"Odds ratio\"\n",
      "[1]  9  7 30 32\n"
     ]
    },
    {
     "data": {
      "text/html": [
       "0.230769230769231"
      ],
      "text/latex": [
       "0.230769230769231"
      ],
      "text/markdown": [
       "0.230769230769231"
      ],
      "text/plain": [
       "[1] 0.2307692"
      ]
     },
     "metadata": {},
     "output_type": "display_data"
    },
    {
     "data": {
      "text/html": [
       "0.179487179487179"
      ],
      "text/latex": [
       "0.179487179487179"
      ],
      "text/markdown": [
       "0.179487179487179"
      ],
      "text/plain": [
       "[1] 0.1794872"
      ]
     },
     "metadata": {},
     "output_type": "display_data"
    },
    {
     "data": {
      "text/html": [
       "<dl>\n",
       "\t<dt>$data</dt>\n",
       "\t\t<dd><table>\n",
       "<thead><tr><th></th><th scope=col>Disease1</th><th scope=col>Disease2</th><th scope=col>Total</th></tr></thead>\n",
       "<tbody>\n",
       "\t<tr><th scope=row>Exposed1</th><td> 9</td><td>30</td><td>39</td></tr>\n",
       "\t<tr><th scope=row>Exposed2</th><td> 7</td><td>32</td><td>39</td></tr>\n",
       "\t<tr><th scope=row>Total</th><td>16</td><td>62</td><td>78</td></tr>\n",
       "</tbody>\n",
       "</table>\n",
       "</dd>\n",
       "\t<dt>$measure</dt>\n",
       "\t\t<dd><table>\n",
       "<thead><tr><th></th><th scope=col>estimate</th><th scope=col>lower</th><th scope=col>upper</th></tr></thead>\n",
       "<tbody>\n",
       "\t<tr><th scope=row>Exposed1</th><td>1.000000 </td><td>       NA</td><td>      NA </td></tr>\n",
       "\t<tr><th scope=row>Exposed2</th><td>1.360465 </td><td>0.4434294</td><td>4.331214 </td></tr>\n",
       "</tbody>\n",
       "</table>\n",
       "</dd>\n",
       "\t<dt>$p.value</dt>\n",
       "\t\t<dd><table>\n",
       "<thead><tr><th></th><th scope=col>midp.exact</th><th scope=col>fisher.exact</th><th scope=col>chi.square</th></tr></thead>\n",
       "<tbody>\n",
       "\t<tr><th scope=row>Exposed1</th><td>       NA</td><td>       NA</td><td>      NA </td></tr>\n",
       "\t<tr><th scope=row>Exposed2</th><td>0.5903969</td><td>0.7799148</td><td>0.574922 </td></tr>\n",
       "</tbody>\n",
       "</table>\n",
       "</dd>\n",
       "\t<dt>$correction</dt>\n",
       "\t\t<dd>FALSE</dd>\n",
       "</dl>\n"
      ],
      "text/latex": [
       "\\begin{description}\n",
       "\\item[\\$data] \\begin{tabular}{r|lll}\n",
       "  & Disease1 & Disease2 & Total\\\\\n",
       "\\hline\n",
       "\tExposed1 &  9 & 30 & 39\\\\\n",
       "\tExposed2 &  7 & 32 & 39\\\\\n",
       "\tTotal & 16 & 62 & 78\\\\\n",
       "\\end{tabular}\n",
       "\n",
       "\\item[\\$measure] \\begin{tabular}{r|lll}\n",
       "  & estimate & lower & upper\\\\\n",
       "\\hline\n",
       "\tExposed1 & 1.000000  &        NA &       NA \\\\\n",
       "\tExposed2 & 1.360465  & 0.4434294 & 4.331214 \\\\\n",
       "\\end{tabular}\n",
       "\n",
       "\\item[\\$p.value] \\begin{tabular}{r|lll}\n",
       "  & midp.exact & fisher.exact & chi.square\\\\\n",
       "\\hline\n",
       "\tExposed1 &        NA &        NA &       NA \\\\\n",
       "\tExposed2 & 0.5903969 & 0.7799148 & 0.574922 \\\\\n",
       "\\end{tabular}\n",
       "\n",
       "\\item[\\$correction] FALSE\n",
       "\\end{description}\n"
      ],
      "text/markdown": [
       "$data\n",
       ":   \n",
       "| <!--/--> | Disease1 | Disease2 | Total | \n",
       "|---|---|---|\n",
       "| Exposed1 |  9 | 30 | 39 | \n",
       "| Exposed2 |  7 | 32 | 39 | \n",
       "| Total | 16 | 62 | 78 | \n",
       "\n",
       "\n",
       "\n",
       "$measure\n",
       ":   \n",
       "| <!--/--> | estimate | lower | upper | \n",
       "|---|---|\n",
       "| Exposed1 | 1.000000  |        NA |       NA  | \n",
       "| Exposed2 | 1.360465  | 0.4434294 | 4.331214  | \n",
       "\n",
       "\n",
       "\n",
       "$p.value\n",
       ":   \n",
       "| <!--/--> | midp.exact | fisher.exact | chi.square | \n",
       "|---|---|\n",
       "| Exposed1 |        NA |        NA |       NA  | \n",
       "| Exposed2 | 0.5903969 | 0.7799148 | 0.574922  | \n",
       "\n",
       "\n",
       "\n",
       "$correction\n",
       ":   FALSE\n",
       "\n",
       "\n"
      ],
      "text/plain": [
       "$data\n",
       "          Outcome\n",
       "Predictor  Disease1 Disease2 Total\n",
       "  Exposed1        9       30    39\n",
       "  Exposed2        7       32    39\n",
       "  Total          16       62    78\n",
       "\n",
       "$measure\n",
       "          odds ratio with 95% C.I.\n",
       "Predictor  estimate     lower    upper\n",
       "  Exposed1 1.000000        NA       NA\n",
       "  Exposed2 1.360465 0.4434294 4.331214\n",
       "\n",
       "$p.value\n",
       "          two-sided\n",
       "Predictor  midp.exact fisher.exact chi.square\n",
       "  Exposed1         NA           NA         NA\n",
       "  Exposed2  0.5903969    0.7799148   0.574922\n",
       "\n",
       "$correction\n",
       "[1] FALSE\n",
       "\n",
       "attr(,\"method\")\n",
       "[1] \"median-unbiased estimate & mid-p exact CI\""
      ]
     },
     "metadata": {},
     "output_type": "display_data"
    }
   ],
   "source": [
    "\n",
    "####################################################\n",
    "#Alternative Method: PS matching on a daily basis\n",
    "####################################################\n",
    "\n",
    "########## Outcome analysis for daily pairs ####################\n",
    "\n",
    "daily_pair_ID <- read.csv(\"daily_pair_ID.csv\")\n",
    "\n",
    "mydata$mort_100day<-ifelse(kkh$Died.within.100.days==\"Yes\",1,0)\n",
    "sensitivity_data<-mydata[(mydata$ID %in% daily_pair_ID$matchedID_hfv)| (mydata$ID %in% daily_pair_ID$matchedID_non_hfv),]\n",
    "head(sensitivity_data)\n",
    "pair_number<-length(sensitivity_data[,1])\n",
    "\n",
    "#pairwise difference for continuous data\n",
    "hfv<-sensitivity_data[sensitivity_data$ID %in% daily_pair_ID$matchedID_hfv,]\n",
    "non_hfv<-sensitivity_data[sensitivity_data$ID %in% daily_pair_ID$matchedID_non_hfv,]\n",
    "\n",
    "\n",
    "\n",
    "\n",
    "#paired t-test for ventilator free days\n",
    "print(\"paired t-test for ventilator free days difference between HFOV less Non-HFOV\")\n",
    "diffy<-hfv$ventilation_free_day-non_hfv$ventilation_free_day\n",
    "t.test(diffy)\n",
    "\n",
    "#paired t-test for picu free days\n",
    "print(\"paired t-test for picu free days difference between HFOV less Non-HFOV\")\n",
    "diffy1<-hfv$picu_free_days-non_hfv$picu_free_days\n",
    "t.test(diffy1)\n",
    "\n",
    "#McNemar test for 100 day mortality\n",
    "print(\"100 day mortality difference between HFOV less Non-HFOV\")\n",
    "mcnemar.test(hfv$mort_100day, non_hfv$mort_100day)\n",
    "\n",
    "#calculate n% of 100 day mortality for matched cohort\n",
    "print(\"Non-HFOV group 100day mortality n:\")\n",
    "length(non_hfv$ID[non_hfv$mort_100day==1])\n",
    "print(\"%:\")\n",
    "length(non_hfv$ID[non_hfv$mort_100day==1])/pair_number\n",
    "print(\"HFOV group 100day mortality n:\")\n",
    "length(hfv$ID[hfv$mort_100day==1])\n",
    "print(\"%:\")\n",
    "length(hfv$ID[hfv$mort_100day==1])/pair_number\n",
    "\n",
    "#McNemar test for 28-day mortality\n",
    "y_treatment<-hfv$mortality_28day[hfv$treatment==1] \n",
    "y_control<-non_hfv$mortality_28day[non_hfv$treatment==0] \n",
    "table(y_treatment,y_control)\n",
    "print(\"28 day mortality difference between HFOV less Non-HFOV\")\n",
    "mcnemar.test(y_treatment, y_control)\n",
    "\n",
    "#calculate odds ratio for 28-day mortality\n",
    "y_treatment<-sensitivity_data$mortality_28day[sensitivity_data$treatment==1] \n",
    "y_control<-sensitivity_data$mortality_28day[sensitivity_data$treatment==0] \n",
    "\n",
    "########## calculate Odd's ratio here!\n",
    "print(\"Odds ratio\")\n",
    "a<-length(y_treatment[y_treatment==1])\n",
    "b<-length(y_control[y_control==1])\n",
    "c<-length(y_treatment[y_treatment==0])\n",
    "d<-length(y_control[y_control==0])\n",
    "print(c(a,b,c,d))\n",
    "a/(a+c)\n",
    "b/(b+d)\n",
    "\n",
    "oddsratio(matrix(c(a,b,c,d), ncol=2, nrow=2))"
   ]
  },
  {
   "cell_type": "markdown",
   "metadata": {},
   "source": [
    "## multi-center effects"
   ]
  },
  {
   "cell_type": "code",
   "execution_count": 19,
   "metadata": {},
   "outputs": [
    {
     "data": {
      "text/plain": [
       "Call:\n",
       "coxph(formula = Surv(mortality_28day) ~ treatment + treatment:factor(hospital_number) + \n",
       "    female + age + pim2 + pelod + p_bloodculture + comorbidity + \n",
       "    rf_pneumonia + rf_sepsis + rf_aspiration + rf_transfusion + \n",
       "    rf_drowning + MODS + factor(OI_cat) + strata(hospital_number), \n",
       "    data = mydata)\n",
       "\n",
       "  n= 328, number of events= 328 \n",
       "\n",
       "                                         coef exp(coef)  se(coef)      z\n",
       "treatment                           -0.303536  0.738204  0.270010 -1.124\n",
       "female                              -0.082235  0.921056  0.126627 -0.649\n",
       "age                                 -0.001981  0.998021  0.013980 -0.142\n",
       "pim2                                -0.002125  0.997877  0.003991 -0.533\n",
       "pelod                               -0.009811  0.990237  0.007837 -1.252\n",
       "p_bloodculture                      -0.277258  0.757859  0.187753 -1.477\n",
       "comorbidity                         -0.135601  0.873191  0.145430 -0.932\n",
       "rf_pneumonia                         0.026487  1.026841  0.206589  0.128\n",
       "rf_sepsis                           -0.122007  0.885142  0.178647 -0.683\n",
       "rf_aspiration                       -0.018230  0.981935  0.306461 -0.059\n",
       "rf_transfusion                       0.039397  1.040184  0.480209  0.082\n",
       "rf_drowning                          0.066122  1.068357  0.387719  0.171\n",
       "MODS                                -0.437731  0.645499  0.145418 -3.010\n",
       "factor(OI_cat)2                      0.266494  1.305380  0.171152  1.557\n",
       "factor(OI_cat)3                      0.062374  1.064360  0.235946  0.264\n",
       "factor(OI_cat)4                      0.285292  1.330150  0.181521  1.572\n",
       "treatment:factor(hospital_number)2   0.294629  1.342628  0.501601  0.587\n",
       "treatment:factor(hospital_number)3   0.831359  2.296438  0.870318  0.955\n",
       "treatment:factor(hospital_number)4   0.645468  1.906880  0.862845  0.748\n",
       "treatment:factor(hospital_number)6  -0.168285  0.845113  0.384002 -0.438\n",
       "treatment:factor(hospital_number)7  -0.814926  0.442672  0.629489 -1.295\n",
       "treatment:factor(hospital_number)8   0.047546  1.048694  0.540373  0.088\n",
       "treatment:factor(hospital_number)9  -0.124314  0.883102  0.446177 -0.279\n",
       "treatment:factor(hospital_number)10 -1.412978  0.243417  1.197239 -1.180\n",
       "treatment:factor(hospital_number)11 -0.102708  0.902390  0.583940 -0.176\n",
       "                                    Pr(>|z|)   \n",
       "treatment                            0.26094   \n",
       "female                               0.51606   \n",
       "age                                  0.88730   \n",
       "pim2                                 0.59437   \n",
       "pelod                                0.21061   \n",
       "p_bloodculture                       0.13975   \n",
       "comorbidity                          0.35112   \n",
       "rf_pneumonia                         0.89798   \n",
       "rf_sepsis                            0.49464   \n",
       "rf_aspiration                        0.95257   \n",
       "rf_transfusion                       0.93461   \n",
       "rf_drowning                          0.86458   \n",
       "MODS                                 0.00261 **\n",
       "factor(OI_cat)2                      0.11946   \n",
       "factor(OI_cat)3                      0.79151   \n",
       "factor(OI_cat)4                      0.11603   \n",
       "treatment:factor(hospital_number)2   0.55695   \n",
       "treatment:factor(hospital_number)3   0.33946   \n",
       "treatment:factor(hospital_number)4   0.45442   \n",
       "treatment:factor(hospital_number)6   0.66121   \n",
       "treatment:factor(hospital_number)7   0.19546   \n",
       "treatment:factor(hospital_number)8   0.92989   \n",
       "treatment:factor(hospital_number)9   0.78054   \n",
       "treatment:factor(hospital_number)10  0.23792   \n",
       "treatment:factor(hospital_number)11  0.86038   \n",
       "---\n",
       "Signif. codes:  0 ‘***’ 0.001 ‘**’ 0.01 ‘*’ 0.05 ‘.’ 0.1 ‘ ’ 1\n",
       "\n",
       "                                    exp(coef) exp(-coef) lower .95 upper .95\n",
       "treatment                              0.7382     1.3546   0.43485    1.2532\n",
       "female                                 0.9211     1.0857   0.71862    1.1805\n",
       "age                                    0.9980     1.0020   0.97105    1.0257\n",
       "pim2                                   0.9979     1.0021   0.99010    1.0057\n",
       "pelod                                  0.9902     1.0099   0.97514    1.0056\n",
       "p_bloodculture                         0.7579     1.3195   0.52453    1.0950\n",
       "comorbidity                            0.8732     1.1452   0.65663    1.1612\n",
       "rf_pneumonia                           1.0268     0.9739   0.68494    1.5394\n",
       "rf_sepsis                              0.8851     1.1298   0.62366    1.2563\n",
       "rf_aspiration                          0.9819     1.0184   0.53855    1.7904\n",
       "rf_transfusion                         1.0402     0.9614   0.40584    2.6660\n",
       "rf_drowning                            1.0684     0.9360   0.49968    2.2843\n",
       "MODS                                   0.6455     1.5492   0.48542    0.8584\n",
       "factor(OI_cat)2                        1.3054     0.7661   0.93337    1.8257\n",
       "factor(OI_cat)3                        1.0644     0.9395   0.67027    1.6902\n",
       "factor(OI_cat)4                        1.3301     0.7518   0.93194    1.8985\n",
       "treatment:factor(hospital_number)2     1.3426     0.7448   0.50233    3.5886\n",
       "treatment:factor(hospital_number)3     2.2964     0.4355   0.41710   12.6436\n",
       "treatment:factor(hospital_number)4     1.9069     0.5244   0.35145   10.3461\n",
       "treatment:factor(hospital_number)6     0.8451     1.1833   0.39815    1.7938\n",
       "treatment:factor(hospital_number)7     0.4427     2.2590   0.12890    1.5202\n",
       "treatment:factor(hospital_number)8     1.0487     0.9536   0.36365    3.0242\n",
       "treatment:factor(hospital_number)9     0.8831     1.1324   0.36832    2.1174\n",
       "treatment:factor(hospital_number)10    0.2434     4.1082   0.02329    2.5436\n",
       "treatment:factor(hospital_number)11    0.9024     1.1082   0.28731    2.8343\n",
       "\n",
       "Concordance= 0.834  (se = 0.18 )\n",
       "Rsquare= 0.121   (max possible= 0.997 )\n",
       "Likelihood ratio test= 42.45  on 25 df,   p=0.02\n",
       "Wald test            = 39.91  on 25 df,   p=0.03\n",
       "Score (logrank) test = 41.43  on 25 df,   p=0.02\n"
      ]
     },
     "metadata": {},
     "output_type": "display_data"
    },
    {
     "data": {
      "text/plain": [
       "                                          rho    chisq     p\n",
       "treatment                           -0.006496 1.55e-02 0.901\n",
       "female                               0.029285 3.29e-01 0.566\n",
       "age                                 -0.012622 5.34e-02 0.817\n",
       "pim2                                -0.000180 1.15e-05 0.997\n",
       "pelod                                0.055480 1.05e+00 0.307\n",
       "p_bloodculture                       0.034915 4.80e-01 0.488\n",
       "comorbidity                          0.018367 1.25e-01 0.724\n",
       "rf_pneumonia                         0.001628 9.48e-04 0.975\n",
       "rf_sepsis                           -0.003312 4.30e-03 0.948\n",
       "rf_aspiration                       -0.009059 2.86e-02 0.866\n",
       "rf_transfusion                       0.005168 9.02e-03 0.924\n",
       "rf_drowning                         -0.009832 3.45e-02 0.853\n",
       "MODS                                 0.055718 1.03e+00 0.311\n",
       "factor(OI_cat)2                     -0.036873 4.70e-01 0.493\n",
       "factor(OI_cat)3                     -0.002379 2.00e-03 0.964\n",
       "factor(OI_cat)4                     -0.048797 8.46e-01 0.358\n",
       "treatment:factor(hospital_number)2  -0.008738 2.71e-02 0.869\n",
       "treatment:factor(hospital_number)3  -0.057971 1.04e+00 0.308\n",
       "treatment:factor(hospital_number)4   0.000616 1.30e-04 0.991\n",
       "treatment:factor(hospital_number)6   0.044222 7.25e-01 0.395\n",
       "treatment:factor(hospital_number)7   0.034064 3.94e-01 0.530\n",
       "treatment:factor(hospital_number)8   0.022835 1.79e-01 0.673\n",
       "treatment:factor(hospital_number)9   0.023583 2.01e-01 0.654\n",
       "treatment:factor(hospital_number)10  0.000426 6.51e-05 0.994\n",
       "treatment:factor(hospital_number)11  0.009431 2.96e-02 0.863\n",
       "GLOBAL                                     NA 8.99e+00 0.999"
      ]
     },
     "metadata": {},
     "output_type": "display_data"
    }
   ],
   "source": [
    "################################################################################\n",
    "### Stratified Cox model with interaction terms to study the multi-center effects\n",
    "################################################################################\n",
    "Strata_cox_model<-coxph(Surv(mortality_28day)~treatment+treatment:factor(hospital_number)+female+age+pim2+pelod+p_bloodculture+comorbidity+rf_pneumonia+rf_sepsis\n",
    "                 +rf_aspiration+rf_transfusion+rf_drowning+MODS+factor(OI_cat)+strata(hospital_number), data=mydata)\n",
    "summary(Strata_cox_model)\n",
    "cox.zph(Strata_cox_model, global=TRUE)"
   ]
  },
  {
   "cell_type": "markdown",
   "metadata": {},
   "source": [
    "## Calculate HOFV and CMV setting for the original cohort"
   ]
  },
  {
   "cell_type": "code",
   "execution_count": 20,
   "metadata": {},
   "outputs": [
    {
     "data": {
      "text/html": [
       "<table>\n",
       "<thead><tr><th></th><th scope=col>fio2</th><th scope=col>map</th><th scope=col>amplitude</th></tr></thead>\n",
       "<tbody>\n",
       "\t<tr><th scope=row>4</th><td>100.00  </td><td>23.0    </td><td>70.00000</td></tr>\n",
       "\t<tr><th scope=row>6</th><td>100.00  </td><td>32.0    </td><td>43.66667</td></tr>\n",
       "\t<tr><th scope=row>8</th><td>100.00  </td><td>30.0    </td><td>75.00000</td></tr>\n",
       "\t<tr><th scope=row>15</th><td> 71.00  </td><td>30.0    </td><td>55.80000</td></tr>\n",
       "\t<tr><th scope=row>18</th><td> 58.75  </td><td>28.0    </td><td>50.00000</td></tr>\n",
       "\t<tr><th scope=row>20</th><td>100.00  </td><td>25.5    </td><td>62.00000</td></tr>\n",
       "</tbody>\n",
       "</table>\n"
      ],
      "text/latex": [
       "\\begin{tabular}{r|lll}\n",
       "  & fio2 & map & amplitude\\\\\n",
       "\\hline\n",
       "\t4 & 100.00   & 23.0     & 70.00000\\\\\n",
       "\t6 & 100.00   & 32.0     & 43.66667\\\\\n",
       "\t8 & 100.00   & 30.0     & 75.00000\\\\\n",
       "\t15 &  71.00   & 30.0     & 55.80000\\\\\n",
       "\t18 &  58.75   & 28.0     & 50.00000\\\\\n",
       "\t20 & 100.00   & 25.5     & 62.00000\\\\\n",
       "\\end{tabular}\n"
      ],
      "text/markdown": [
       "\n",
       "| <!--/--> | fio2 | map | amplitude | \n",
       "|---|---|---|---|---|---|\n",
       "| 4 | 100.00   | 23.0     | 70.00000 | \n",
       "| 6 | 100.00   | 32.0     | 43.66667 | \n",
       "| 8 | 100.00   | 30.0     | 75.00000 | \n",
       "| 15 |  71.00   | 30.0     | 55.80000 | \n",
       "| 18 |  58.75   | 28.0     | 50.00000 | \n",
       "| 20 | 100.00   | 25.5     | 62.00000 | \n",
       "\n",
       "\n"
      ],
      "text/plain": [
       "   fio2   map  amplitude\n",
       "4  100.00 23.0 70.00000 \n",
       "6  100.00 32.0 43.66667 \n",
       "8  100.00 30.0 75.00000 \n",
       "15  71.00 30.0 55.80000 \n",
       "18  58.75 28.0 50.00000 \n",
       "20 100.00 25.5 62.00000 "
      ]
     },
     "metadata": {},
     "output_type": "display_data"
    },
    {
     "data": {
      "text/html": [
       "<dl class=dl-horizontal>\n",
       "\t<dt>map</dt>\n",
       "\t\t<dd>24.9224041206195</dd>\n",
       "\t<dt>amplitude</dt>\n",
       "\t\t<dd>55.2147529637383</dd>\n",
       "\t<dt>fio2</dt>\n",
       "\t\t<dd>82.9314535204386</dd>\n",
       "</dl>\n"
      ],
      "text/latex": [
       "\\begin{description*}\n",
       "\\item[map] 24.9224041206195\n",
       "\\item[amplitude] 55.2147529637383\n",
       "\\item[fio2] 82.9314535204386\n",
       "\\end{description*}\n"
      ],
      "text/markdown": [
       "map\n",
       ":   24.9224041206195amplitude\n",
       ":   55.2147529637383fio2\n",
       ":   82.9314535204386\n",
       "\n"
      ],
      "text/plain": [
       "      map amplitude      fio2 \n",
       " 24.92240  55.21475  82.93145 "
      ]
     },
     "metadata": {},
     "output_type": "display_data"
    },
    {
     "data": {
      "text/html": [
       "5.65389301806335"
      ],
      "text/latex": [
       "5.65389301806335"
      ],
      "text/markdown": [
       "5.65389301806335"
      ],
      "text/plain": [
       "[1] 5.653893"
      ]
     },
     "metadata": {},
     "output_type": "display_data"
    },
    {
     "data": {
      "text/html": [
       "13.8445500287911"
      ],
      "text/latex": [
       "13.8445500287911"
      ],
      "text/markdown": [
       "13.8445500287911"
      ],
      "text/plain": [
       "[1] 13.84455"
      ]
     },
     "metadata": {},
     "output_type": "display_data"
    },
    {
     "data": {
      "text/html": [
       "17.8983817294144"
      ],
      "text/latex": [
       "17.8983817294144"
      ],
      "text/markdown": [
       "17.8983817294144"
      ],
      "text/plain": [
       "[1] 17.89838"
      ]
     },
     "metadata": {},
     "output_type": "display_data"
    }
   ],
   "source": [
    "hfov_setting<-data.frame(mydata[mydata$treatment==1,c(\"fio2\",\"map\",\"amplitude\")])\n",
    "\n",
    "head(hfov_setting)\n",
    "colMeans(hfov_setting[,c(\"map\",\"amplitude\",\"fio2\")], na.rm=TRUE)\n",
    "\n",
    "map<-subset(hfov_setting$map, (!is.na(hfov_setting[,\"map\"])))\n",
    "amplitude<-subset(hfov_setting$amplitude, (!is.na(hfov_setting[,\"amplitude\"])))\n",
    "fio2<-subset(hfov_setting$fio2, (!is.na(hfov_setting[,\"fio2\"])))\n",
    "\n",
    "sd(map) \n",
    "sd(amplitude) \n",
    "sd(fio2) "
   ]
  },
  {
   "cell_type": "code",
   "execution_count": 21,
   "metadata": {},
   "outputs": [
    {
     "data": {
      "text/html": [
       "<table>\n",
       "<thead><tr><th scope=col>StudyID</th><th scope=col>D1_HFV</th><th scope=col>D2_HFV</th><th scope=col>D3_HFV</th><th scope=col>D4_HFV</th><th scope=col>D5_HFV</th><th scope=col>D6_HFV</th><th scope=col>D7_HFV</th><th scope=col>HFOV_days</th><th scope=col>exclude</th><th scope=col>⋯</th><th scope=col>d3_amplitude</th><th scope=col>d4_amplitude</th><th scope=col>d5_amplitude</th><th scope=col>d6_amplitude</th><th scope=col>d7_amplitude</th><th scope=col>cmv_tidal</th><th scope=col>cmv_fio2</th><th scope=col>cmv_pip</th><th scope=col>cmv_peep</th><th scope=col>cmv_map</th></tr></thead>\n",
       "<tbody>\n",
       "\t<tr><td>1001     </td><td>0        </td><td>0        </td><td>0        </td><td>0        </td><td>0        </td><td>0        </td><td>0        </td><td>0        </td><td>include  </td><td>⋯        </td><td>0        </td><td>0        </td><td>0        </td><td>0        </td><td>0        </td><td> 19.00000</td><td>65.00000 </td><td>25.00000 </td><td>9.000000 </td><td>14.50000 </td></tr>\n",
       "\t<tr><td>1003     </td><td>0        </td><td>0        </td><td>0        </td><td>0        </td><td>0        </td><td>0        </td><td>0        </td><td>0        </td><td>include  </td><td>⋯        </td><td>0        </td><td>0        </td><td>0        </td><td>0        </td><td>0        </td><td> 83.50000</td><td>28.57143 </td><td>15.50000 </td><td>3.714286 </td><td>13.06667 </td></tr>\n",
       "\t<tr><td>1005     </td><td>0        </td><td>0        </td><td>0        </td><td>0        </td><td>0        </td><td>0        </td><td>0        </td><td>0        </td><td>include  </td><td>⋯        </td><td>0        </td><td>0        </td><td>0        </td><td>0        </td><td>0        </td><td> 44.71429</td><td>33.57143 </td><td>22.28572 </td><td>1.000000 </td><td>18.00000 </td></tr>\n",
       "\t<tr><td>1008     </td><td>0        </td><td>0        </td><td>0        </td><td>0        </td><td>0        </td><td>0        </td><td>0        </td><td>0        </td><td>include  </td><td>⋯        </td><td>0        </td><td>0        </td><td>0        </td><td>0        </td><td>0        </td><td>231.50000</td><td>34.00000 </td><td>15.25000 </td><td>6.000000 </td><td>20.00000 </td></tr>\n",
       "\t<tr><td>1010     </td><td>0        </td><td>0        </td><td>0        </td><td>0        </td><td>0        </td><td>0        </td><td>0        </td><td>0        </td><td>include  </td><td>⋯        </td><td>0        </td><td>0        </td><td>0        </td><td>0        </td><td>0        </td><td> 26.75000</td><td>42.80000 </td><td>17.50000 </td><td>7.200000 </td><td>12.00000 </td></tr>\n",
       "\t<tr><td>1012     </td><td>0        </td><td>0        </td><td>0        </td><td>0        </td><td>0        </td><td>0        </td><td>0        </td><td>0        </td><td>include  </td><td>⋯        </td><td>0        </td><td>0        </td><td>0        </td><td>0        </td><td>0        </td><td> 51.20000</td><td>31.83333 </td><td>19.00000 </td><td>6.833333 </td><td>10.48000 </td></tr>\n",
       "</tbody>\n",
       "</table>\n"
      ],
      "text/latex": [
       "\\begin{tabular}{r|llllllllllllllllllllllllllllllllllllllllllllllllllllllllllllllllllllllllllllllllllllllllllllllllllllllllllllllllllllllllllllllllllllllllllllllllllllllllllllllllllllllllllllllllllllllllllllllllllllllllllllllllllllllllllllllllllllllllllllllllllllllllllllllllllllllllllllllllllllllllllllllllllllllllllllllllllllllllllllllllllllllllllllllllllllllllllll}\n",
       " StudyID & D1\\_HFV & D2\\_HFV & D3\\_HFV & D4\\_HFV & D5\\_HFV & D6\\_HFV & D7\\_HFV & HFOV\\_days & exclude & ⋯ & d3\\_amplitude & d4\\_amplitude & d5\\_amplitude & d6\\_amplitude & d7\\_amplitude & cmv\\_tidal & cmv\\_fio2 & cmv\\_pip & cmv\\_peep & cmv\\_map\\\\\n",
       "\\hline\n",
       "\t 1001      & 0         & 0         & 0         & 0         & 0         & 0         & 0         & 0         & include   & ⋯         & 0         & 0         & 0         & 0         & 0         &  19.00000 & 65.00000  & 25.00000  & 9.000000  & 14.50000 \\\\\n",
       "\t 1003      & 0         & 0         & 0         & 0         & 0         & 0         & 0         & 0         & include   & ⋯         & 0         & 0         & 0         & 0         & 0         &  83.50000 & 28.57143  & 15.50000  & 3.714286  & 13.06667 \\\\\n",
       "\t 1005      & 0         & 0         & 0         & 0         & 0         & 0         & 0         & 0         & include   & ⋯         & 0         & 0         & 0         & 0         & 0         &  44.71429 & 33.57143  & 22.28572  & 1.000000  & 18.00000 \\\\\n",
       "\t 1008      & 0         & 0         & 0         & 0         & 0         & 0         & 0         & 0         & include   & ⋯         & 0         & 0         & 0         & 0         & 0         & 231.50000 & 34.00000  & 15.25000  & 6.000000  & 20.00000 \\\\\n",
       "\t 1010      & 0         & 0         & 0         & 0         & 0         & 0         & 0         & 0         & include   & ⋯         & 0         & 0         & 0         & 0         & 0         &  26.75000 & 42.80000  & 17.50000  & 7.200000  & 12.00000 \\\\\n",
       "\t 1012      & 0         & 0         & 0         & 0         & 0         & 0         & 0         & 0         & include   & ⋯         & 0         & 0         & 0         & 0         & 0         &  51.20000 & 31.83333  & 19.00000  & 6.833333  & 10.48000 \\\\\n",
       "\\end{tabular}\n"
      ],
      "text/markdown": [
       "\n",
       "StudyID | D1_HFV | D2_HFV | D3_HFV | D4_HFV | D5_HFV | D6_HFV | D7_HFV | HFOV_days | exclude | ⋯ | d3_amplitude | d4_amplitude | d5_amplitude | d6_amplitude | d7_amplitude | cmv_tidal | cmv_fio2 | cmv_pip | cmv_peep | cmv_map | \n",
       "|---|---|---|---|---|---|\n",
       "| 1001      | 0         | 0         | 0         | 0         | 0         | 0         | 0         | 0         | include   | ⋯         | 0         | 0         | 0         | 0         | 0         |  19.00000 | 65.00000  | 25.00000  | 9.000000  | 14.50000  | \n",
       "| 1003      | 0         | 0         | 0         | 0         | 0         | 0         | 0         | 0         | include   | ⋯         | 0         | 0         | 0         | 0         | 0         |  83.50000 | 28.57143  | 15.50000  | 3.714286  | 13.06667  | \n",
       "| 1005      | 0         | 0         | 0         | 0         | 0         | 0         | 0         | 0         | include   | ⋯         | 0         | 0         | 0         | 0         | 0         |  44.71429 | 33.57143  | 22.28572  | 1.000000  | 18.00000  | \n",
       "| 1008      | 0         | 0         | 0         | 0         | 0         | 0         | 0         | 0         | include   | ⋯         | 0         | 0         | 0         | 0         | 0         | 231.50000 | 34.00000  | 15.25000  | 6.000000  | 20.00000  | \n",
       "| 1010      | 0         | 0         | 0         | 0         | 0         | 0         | 0         | 0         | include   | ⋯         | 0         | 0         | 0         | 0         | 0         |  26.75000 | 42.80000  | 17.50000  | 7.200000  | 12.00000  | \n",
       "| 1012      | 0         | 0         | 0         | 0         | 0         | 0         | 0         | 0         | include   | ⋯         | 0         | 0         | 0         | 0         | 0         |  51.20000 | 31.83333  | 19.00000  | 6.833333  | 10.48000  | \n",
       "\n",
       "\n"
      ],
      "text/plain": [
       "  StudyID D1_HFV D2_HFV D3_HFV D4_HFV D5_HFV D6_HFV D7_HFV HFOV_days exclude ⋯\n",
       "1 1001    0      0      0      0      0      0      0      0         include ⋯\n",
       "2 1003    0      0      0      0      0      0      0      0         include ⋯\n",
       "3 1005    0      0      0      0      0      0      0      0         include ⋯\n",
       "4 1008    0      0      0      0      0      0      0      0         include ⋯\n",
       "5 1010    0      0      0      0      0      0      0      0         include ⋯\n",
       "6 1012    0      0      0      0      0      0      0      0         include ⋯\n",
       "  d3_amplitude d4_amplitude d5_amplitude d6_amplitude d7_amplitude cmv_tidal\n",
       "1 0            0            0            0            0             19.00000\n",
       "2 0            0            0            0            0             83.50000\n",
       "3 0            0            0            0            0             44.71429\n",
       "4 0            0            0            0            0            231.50000\n",
       "5 0            0            0            0            0             26.75000\n",
       "6 0            0            0            0            0             51.20000\n",
       "  cmv_fio2 cmv_pip  cmv_peep cmv_map \n",
       "1 65.00000 25.00000 9.000000 14.50000\n",
       "2 28.57143 15.50000 3.714286 13.06667\n",
       "3 33.57143 22.28572 1.000000 18.00000\n",
       "4 34.00000 15.25000 6.000000 20.00000\n",
       "5 42.80000 17.50000 7.200000 12.00000\n",
       "6 31.83333 19.00000 6.833333 10.48000"
      ]
     },
     "metadata": {},
     "output_type": "display_data"
    }
   ],
   "source": [
    "cmv_data <- read.csv(\"cmv_data_1125.csv\")\n",
    "head(cmv_data)"
   ]
  },
  {
   "cell_type": "code",
   "execution_count": 22,
   "metadata": {},
   "outputs": [
    {
     "data": {
      "text/html": [
       "<ol class=list-inline>\n",
       "\t<li>Pressure controlled ventilation</li>\n",
       "\t<li>Airway pressure release ventilation</li>\n",
       "\t<li>Volume controlled ventilation</li>\n",
       "</ol>\n",
       "\n",
       "<details>\n",
       "\t<summary style=display:list-item;cursor:pointer>\n",
       "\t\t<strong>Levels</strong>:\n",
       "\t</summary>\n",
       "\t<ol class=list-inline>\n",
       "\t\t<li>'Airway pressure release ventilation'</li>\n",
       "\t\t<li>'Pressure controlled ventilation'</li>\n",
       "\t\t<li>'Volume controlled ventilation'</li>\n",
       "\t</ol>\n",
       "</details>"
      ],
      "text/latex": [
       "\\begin{enumerate*}\n",
       "\\item Pressure controlled ventilation\n",
       "\\item Airway pressure release ventilation\n",
       "\\item Volume controlled ventilation\n",
       "\\end{enumerate*}\n",
       "\n",
       "\\emph{Levels}: \\begin{enumerate*}\n",
       "\\item 'Airway pressure release ventilation'\n",
       "\\item 'Pressure controlled ventilation'\n",
       "\\item 'Volume controlled ventilation'\n",
       "\\end{enumerate*}\n"
      ],
      "text/markdown": [
       "1. Pressure controlled ventilation\n",
       "2. Airway pressure release ventilation\n",
       "3. Volume controlled ventilation\n",
       "\n",
       "\n",
       "\n",
       "**Levels**: 1. 'Airway pressure release ventilation'\n",
       "2. 'Pressure controlled ventilation'\n",
       "3. 'Volume controlled ventilation'\n",
       "\n",
       "\n"
      ],
      "text/plain": [
       "[1] Pressure controlled ventilation     Airway pressure release ventilation\n",
       "[3] Volume controlled ventilation      \n",
       "3 Levels: Airway pressure release ventilation ..."
      ]
     },
     "metadata": {},
     "output_type": "display_data"
    }
   ],
   "source": [
    "#colnames(cmv_data)\n",
    "cmv<-cmv_data[,c(\"cmv_tidal\",\"cmv_fio2\",\"cmv_pip\",\"cmv_peep\",\"cmv_map\",\"D2_ventilation_mode\",\"Weight_kg\")]\n",
    "unique(cmv$D2_ventilation_mode)\n",
    "cmv_setting<-cmv[cmv$D2_ventilation_mode==\"Pressure controlled ventilation\" |cmv$D2_ventilation_mode==\"Volume controlled ventilation\"  ,]\n",
    "aprv_setting<-cmv[cmv$D2_ventilation_mode==\"Airway pressure release ventilation\" ,]"
   ]
  },
  {
   "cell_type": "code",
   "execution_count": 23,
   "metadata": {},
   "outputs": [
    {
     "data": {
      "text/html": [
       "<table>\n",
       "<thead><tr><th></th><th scope=col>cmv_tidal</th><th scope=col>cmv_fio2</th><th scope=col>cmv_pip</th><th scope=col>cmv_peep</th><th scope=col>cmv_map</th><th scope=col>D2_ventilation_mode</th><th scope=col>Weight_kg</th><th scope=col>cmv_tidal_kg</th></tr></thead>\n",
       "<tbody>\n",
       "\t<tr><th scope=row>2</th><td> 83.50000                          </td><td>28.57143                           </td><td>15.50000                           </td><td>3.714286                           </td><td>13.06667                           </td><td>Airway pressure release ventilation</td><td> 8.80                              </td><td> 9.488636                          </td></tr>\n",
       "\t<tr><th scope=row>3</th><td> 44.71429                          </td><td>33.57143                           </td><td>22.28572                           </td><td>1.000000                           </td><td>18.00000                           </td><td>Airway pressure release ventilation</td><td> 4.69                              </td><td> 9.533963                          </td></tr>\n",
       "\t<tr><th scope=row>4</th><td>231.50000                          </td><td>34.00000                           </td><td>15.25000                           </td><td>6.000000                           </td><td>20.00000                           </td><td>Airway pressure release ventilation</td><td>42.00                              </td><td> 5.511905                          </td></tr>\n",
       "\t<tr><th scope=row>7</th><td>257.71429                          </td><td>40.14286                           </td><td>20.42857                           </td><td>1.428571                           </td><td>18.28572                           </td><td>Airway pressure release ventilation</td><td>19.00                              </td><td>13.563910                          </td></tr>\n",
       "\t<tr><th scope=row>8</th><td>258.71429                          </td><td>58.57143                           </td><td>30.00000                           </td><td>0.000000                           </td><td>27.42857                           </td><td>Airway pressure release ventilation</td><td>19.00                              </td><td>13.616542                          </td></tr>\n",
       "\t<tr><th scope=row>9</th><td>225.00000                          </td><td>70.00000                           </td><td>29.33333                           </td><td>2.000000                           </td><td>25.16667                           </td><td>Airway pressure release ventilation</td><td>19.00                              </td><td>11.842105                          </td></tr>\n",
       "</tbody>\n",
       "</table>\n"
      ],
      "text/latex": [
       "\\begin{tabular}{r|llllllll}\n",
       "  & cmv\\_tidal & cmv\\_fio2 & cmv\\_pip & cmv\\_peep & cmv\\_map & D2\\_ventilation\\_mode & Weight\\_kg & cmv\\_tidal\\_kg\\\\\n",
       "\\hline\n",
       "\t2 &  83.50000                           & 28.57143                            & 15.50000                            & 3.714286                            & 13.06667                            & Airway pressure release ventilation &  8.80                               &  9.488636                          \\\\\n",
       "\t3 &  44.71429                           & 33.57143                            & 22.28572                            & 1.000000                            & 18.00000                            & Airway pressure release ventilation &  4.69                               &  9.533963                          \\\\\n",
       "\t4 & 231.50000                           & 34.00000                            & 15.25000                            & 6.000000                            & 20.00000                            & Airway pressure release ventilation & 42.00                               &  5.511905                          \\\\\n",
       "\t7 & 257.71429                           & 40.14286                            & 20.42857                            & 1.428571                            & 18.28572                            & Airway pressure release ventilation & 19.00                               & 13.563910                          \\\\\n",
       "\t8 & 258.71429                           & 58.57143                            & 30.00000                            & 0.000000                            & 27.42857                            & Airway pressure release ventilation & 19.00                               & 13.616542                          \\\\\n",
       "\t9 & 225.00000                           & 70.00000                            & 29.33333                            & 2.000000                            & 25.16667                            & Airway pressure release ventilation & 19.00                               & 11.842105                          \\\\\n",
       "\\end{tabular}\n"
      ],
      "text/markdown": [
       "\n",
       "| <!--/--> | cmv_tidal | cmv_fio2 | cmv_pip | cmv_peep | cmv_map | D2_ventilation_mode | Weight_kg | cmv_tidal_kg | \n",
       "|---|---|---|---|---|---|\n",
       "| 2 |  83.50000                           | 28.57143                            | 15.50000                            | 3.714286                            | 13.06667                            | Airway pressure release ventilation |  8.80                               |  9.488636                           | \n",
       "| 3 |  44.71429                           | 33.57143                            | 22.28572                            | 1.000000                            | 18.00000                            | Airway pressure release ventilation |  4.69                               |  9.533963                           | \n",
       "| 4 | 231.50000                           | 34.00000                            | 15.25000                            | 6.000000                            | 20.00000                            | Airway pressure release ventilation | 42.00                               |  5.511905                           | \n",
       "| 7 | 257.71429                           | 40.14286                            | 20.42857                            | 1.428571                            | 18.28572                            | Airway pressure release ventilation | 19.00                               | 13.563910                           | \n",
       "| 8 | 258.71429                           | 58.57143                            | 30.00000                            | 0.000000                            | 27.42857                            | Airway pressure release ventilation | 19.00                               | 13.616542                           | \n",
       "| 9 | 225.00000                           | 70.00000                            | 29.33333                            | 2.000000                            | 25.16667                            | Airway pressure release ventilation | 19.00                               | 11.842105                           | \n",
       "\n",
       "\n"
      ],
      "text/plain": [
       "  cmv_tidal cmv_fio2 cmv_pip  cmv_peep cmv_map \n",
       "2  83.50000 28.57143 15.50000 3.714286 13.06667\n",
       "3  44.71429 33.57143 22.28572 1.000000 18.00000\n",
       "4 231.50000 34.00000 15.25000 6.000000 20.00000\n",
       "7 257.71429 40.14286 20.42857 1.428571 18.28572\n",
       "8 258.71429 58.57143 30.00000 0.000000 27.42857\n",
       "9 225.00000 70.00000 29.33333 2.000000 25.16667\n",
       "  D2_ventilation_mode                 Weight_kg cmv_tidal_kg\n",
       "2 Airway pressure release ventilation  8.80      9.488636   \n",
       "3 Airway pressure release ventilation  4.69      9.533963   \n",
       "4 Airway pressure release ventilation 42.00      5.511905   \n",
       "7 Airway pressure release ventilation 19.00     13.563910   \n",
       "8 Airway pressure release ventilation 19.00     13.616542   \n",
       "9 Airway pressure release ventilation 19.00     11.842105   "
      ]
     },
     "metadata": {},
     "output_type": "display_data"
    }
   ],
   "source": [
    "aprv_setting$cmv_tidal_kg<- aprv_setting$cmv_tidal/aprv_setting$Weight_kg\n",
    "head(aprv_setting)"
   ]
  },
  {
   "cell_type": "code",
   "execution_count": 24,
   "metadata": {},
   "outputs": [
    {
     "data": {
      "text/html": [
       "<dl class=dl-horizontal>\n",
       "\t<dt>cmv_tidal_kg</dt>\n",
       "\t\t<dd>10.0669426222409</dd>\n",
       "\t<dt>cmv_fio2</dt>\n",
       "\t\t<dd>61.0319397163415</dd>\n",
       "\t<dt>cmv_pip</dt>\n",
       "\t\t<dd>25.9035423321951</dd>\n",
       "\t<dt>cmv_peep</dt>\n",
       "\t\t<dd>0.999651564365854</dd>\n",
       "\t<dt>cmv_map</dt>\n",
       "\t\t<dd>23.2675957565854</dd>\n",
       "</dl>\n"
      ],
      "text/latex": [
       "\\begin{description*}\n",
       "\\item[cmv\\textbackslash{}\\_tidal\\textbackslash{}\\_kg] 10.0669426222409\n",
       "\\item[cmv\\textbackslash{}\\_fio2] 61.0319397163415\n",
       "\\item[cmv\\textbackslash{}\\_pip] 25.9035423321951\n",
       "\\item[cmv\\textbackslash{}\\_peep] 0.999651564365854\n",
       "\\item[cmv\\textbackslash{}\\_map] 23.2675957565854\n",
       "\\end{description*}\n"
      ],
      "text/markdown": [
       "cmv_tidal_kg\n",
       ":   10.0669426222409cmv_fio2\n",
       ":   61.0319397163415cmv_pip\n",
       ":   25.9035423321951cmv_peep\n",
       ":   0.999651564365854cmv_map\n",
       ":   23.2675957565854\n",
       "\n"
      ],
      "text/plain": [
       "cmv_tidal_kg     cmv_fio2      cmv_pip     cmv_peep      cmv_map \n",
       "  10.0669426   61.0319397   25.9035423    0.9996516   23.2675958 "
      ]
     },
     "metadata": {},
     "output_type": "display_data"
    },
    {
     "data": {
      "text/html": [
       "<dl class=dl-horizontal>\n",
       "\t<dt>cmv_tidal_kg</dt>\n",
       "\t\t<dd>3.30765454306125</dd>\n",
       "\t<dt>cmv_fio2</dt>\n",
       "\t\t<dd>23.0879317697911</dd>\n",
       "\t<dt>cmv_pip</dt>\n",
       "\t\t<dd>6.62194307154047</dd>\n",
       "\t<dt>cmv_peep</dt>\n",
       "\t\t<dd>1.9619245143465</dd>\n",
       "\t<dt>cmv_map</dt>\n",
       "\t\t<dd>6.09287166650766</dd>\n",
       "</dl>\n"
      ],
      "text/latex": [
       "\\begin{description*}\n",
       "\\item[cmv\\textbackslash{}\\_tidal\\textbackslash{}\\_kg] 3.30765454306125\n",
       "\\item[cmv\\textbackslash{}\\_fio2] 23.0879317697911\n",
       "\\item[cmv\\textbackslash{}\\_pip] 6.62194307154047\n",
       "\\item[cmv\\textbackslash{}\\_peep] 1.9619245143465\n",
       "\\item[cmv\\textbackslash{}\\_map] 6.09287166650766\n",
       "\\end{description*}\n"
      ],
      "text/markdown": [
       "cmv_tidal_kg\n",
       ":   3.30765454306125cmv_fio2\n",
       ":   23.0879317697911cmv_pip\n",
       ":   6.62194307154047cmv_peep\n",
       ":   1.9619245143465cmv_map\n",
       ":   6.09287166650766\n",
       "\n"
      ],
      "text/plain": [
       "cmv_tidal_kg     cmv_fio2      cmv_pip     cmv_peep      cmv_map \n",
       "    3.307655    23.087932     6.621943     1.961925     6.092872 "
      ]
     },
     "metadata": {},
     "output_type": "display_data"
    }
   ],
   "source": [
    "#APRV setting\n",
    "colMeans(aprv_setting[,c(\"cmv_tidal_kg\",\"cmv_fio2\",\"cmv_pip\",\"cmv_peep\",\"cmv_map\")], na.rm=TRUE)\n",
    "apply(aprv_setting[,c(\"cmv_tidal_kg\",\"cmv_fio2\",\"cmv_pip\",\"cmv_peep\",\"cmv_map\")], 2, sd, na.rm = TRUE)"
   ]
  },
  {
   "cell_type": "code",
   "execution_count": 25,
   "metadata": {},
   "outputs": [
    {
     "data": {
      "text/html": [
       "<table>\n",
       "<thead><tr><th></th><th scope=col>cmv_tidal</th><th scope=col>cmv_fio2</th><th scope=col>cmv_pip</th><th scope=col>cmv_peep</th><th scope=col>cmv_map</th><th scope=col>D2_ventilation_mode</th><th scope=col>Weight_kg</th><th scope=col>cmv_tidal_kg</th></tr></thead>\n",
       "<tbody>\n",
       "\t<tr><th scope=row>1</th><td> 19.00000                      </td><td>65.00000                       </td><td>25.00000                       </td><td>9.000000                       </td><td>14.50000                       </td><td>Pressure controlled ventilation</td><td> 2.5                           </td><td> 7.600000                      </td></tr>\n",
       "\t<tr><th scope=row>5</th><td> 26.75000                      </td><td>42.80000                       </td><td>17.50000                       </td><td>7.200000                       </td><td>12.00000                       </td><td>Pressure controlled ventilation</td><td> 2.7                           </td><td> 9.907407                      </td></tr>\n",
       "\t<tr><th scope=row>6</th><td> 51.20000                      </td><td>31.83333                       </td><td>19.00000                       </td><td>6.833333                       </td><td>10.48000                       </td><td>Pressure controlled ventilation</td><td> 4.2                           </td><td>12.190476                      </td></tr>\n",
       "\t<tr><th scope=row>10</th><td>350.00000                      </td><td>41.50000                       </td><td>24.00000                       </td><td>9.333333                       </td><td>15.00000                       </td><td>Pressure controlled ventilation</td><td>30.0                           </td><td>11.666667                      </td></tr>\n",
       "\t<tr><th scope=row>11</th><td> 40.71429                      </td><td>35.00000                       </td><td>20.14286                       </td><td>6.857143                       </td><td>12.14286                       </td><td>Pressure controlled ventilation</td><td> 2.6                           </td><td>15.659341                      </td></tr>\n",
       "\t<tr><th scope=row>12</th><td>120.00000                      </td><td>40.16667                       </td><td>23.00000                       </td><td>7.400000                       </td><td>13.66000                       </td><td>Volume controlled ventilation  </td><td>12.0                           </td><td>10.000000                      </td></tr>\n",
       "</tbody>\n",
       "</table>\n"
      ],
      "text/latex": [
       "\\begin{tabular}{r|llllllll}\n",
       "  & cmv\\_tidal & cmv\\_fio2 & cmv\\_pip & cmv\\_peep & cmv\\_map & D2\\_ventilation\\_mode & Weight\\_kg & cmv\\_tidal\\_kg\\\\\n",
       "\\hline\n",
       "\t1 &  19.00000                       & 65.00000                        & 25.00000                        & 9.000000                        & 14.50000                        & Pressure controlled ventilation &  2.5                            &  7.600000                      \\\\\n",
       "\t5 &  26.75000                       & 42.80000                        & 17.50000                        & 7.200000                        & 12.00000                        & Pressure controlled ventilation &  2.7                            &  9.907407                      \\\\\n",
       "\t6 &  51.20000                       & 31.83333                        & 19.00000                        & 6.833333                        & 10.48000                        & Pressure controlled ventilation &  4.2                            & 12.190476                      \\\\\n",
       "\t10 & 350.00000                       & 41.50000                        & 24.00000                        & 9.333333                        & 15.00000                        & Pressure controlled ventilation & 30.0                            & 11.666667                      \\\\\n",
       "\t11 &  40.71429                       & 35.00000                        & 20.14286                        & 6.857143                        & 12.14286                        & Pressure controlled ventilation &  2.6                            & 15.659341                      \\\\\n",
       "\t12 & 120.00000                       & 40.16667                        & 23.00000                        & 7.400000                        & 13.66000                        & Volume controlled ventilation   & 12.0                            & 10.000000                      \\\\\n",
       "\\end{tabular}\n"
      ],
      "text/markdown": [
       "\n",
       "| <!--/--> | cmv_tidal | cmv_fio2 | cmv_pip | cmv_peep | cmv_map | D2_ventilation_mode | Weight_kg | cmv_tidal_kg | \n",
       "|---|---|---|---|---|---|\n",
       "| 1 |  19.00000                       | 65.00000                        | 25.00000                        | 9.000000                        | 14.50000                        | Pressure controlled ventilation |  2.5                            |  7.600000                       | \n",
       "| 5 |  26.75000                       | 42.80000                        | 17.50000                        | 7.200000                        | 12.00000                        | Pressure controlled ventilation |  2.7                            |  9.907407                       | \n",
       "| 6 |  51.20000                       | 31.83333                        | 19.00000                        | 6.833333                        | 10.48000                        | Pressure controlled ventilation |  4.2                            | 12.190476                       | \n",
       "| 10 | 350.00000                       | 41.50000                        | 24.00000                        | 9.333333                        | 15.00000                        | Pressure controlled ventilation | 30.0                            | 11.666667                       | \n",
       "| 11 |  40.71429                       | 35.00000                        | 20.14286                        | 6.857143                        | 12.14286                        | Pressure controlled ventilation |  2.6                            | 15.659341                       | \n",
       "| 12 | 120.00000                       | 40.16667                        | 23.00000                        | 7.400000                        | 13.66000                        | Volume controlled ventilation   | 12.0                            | 10.000000                       | \n",
       "\n",
       "\n"
      ],
      "text/plain": [
       "   cmv_tidal cmv_fio2 cmv_pip  cmv_peep cmv_map \n",
       "1   19.00000 65.00000 25.00000 9.000000 14.50000\n",
       "5   26.75000 42.80000 17.50000 7.200000 12.00000\n",
       "6   51.20000 31.83333 19.00000 6.833333 10.48000\n",
       "10 350.00000 41.50000 24.00000 9.333333 15.00000\n",
       "11  40.71429 35.00000 20.14286 6.857143 12.14286\n",
       "12 120.00000 40.16667 23.00000 7.400000 13.66000\n",
       "   D2_ventilation_mode             Weight_kg cmv_tidal_kg\n",
       "1  Pressure controlled ventilation  2.5       7.600000   \n",
       "5  Pressure controlled ventilation  2.7       9.907407   \n",
       "6  Pressure controlled ventilation  4.2      12.190476   \n",
       "10 Pressure controlled ventilation 30.0      11.666667   \n",
       "11 Pressure controlled ventilation  2.6      15.659341   \n",
       "12 Volume controlled ventilation   12.0      10.000000   "
      ]
     },
     "metadata": {},
     "output_type": "display_data"
    }
   ],
   "source": [
    "#CMV setting\n",
    "cmv_setting$cmv_tidal_kg<- cmv_setting$cmv_tidal/cmv_setting$Weight_kg\n",
    "head(cmv_setting)"
   ]
  },
  {
   "cell_type": "code",
   "execution_count": 26,
   "metadata": {},
   "outputs": [
    {
     "data": {
      "text/html": [
       "<dl class=dl-horizontal>\n",
       "\t<dt>cmv_tidal_kg</dt>\n",
       "\t\t<dd>3.66465510089467</dd>\n",
       "\t<dt>cmv_fio2</dt>\n",
       "\t\t<dd>55.288528130303</dd>\n",
       "\t<dt>cmv_pip</dt>\n",
       "\t\t<dd>20.5784126801212</dd>\n",
       "\t<dt>cmv_peep</dt>\n",
       "\t\t<dd>5.99565657557576</dd>\n",
       "\t<dt>cmv_map</dt>\n",
       "\t\t<dd>11.8775974214364</dd>\n",
       "</dl>\n"
      ],
      "text/latex": [
       "\\begin{description*}\n",
       "\\item[cmv\\textbackslash{}\\_tidal\\textbackslash{}\\_kg] 3.66465510089467\n",
       "\\item[cmv\\textbackslash{}\\_fio2] 55.288528130303\n",
       "\\item[cmv\\textbackslash{}\\_pip] 20.5784126801212\n",
       "\\item[cmv\\textbackslash{}\\_peep] 5.99565657557576\n",
       "\\item[cmv\\textbackslash{}\\_map] 11.8775974214364\n",
       "\\end{description*}\n"
      ],
      "text/markdown": [
       "cmv_tidal_kg\n",
       ":   3.66465510089467cmv_fio2\n",
       ":   55.288528130303cmv_pip\n",
       ":   20.5784126801212cmv_peep\n",
       ":   5.99565657557576cmv_map\n",
       ":   11.8775974214364\n",
       "\n"
      ],
      "text/plain": [
       "cmv_tidal_kg     cmv_fio2      cmv_pip     cmv_peep      cmv_map \n",
       "    3.664655    55.288528    20.578413     5.995657    11.877597 "
      ]
     },
     "metadata": {},
     "output_type": "display_data"
    },
    {
     "data": {
      "text/html": [
       "<dl class=dl-horizontal>\n",
       "\t<dt>cmv_tidal_kg</dt>\n",
       "\t\t<dd>4.65910143044025</dd>\n",
       "\t<dt>cmv_fio2</dt>\n",
       "\t\t<dd>19.1820301500779</dd>\n",
       "\t<dt>cmv_pip</dt>\n",
       "\t\t<dd>10.1090505477355</dd>\n",
       "\t<dt>cmv_peep</dt>\n",
       "\t\t<dd>3.38272009161348</dd>\n",
       "\t<dt>cmv_map</dt>\n",
       "\t\t<dd>7.02230066692817</dd>\n",
       "</dl>\n"
      ],
      "text/latex": [
       "\\begin{description*}\n",
       "\\item[cmv\\textbackslash{}\\_tidal\\textbackslash{}\\_kg] 4.65910143044025\n",
       "\\item[cmv\\textbackslash{}\\_fio2] 19.1820301500779\n",
       "\\item[cmv\\textbackslash{}\\_pip] 10.1090505477355\n",
       "\\item[cmv\\textbackslash{}\\_peep] 3.38272009161348\n",
       "\\item[cmv\\textbackslash{}\\_map] 7.02230066692817\n",
       "\\end{description*}\n"
      ],
      "text/markdown": [
       "cmv_tidal_kg\n",
       ":   4.65910143044025cmv_fio2\n",
       ":   19.1820301500779cmv_pip\n",
       ":   10.1090505477355cmv_peep\n",
       ":   3.38272009161348cmv_map\n",
       ":   7.02230066692817\n",
       "\n"
      ],
      "text/plain": [
       "cmv_tidal_kg     cmv_fio2      cmv_pip     cmv_peep      cmv_map \n",
       "    4.659101    19.182030    10.109051     3.382720     7.022301 "
      ]
     },
     "metadata": {},
     "output_type": "display_data"
    }
   ],
   "source": [
    "#CMV setting\n",
    "colMeans(cmv_setting[,c(\"cmv_tidal_kg\",\"cmv_fio2\",\"cmv_pip\",\"cmv_peep\",\"cmv_map\")], na.rm=TRUE)\n",
    "apply(cmv_setting[,c(\"cmv_tidal_kg\",\"cmv_fio2\",\"cmv_pip\",\"cmv_peep\",\"cmv_map\")], 2, sd, na.rm = TRUE)"
   ]
  },
  {
   "cell_type": "code",
   "execution_count": 27,
   "metadata": {},
   "outputs": [],
   "source": [
    "p_map<-ggplot(data=hfov_setting, aes(hfov_setting$map,..density..))+\n",
    "        geom_histogram(color=\"black\", fill=\"lightblue\", bins=6)+xlab(\"MAP\")+ylab(\"Probability Density\")+\n",
    "        theme_bw(base_size = 16)+\n",
    "         theme(plot.background = element_blank(),#axis.title.y=element_blank(),\n",
    "           panel.grid.major = element_blank(),\n",
    "           panel.grid.minor = element_blank() )+\n",
    "         theme(panel.border= element_blank())+\n",
    "         theme(axis.line.x = element_line(color=\"black\", size = 0.5),axis.line.y = element_line(color=\"black\", size = 0.5))\n",
    "\n",
    "p_fio2<-ggplot(data=hfov_setting, aes(hfov_setting$fio2,..density..))+ylim(0, 0.04)+\n",
    "        geom_histogram(color=\"black\", fill=\"lightblue\", bins=6)+xlab(\"FiO2\")+\n",
    "        theme_bw(base_size = 16)+\n",
    "        theme(plot.background = element_blank(),\n",
    "           panel.grid.major = element_blank(),\n",
    "           panel.grid.minor = element_blank(),axis.title.y=element_blank())+\n",
    "\n",
    "         theme(panel.border= element_blank())+\n",
    "         theme(axis.line.x = element_line(color=\"black\", size = 0.5),axis.line.y = element_line(color=\"black\", size = 0.5))\n",
    "p_amplitue<-ggplot(data=hfov_setting, aes(hfov_setting$amplitude,..density..))+ylim(0, 0.04)+\n",
    "        geom_histogram(color=\"black\", fill=\"lightblue\", bins=6)+xlab(\"Amplitude\")+\n",
    "        theme_bw(base_size = 16)+\n",
    "        theme(plot.background = element_blank(),\n",
    "           panel.grid.major = element_blank(),\n",
    "           panel.grid.minor = element_blank(),axis.title.y=element_blank())+theme(panel.border= element_blank())+\n",
    "         theme(axis.line.x = element_line(color=\"black\", size = 0.5),axis.line.y = element_line(color=\"black\", size = 0.5))\n",
    "\n"
   ]
  },
  {
   "cell_type": "code",
   "execution_count": 28,
   "metadata": {},
   "outputs": [],
   "source": [
    "p_map<-ggplot(data=hfv, aes(hfv$map,..density..))+\n",
    "        geom_histogram(color=\"black\", fill=\"lightblue\", bins=6)+xlab(\"MAP\")+\n",
    "        theme_bw(base_size = 16)+\n",
    "         theme(plot.background = element_blank(),axis.title.y=element_blank(),\n",
    "           panel.grid.major = element_blank(),\n",
    "           panel.grid.minor = element_blank() )+\n",
    "         theme(panel.border= element_blank())+\n",
    "         theme(axis.line.x = element_line(color=\"black\", size = 0.5),axis.line.y = element_line(color=\"black\", size = 0.5))\n",
    "\n",
    "p_fio2<-ggplot(data=hfv, aes(hfv$fio2,..density..))+ylim(0, 0.04)+\n",
    "        geom_histogram(color=\"black\", fill=\"lightblue\", bins=6)+xlab(\"FiO2\")+\n",
    "        theme_bw(base_size = 16)+\n",
    "        theme(plot.background = element_blank(),\n",
    "           panel.grid.major = element_blank(),\n",
    "           panel.grid.minor = element_blank(),axis.title.y=element_blank())+\n",
    "\n",
    "         theme(panel.border= element_blank())+\n",
    "         theme(axis.line.x = element_line(color=\"black\", size = 0.5),axis.line.y = element_line(color=\"black\", size = 0.5))\n",
    "p_amplitue<-ggplot(data=hfv, aes(hfv$amplitude,..density..))+ylim(0, 0.04)+\n",
    "        geom_histogram(color=\"black\", fill=\"lightblue\", bins=6)+xlab(\"Amplitude\")+\n",
    "        theme_bw(base_size = 16)+\n",
    "        theme(plot.background = element_blank(),\n",
    "           panel.grid.major = element_blank(),\n",
    "           panel.grid.minor = element_blank(),axis.title.y=element_blank() )+\n",
    "         theme(panel.border= element_blank())+\n",
    "         theme(axis.line.x = element_line(color=\"black\", size = 0.5),axis.line.y = element_line(color=\"black\", size = 0.5))\n",
    "\n"
   ]
  },
  {
   "cell_type": "code",
   "execution_count": 29,
   "metadata": {},
   "outputs": [
    {
     "name": "stderr",
     "output_type": "stream",
     "text": [
      "Warning message:\n",
      "“Removed 1 rows containing non-finite values (stat_bin).”Warning message:\n",
      "“Removed 1 rows containing non-finite values (stat_bin).”Warning message:\n",
      "“Removed 2 rows containing non-finite values (stat_bin).”Warning message:\n",
      "“Removed 2 rows containing non-finite values (stat_bin).”"
     ]
    },
    {
     "data": {
      "image/png": "[encoded data removed]",
      "text/plain": [
       "plot without title"
      ]
     },
     "metadata": {},
     "output_type": "display_data"
    }
   ],
   "source": [
    "\n",
    "grid.arrange(p_map,p_fio2, p_amplitue,p_amplitue, ncol=2,\n",
    "             left=textGrob(\"Probability Density\",gp=gpar(fontsize=20,font=3),rot=90))\n"
   ]
  },
  {
   "cell_type": "code",
   "execution_count": null,
   "metadata": {},
   "outputs": [],
   "source": []
  }
 ],
 "metadata": {
  "kernelspec": {
   "display_name": "R",
   "language": "R",
   "name": "ir"
  },
  "language_info": {
   "codemirror_mode": "r",
   "file_extension": ".r",
   "mimetype": "text/x-r-source",
   "name": "R",
   "pygments_lexer": "r",
   "version": "3.5.0"
  }
 },
 "nbformat": 4,
 "nbformat_minor": 2
}
