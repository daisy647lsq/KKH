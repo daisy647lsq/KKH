{
 "cells": [
  {
   "cell_type": "code",
   "execution_count": 9,
   "metadata": {},
   "outputs": [],
   "source": [
    "## Load packages and data\n",
    "#library(dplyr)\n",
    "library(tableone)\n",
    "library(MatchIt)\n",
    "library(pROC)\n",
    "library(ROCR)\n",
    "library(ggplot2)\n",
    "library(epitools)\n",
    "library(plyr)\n",
    "library(ipw)\n",
    "library(sandwich)\n",
    "library(survey)\n",
    "library(reshape2)\n"
   ]
  },
  {
   "cell_type": "code",
   "execution_count": 288,
   "metadata": {},
   "outputs": [
    {
     "data": {
      "text/html": [
       "<table>\n",
       "<thead><tr><th scope=col>ID</th><th scope=col>female</th><th scope=col>age</th><th scope=col>pim2</th><th scope=col>pelod</th><th scope=col>p_bloodculture</th><th scope=col>comorbidity</th><th scope=col>rf_pneumonia</th><th scope=col>rf_sepsis</th><th scope=col>rf_aspiration</th><th scope=col>⋯</th><th scope=col>ICUdischargedate</th><th scope=col>mortality_30day</th><th scope=col>mortality_28day</th><th scope=col>mortality_100day</th><th scope=col>ventilation_free_day</th><th scope=col>picu_free_days</th><th scope=col>fio2</th><th scope=col>map</th><th scope=col>amplitude</th><th scope=col>ICUduration</th></tr></thead>\n",
       "<tbody>\n",
       "\t<tr><td>1001    </td><td>1       </td><td>0.02    </td><td>87.3    </td><td>42      </td><td>1       </td><td>0       </td><td>0       </td><td>1       </td><td>0       </td><td>⋯       </td><td>-714251 </td><td>1       </td><td>1       </td><td>1       </td><td> 0      </td><td> 0      </td><td> NA     </td><td>NA      </td><td>      NA</td><td> 3      </td></tr>\n",
       "\t<tr><td>1003    </td><td>0       </td><td>0.47    </td><td> 2.8    </td><td>11      </td><td>0       </td><td>0       </td><td>1       </td><td>0       </td><td>0       </td><td>⋯       </td><td>-714372 </td><td>0       </td><td>0       </td><td>2       </td><td>21      </td><td>26      </td><td> NA     </td><td>NA      </td><td>      NA</td><td> 3      </td></tr>\n",
       "\t<tr><td>1005    </td><td>1       </td><td>0.10    </td><td> 0.6    </td><td> 1      </td><td>0       </td><td>0       </td><td>1       </td><td>0       </td><td>0       </td><td>⋯       </td><td>-714217 </td><td>0       </td><td>0       </td><td>2       </td><td>21      </td><td>20      </td><td> NA     </td><td>NA      </td><td>      NA</td><td> 9      </td></tr>\n",
       "\t<tr><td>1006    </td><td>1       </td><td>1.72    </td><td> 8.2    </td><td>12      </td><td>0       </td><td>0       </td><td>1       </td><td>0       </td><td>0       </td><td>⋯       </td><td>-714392 </td><td>0       </td><td>0       </td><td>2       </td><td> 7      </td><td> 0      </td><td>100     </td><td>23      </td><td>70.00000</td><td>59      </td></tr>\n",
       "\t<tr><td>1008    </td><td>1       </td><td>2.92    </td><td> 6.8    </td><td> 2      </td><td>0       </td><td>1       </td><td>1       </td><td>0       </td><td>0       </td><td>⋯       </td><td>-714195 </td><td>0       </td><td>0       </td><td>2       </td><td>27      </td><td>24      </td><td> NA     </td><td>NA      </td><td>      NA</td><td> 5      </td></tr>\n",
       "\t<tr><td>1009    </td><td>0       </td><td>0.70    </td><td> 2.8    </td><td>10      </td><td>0       </td><td>1       </td><td>1       </td><td>0       </td><td>0       </td><td>⋯       </td><td>-714231 </td><td>1       </td><td>1       </td><td>1       </td><td> 0      </td><td> 0      </td><td>100     </td><td>32      </td><td>43.66667</td><td> 9      </td></tr>\n",
       "</tbody>\n",
       "</table>\n"
      ],
      "text/latex": [
       "\\begin{tabular}{r|llllllllllllllllllllllllllllllllllll}\n",
       " ID & female & age & pim2 & pelod & p\\_bloodculture & comorbidity & rf\\_pneumonia & rf\\_sepsis & rf\\_aspiration & ⋯ & ICUdischargedate & mortality\\_30day & mortality\\_28day & mortality\\_100day & ventilation\\_free\\_day & picu\\_free\\_days & fio2 & map & amplitude & ICUduration\\\\\n",
       "\\hline\n",
       "\t 1001     & 1        & 0.02     & 87.3     & 42       & 1        & 0        & 0        & 1        & 0        & ⋯        & -714251  & 1        & 1        & 1        &  0       &  0       &  NA      & NA       &       NA &  3      \\\\\n",
       "\t 1003     & 0        & 0.47     &  2.8     & 11       & 0        & 0        & 1        & 0        & 0        & ⋯        & -714372  & 0        & 0        & 2        & 21       & 26       &  NA      & NA       &       NA &  3      \\\\\n",
       "\t 1005     & 1        & 0.10     &  0.6     &  1       & 0        & 0        & 1        & 0        & 0        & ⋯        & -714217  & 0        & 0        & 2        & 21       & 20       &  NA      & NA       &       NA &  9      \\\\\n",
       "\t 1006     & 1        & 1.72     &  8.2     & 12       & 0        & 0        & 1        & 0        & 0        & ⋯        & -714392  & 0        & 0        & 2        &  7       &  0       & 100      & 23       & 70.00000 & 59      \\\\\n",
       "\t 1008     & 1        & 2.92     &  6.8     &  2       & 0        & 1        & 1        & 0        & 0        & ⋯        & -714195  & 0        & 0        & 2        & 27       & 24       &  NA      & NA       &       NA &  5      \\\\\n",
       "\t 1009     & 0        & 0.70     &  2.8     & 10       & 0        & 1        & 1        & 0        & 0        & ⋯        & -714231  & 1        & 1        & 1        &  0       &  0       & 100      & 32       & 43.66667 &  9      \\\\\n",
       "\\end{tabular}\n"
      ],
      "text/markdown": [
       "\n",
       "ID | female | age | pim2 | pelod | p_bloodculture | comorbidity | rf_pneumonia | rf_sepsis | rf_aspiration | ⋯ | ICUdischargedate | mortality_30day | mortality_28day | mortality_100day | ventilation_free_day | picu_free_days | fio2 | map | amplitude | ICUduration | \n",
       "|---|---|---|---|---|---|\n",
       "| 1001     | 1        | 0.02     | 87.3     | 42       | 1        | 0        | 0        | 1        | 0        | ⋯        | -714251  | 1        | 1        | 1        |  0       |  0       |  NA      | NA       |       NA |  3       | \n",
       "| 1003     | 0        | 0.47     |  2.8     | 11       | 0        | 0        | 1        | 0        | 0        | ⋯        | -714372  | 0        | 0        | 2        | 21       | 26       |  NA      | NA       |       NA |  3       | \n",
       "| 1005     | 1        | 0.10     |  0.6     |  1       | 0        | 0        | 1        | 0        | 0        | ⋯        | -714217  | 0        | 0        | 2        | 21       | 20       |  NA      | NA       |       NA |  9       | \n",
       "| 1006     | 1        | 1.72     |  8.2     | 12       | 0        | 0        | 1        | 0        | 0        | ⋯        | -714392  | 0        | 0        | 2        |  7       |  0       | 100      | 23       | 70.00000 | 59       | \n",
       "| 1008     | 1        | 2.92     |  6.8     |  2       | 0        | 1        | 1        | 0        | 0        | ⋯        | -714195  | 0        | 0        | 2        | 27       | 24       |  NA      | NA       |       NA |  5       | \n",
       "| 1009     | 0        | 0.70     |  2.8     | 10       | 0        | 1        | 1        | 0        | 0        | ⋯        | -714231  | 1        | 1        | 1        |  0       |  0       | 100      | 32       | 43.66667 |  9       | \n",
       "\n",
       "\n"
      ],
      "text/plain": [
       "  ID   female age  pim2 pelod p_bloodculture comorbidity rf_pneumonia rf_sepsis\n",
       "1 1001 1      0.02 87.3 42    1              0           0            1        \n",
       "2 1003 0      0.47  2.8 11    0              0           1            0        \n",
       "3 1005 1      0.10  0.6  1    0              0           1            0        \n",
       "4 1006 1      1.72  8.2 12    0              0           1            0        \n",
       "5 1008 1      2.92  6.8  2    0              1           1            0        \n",
       "6 1009 0      0.70  2.8 10    0              1           1            0        \n",
       "  rf_aspiration ⋯ ICUdischargedate mortality_30day mortality_28day\n",
       "1 0             ⋯ -714251          1               1              \n",
       "2 0             ⋯ -714372          0               0              \n",
       "3 0             ⋯ -714217          0               0              \n",
       "4 0             ⋯ -714392          0               0              \n",
       "5 0             ⋯ -714195          0               0              \n",
       "6 0             ⋯ -714231          1               1              \n",
       "  mortality_100day ventilation_free_day picu_free_days fio2 map amplitude\n",
       "1 1                 0                    0              NA  NA        NA \n",
       "2 2                21                   26              NA  NA        NA \n",
       "3 2                21                   20              NA  NA        NA \n",
       "4 2                 7                    0             100  23  70.00000 \n",
       "5 2                27                   24              NA  NA        NA \n",
       "6 1                 0                    0             100  32  43.66667 \n",
       "  ICUduration\n",
       "1  3         \n",
       "2  3         \n",
       "3  9         \n",
       "4 59         \n",
       "5  5         \n",
       "6  9         "
      ]
     },
     "metadata": {},
     "output_type": "display_data"
    }
   ],
   "source": [
    "#load data\n",
    "kkh_data <- read.csv(\"pards_data_0830.csv\")\n",
    "#kkh_data <- read.csv(\"pards_data_0816.csv\")\n",
    "df<-data.frame(kkh_data)\n",
    "kkh<-df[!is.na(df$d2_oi),]\n",
    "kkh <- kkh[which(!((kkh$hfv==1)&(kkh$HFV_verify==0))), ]\n",
    "#kkh <- kkh[which((kkh$Non_CPAP==1)), ]\n",
    "####check column names\n",
    "var<-colnames(kkh, do.NULL = FALSE)[1:9]\n",
    "#head(kkh)\n",
    "\n",
    "####select features\n",
    "ID<-kkh$StudyID\n",
    "female<-as.numeric(kkh$Gender=='Female')\n",
    "age<-kkh$Age\n",
    "pim2<-kkh$pim2\n",
    "pelod<-kkh$pelod\n",
    "p_bloodculture<-as.numeric(kkh$Positive_blood_culture=='Yes')\n",
    "early_HFV<-kkh$early_HFV\n",
    "D1_HFV<-kkh$D1_HFV\n",
    "D2_HFV<-kkh$D2_HFV\n",
    "D3_HFV<-kkh$D3_HFV\n",
    "D4_HFV<-kkh$D4_HFV\n",
    "D5_HFV<-kkh$D5_HFV\n",
    "D6_HFV<-kkh$D6_HFV\n",
    "D7_HFV<-kkh$D7_HFV\n",
    "ICUadmissiondate <- as.Date(kkh$ICUadmissiondate,format=\"%d/%m/%Y\")\n",
    "ICUdischargedate <- as.Date(kkh$ICUdischargedate,format=\"%d/%m/%Y\")\n",
    "\n",
    "\n",
    "#comorbidity\n",
    "comorbidity<-kkh$comorbidity\n",
    "#risk factor of ARDS\n",
    "rf_pneumonia<-as.numeric(kkh$PNEUMONIA=='Checked')\n",
    "rf_sepsis<-as.numeric(kkh$SEPSIS=='Checked')\n",
    "rf_aspiration<-as.numeric(kkh$ASPIRATION=='Checked')\n",
    "rf_transfusion<-as.numeric(kkh$TRANSFUSION=='Checked')\n",
    "rf_trauma<-as.numeric(kkh$TRAUMA=='Checked')\n",
    "rf_drowning<-as.numeric(kkh$DROWNING=='Checked')\n",
    "\n",
    "#other useful features\n",
    "MODS<-as.numeric(kkh$MODS=='Yes')\n",
    "OI<-kkh$d2_oi\n",
    "OI_category<-kkh$OI_category\n",
    "treatment<-as.numeric(kkh$Received_HFV=='Yes')\n",
    "died_in_ICU<-kkh$died_in_ICU\n",
    "mortality_30day<-kkh$mort_30\n",
    "mortality_28day<-kkh$mort_28\n",
    "mortality_100day<-kkh$mort_100\n",
    "ventilation_free_day<-kkh$ventilation_free_day\n",
    "picu_free_days<-kkh$picu_free_days\n",
    "fio2<-kkh$avg_fio2max\n",
    "map<-kkh$avg_mapmax\n",
    "amplitude<-kkh$avg_amplitudemax\n",
    "\n",
    "\n",
    "####prepare for the data\n",
    "mydata<-cbind(ID,female,age,pim2,pelod,p_bloodculture,comorbidity,rf_pneumonia,rf_sepsis,rf_aspiration,rf_transfusion\n",
    "              ,rf_trauma\n",
    "              ,rf_drowning,MODS,OI,OI_category\n",
    "              ,treatment,died_in_ICU,D1_HFV,D2_HFV,D3_HFV,D4_HFV,D5_HFV,D6_HFV,D7_HFV,ICUadmissiondate,ICUdischargedate\n",
    "              ,mortality_30day,mortality_28day,mortality_100day,ventilation_free_day,picu_free_days, fio2, map, amplitude)\n",
    "\n",
    "\n",
    "mydata<-data.frame(mydata)\n",
    "mydata$ICUduration<-mydata$ICUdischargedate-mydata$ICUadmissiondate+1\n",
    "head(mydata)"
   ]
  },
  {
   "cell_type": "code",
   "execution_count": 260,
   "metadata": {},
   "outputs": [
    {
     "data": {
      "text/html": [
       "2162"
      ],
      "text/latex": [
       "2162"
      ],
      "text/markdown": [
       "2162"
      ],
      "text/plain": [
       "[1] 2162"
      ]
     },
     "metadata": {},
     "output_type": "display_data"
    },
    {
     "data": {
      "text/html": [
       "<table>\n",
       "<thead><tr><th></th><th scope=col>ID</th><th scope=col>start_day</th><th scope=col>end_day</th><th scope=col>HFV_indicator</th><th scope=col>event</th><th scope=col>died_in_ICU</th><th scope=col>mortality_28day</th><th scope=col>ICUduration</th><th scope=col>female</th><th scope=col>age</th><th scope=col>⋯</th><th scope=col>p_bloodculture</th><th scope=col>comorbidity</th><th scope=col>rf_pneumonia</th><th scope=col>rf_sepsis</th><th scope=col>rf_aspiration</th><th scope=col>rf_transfusion</th><th scope=col>rf_trauma</th><th scope=col>rf_drowning</th><th scope=col>MODS</th><th scope=col>OI</th></tr></thead>\n",
       "<tbody>\n",
       "\t<tr><th scope=row>1</th><td>1001 </td><td> 0   </td><td> 1   </td><td>0    </td><td>0    </td><td>1    </td><td>1    </td><td> 3   </td><td>1    </td><td>0.02 </td><td>⋯    </td><td>1    </td><td>0    </td><td>0    </td><td>1    </td><td>0    </td><td>0    </td><td>0    </td><td>0    </td><td>1    </td><td> 5.06</td></tr>\n",
       "\t<tr><th scope=row>329</th><td>1001 </td><td> 1   </td><td> 2   </td><td>0    </td><td>0    </td><td>1    </td><td>1    </td><td> 3   </td><td>1    </td><td>0.02 </td><td>⋯    </td><td>1    </td><td>0    </td><td>0    </td><td>1    </td><td>0    </td><td>0    </td><td>0    </td><td>0    </td><td>1    </td><td> 5.06</td></tr>\n",
       "\t<tr><th scope=row>657</th><td>1001 </td><td> 2   </td><td> 3   </td><td>0    </td><td>1    </td><td>1    </td><td>1    </td><td> 3   </td><td>1    </td><td>0.02 </td><td>⋯    </td><td>1    </td><td>0    </td><td>0    </td><td>1    </td><td>0    </td><td>0    </td><td>0    </td><td>0    </td><td>1    </td><td> 5.06</td></tr>\n",
       "\t<tr><th scope=row>2</th><td>1003 </td><td> 0   </td><td> 1   </td><td>0    </td><td>0    </td><td>0    </td><td>0    </td><td> 3   </td><td>0    </td><td>0.47 </td><td>⋯    </td><td>0    </td><td>0    </td><td>1    </td><td>0    </td><td>0    </td><td>0    </td><td>0    </td><td>0    </td><td>0    </td><td> 5.11</td></tr>\n",
       "\t<tr><th scope=row>330</th><td>1003 </td><td> 1   </td><td> 2   </td><td>0    </td><td>0    </td><td>0    </td><td>0    </td><td> 3   </td><td>0    </td><td>0.47 </td><td>⋯    </td><td>0    </td><td>0    </td><td>1    </td><td>0    </td><td>0    </td><td>0    </td><td>0    </td><td>0    </td><td>0    </td><td> 5.11</td></tr>\n",
       "\t<tr><th scope=row>658</th><td>1003 </td><td> 2   </td><td> 3   </td><td>0    </td><td>0    </td><td>0    </td><td>0    </td><td> 3   </td><td>0    </td><td>0.47 </td><td>⋯    </td><td>0    </td><td>0    </td><td>1    </td><td>0    </td><td>0    </td><td>0    </td><td>0    </td><td>0    </td><td>0    </td><td> 5.11</td></tr>\n",
       "\t<tr><th scope=row>3</th><td>1005 </td><td> 0   </td><td> 1   </td><td>0    </td><td>0    </td><td>0    </td><td>0    </td><td> 9   </td><td>1    </td><td>0.10 </td><td>⋯    </td><td>0    </td><td>0    </td><td>1    </td><td>0    </td><td>0    </td><td>0    </td><td>0    </td><td>0    </td><td>0    </td><td> 8.01</td></tr>\n",
       "\t<tr><th scope=row>331</th><td>1005 </td><td> 1   </td><td> 2   </td><td>0    </td><td>0    </td><td>0    </td><td>0    </td><td> 9   </td><td>1    </td><td>0.10 </td><td>⋯    </td><td>0    </td><td>0    </td><td>1    </td><td>0    </td><td>0    </td><td>0    </td><td>0    </td><td>0    </td><td>0    </td><td> 8.01</td></tr>\n",
       "\t<tr><th scope=row>659</th><td>1005 </td><td> 2   </td><td> 3   </td><td>0    </td><td>0    </td><td>0    </td><td>0    </td><td> 9   </td><td>1    </td><td>0.10 </td><td>⋯    </td><td>0    </td><td>0    </td><td>1    </td><td>0    </td><td>0    </td><td>0    </td><td>0    </td><td>0    </td><td>0    </td><td> 8.01</td></tr>\n",
       "\t<tr><th scope=row>987</th><td>1005 </td><td> 3   </td><td> 4   </td><td>0    </td><td>0    </td><td>0    </td><td>0    </td><td> 9   </td><td>1    </td><td>0.10 </td><td>⋯    </td><td>0    </td><td>0    </td><td>1    </td><td>0    </td><td>0    </td><td>0    </td><td>0    </td><td>0    </td><td>0    </td><td> 8.01</td></tr>\n",
       "\t<tr><th scope=row>1315</th><td>1005 </td><td> 4   </td><td> 5   </td><td>0    </td><td>0    </td><td>0    </td><td>0    </td><td> 9   </td><td>1    </td><td>0.10 </td><td>⋯    </td><td>0    </td><td>0    </td><td>1    </td><td>0    </td><td>0    </td><td>0    </td><td>0    </td><td>0    </td><td>0    </td><td> 8.01</td></tr>\n",
       "\t<tr><th scope=row>1643</th><td>1005 </td><td> 5   </td><td> 6   </td><td>0    </td><td>0    </td><td>0    </td><td>0    </td><td> 9   </td><td>1    </td><td>0.10 </td><td>⋯    </td><td>0    </td><td>0    </td><td>1    </td><td>0    </td><td>0    </td><td>0    </td><td>0    </td><td>0    </td><td>0    </td><td> 8.01</td></tr>\n",
       "\t<tr><th scope=row>1971</th><td>1005 </td><td> 6   </td><td> 7   </td><td>0    </td><td>0    </td><td>0    </td><td>0    </td><td> 9   </td><td>1    </td><td>0.10 </td><td>⋯    </td><td>0    </td><td>0    </td><td>1    </td><td>0    </td><td>0    </td><td>0    </td><td>0    </td><td>0    </td><td>0    </td><td> 8.01</td></tr>\n",
       "\t<tr><th scope=row>19712</th><td>1005 </td><td> 7   </td><td> 8   </td><td>0    </td><td>0    </td><td>0    </td><td>0    </td><td> 9   </td><td>1    </td><td>0.10 </td><td>⋯    </td><td>0    </td><td>0    </td><td>1    </td><td>0    </td><td>0    </td><td>0    </td><td>0    </td><td>0    </td><td>0    </td><td> 8.01</td></tr>\n",
       "\t<tr><th scope=row>19711</th><td>1005 </td><td> 8   </td><td> 9   </td><td>0    </td><td>0    </td><td>0    </td><td>0    </td><td> 9   </td><td>1    </td><td>0.10 </td><td>⋯    </td><td>0    </td><td>0    </td><td>1    </td><td>0    </td><td>0    </td><td>0    </td><td>0    </td><td>0    </td><td>0    </td><td> 8.01</td></tr>\n",
       "\t<tr><th scope=row>4</th><td>1006 </td><td> 0   </td><td> 1   </td><td>0    </td><td>0    </td><td>0    </td><td>0    </td><td>59   </td><td>1    </td><td>1.72 </td><td>⋯    </td><td>0    </td><td>0    </td><td>1    </td><td>0    </td><td>0    </td><td>0    </td><td>0    </td><td>0    </td><td>1    </td><td>20.63</td></tr>\n",
       "\t<tr><th scope=row>332</th><td>1006 </td><td> 1   </td><td> 2   </td><td>0    </td><td>0    </td><td>0    </td><td>0    </td><td>59   </td><td>1    </td><td>1.72 </td><td>⋯    </td><td>0    </td><td>0    </td><td>1    </td><td>0    </td><td>0    </td><td>0    </td><td>0    </td><td>0    </td><td>1    </td><td>20.63</td></tr>\n",
       "\t<tr><th scope=row>660</th><td>1006 </td><td> 2   </td><td> 3   </td><td>0    </td><td>0    </td><td>0    </td><td>0    </td><td>59   </td><td>1    </td><td>1.72 </td><td>⋯    </td><td>0    </td><td>0    </td><td>1    </td><td>0    </td><td>0    </td><td>0    </td><td>0    </td><td>0    </td><td>1    </td><td>20.63</td></tr>\n",
       "\t<tr><th scope=row>988</th><td>1006 </td><td> 3   </td><td> 4   </td><td>0    </td><td>0    </td><td>0    </td><td>0    </td><td>59   </td><td>1    </td><td>1.72 </td><td>⋯    </td><td>0    </td><td>0    </td><td>1    </td><td>0    </td><td>0    </td><td>0    </td><td>0    </td><td>0    </td><td>1    </td><td>20.63</td></tr>\n",
       "\t<tr><th scope=row>1316</th><td>1006 </td><td> 4   </td><td> 5   </td><td>0    </td><td>0    </td><td>0    </td><td>0    </td><td>59   </td><td>1    </td><td>1.72 </td><td>⋯    </td><td>0    </td><td>0    </td><td>1    </td><td>0    </td><td>0    </td><td>0    </td><td>0    </td><td>0    </td><td>1    </td><td>20.63</td></tr>\n",
       "\t<tr><th scope=row>1644</th><td>1006 </td><td> 5   </td><td> 6   </td><td>0    </td><td>0    </td><td>0    </td><td>0    </td><td>59   </td><td>1    </td><td>1.72 </td><td>⋯    </td><td>0    </td><td>0    </td><td>1    </td><td>0    </td><td>0    </td><td>0    </td><td>0    </td><td>0    </td><td>1    </td><td>20.63</td></tr>\n",
       "\t<tr><th scope=row>1972</th><td>1006 </td><td> 6   </td><td> 7   </td><td>1    </td><td>0    </td><td>0    </td><td>0    </td><td>59   </td><td>1    </td><td>1.72 </td><td>⋯    </td><td>0    </td><td>0    </td><td>1    </td><td>0    </td><td>0    </td><td>0    </td><td>0    </td><td>0    </td><td>1    </td><td>20.63</td></tr>\n",
       "\t<tr><th scope=row>197221</th><td>1006 </td><td> 7   </td><td> 8   </td><td>0    </td><td>0    </td><td>0    </td><td>0    </td><td>59   </td><td>1    </td><td>1.72 </td><td>⋯    </td><td>0    </td><td>0    </td><td>1    </td><td>0    </td><td>0    </td><td>0    </td><td>0    </td><td>0    </td><td>1    </td><td>20.63</td></tr>\n",
       "\t<tr><th scope=row>19721</th><td>1006 </td><td> 8   </td><td> 9   </td><td>0    </td><td>0    </td><td>0    </td><td>0    </td><td>59   </td><td>1    </td><td>1.72 </td><td>⋯    </td><td>0    </td><td>0    </td><td>1    </td><td>0    </td><td>0    </td><td>0    </td><td>0    </td><td>0    </td><td>1    </td><td>20.63</td></tr>\n",
       "\t<tr><th scope=row>19722</th><td>1006 </td><td> 9   </td><td>10   </td><td>0    </td><td>0    </td><td>0    </td><td>0    </td><td>59   </td><td>1    </td><td>1.72 </td><td>⋯    </td><td>0    </td><td>0    </td><td>1    </td><td>0    </td><td>0    </td><td>0    </td><td>0    </td><td>0    </td><td>1    </td><td>20.63</td></tr>\n",
       "\t<tr><th scope=row>19723</th><td>1006 </td><td>10   </td><td>11   </td><td>0    </td><td>0    </td><td>0    </td><td>0    </td><td>59   </td><td>1    </td><td>1.72 </td><td>⋯    </td><td>0    </td><td>0    </td><td>1    </td><td>0    </td><td>0    </td><td>0    </td><td>0    </td><td>0    </td><td>1    </td><td>20.63</td></tr>\n",
       "\t<tr><th scope=row>19724</th><td>1006 </td><td>11   </td><td>12   </td><td>0    </td><td>0    </td><td>0    </td><td>0    </td><td>59   </td><td>1    </td><td>1.72 </td><td>⋯    </td><td>0    </td><td>0    </td><td>1    </td><td>0    </td><td>0    </td><td>0    </td><td>0    </td><td>0    </td><td>1    </td><td>20.63</td></tr>\n",
       "\t<tr><th scope=row>19725</th><td>1006 </td><td>12   </td><td>13   </td><td>0    </td><td>0    </td><td>0    </td><td>0    </td><td>59   </td><td>1    </td><td>1.72 </td><td>⋯    </td><td>0    </td><td>0    </td><td>1    </td><td>0    </td><td>0    </td><td>0    </td><td>0    </td><td>0    </td><td>1    </td><td>20.63</td></tr>\n",
       "\t<tr><th scope=row>19726</th><td>1006 </td><td>13   </td><td>14   </td><td>0    </td><td>0    </td><td>0    </td><td>0    </td><td>59   </td><td>1    </td><td>1.72 </td><td>⋯    </td><td>0    </td><td>0    </td><td>1    </td><td>0    </td><td>0    </td><td>0    </td><td>0    </td><td>0    </td><td>1    </td><td>20.63</td></tr>\n",
       "\t<tr><th scope=row>19727</th><td>1006 </td><td>14   </td><td>15   </td><td>0    </td><td>0    </td><td>0    </td><td>0    </td><td>59   </td><td>1    </td><td>1.72 </td><td>⋯    </td><td>0    </td><td>0    </td><td>1    </td><td>0    </td><td>0    </td><td>0    </td><td>0    </td><td>0    </td><td>1    </td><td>20.63</td></tr>\n",
       "\t<tr><th scope=row>⋮</th><td>⋮</td><td>⋮</td><td>⋮</td><td>⋮</td><td>⋮</td><td>⋮</td><td>⋮</td><td>⋮</td><td>⋮</td><td>⋮</td><td>⋱</td><td>⋮</td><td>⋮</td><td>⋮</td><td>⋮</td><td>⋮</td><td>⋮</td><td>⋮</td><td>⋮</td><td>⋮</td><td>⋮</td></tr>\n",
       "\t<tr><th scope=row>197218</th><td>1006 </td><td>25   </td><td>26   </td><td>0    </td><td>0    </td><td>0    </td><td>0    </td><td>59   </td><td>1    </td><td>1.72 </td><td>⋯    </td><td>0    </td><td>0    </td><td>1    </td><td>0    </td><td>0    </td><td>0    </td><td>0    </td><td>0    </td><td>1    </td><td>20.63</td></tr>\n",
       "\t<tr><th scope=row>197219</th><td>1006 </td><td>26   </td><td>27   </td><td>0    </td><td>0    </td><td>0    </td><td>0    </td><td>59   </td><td>1    </td><td>1.72 </td><td>⋯    </td><td>0    </td><td>0    </td><td>1    </td><td>0    </td><td>0    </td><td>0    </td><td>0    </td><td>0    </td><td>1    </td><td>20.63</td></tr>\n",
       "\t<tr><th scope=row>197220</th><td>1006 </td><td>27   </td><td>28   </td><td>0    </td><td>0    </td><td>0    </td><td>0    </td><td>59   </td><td>1    </td><td>1.72 </td><td>⋯    </td><td>0    </td><td>0    </td><td>1    </td><td>0    </td><td>0    </td><td>0    </td><td>0    </td><td>0    </td><td>1    </td><td>20.63</td></tr>\n",
       "\t<tr><th scope=row>5</th><td>1008 </td><td> 0   </td><td> 1   </td><td>0    </td><td>0    </td><td>0    </td><td>0    </td><td> 5   </td><td>1    </td><td>2.92 </td><td>⋯    </td><td>0    </td><td>1    </td><td>1    </td><td>0    </td><td>0    </td><td>0    </td><td>0    </td><td>0    </td><td>0    </td><td> 4.46</td></tr>\n",
       "\t<tr><th scope=row>333</th><td>1008 </td><td> 1   </td><td> 2   </td><td>0    </td><td>0    </td><td>0    </td><td>0    </td><td> 5   </td><td>1    </td><td>2.92 </td><td>⋯    </td><td>0    </td><td>1    </td><td>1    </td><td>0    </td><td>0    </td><td>0    </td><td>0    </td><td>0    </td><td>0    </td><td> 4.46</td></tr>\n",
       "\t<tr><th scope=row>661</th><td>1008 </td><td> 2   </td><td> 3   </td><td>0    </td><td>0    </td><td>0    </td><td>0    </td><td> 5   </td><td>1    </td><td>2.92 </td><td>⋯    </td><td>0    </td><td>1    </td><td>1    </td><td>0    </td><td>0    </td><td>0    </td><td>0    </td><td>0    </td><td>0    </td><td> 4.46</td></tr>\n",
       "\t<tr><th scope=row>989</th><td>1008 </td><td> 3   </td><td> 4   </td><td>0    </td><td>0    </td><td>0    </td><td>0    </td><td> 5   </td><td>1    </td><td>2.92 </td><td>⋯    </td><td>0    </td><td>1    </td><td>1    </td><td>0    </td><td>0    </td><td>0    </td><td>0    </td><td>0    </td><td>0    </td><td> 4.46</td></tr>\n",
       "\t<tr><th scope=row>1317</th><td>1008 </td><td> 4   </td><td> 5   </td><td>0    </td><td>0    </td><td>0    </td><td>0    </td><td> 5   </td><td>1    </td><td>2.92 </td><td>⋯    </td><td>0    </td><td>1    </td><td>1    </td><td>0    </td><td>0    </td><td>0    </td><td>0    </td><td>0    </td><td>0    </td><td> 4.46</td></tr>\n",
       "\t<tr><th scope=row>6</th><td>1009 </td><td> 0   </td><td> 1   </td><td>0    </td><td>0    </td><td>1    </td><td>1    </td><td> 9   </td><td>0    </td><td>0.70 </td><td>⋯    </td><td>0    </td><td>1    </td><td>1    </td><td>0    </td><td>0    </td><td>0    </td><td>0    </td><td>0    </td><td>0    </td><td> 6.21</td></tr>\n",
       "\t<tr><th scope=row>334</th><td>1009 </td><td> 1   </td><td> 2   </td><td>0    </td><td>0    </td><td>1    </td><td>1    </td><td> 9   </td><td>0    </td><td>0.70 </td><td>⋯    </td><td>0    </td><td>1    </td><td>1    </td><td>0    </td><td>0    </td><td>0    </td><td>0    </td><td>0    </td><td>0    </td><td> 6.21</td></tr>\n",
       "\t<tr><th scope=row>662</th><td>1009 </td><td> 2   </td><td> 3   </td><td>1    </td><td>0    </td><td>1    </td><td>1    </td><td> 9   </td><td>0    </td><td>0.70 </td><td>⋯    </td><td>0    </td><td>1    </td><td>1    </td><td>0    </td><td>0    </td><td>0    </td><td>0    </td><td>0    </td><td>0    </td><td> 6.21</td></tr>\n",
       "\t<tr><th scope=row>990</th><td>1009 </td><td> 3   </td><td> 4   </td><td>1    </td><td>0    </td><td>1    </td><td>1    </td><td> 9   </td><td>0    </td><td>0.70 </td><td>⋯    </td><td>0    </td><td>1    </td><td>1    </td><td>0    </td><td>0    </td><td>0    </td><td>0    </td><td>0    </td><td>0    </td><td> 6.21</td></tr>\n",
       "\t<tr><th scope=row>1318</th><td>1009 </td><td> 4   </td><td> 5   </td><td>1    </td><td>0    </td><td>1    </td><td>1    </td><td> 9   </td><td>0    </td><td>0.70 </td><td>⋯    </td><td>0    </td><td>1    </td><td>1    </td><td>0    </td><td>0    </td><td>0    </td><td>0    </td><td>0    </td><td>0    </td><td> 6.21</td></tr>\n",
       "\t<tr><th scope=row>1646</th><td>1009 </td><td> 5   </td><td> 6   </td><td>0    </td><td>0    </td><td>1    </td><td>1    </td><td> 9   </td><td>0    </td><td>0.70 </td><td>⋯    </td><td>0    </td><td>1    </td><td>1    </td><td>0    </td><td>0    </td><td>0    </td><td>0    </td><td>0    </td><td>0    </td><td> 6.21</td></tr>\n",
       "\t<tr><th scope=row>1974</th><td>1009 </td><td> 6   </td><td> 7   </td><td>0    </td><td>0    </td><td>1    </td><td>1    </td><td> 9   </td><td>0    </td><td>0.70 </td><td>⋯    </td><td>0    </td><td>1    </td><td>1    </td><td>0    </td><td>0    </td><td>0    </td><td>0    </td><td>0    </td><td>0    </td><td> 6.21</td></tr>\n",
       "\t<tr><th scope=row>19742</th><td>1009 </td><td> 7   </td><td> 8   </td><td>0    </td><td>0    </td><td>1    </td><td>1    </td><td> 9   </td><td>0    </td><td>0.70 </td><td>⋯    </td><td>0    </td><td>1    </td><td>1    </td><td>0    </td><td>0    </td><td>0    </td><td>0    </td><td>0    </td><td>0    </td><td> 6.21</td></tr>\n",
       "\t<tr><th scope=row>19741</th><td>1009 </td><td> 8   </td><td> 9   </td><td>0    </td><td>1    </td><td>1    </td><td>1    </td><td> 9   </td><td>0    </td><td>0.70 </td><td>⋯    </td><td>0    </td><td>1    </td><td>1    </td><td>0    </td><td>0    </td><td>0    </td><td>0    </td><td>0    </td><td>0    </td><td> 6.21</td></tr>\n",
       "\t<tr><th scope=row>7</th><td>1010 </td><td> 0   </td><td> 1   </td><td>0    </td><td>0    </td><td>0    </td><td>0    </td><td> 5   </td><td>0    </td><td>0.17 </td><td>⋯    </td><td>0    </td><td>0    </td><td>1    </td><td>0    </td><td>0    </td><td>0    </td><td>0    </td><td>0    </td><td>0    </td><td> 6.32</td></tr>\n",
       "\t<tr><th scope=row>335</th><td>1010 </td><td> 1   </td><td> 2   </td><td>0    </td><td>0    </td><td>0    </td><td>0    </td><td> 5   </td><td>0    </td><td>0.17 </td><td>⋯    </td><td>0    </td><td>0    </td><td>1    </td><td>0    </td><td>0    </td><td>0    </td><td>0    </td><td>0    </td><td>0    </td><td> 6.32</td></tr>\n",
       "\t<tr><th scope=row>663</th><td>1010 </td><td> 2   </td><td> 3   </td><td>0    </td><td>0    </td><td>0    </td><td>0    </td><td> 5   </td><td>0    </td><td>0.17 </td><td>⋯    </td><td>0    </td><td>0    </td><td>1    </td><td>0    </td><td>0    </td><td>0    </td><td>0    </td><td>0    </td><td>0    </td><td> 6.32</td></tr>\n",
       "\t<tr><th scope=row>991</th><td>1010 </td><td> 3   </td><td> 4   </td><td>0    </td><td>0    </td><td>0    </td><td>0    </td><td> 5   </td><td>0    </td><td>0.17 </td><td>⋯    </td><td>0    </td><td>0    </td><td>1    </td><td>0    </td><td>0    </td><td>0    </td><td>0    </td><td>0    </td><td>0    </td><td> 6.32</td></tr>\n",
       "\t<tr><th scope=row>1319</th><td>1010 </td><td> 4   </td><td> 5   </td><td>0    </td><td>0    </td><td>0    </td><td>0    </td><td> 5   </td><td>0    </td><td>0.17 </td><td>⋯    </td><td>0    </td><td>0    </td><td>1    </td><td>0    </td><td>0    </td><td>0    </td><td>0    </td><td>0    </td><td>0    </td><td> 6.32</td></tr>\n",
       "\t<tr><th scope=row>8</th><td>1011 </td><td> 0   </td><td> 1   </td><td>1    </td><td>0    </td><td>0    </td><td>0    </td><td>61   </td><td>1    </td><td>1.31 </td><td>⋯    </td><td>1    </td><td>1    </td><td>1    </td><td>0    </td><td>0    </td><td>0    </td><td>0    </td><td>0    </td><td>0    </td><td>21.60</td></tr>\n",
       "\t<tr><th scope=row>336</th><td>1011 </td><td> 1   </td><td> 2   </td><td>0    </td><td>0    </td><td>0    </td><td>0    </td><td>61   </td><td>1    </td><td>1.31 </td><td>⋯    </td><td>1    </td><td>1    </td><td>1    </td><td>0    </td><td>0    </td><td>0    </td><td>0    </td><td>0    </td><td>0    </td><td>21.60</td></tr>\n",
       "\t<tr><th scope=row>664</th><td>1011 </td><td> 2   </td><td> 3   </td><td>0    </td><td>0    </td><td>0    </td><td>0    </td><td>61   </td><td>1    </td><td>1.31 </td><td>⋯    </td><td>1    </td><td>1    </td><td>1    </td><td>0    </td><td>0    </td><td>0    </td><td>0    </td><td>0    </td><td>0    </td><td>21.60</td></tr>\n",
       "\t<tr><th scope=row>992</th><td>1011 </td><td> 3   </td><td> 4   </td><td>0    </td><td>0    </td><td>0    </td><td>0    </td><td>61   </td><td>1    </td><td>1.31 </td><td>⋯    </td><td>1    </td><td>1    </td><td>1    </td><td>0    </td><td>0    </td><td>0    </td><td>0    </td><td>0    </td><td>0    </td><td>21.60</td></tr>\n",
       "\t<tr><th scope=row>1320</th><td>1011 </td><td> 4   </td><td> 5   </td><td>0    </td><td>0    </td><td>0    </td><td>0    </td><td>61   </td><td>1    </td><td>1.31 </td><td>⋯    </td><td>1    </td><td>1    </td><td>1    </td><td>0    </td><td>0    </td><td>0    </td><td>0    </td><td>0    </td><td>0    </td><td>21.60</td></tr>\n",
       "\t<tr><th scope=row>1648</th><td>1011 </td><td> 5   </td><td> 6   </td><td>0    </td><td>0    </td><td>0    </td><td>0    </td><td>61   </td><td>1    </td><td>1.31 </td><td>⋯    </td><td>1    </td><td>1    </td><td>1    </td><td>0    </td><td>0    </td><td>0    </td><td>0    </td><td>0    </td><td>0    </td><td>21.60</td></tr>\n",
       "\t<tr><th scope=row>1976</th><td>1011 </td><td> 6   </td><td> 7   </td><td>0    </td><td>0    </td><td>0    </td><td>0    </td><td>61   </td><td>1    </td><td>1.31 </td><td>⋯    </td><td>1    </td><td>1    </td><td>1    </td><td>0    </td><td>0    </td><td>0    </td><td>0    </td><td>0    </td><td>0    </td><td>21.60</td></tr>\n",
       "\t<tr><th scope=row>197621</th><td>1011 </td><td> 7   </td><td> 8   </td><td>0    </td><td>0    </td><td>0    </td><td>0    </td><td>61   </td><td>1    </td><td>1.31 </td><td>⋯    </td><td>1    </td><td>1    </td><td>1    </td><td>0    </td><td>0    </td><td>0    </td><td>0    </td><td>0    </td><td>0    </td><td>21.60</td></tr>\n",
       "</tbody>\n",
       "</table>\n"
      ],
      "text/latex": [
       "\\begin{tabular}{r|llllllllllllllllllllll}\n",
       "  & ID & start\\_day & end\\_day & HFV\\_indicator & event & died\\_in\\_ICU & mortality\\_28day & ICUduration & female & age & ⋯ & p\\_bloodculture & comorbidity & rf\\_pneumonia & rf\\_sepsis & rf\\_aspiration & rf\\_transfusion & rf\\_trauma & rf\\_drowning & MODS & OI\\\\\n",
       "\\hline\n",
       "\t1 & 1001  &  0    &  1    & 0     & 0     & 1     & 1     &  3    & 1     & 0.02  & ⋯     & 1     & 0     & 0     & 1     & 0     & 0     & 0     & 0     & 1     &  5.06\\\\\n",
       "\t329 & 1001  &  1    &  2    & 0     & 0     & 1     & 1     &  3    & 1     & 0.02  & ⋯     & 1     & 0     & 0     & 1     & 0     & 0     & 0     & 0     & 1     &  5.06\\\\\n",
       "\t657 & 1001  &  2    &  3    & 0     & 1     & 1     & 1     &  3    & 1     & 0.02  & ⋯     & 1     & 0     & 0     & 1     & 0     & 0     & 0     & 0     & 1     &  5.06\\\\\n",
       "\t2 & 1003  &  0    &  1    & 0     & 0     & 0     & 0     &  3    & 0     & 0.47  & ⋯     & 0     & 0     & 1     & 0     & 0     & 0     & 0     & 0     & 0     &  5.11\\\\\n",
       "\t330 & 1003  &  1    &  2    & 0     & 0     & 0     & 0     &  3    & 0     & 0.47  & ⋯     & 0     & 0     & 1     & 0     & 0     & 0     & 0     & 0     & 0     &  5.11\\\\\n",
       "\t658 & 1003  &  2    &  3    & 0     & 0     & 0     & 0     &  3    & 0     & 0.47  & ⋯     & 0     & 0     & 1     & 0     & 0     & 0     & 0     & 0     & 0     &  5.11\\\\\n",
       "\t3 & 1005  &  0    &  1    & 0     & 0     & 0     & 0     &  9    & 1     & 0.10  & ⋯     & 0     & 0     & 1     & 0     & 0     & 0     & 0     & 0     & 0     &  8.01\\\\\n",
       "\t331 & 1005  &  1    &  2    & 0     & 0     & 0     & 0     &  9    & 1     & 0.10  & ⋯     & 0     & 0     & 1     & 0     & 0     & 0     & 0     & 0     & 0     &  8.01\\\\\n",
       "\t659 & 1005  &  2    &  3    & 0     & 0     & 0     & 0     &  9    & 1     & 0.10  & ⋯     & 0     & 0     & 1     & 0     & 0     & 0     & 0     & 0     & 0     &  8.01\\\\\n",
       "\t987 & 1005  &  3    &  4    & 0     & 0     & 0     & 0     &  9    & 1     & 0.10  & ⋯     & 0     & 0     & 1     & 0     & 0     & 0     & 0     & 0     & 0     &  8.01\\\\\n",
       "\t1315 & 1005  &  4    &  5    & 0     & 0     & 0     & 0     &  9    & 1     & 0.10  & ⋯     & 0     & 0     & 1     & 0     & 0     & 0     & 0     & 0     & 0     &  8.01\\\\\n",
       "\t1643 & 1005  &  5    &  6    & 0     & 0     & 0     & 0     &  9    & 1     & 0.10  & ⋯     & 0     & 0     & 1     & 0     & 0     & 0     & 0     & 0     & 0     &  8.01\\\\\n",
       "\t1971 & 1005  &  6    &  7    & 0     & 0     & 0     & 0     &  9    & 1     & 0.10  & ⋯     & 0     & 0     & 1     & 0     & 0     & 0     & 0     & 0     & 0     &  8.01\\\\\n",
       "\t19712 & 1005  &  7    &  8    & 0     & 0     & 0     & 0     &  9    & 1     & 0.10  & ⋯     & 0     & 0     & 1     & 0     & 0     & 0     & 0     & 0     & 0     &  8.01\\\\\n",
       "\t19711 & 1005  &  8    &  9    & 0     & 0     & 0     & 0     &  9    & 1     & 0.10  & ⋯     & 0     & 0     & 1     & 0     & 0     & 0     & 0     & 0     & 0     &  8.01\\\\\n",
       "\t4 & 1006  &  0    &  1    & 0     & 0     & 0     & 0     & 59    & 1     & 1.72  & ⋯     & 0     & 0     & 1     & 0     & 0     & 0     & 0     & 0     & 1     & 20.63\\\\\n",
       "\t332 & 1006  &  1    &  2    & 0     & 0     & 0     & 0     & 59    & 1     & 1.72  & ⋯     & 0     & 0     & 1     & 0     & 0     & 0     & 0     & 0     & 1     & 20.63\\\\\n",
       "\t660 & 1006  &  2    &  3    & 0     & 0     & 0     & 0     & 59    & 1     & 1.72  & ⋯     & 0     & 0     & 1     & 0     & 0     & 0     & 0     & 0     & 1     & 20.63\\\\\n",
       "\t988 & 1006  &  3    &  4    & 0     & 0     & 0     & 0     & 59    & 1     & 1.72  & ⋯     & 0     & 0     & 1     & 0     & 0     & 0     & 0     & 0     & 1     & 20.63\\\\\n",
       "\t1316 & 1006  &  4    &  5    & 0     & 0     & 0     & 0     & 59    & 1     & 1.72  & ⋯     & 0     & 0     & 1     & 0     & 0     & 0     & 0     & 0     & 1     & 20.63\\\\\n",
       "\t1644 & 1006  &  5    &  6    & 0     & 0     & 0     & 0     & 59    & 1     & 1.72  & ⋯     & 0     & 0     & 1     & 0     & 0     & 0     & 0     & 0     & 1     & 20.63\\\\\n",
       "\t1972 & 1006  &  6    &  7    & 1     & 0     & 0     & 0     & 59    & 1     & 1.72  & ⋯     & 0     & 0     & 1     & 0     & 0     & 0     & 0     & 0     & 1     & 20.63\\\\\n",
       "\t197221 & 1006  &  7    &  8    & 0     & 0     & 0     & 0     & 59    & 1     & 1.72  & ⋯     & 0     & 0     & 1     & 0     & 0     & 0     & 0     & 0     & 1     & 20.63\\\\\n",
       "\t19721 & 1006  &  8    &  9    & 0     & 0     & 0     & 0     & 59    & 1     & 1.72  & ⋯     & 0     & 0     & 1     & 0     & 0     & 0     & 0     & 0     & 1     & 20.63\\\\\n",
       "\t19722 & 1006  &  9    & 10    & 0     & 0     & 0     & 0     & 59    & 1     & 1.72  & ⋯     & 0     & 0     & 1     & 0     & 0     & 0     & 0     & 0     & 1     & 20.63\\\\\n",
       "\t19723 & 1006  & 10    & 11    & 0     & 0     & 0     & 0     & 59    & 1     & 1.72  & ⋯     & 0     & 0     & 1     & 0     & 0     & 0     & 0     & 0     & 1     & 20.63\\\\\n",
       "\t19724 & 1006  & 11    & 12    & 0     & 0     & 0     & 0     & 59    & 1     & 1.72  & ⋯     & 0     & 0     & 1     & 0     & 0     & 0     & 0     & 0     & 1     & 20.63\\\\\n",
       "\t19725 & 1006  & 12    & 13    & 0     & 0     & 0     & 0     & 59    & 1     & 1.72  & ⋯     & 0     & 0     & 1     & 0     & 0     & 0     & 0     & 0     & 1     & 20.63\\\\\n",
       "\t19726 & 1006  & 13    & 14    & 0     & 0     & 0     & 0     & 59    & 1     & 1.72  & ⋯     & 0     & 0     & 1     & 0     & 0     & 0     & 0     & 0     & 1     & 20.63\\\\\n",
       "\t19727 & 1006  & 14    & 15    & 0     & 0     & 0     & 0     & 59    & 1     & 1.72  & ⋯     & 0     & 0     & 1     & 0     & 0     & 0     & 0     & 0     & 1     & 20.63\\\\\n",
       "\t⋮ & ⋮ & ⋮ & ⋮ & ⋮ & ⋮ & ⋮ & ⋮ & ⋮ & ⋮ & ⋮ & ⋱ & ⋮ & ⋮ & ⋮ & ⋮ & ⋮ & ⋮ & ⋮ & ⋮ & ⋮ & ⋮\\\\\n",
       "\t197218 & 1006  & 25    & 26    & 0     & 0     & 0     & 0     & 59    & 1     & 1.72  & ⋯     & 0     & 0     & 1     & 0     & 0     & 0     & 0     & 0     & 1     & 20.63\\\\\n",
       "\t197219 & 1006  & 26    & 27    & 0     & 0     & 0     & 0     & 59    & 1     & 1.72  & ⋯     & 0     & 0     & 1     & 0     & 0     & 0     & 0     & 0     & 1     & 20.63\\\\\n",
       "\t197220 & 1006  & 27    & 28    & 0     & 0     & 0     & 0     & 59    & 1     & 1.72  & ⋯     & 0     & 0     & 1     & 0     & 0     & 0     & 0     & 0     & 1     & 20.63\\\\\n",
       "\t5 & 1008  &  0    &  1    & 0     & 0     & 0     & 0     &  5    & 1     & 2.92  & ⋯     & 0     & 1     & 1     & 0     & 0     & 0     & 0     & 0     & 0     &  4.46\\\\\n",
       "\t333 & 1008  &  1    &  2    & 0     & 0     & 0     & 0     &  5    & 1     & 2.92  & ⋯     & 0     & 1     & 1     & 0     & 0     & 0     & 0     & 0     & 0     &  4.46\\\\\n",
       "\t661 & 1008  &  2    &  3    & 0     & 0     & 0     & 0     &  5    & 1     & 2.92  & ⋯     & 0     & 1     & 1     & 0     & 0     & 0     & 0     & 0     & 0     &  4.46\\\\\n",
       "\t989 & 1008  &  3    &  4    & 0     & 0     & 0     & 0     &  5    & 1     & 2.92  & ⋯     & 0     & 1     & 1     & 0     & 0     & 0     & 0     & 0     & 0     &  4.46\\\\\n",
       "\t1317 & 1008  &  4    &  5    & 0     & 0     & 0     & 0     &  5    & 1     & 2.92  & ⋯     & 0     & 1     & 1     & 0     & 0     & 0     & 0     & 0     & 0     &  4.46\\\\\n",
       "\t6 & 1009  &  0    &  1    & 0     & 0     & 1     & 1     &  9    & 0     & 0.70  & ⋯     & 0     & 1     & 1     & 0     & 0     & 0     & 0     & 0     & 0     &  6.21\\\\\n",
       "\t334 & 1009  &  1    &  2    & 0     & 0     & 1     & 1     &  9    & 0     & 0.70  & ⋯     & 0     & 1     & 1     & 0     & 0     & 0     & 0     & 0     & 0     &  6.21\\\\\n",
       "\t662 & 1009  &  2    &  3    & 1     & 0     & 1     & 1     &  9    & 0     & 0.70  & ⋯     & 0     & 1     & 1     & 0     & 0     & 0     & 0     & 0     & 0     &  6.21\\\\\n",
       "\t990 & 1009  &  3    &  4    & 1     & 0     & 1     & 1     &  9    & 0     & 0.70  & ⋯     & 0     & 1     & 1     & 0     & 0     & 0     & 0     & 0     & 0     &  6.21\\\\\n",
       "\t1318 & 1009  &  4    &  5    & 1     & 0     & 1     & 1     &  9    & 0     & 0.70  & ⋯     & 0     & 1     & 1     & 0     & 0     & 0     & 0     & 0     & 0     &  6.21\\\\\n",
       "\t1646 & 1009  &  5    &  6    & 0     & 0     & 1     & 1     &  9    & 0     & 0.70  & ⋯     & 0     & 1     & 1     & 0     & 0     & 0     & 0     & 0     & 0     &  6.21\\\\\n",
       "\t1974 & 1009  &  6    &  7    & 0     & 0     & 1     & 1     &  9    & 0     & 0.70  & ⋯     & 0     & 1     & 1     & 0     & 0     & 0     & 0     & 0     & 0     &  6.21\\\\\n",
       "\t19742 & 1009  &  7    &  8    & 0     & 0     & 1     & 1     &  9    & 0     & 0.70  & ⋯     & 0     & 1     & 1     & 0     & 0     & 0     & 0     & 0     & 0     &  6.21\\\\\n",
       "\t19741 & 1009  &  8    &  9    & 0     & 1     & 1     & 1     &  9    & 0     & 0.70  & ⋯     & 0     & 1     & 1     & 0     & 0     & 0     & 0     & 0     & 0     &  6.21\\\\\n",
       "\t7 & 1010  &  0    &  1    & 0     & 0     & 0     & 0     &  5    & 0     & 0.17  & ⋯     & 0     & 0     & 1     & 0     & 0     & 0     & 0     & 0     & 0     &  6.32\\\\\n",
       "\t335 & 1010  &  1    &  2    & 0     & 0     & 0     & 0     &  5    & 0     & 0.17  & ⋯     & 0     & 0     & 1     & 0     & 0     & 0     & 0     & 0     & 0     &  6.32\\\\\n",
       "\t663 & 1010  &  2    &  3    & 0     & 0     & 0     & 0     &  5    & 0     & 0.17  & ⋯     & 0     & 0     & 1     & 0     & 0     & 0     & 0     & 0     & 0     &  6.32\\\\\n",
       "\t991 & 1010  &  3    &  4    & 0     & 0     & 0     & 0     &  5    & 0     & 0.17  & ⋯     & 0     & 0     & 1     & 0     & 0     & 0     & 0     & 0     & 0     &  6.32\\\\\n",
       "\t1319 & 1010  &  4    &  5    & 0     & 0     & 0     & 0     &  5    & 0     & 0.17  & ⋯     & 0     & 0     & 1     & 0     & 0     & 0     & 0     & 0     & 0     &  6.32\\\\\n",
       "\t8 & 1011  &  0    &  1    & 1     & 0     & 0     & 0     & 61    & 1     & 1.31  & ⋯     & 1     & 1     & 1     & 0     & 0     & 0     & 0     & 0     & 0     & 21.60\\\\\n",
       "\t336 & 1011  &  1    &  2    & 0     & 0     & 0     & 0     & 61    & 1     & 1.31  & ⋯     & 1     & 1     & 1     & 0     & 0     & 0     & 0     & 0     & 0     & 21.60\\\\\n",
       "\t664 & 1011  &  2    &  3    & 0     & 0     & 0     & 0     & 61    & 1     & 1.31  & ⋯     & 1     & 1     & 1     & 0     & 0     & 0     & 0     & 0     & 0     & 21.60\\\\\n",
       "\t992 & 1011  &  3    &  4    & 0     & 0     & 0     & 0     & 61    & 1     & 1.31  & ⋯     & 1     & 1     & 1     & 0     & 0     & 0     & 0     & 0     & 0     & 21.60\\\\\n",
       "\t1320 & 1011  &  4    &  5    & 0     & 0     & 0     & 0     & 61    & 1     & 1.31  & ⋯     & 1     & 1     & 1     & 0     & 0     & 0     & 0     & 0     & 0     & 21.60\\\\\n",
       "\t1648 & 1011  &  5    &  6    & 0     & 0     & 0     & 0     & 61    & 1     & 1.31  & ⋯     & 1     & 1     & 1     & 0     & 0     & 0     & 0     & 0     & 0     & 21.60\\\\\n",
       "\t1976 & 1011  &  6    &  7    & 0     & 0     & 0     & 0     & 61    & 1     & 1.31  & ⋯     & 1     & 1     & 1     & 0     & 0     & 0     & 0     & 0     & 0     & 21.60\\\\\n",
       "\t197621 & 1011  &  7    &  8    & 0     & 0     & 0     & 0     & 61    & 1     & 1.31  & ⋯     & 1     & 1     & 1     & 0     & 0     & 0     & 0     & 0     & 0     & 21.60\\\\\n",
       "\\end{tabular}\n"
      ],
      "text/markdown": [
       "\n",
       "| <!--/--> | ID | start_day | end_day | HFV_indicator | event | died_in_ICU | mortality_28day | ICUduration | female | age | ⋯ | p_bloodculture | comorbidity | rf_pneumonia | rf_sepsis | rf_aspiration | rf_transfusion | rf_trauma | rf_drowning | MODS | OI | \n",
       "|---|---|---|---|---|---|---|---|---|---|---|---|---|---|---|---|---|---|---|---|---|---|---|---|---|---|---|---|---|---|---|---|---|---|---|---|---|---|---|---|---|---|---|---|---|---|---|---|---|---|---|---|---|---|---|---|---|---|---|---|---|\n",
       "| 1 | 1001  |  0    |  1    | 0     | 0     | 1     | 1     |  3    | 1     | 0.02  | ⋯     | 1     | 0     | 0     | 1     | 0     | 0     | 0     | 0     | 1     |  5.06 | \n",
       "| 329 | 1001  |  1    |  2    | 0     | 0     | 1     | 1     |  3    | 1     | 0.02  | ⋯     | 1     | 0     | 0     | 1     | 0     | 0     | 0     | 0     | 1     |  5.06 | \n",
       "| 657 | 1001  |  2    |  3    | 0     | 1     | 1     | 1     |  3    | 1     | 0.02  | ⋯     | 1     | 0     | 0     | 1     | 0     | 0     | 0     | 0     | 1     |  5.06 | \n",
       "| 2 | 1003  |  0    |  1    | 0     | 0     | 0     | 0     |  3    | 0     | 0.47  | ⋯     | 0     | 0     | 1     | 0     | 0     | 0     | 0     | 0     | 0     |  5.11 | \n",
       "| 330 | 1003  |  1    |  2    | 0     | 0     | 0     | 0     |  3    | 0     | 0.47  | ⋯     | 0     | 0     | 1     | 0     | 0     | 0     | 0     | 0     | 0     |  5.11 | \n",
       "| 658 | 1003  |  2    |  3    | 0     | 0     | 0     | 0     |  3    | 0     | 0.47  | ⋯     | 0     | 0     | 1     | 0     | 0     | 0     | 0     | 0     | 0     |  5.11 | \n",
       "| 3 | 1005  |  0    |  1    | 0     | 0     | 0     | 0     |  9    | 1     | 0.10  | ⋯     | 0     | 0     | 1     | 0     | 0     | 0     | 0     | 0     | 0     |  8.01 | \n",
       "| 331 | 1005  |  1    |  2    | 0     | 0     | 0     | 0     |  9    | 1     | 0.10  | ⋯     | 0     | 0     | 1     | 0     | 0     | 0     | 0     | 0     | 0     |  8.01 | \n",
       "| 659 | 1005  |  2    |  3    | 0     | 0     | 0     | 0     |  9    | 1     | 0.10  | ⋯     | 0     | 0     | 1     | 0     | 0     | 0     | 0     | 0     | 0     |  8.01 | \n",
       "| 987 | 1005  |  3    |  4    | 0     | 0     | 0     | 0     |  9    | 1     | 0.10  | ⋯     | 0     | 0     | 1     | 0     | 0     | 0     | 0     | 0     | 0     |  8.01 | \n",
       "| 1315 | 1005  |  4    |  5    | 0     | 0     | 0     | 0     |  9    | 1     | 0.10  | ⋯     | 0     | 0     | 1     | 0     | 0     | 0     | 0     | 0     | 0     |  8.01 | \n",
       "| 1643 | 1005  |  5    |  6    | 0     | 0     | 0     | 0     |  9    | 1     | 0.10  | ⋯     | 0     | 0     | 1     | 0     | 0     | 0     | 0     | 0     | 0     |  8.01 | \n",
       "| 1971 | 1005  |  6    |  7    | 0     | 0     | 0     | 0     |  9    | 1     | 0.10  | ⋯     | 0     | 0     | 1     | 0     | 0     | 0     | 0     | 0     | 0     |  8.01 | \n",
       "| 19712 | 1005  |  7    |  8    | 0     | 0     | 0     | 0     |  9    | 1     | 0.10  | ⋯     | 0     | 0     | 1     | 0     | 0     | 0     | 0     | 0     | 0     |  8.01 | \n",
       "| 19711 | 1005  |  8    |  9    | 0     | 0     | 0     | 0     |  9    | 1     | 0.10  | ⋯     | 0     | 0     | 1     | 0     | 0     | 0     | 0     | 0     | 0     |  8.01 | \n",
       "| 4 | 1006  |  0    |  1    | 0     | 0     | 0     | 0     | 59    | 1     | 1.72  | ⋯     | 0     | 0     | 1     | 0     | 0     | 0     | 0     | 0     | 1     | 20.63 | \n",
       "| 332 | 1006  |  1    |  2    | 0     | 0     | 0     | 0     | 59    | 1     | 1.72  | ⋯     | 0     | 0     | 1     | 0     | 0     | 0     | 0     | 0     | 1     | 20.63 | \n",
       "| 660 | 1006  |  2    |  3    | 0     | 0     | 0     | 0     | 59    | 1     | 1.72  | ⋯     | 0     | 0     | 1     | 0     | 0     | 0     | 0     | 0     | 1     | 20.63 | \n",
       "| 988 | 1006  |  3    |  4    | 0     | 0     | 0     | 0     | 59    | 1     | 1.72  | ⋯     | 0     | 0     | 1     | 0     | 0     | 0     | 0     | 0     | 1     | 20.63 | \n",
       "| 1316 | 1006  |  4    |  5    | 0     | 0     | 0     | 0     | 59    | 1     | 1.72  | ⋯     | 0     | 0     | 1     | 0     | 0     | 0     | 0     | 0     | 1     | 20.63 | \n",
       "| 1644 | 1006  |  5    |  6    | 0     | 0     | 0     | 0     | 59    | 1     | 1.72  | ⋯     | 0     | 0     | 1     | 0     | 0     | 0     | 0     | 0     | 1     | 20.63 | \n",
       "| 1972 | 1006  |  6    |  7    | 1     | 0     | 0     | 0     | 59    | 1     | 1.72  | ⋯     | 0     | 0     | 1     | 0     | 0     | 0     | 0     | 0     | 1     | 20.63 | \n",
       "| 197221 | 1006  |  7    |  8    | 0     | 0     | 0     | 0     | 59    | 1     | 1.72  | ⋯     | 0     | 0     | 1     | 0     | 0     | 0     | 0     | 0     | 1     | 20.63 | \n",
       "| 19721 | 1006  |  8    |  9    | 0     | 0     | 0     | 0     | 59    | 1     | 1.72  | ⋯     | 0     | 0     | 1     | 0     | 0     | 0     | 0     | 0     | 1     | 20.63 | \n",
       "| 19722 | 1006  |  9    | 10    | 0     | 0     | 0     | 0     | 59    | 1     | 1.72  | ⋯     | 0     | 0     | 1     | 0     | 0     | 0     | 0     | 0     | 1     | 20.63 | \n",
       "| 19723 | 1006  | 10    | 11    | 0     | 0     | 0     | 0     | 59    | 1     | 1.72  | ⋯     | 0     | 0     | 1     | 0     | 0     | 0     | 0     | 0     | 1     | 20.63 | \n",
       "| 19724 | 1006  | 11    | 12    | 0     | 0     | 0     | 0     | 59    | 1     | 1.72  | ⋯     | 0     | 0     | 1     | 0     | 0     | 0     | 0     | 0     | 1     | 20.63 | \n",
       "| 19725 | 1006  | 12    | 13    | 0     | 0     | 0     | 0     | 59    | 1     | 1.72  | ⋯     | 0     | 0     | 1     | 0     | 0     | 0     | 0     | 0     | 1     | 20.63 | \n",
       "| 19726 | 1006  | 13    | 14    | 0     | 0     | 0     | 0     | 59    | 1     | 1.72  | ⋯     | 0     | 0     | 1     | 0     | 0     | 0     | 0     | 0     | 1     | 20.63 | \n",
       "| 19727 | 1006  | 14    | 15    | 0     | 0     | 0     | 0     | 59    | 1     | 1.72  | ⋯     | 0     | 0     | 1     | 0     | 0     | 0     | 0     | 0     | 1     | 20.63 | \n",
       "| ⋮ | ⋮ | ⋮ | ⋮ | ⋮ | ⋮ | ⋮ | ⋮ | ⋮ | ⋮ | ⋮ | ⋱ | ⋮ | ⋮ | ⋮ | ⋮ | ⋮ | ⋮ | ⋮ | ⋮ | ⋮ | ⋮ | \n",
       "| 197218 | 1006  | 25    | 26    | 0     | 0     | 0     | 0     | 59    | 1     | 1.72  | ⋯     | 0     | 0     | 1     | 0     | 0     | 0     | 0     | 0     | 1     | 20.63 | \n",
       "| 197219 | 1006  | 26    | 27    | 0     | 0     | 0     | 0     | 59    | 1     | 1.72  | ⋯     | 0     | 0     | 1     | 0     | 0     | 0     | 0     | 0     | 1     | 20.63 | \n",
       "| 197220 | 1006  | 27    | 28    | 0     | 0     | 0     | 0     | 59    | 1     | 1.72  | ⋯     | 0     | 0     | 1     | 0     | 0     | 0     | 0     | 0     | 1     | 20.63 | \n",
       "| 5 | 1008  |  0    |  1    | 0     | 0     | 0     | 0     |  5    | 1     | 2.92  | ⋯     | 0     | 1     | 1     | 0     | 0     | 0     | 0     | 0     | 0     |  4.46 | \n",
       "| 333 | 1008  |  1    |  2    | 0     | 0     | 0     | 0     |  5    | 1     | 2.92  | ⋯     | 0     | 1     | 1     | 0     | 0     | 0     | 0     | 0     | 0     |  4.46 | \n",
       "| 661 | 1008  |  2    |  3    | 0     | 0     | 0     | 0     |  5    | 1     | 2.92  | ⋯     | 0     | 1     | 1     | 0     | 0     | 0     | 0     | 0     | 0     |  4.46 | \n",
       "| 989 | 1008  |  3    |  4    | 0     | 0     | 0     | 0     |  5    | 1     | 2.92  | ⋯     | 0     | 1     | 1     | 0     | 0     | 0     | 0     | 0     | 0     |  4.46 | \n",
       "| 1317 | 1008  |  4    |  5    | 0     | 0     | 0     | 0     |  5    | 1     | 2.92  | ⋯     | 0     | 1     | 1     | 0     | 0     | 0     | 0     | 0     | 0     |  4.46 | \n",
       "| 6 | 1009  |  0    |  1    | 0     | 0     | 1     | 1     |  9    | 0     | 0.70  | ⋯     | 0     | 1     | 1     | 0     | 0     | 0     | 0     | 0     | 0     |  6.21 | \n",
       "| 334 | 1009  |  1    |  2    | 0     | 0     | 1     | 1     |  9    | 0     | 0.70  | ⋯     | 0     | 1     | 1     | 0     | 0     | 0     | 0     | 0     | 0     |  6.21 | \n",
       "| 662 | 1009  |  2    |  3    | 1     | 0     | 1     | 1     |  9    | 0     | 0.70  | ⋯     | 0     | 1     | 1     | 0     | 0     | 0     | 0     | 0     | 0     |  6.21 | \n",
       "| 990 | 1009  |  3    |  4    | 1     | 0     | 1     | 1     |  9    | 0     | 0.70  | ⋯     | 0     | 1     | 1     | 0     | 0     | 0     | 0     | 0     | 0     |  6.21 | \n",
       "| 1318 | 1009  |  4    |  5    | 1     | 0     | 1     | 1     |  9    | 0     | 0.70  | ⋯     | 0     | 1     | 1     | 0     | 0     | 0     | 0     | 0     | 0     |  6.21 | \n",
       "| 1646 | 1009  |  5    |  6    | 0     | 0     | 1     | 1     |  9    | 0     | 0.70  | ⋯     | 0     | 1     | 1     | 0     | 0     | 0     | 0     | 0     | 0     |  6.21 | \n",
       "| 1974 | 1009  |  6    |  7    | 0     | 0     | 1     | 1     |  9    | 0     | 0.70  | ⋯     | 0     | 1     | 1     | 0     | 0     | 0     | 0     | 0     | 0     |  6.21 | \n",
       "| 19742 | 1009  |  7    |  8    | 0     | 0     | 1     | 1     |  9    | 0     | 0.70  | ⋯     | 0     | 1     | 1     | 0     | 0     | 0     | 0     | 0     | 0     |  6.21 | \n",
       "| 19741 | 1009  |  8    |  9    | 0     | 1     | 1     | 1     |  9    | 0     | 0.70  | ⋯     | 0     | 1     | 1     | 0     | 0     | 0     | 0     | 0     | 0     |  6.21 | \n",
       "| 7 | 1010  |  0    |  1    | 0     | 0     | 0     | 0     |  5    | 0     | 0.17  | ⋯     | 0     | 0     | 1     | 0     | 0     | 0     | 0     | 0     | 0     |  6.32 | \n",
       "| 335 | 1010  |  1    |  2    | 0     | 0     | 0     | 0     |  5    | 0     | 0.17  | ⋯     | 0     | 0     | 1     | 0     | 0     | 0     | 0     | 0     | 0     |  6.32 | \n",
       "| 663 | 1010  |  2    |  3    | 0     | 0     | 0     | 0     |  5    | 0     | 0.17  | ⋯     | 0     | 0     | 1     | 0     | 0     | 0     | 0     | 0     | 0     |  6.32 | \n",
       "| 991 | 1010  |  3    |  4    | 0     | 0     | 0     | 0     |  5    | 0     | 0.17  | ⋯     | 0     | 0     | 1     | 0     | 0     | 0     | 0     | 0     | 0     |  6.32 | \n",
       "| 1319 | 1010  |  4    |  5    | 0     | 0     | 0     | 0     |  5    | 0     | 0.17  | ⋯     | 0     | 0     | 1     | 0     | 0     | 0     | 0     | 0     | 0     |  6.32 | \n",
       "| 8 | 1011  |  0    |  1    | 1     | 0     | 0     | 0     | 61    | 1     | 1.31  | ⋯     | 1     | 1     | 1     | 0     | 0     | 0     | 0     | 0     | 0     | 21.60 | \n",
       "| 336 | 1011  |  1    |  2    | 0     | 0     | 0     | 0     | 61    | 1     | 1.31  | ⋯     | 1     | 1     | 1     | 0     | 0     | 0     | 0     | 0     | 0     | 21.60 | \n",
       "| 664 | 1011  |  2    |  3    | 0     | 0     | 0     | 0     | 61    | 1     | 1.31  | ⋯     | 1     | 1     | 1     | 0     | 0     | 0     | 0     | 0     | 0     | 21.60 | \n",
       "| 992 | 1011  |  3    |  4    | 0     | 0     | 0     | 0     | 61    | 1     | 1.31  | ⋯     | 1     | 1     | 1     | 0     | 0     | 0     | 0     | 0     | 0     | 21.60 | \n",
       "| 1320 | 1011  |  4    |  5    | 0     | 0     | 0     | 0     | 61    | 1     | 1.31  | ⋯     | 1     | 1     | 1     | 0     | 0     | 0     | 0     | 0     | 0     | 21.60 | \n",
       "| 1648 | 1011  |  5    |  6    | 0     | 0     | 0     | 0     | 61    | 1     | 1.31  | ⋯     | 1     | 1     | 1     | 0     | 0     | 0     | 0     | 0     | 0     | 21.60 | \n",
       "| 1976 | 1011  |  6    |  7    | 0     | 0     | 0     | 0     | 61    | 1     | 1.31  | ⋯     | 1     | 1     | 1     | 0     | 0     | 0     | 0     | 0     | 0     | 21.60 | \n",
       "| 197621 | 1011  |  7    |  8    | 0     | 0     | 0     | 0     | 61    | 1     | 1.31  | ⋯     | 1     | 1     | 1     | 0     | 0     | 0     | 0     | 0     | 0     | 21.60 | \n",
       "\n",
       "\n"
      ],
      "text/plain": [
       "       ID   start_day end_day HFV_indicator event died_in_ICU mortality_28day\n",
       "1      1001  0         1      0             0     1           1              \n",
       "329    1001  1         2      0             0     1           1              \n",
       "657    1001  2         3      0             1     1           1              \n",
       "2      1003  0         1      0             0     0           0              \n",
       "330    1003  1         2      0             0     0           0              \n",
       "658    1003  2         3      0             0     0           0              \n",
       "3      1005  0         1      0             0     0           0              \n",
       "331    1005  1         2      0             0     0           0              \n",
       "659    1005  2         3      0             0     0           0              \n",
       "987    1005  3         4      0             0     0           0              \n",
       "1315   1005  4         5      0             0     0           0              \n",
       "1643   1005  5         6      0             0     0           0              \n",
       "1971   1005  6         7      0             0     0           0              \n",
       "19712  1005  7         8      0             0     0           0              \n",
       "19711  1005  8         9      0             0     0           0              \n",
       "4      1006  0         1      0             0     0           0              \n",
       "332    1006  1         2      0             0     0           0              \n",
       "660    1006  2         3      0             0     0           0              \n",
       "988    1006  3         4      0             0     0           0              \n",
       "1316   1006  4         5      0             0     0           0              \n",
       "1644   1006  5         6      0             0     0           0              \n",
       "1972   1006  6         7      1             0     0           0              \n",
       "197221 1006  7         8      0             0     0           0              \n",
       "19721  1006  8         9      0             0     0           0              \n",
       "19722  1006  9        10      0             0     0           0              \n",
       "19723  1006 10        11      0             0     0           0              \n",
       "19724  1006 11        12      0             0     0           0              \n",
       "19725  1006 12        13      0             0     0           0              \n",
       "19726  1006 13        14      0             0     0           0              \n",
       "19727  1006 14        15      0             0     0           0              \n",
       "⋮      ⋮    ⋮         ⋮       ⋮             ⋮     ⋮           ⋮              \n",
       "197218 1006 25        26      0             0     0           0              \n",
       "197219 1006 26        27      0             0     0           0              \n",
       "197220 1006 27        28      0             0     0           0              \n",
       "5      1008  0         1      0             0     0           0              \n",
       "333    1008  1         2      0             0     0           0              \n",
       "661    1008  2         3      0             0     0           0              \n",
       "989    1008  3         4      0             0     0           0              \n",
       "1317   1008  4         5      0             0     0           0              \n",
       "6      1009  0         1      0             0     1           1              \n",
       "334    1009  1         2      0             0     1           1              \n",
       "662    1009  2         3      1             0     1           1              \n",
       "990    1009  3         4      1             0     1           1              \n",
       "1318   1009  4         5      1             0     1           1              \n",
       "1646   1009  5         6      0             0     1           1              \n",
       "1974   1009  6         7      0             0     1           1              \n",
       "19742  1009  7         8      0             0     1           1              \n",
       "19741  1009  8         9      0             1     1           1              \n",
       "7      1010  0         1      0             0     0           0              \n",
       "335    1010  1         2      0             0     0           0              \n",
       "663    1010  2         3      0             0     0           0              \n",
       "991    1010  3         4      0             0     0           0              \n",
       "1319   1010  4         5      0             0     0           0              \n",
       "8      1011  0         1      1             0     0           0              \n",
       "336    1011  1         2      0             0     0           0              \n",
       "664    1011  2         3      0             0     0           0              \n",
       "992    1011  3         4      0             0     0           0              \n",
       "1320   1011  4         5      0             0     0           0              \n",
       "1648   1011  5         6      0             0     0           0              \n",
       "1976   1011  6         7      0             0     0           0              \n",
       "197621 1011  7         8      0             0     0           0              \n",
       "       ICUduration female age  ⋯ p_bloodculture comorbidity rf_pneumonia\n",
       "1       3          1      0.02 ⋯ 1              0           0           \n",
       "329     3          1      0.02 ⋯ 1              0           0           \n",
       "657     3          1      0.02 ⋯ 1              0           0           \n",
       "2       3          0      0.47 ⋯ 0              0           1           \n",
       "330     3          0      0.47 ⋯ 0              0           1           \n",
       "658     3          0      0.47 ⋯ 0              0           1           \n",
       "3       9          1      0.10 ⋯ 0              0           1           \n",
       "331     9          1      0.10 ⋯ 0              0           1           \n",
       "659     9          1      0.10 ⋯ 0              0           1           \n",
       "987     9          1      0.10 ⋯ 0              0           1           \n",
       "1315    9          1      0.10 ⋯ 0              0           1           \n",
       "1643    9          1      0.10 ⋯ 0              0           1           \n",
       "1971    9          1      0.10 ⋯ 0              0           1           \n",
       "19712   9          1      0.10 ⋯ 0              0           1           \n",
       "19711   9          1      0.10 ⋯ 0              0           1           \n",
       "4      59          1      1.72 ⋯ 0              0           1           \n",
       "332    59          1      1.72 ⋯ 0              0           1           \n",
       "660    59          1      1.72 ⋯ 0              0           1           \n",
       "988    59          1      1.72 ⋯ 0              0           1           \n",
       "1316   59          1      1.72 ⋯ 0              0           1           \n",
       "1644   59          1      1.72 ⋯ 0              0           1           \n",
       "1972   59          1      1.72 ⋯ 0              0           1           \n",
       "197221 59          1      1.72 ⋯ 0              0           1           \n",
       "19721  59          1      1.72 ⋯ 0              0           1           \n",
       "19722  59          1      1.72 ⋯ 0              0           1           \n",
       "19723  59          1      1.72 ⋯ 0              0           1           \n",
       "19724  59          1      1.72 ⋯ 0              0           1           \n",
       "19725  59          1      1.72 ⋯ 0              0           1           \n",
       "19726  59          1      1.72 ⋯ 0              0           1           \n",
       "19727  59          1      1.72 ⋯ 0              0           1           \n",
       "⋮      ⋮           ⋮      ⋮    ⋱ ⋮              ⋮           ⋮           \n",
       "197218 59          1      1.72 ⋯ 0              0           1           \n",
       "197219 59          1      1.72 ⋯ 0              0           1           \n",
       "197220 59          1      1.72 ⋯ 0              0           1           \n",
       "5       5          1      2.92 ⋯ 0              1           1           \n",
       "333     5          1      2.92 ⋯ 0              1           1           \n",
       "661     5          1      2.92 ⋯ 0              1           1           \n",
       "989     5          1      2.92 ⋯ 0              1           1           \n",
       "1317    5          1      2.92 ⋯ 0              1           1           \n",
       "6       9          0      0.70 ⋯ 0              1           1           \n",
       "334     9          0      0.70 ⋯ 0              1           1           \n",
       "662     9          0      0.70 ⋯ 0              1           1           \n",
       "990     9          0      0.70 ⋯ 0              1           1           \n",
       "1318    9          0      0.70 ⋯ 0              1           1           \n",
       "1646    9          0      0.70 ⋯ 0              1           1           \n",
       "1974    9          0      0.70 ⋯ 0              1           1           \n",
       "19742   9          0      0.70 ⋯ 0              1           1           \n",
       "19741   9          0      0.70 ⋯ 0              1           1           \n",
       "7       5          0      0.17 ⋯ 0              0           1           \n",
       "335     5          0      0.17 ⋯ 0              0           1           \n",
       "663     5          0      0.17 ⋯ 0              0           1           \n",
       "991     5          0      0.17 ⋯ 0              0           1           \n",
       "1319    5          0      0.17 ⋯ 0              0           1           \n",
       "8      61          1      1.31 ⋯ 1              1           1           \n",
       "336    61          1      1.31 ⋯ 1              1           1           \n",
       "664    61          1      1.31 ⋯ 1              1           1           \n",
       "992    61          1      1.31 ⋯ 1              1           1           \n",
       "1320   61          1      1.31 ⋯ 1              1           1           \n",
       "1648   61          1      1.31 ⋯ 1              1           1           \n",
       "1976   61          1      1.31 ⋯ 1              1           1           \n",
       "197621 61          1      1.31 ⋯ 1              1           1           \n",
       "       rf_sepsis rf_aspiration rf_transfusion rf_trauma rf_drowning MODS OI   \n",
       "1      1         0             0              0         0           1     5.06\n",
       "329    1         0             0              0         0           1     5.06\n",
       "657    1         0             0              0         0           1     5.06\n",
       "2      0         0             0              0         0           0     5.11\n",
       "330    0         0             0              0         0           0     5.11\n",
       "658    0         0             0              0         0           0     5.11\n",
       "3      0         0             0              0         0           0     8.01\n",
       "331    0         0             0              0         0           0     8.01\n",
       "659    0         0             0              0         0           0     8.01\n",
       "987    0         0             0              0         0           0     8.01\n",
       "1315   0         0             0              0         0           0     8.01\n",
       "1643   0         0             0              0         0           0     8.01\n",
       "1971   0         0             0              0         0           0     8.01\n",
       "19712  0         0             0              0         0           0     8.01\n",
       "19711  0         0             0              0         0           0     8.01\n",
       "4      0         0             0              0         0           1    20.63\n",
       "332    0         0             0              0         0           1    20.63\n",
       "660    0         0             0              0         0           1    20.63\n",
       "988    0         0             0              0         0           1    20.63\n",
       "1316   0         0             0              0         0           1    20.63\n",
       "1644   0         0             0              0         0           1    20.63\n",
       "1972   0         0             0              0         0           1    20.63\n",
       "197221 0         0             0              0         0           1    20.63\n",
       "19721  0         0             0              0         0           1    20.63\n",
       "19722  0         0             0              0         0           1    20.63\n",
       "19723  0         0             0              0         0           1    20.63\n",
       "19724  0         0             0              0         0           1    20.63\n",
       "19725  0         0             0              0         0           1    20.63\n",
       "19726  0         0             0              0         0           1    20.63\n",
       "19727  0         0             0              0         0           1    20.63\n",
       "⋮      ⋮         ⋮             ⋮              ⋮         ⋮           ⋮    ⋮    \n",
       "197218 0         0             0              0         0           1    20.63\n",
       "197219 0         0             0              0         0           1    20.63\n",
       "197220 0         0             0              0         0           1    20.63\n",
       "5      0         0             0              0         0           0     4.46\n",
       "333    0         0             0              0         0           0     4.46\n",
       "661    0         0             0              0         0           0     4.46\n",
       "989    0         0             0              0         0           0     4.46\n",
       "1317   0         0             0              0         0           0     4.46\n",
       "6      0         0             0              0         0           0     6.21\n",
       "334    0         0             0              0         0           0     6.21\n",
       "662    0         0             0              0         0           0     6.21\n",
       "990    0         0             0              0         0           0     6.21\n",
       "1318   0         0             0              0         0           0     6.21\n",
       "1646   0         0             0              0         0           0     6.21\n",
       "1974   0         0             0              0         0           0     6.21\n",
       "19742  0         0             0              0         0           0     6.21\n",
       "19741  0         0             0              0         0           0     6.21\n",
       "7      0         0             0              0         0           0     6.32\n",
       "335    0         0             0              0         0           0     6.32\n",
       "663    0         0             0              0         0           0     6.32\n",
       "991    0         0             0              0         0           0     6.32\n",
       "1319   0         0             0              0         0           0     6.32\n",
       "8      0         0             0              0         0           0    21.60\n",
       "336    0         0             0              0         0           0    21.60\n",
       "664    0         0             0              0         0           0    21.60\n",
       "992    0         0             0              0         0           0    21.60\n",
       "1320   0         0             0              0         0           0    21.60\n",
       "1648   0         0             0              0         0           0    21.60\n",
       "1976   0         0             0              0         0           0    21.60\n",
       "197621 0         0             0              0         0           0    21.60"
      ]
     },
     "metadata": {},
     "output_type": "display_data"
    }
   ],
   "source": [
    "#create new dataset for cox ph model with time-dependent adjustment for treatment and covariates\n",
    "#df2 is the final dataset\n",
    "df<-melt(mydata,id.vars=c(\"ID\",\"ICUduration\",\"died_in_ICU\",\"mortality_30day\",\"mortality_28day\",\"mortality_100day\",\"female\",\"age\",\"pim2\",\"pelod\",\"p_bloodculture\",\n",
    "                          \"comorbidity\",\"rf_pneumonia\",\"rf_sepsis\",\"rf_aspiration\",\"rf_transfusion\", \n",
    "                          \"rf_trauma\", \"rf_drowning\",\"MODS\",\"OI\"), \n",
    "         measure.vars=c(\"D1_HFV\",\"D2_HFV\",\"D3_HFV\",\"D4_HFV\",\"D5_HFV\",\"D6_HFV\",\"D7_HFV\"),\n",
    "         variable.name = \"end_day\",value.name = \"HFV_indicator\",factorsAsStrings = FALSE)\n",
    "\n",
    "df<-df[order(df$ID), , drop = FALSE]\n",
    "df$end_day<-revalue(df$end_day, c(\"D1_HFV\"=1,\"D2_HFV\"=2, \"D3_HFV\"=3,\"D4_HFV\"=4,\"D5_HFV\"=5, \"D6_HFV\"=6,\"D7_HFV\"=7))\n",
    "df$end_day<-as.numeric(df$end_day)\n",
    "df$start_day<-df$end_day-1\n",
    "\n",
    "df1<-df[df$start_day<df$ICUduration,]\n",
    "df1$event<-ifelse(df1$end_day<df1$ICUduration, 0,df1$died_in_ICU)\n",
    "\n",
    "df1 <- df1[c(\"ID\",\"start_day\",\"end_day\",\"HFV_indicator\",\"event\",\"died_in_ICU\",\"mortality_28day\",\"ICUduration\",\"female\",\"age\",\"pim2\",\"pelod\",\"p_bloodculture\",\"comorbidity\",\"rf_pneumonia\"\n",
    "         ,\"rf_sepsis\",\"rf_aspiration\" , \"rf_transfusion\", \"rf_trauma\", \"rf_drowning\",\"MODS\",\"OI\")]\n",
    "\n",
    "\n",
    "length(df1$ID)\n",
    "df2 <- do.call(\"rbind\", lapply(unique(df1$ID), function(id) {\n",
    "    df1_id <- df1[df1$ID == id, ]\n",
    "    n_id <- nrow(df1_id)\n",
    "    n_all <- df1_id$ICUduration[1]\n",
    "    if(n_all>28){\n",
    "        n_all<-28\n",
    "    }\n",
    "    if (n_id == n_all) {\n",
    "        df1_id\n",
    "    } else {\n",
    "        last_row <- df1_id[n_id, ]\n",
    "        df1_add <- do.call(\"rbind\", lapply((n_id + 1):n_all, function(r) {\n",
    "            new_row <- last_row\n",
    "            new_row$start_day <- r - 1\n",
    "            new_row$end_day <- r\n",
    "            new_row$HFV_indicator<-0\n",
    "            if(r==n_all){\n",
    "                new_row$event<- new_row$mortality_28day\n",
    "            } else{\n",
    "                new_row$event<- 0\n",
    "            }\n",
    "            new_row\n",
    "        }))\n",
    "        rbind(df1_id, df1_add)\n",
    "    }\n",
    "}))\n",
    "df2[1:70,]"
   ]
  },
  {
   "cell_type": "code",
   "execution_count": 261,
   "metadata": {},
   "outputs": [
    {
     "data": {
      "image/png": "[encoded data removed]",
      "text/plain": [
       "Plot with title “Histogram of ICU duration”"
      ]
     },
     "metadata": {},
     "output_type": "display_data"
    }
   ],
   "source": [
    "#look at ICU duration distribution\n",
    "hist(mydata$ICUduration, main=\"Histogram of ICU duration\",xlab=\"ICU duration in days\")"
   ]
  },
  {
   "cell_type": "code",
   "execution_count": 263,
   "metadata": {},
   "outputs": [
    {
     "data": {
      "text/plain": [
       "   Min. 1st Qu.  Median    Mean 3rd Qu.    Max. \n",
       " 0.4543  0.9666  1.1550  1.2310  1.2933  5.4262 "
      ]
     },
     "metadata": {},
     "output_type": "display_data"
    },
    {
     "data": {
      "image/png": "[encoded data removed]",
      "text/plain": [
       "Plot with title “”"
      ]
     },
     "metadata": {},
     "output_type": "display_data"
    }
   ],
   "source": [
    "# stabilized weights for MSM Cox PH model\n",
    "time_model <- ipwtm(\n",
    "  exposure = HFV_indicator,\n",
    "  family = \"survival\",\n",
    "\n",
    "  numerator = ~ female+age+pim2+pelod+p_bloodculture+comorbidity+rf_pneumonia+rf_sepsis\n",
    "                 +rf_aspiration+rf_transfusion+rf_drowning+MODS+OI,\n",
    "  denominator = ~1,\n",
    "  id = ID,\n",
    "  tstart = start_day,\n",
    "  timevar = end_day,\n",
    "  type = \"first\",\n",
    "  data = df2, trunc=0.01)\n",
    "summary(time_model$weights.trunc)\n",
    "\n",
    "\n",
    "#plot (stabilized) inverse probability weights\n",
    "\n",
    "#png(filename=\"sw_plot.png\")\n",
    "ipwplot(weights = time_model$weights.trunc, timevar = df2$end_day, xlab=\"Days in PICU\", ylab=\"Log of Stabilized Weights\",\n",
    "   binwidth = 1, ylim=c(-2,2))\n",
    "#dev.off()"
   ]
  },
  {
   "cell_type": "code",
   "execution_count": 264,
   "metadata": {},
   "outputs": [
    {
     "data": {
      "text/plain": [
       "Call:\n",
       "coxph(formula = Surv(start_day, end_day, event) ~ HFV_indicator + \n",
       "    female + age + pim2 + pelod + p_bloodculture + comorbidity + \n",
       "    rf_pneumonia + rf_sepsis + rf_aspiration + rf_transfusion + \n",
       "    rf_drowning + MODS + OI + cluster(ID), data = df2, weights = time_model$weights.trunc)\n",
       "\n",
       "  n= 5020, number of events= 79 \n",
       "\n",
       "                    coef exp(coef)  se(coef) robust se      z Pr(>|z|)    \n",
       "HFV_indicator  -0.577200  0.561468  0.400955  0.536495 -1.076   0.2820    \n",
       "female          0.087194  1.091108  0.227071  0.307817  0.283   0.7770    \n",
       "age            -0.017494  0.982658  0.024576  0.030905 -0.566   0.5714    \n",
       "pim2           -0.013837  0.986258  0.005258  0.008284 -1.670   0.0948 .  \n",
       "pelod           0.062193  1.064167  0.012410  0.015107  4.117 3.84e-05 ***\n",
       "p_bloodculture  0.471108  1.601767  0.276323  0.317959  1.482   0.1384    \n",
       "comorbidity    -0.085685  0.917883  0.221815  0.275301 -0.311   0.7556    \n",
       "rf_pneumonia    0.089721  1.093869  0.316805  0.418915  0.214   0.8304    \n",
       "rf_sepsis      -0.334055  0.716014  0.273635  0.303531 -1.101   0.2711    \n",
       "rf_aspiration  -0.025926  0.974407  0.657331  0.710279 -0.037   0.9709    \n",
       "rf_transfusion  1.398286  4.048255  0.572090  0.803553  1.740   0.0818 .  \n",
       "rf_drowning     0.551358  1.735608  0.585656  0.776237  0.710   0.4775    \n",
       "MODS            0.860435  2.364189  0.252640  0.362657  2.373   0.0177 *  \n",
       "OI              0.005914  1.005931  0.007661  0.013181  0.449   0.6537    \n",
       "---\n",
       "Signif. codes:  0 ‘***’ 0.001 ‘**’ 0.01 ‘*’ 0.05 ‘.’ 0.1 ‘ ’ 1\n",
       "\n",
       "               exp(coef) exp(-coef) lower .95 upper .95\n",
       "HFV_indicator     0.5615     1.7810    0.1962     1.607\n",
       "female            1.0911     0.9165    0.5968     1.995\n",
       "age               0.9827     1.0176    0.9249     1.044\n",
       "pim2              0.9863     1.0139    0.9704     1.002\n",
       "pelod             1.0642     0.9397    1.0331     1.096\n",
       "p_bloodculture    1.6018     0.6243    0.8589     2.987\n",
       "comorbidity       0.9179     1.0895    0.5351     1.574\n",
       "rf_pneumonia      1.0939     0.9142    0.4813     2.486\n",
       "rf_sepsis         0.7160     1.3966    0.3950     1.298\n",
       "rf_aspiration     0.9744     1.0263    0.2422     3.920\n",
       "rf_transfusion    4.0483     0.2470    0.8381    19.555\n",
       "rf_drowning       1.7356     0.5762    0.3791     7.947\n",
       "MODS              2.3642     0.4230    1.1614     4.813\n",
       "OI                1.0059     0.9941    0.9803     1.032\n",
       "\n",
       "Concordance= 0.704  (se = 0.032 )\n",
       "Rsquare= 0.01   (max possible= 0.192 )\n",
       "Likelihood ratio test= 49.16  on 14 df,   p=8e-06\n",
       "Wald test            = 37.01  on 14 df,   p=7e-04\n",
       "Score (logrank) test = 57.65  on 14 df,   p=3e-07,   Robust = 18.44  p=0.2\n",
       "\n",
       "  (Note: the likelihood ratio and score tests assume independence of\n",
       "     observations within a cluster, the Wald and robust score tests do not)."
      ]
     },
     "metadata": {},
     "output_type": "display_data"
    }
   ],
   "source": [
    "#MSM Cox PH model with adjustment for covariates\n",
    "cox_model<-coxph(Surv(start_day, end_day, event) ~ HFV_indicator+female+age+pim2+pelod+p_bloodculture+comorbidity+rf_pneumonia+rf_sepsis\n",
    "                 +rf_aspiration+rf_transfusion+rf_drowning+MODS+OI+cluster(ID),\n",
    "   data = df2, weights = time_model$weights.trunc)\n",
    "summary(cox_model)\n"
   ]
  },
  {
   "cell_type": "code",
   "execution_count": 265,
   "metadata": {},
   "outputs": [
    {
     "data": {
      "text/plain": [
       "Call:\n",
       "coxph(formula = Surv(start_day, end_day, event) ~ HFV_indicator + \n",
       "    cluster(ID), data = df2, weights = time_model$weights.trunc)\n",
       "\n",
       "  n= 5020, number of events= 79 \n",
       "\n",
       "                 coef exp(coef) se(coef) robust se      z Pr(>|z|)\n",
       "HFV_indicator -0.2465    0.7815   0.3581    0.5617 -0.439    0.661\n",
       "\n",
       "              exp(coef) exp(-coef) lower .95 upper .95\n",
       "HFV_indicator    0.7815       1.28    0.2599      2.35\n",
       "\n",
       "Concordance= 0.513  (se = 0.021 )\n",
       "Rsquare= 0   (max possible= 0.192 )\n",
       "Likelihood ratio test= 0.49  on 1 df,   p=0.5\n",
       "Wald test            = 0.19  on 1 df,   p=0.7\n",
       "Score (logrank) test = 0.48  on 1 df,   p=0.5,   Robust = 0.23  p=0.6\n",
       "\n",
       "  (Note: the likelihood ratio and score tests assume independence of\n",
       "     observations within a cluster, the Wald and robust score tests do not)."
      ]
     },
     "metadata": {},
     "output_type": "display_data"
    }
   ],
   "source": [
    "#MSM Cox PH model without adjustment for covariates\n",
    "cox_model<-coxph(Surv(start_day, end_day, event) ~ HFV_indicator + cluster(ID),\n",
    "   data = df2, weights = time_model$weights.trunc)\n",
    "summary(cox_model)"
   ]
  },
  {
   "cell_type": "code",
   "execution_count": 277,
   "metadata": {},
   "outputs": [
    {
     "data": {
      "text/plain": [
       "   Min. 1st Qu.  Median    Mean 3rd Qu.    Max. \n",
       "  1.070   1.279   1.596   6.102   5.670  55.647 "
      ]
     },
     "metadata": {},
     "output_type": "display_data"
    },
    {
     "data": {
      "image/png": "[encoded data removed]",
      "text/plain": [
       "Plot with title “”"
      ]
     },
     "metadata": {},
     "output_type": "display_data"
    }
   ],
   "source": [
    "#non-stabilized weight\n",
    "time_model <- ipwtm(\n",
    "  exposure = HFV_indicator,\n",
    "  family = \"survival\",\n",
    "  #numerator = ~ 1,\n",
    "  denominator = ~ female+age+pim2+pelod+p_bloodculture+comorbidity+rf_pneumonia+rf_sepsis\n",
    "                 +rf_aspiration+rf_transfusion+rf_drowning+MODS+OI,\n",
    "  id = ID,\n",
    "  tstart = start_day,\n",
    "  timevar = end_day,\n",
    "  type = \"first\",\n",
    "  data = df2, trunc=0.01)\n",
    "summary(time_model$weights.trunc)\n",
    "\n",
    "#plot non-stabilized inverse probability weights\n",
    "\n",
    "#png(filename=\"non_sw_plot.png\")\n",
    "ipwplot(weights = time_model$weights.trunc, timevar = df2$end_day, xlab=\"Days in PICU\", ylab=\"Log of Non-Stabilized Weights\",\n",
    "   binwidth = 1)\n",
    "#dev.off()"
   ]
  },
  {
   "cell_type": "code",
   "execution_count": 278,
   "metadata": {},
   "outputs": [
    {
     "data": {
      "text/plain": [
       "Call:\n",
       "coxph(formula = Surv(start_day, end_day, event) ~ HFV_indicator + \n",
       "    cluster(ID), data = df2, weights = time_model$weights.trunc)\n",
       "\n",
       "  n= 5020, number of events= 79 \n",
       "\n",
       "                 coef exp(coef) se(coef) robust se      z Pr(>|z|)\n",
       "HFV_indicator -0.8128    0.4436   0.1505    0.6365 -1.277    0.202\n",
       "\n",
       "              exp(coef) exp(-coef) lower .95 upper .95\n",
       "HFV_indicator    0.4436      2.254    0.1274     1.545\n",
       "\n",
       "Concordance= 0.524  (se = 0.005 )\n",
       "Rsquare= 0.006   (max possible= 0.9 )\n",
       "Likelihood ratio test= 28.76  on 1 df,   p=8e-08\n",
       "Wald test            = 1.63  on 1 df,   p=0.2\n",
       "Score (logrank) test = 30.8  on 1 df,   p=3e-08,   Robust = 1.84  p=0.2\n",
       "\n",
       "  (Note: the likelihood ratio and score tests assume independence of\n",
       "     observations within a cluster, the Wald and robust score tests do not)."
      ]
     },
     "metadata": {},
     "output_type": "display_data"
    }
   ],
   "source": [
    "#Conditional Cox PH model without adjustment for covariates\n",
    "cox_model<-coxph(Surv(start_day, end_day, event) ~ HFV_indicator + cluster(ID),\n",
    "   data = df2,weights = time_model$weights.trunc)\n",
    "summary(cox_model)\n"
   ]
  },
  {
   "cell_type": "code",
   "execution_count": 279,
   "metadata": {},
   "outputs": [
    {
     "data": {
      "text/plain": [
       "Call:\n",
       "coxph(formula = Surv(start_day, end_day, event) ~ HFV_indicator + \n",
       "    female + age + pim2 + pelod + p_bloodculture + comorbidity + \n",
       "    rf_pneumonia + rf_sepsis + rf_aspiration + rf_transfusion + \n",
       "    rf_drowning + MODS + OI + cluster(ID), data = df2, weights = time_model$weights.trunc)\n",
       "\n",
       "  n= 5020, number of events= 79 \n",
       "\n",
       "                    coef exp(coef)  se(coef) robust se      z Pr(>|z|)   \n",
       "HFV_indicator  -1.027747  0.357812  0.157256  0.747074 -1.376  0.16892   \n",
       "female         -0.621615  0.537077  0.078383  0.392618 -1.583  0.11336   \n",
       "age            -0.003209  0.996796  0.009810  0.037347 -0.086  0.93153   \n",
       "pim2           -0.009916  0.990133  0.002672  0.021676 -0.457  0.64733   \n",
       "pelod           0.006897  1.006921  0.005220  0.027162  0.254  0.79956   \n",
       "p_bloodculture  0.280183  1.323372  0.124704  0.545104  0.514  0.60725   \n",
       "comorbidity     0.332224  1.394064  0.081512  0.486192  0.683  0.49441   \n",
       "rf_pneumonia    0.223319  1.250219  0.154320  0.638520  0.350  0.72653   \n",
       "rf_sepsis      -0.583742  0.557807  0.116677  0.516442 -1.130  0.25834   \n",
       "rf_aspiration   0.066132  1.068368  0.197350  0.845754  0.078  0.93767   \n",
       "rf_transfusion  2.104067  8.199452  0.166523  0.681696  3.087  0.00203 **\n",
       "rf_drowning    -0.928191  0.395268  0.419733  1.309672 -0.709  0.47850   \n",
       "MODS            0.527127  1.694058  0.079121  0.414458  1.272  0.20343   \n",
       "OI             -0.009936  0.990113  0.003505  0.017664 -0.562  0.57378   \n",
       "---\n",
       "Signif. codes:  0 ‘***’ 0.001 ‘**’ 0.01 ‘*’ 0.05 ‘.’ 0.1 ‘ ’ 1\n",
       "\n",
       "               exp(coef) exp(-coef) lower .95 upper .95\n",
       "HFV_indicator     0.3578     2.7948   0.08275     1.547\n",
       "female            0.5371     1.8619   0.24879     1.159\n",
       "age               0.9968     1.0032   0.92644     1.072\n",
       "pim2              0.9901     1.0100   0.94895     1.033\n",
       "pelod             1.0069     0.9931   0.95472     1.062\n",
       "p_bloodculture    1.3234     0.7556   0.45466     3.852\n",
       "comorbidity       1.3941     0.7173   0.53757     3.615\n",
       "rf_pneumonia      1.2502     0.7999   0.35767     4.370\n",
       "rf_sepsis         0.5578     1.7927   0.20272     1.535\n",
       "rf_aspiration     1.0684     0.9360   0.20362     5.606\n",
       "rf_transfusion    8.1995     0.1220   2.15538    31.192\n",
       "rf_drowning       0.3953     2.5299   0.03035     5.149\n",
       "MODS              1.6941     0.5903   0.75187     3.817\n",
       "OI                0.9901     1.0100   0.95642     1.025\n",
       "\n",
       "Concordance= 0.683  (se = 0.011 )\n",
       "Rsquare= 0.063   (max possible= 0.9 )\n",
       "Likelihood ratio test= 328.5  on 14 df,   p=<2e-16\n",
       "Wald test            = 23.09  on 14 df,   p=0.06\n",
       "Score (logrank) test = 442.3  on 14 df,   p=<2e-16,   Robust = 9.72  p=0.8\n",
       "\n",
       "  (Note: the likelihood ratio and score tests assume independence of\n",
       "     observations within a cluster, the Wald and robust score tests do not)."
      ]
     },
     "metadata": {},
     "output_type": "display_data"
    }
   ],
   "source": [
    "#Conditional Cox PH model with adjustment of covariates\n",
    "cox_model<-coxph(Surv(start_day, end_day, event) ~ HFV_indicator+female+age+pim2+pelod+p_bloodculture+comorbidity+rf_pneumonia+rf_sepsis\n",
    "                 +rf_aspiration+rf_transfusion+rf_drowning+MODS+OI+cluster(ID),\n",
    "   data = df2,weights = time_model$weights.trunc)\n",
    "summary(cox_model)\n"
   ]
  },
  {
   "cell_type": "code",
   "execution_count": 268,
   "metadata": {},
   "outputs": [
    {
     "data": {
      "text/plain": [
       "\n",
       "Call:\n",
       "glm(formula = treatment ~ female + age + pim2 + pelod + p_bloodculture + \n",
       "    comorbidity + rf_pneumonia + rf_sepsis + rf_aspiration + \n",
       "    rf_transfusion + rf_trauma + rf_drowning + MODS + OI_category, \n",
       "    family = binomial(link = \"logit\"), data = mydata)\n",
       "\n",
       "Deviance Residuals: \n",
       "    Min       1Q   Median       3Q      Max  \n",
       "-1.8910  -0.8559  -0.3999   0.8741   2.7032  \n",
       "\n",
       "Coefficients:\n",
       "                 Estimate Std. Error z value Pr(>|z|)    \n",
       "(Intercept)     -2.792795   0.828242  -3.372 0.000746 ***\n",
       "female           0.370592   0.282663   1.311 0.189834    \n",
       "age             -0.006784   0.030804  -0.220 0.825682    \n",
       "pim2             0.005487   0.008274   0.663 0.507255    \n",
       "pelod            0.027392   0.017134   1.599 0.109894    \n",
       "p_bloodculture   0.367778   0.406821   0.904 0.365980    \n",
       "comorbidity      0.044131   0.291964   0.151 0.879856    \n",
       "rf_pneumonia     0.324271   0.465904   0.696 0.486427    \n",
       "rf_sepsis       -0.799148   0.371016  -2.154 0.031245 *  \n",
       "rf_aspiration   -0.132999   0.695376  -0.191 0.848320    \n",
       "rf_transfusion   2.333305   1.138059   2.050 0.040340 *  \n",
       "rf_trauma      -14.591914 681.065782  -0.021 0.982907    \n",
       "rf_drowning     -0.406261   0.976243  -0.416 0.677303    \n",
       "MODS            -0.174460   0.312742  -0.558 0.576953    \n",
       "OI_category1    -0.096047   0.728819  -0.132 0.895154    \n",
       "OI_category2     1.756523   0.684989   2.564 0.010338 *  \n",
       "OI_category4     2.944698   0.688417   4.277 1.89e-05 ***\n",
       "---\n",
       "Signif. codes:  0 ‘***’ 0.001 ‘**’ 0.01 ‘*’ 0.05 ‘.’ 0.1 ‘ ’ 1\n",
       "\n",
       "(Dispersion parameter for binomial family taken to be 1)\n",
       "\n",
       "    Null deviance: 432.95  on 327  degrees of freedom\n",
       "Residual deviance: 332.25  on 311  degrees of freedom\n",
       "AIC: 366.25\n",
       "\n",
       "Number of Fisher Scoring iterations: 14\n"
      ]
     },
     "metadata": {},
     "output_type": "display_data"
    },
    {
     "name": "stdout",
     "output_type": "stream",
     "text": [
      "[[1]]\n",
      "[1] 0.8140618\n",
      "\n",
      "                            Stratified by treatment\n",
      "                             0              1              p      test SMD   \n",
      "  n                          326.17         350.20                           \n",
      "  female (mean (sd))           0.49 (0.50)    0.40 (0.49)   0.280       0.176\n",
      "  age (mean (sd))              4.02 (4.72)    3.52 (4.07)   0.433       0.114\n",
      "  pim2 (mean (sd))            16.25 (20.58)  16.05 (19.67)  0.950       0.010\n",
      "  pelod (mean (sd))            9.92 (10.43)  10.06 (9.29)   0.931       0.014\n",
      "  p_bloodculture (mean (sd))   0.16 (0.36)    0.13 (0.34)   0.574       0.072\n",
      "  comorbidity (mean (sd))      0.50 (0.50)    0.47 (0.50)   0.696       0.069\n",
      "  rf_pneumonia (mean (sd))     0.82 (0.38)    0.73 (0.45)   0.374       0.221\n",
      "  rf_sepsis (mean (sd))        0.29 (0.45)    0.37 (0.48)   0.385       0.181\n",
      "  rf_aspiration (mean (sd))    0.04 (0.20)    0.03 (0.16)   0.418       0.089\n",
      "  rf_transfusion (mean (sd))   0.01 (0.10)    0.01 (0.11)   0.772       0.029\n",
      "  rf_trauma (mean (sd))        0.01 (0.11)    0.00 (0.00)   0.047       0.157\n",
      "  rf_drowning (mean (sd))      0.03 (0.18)    0.02 (0.14)   0.458       0.080\n",
      "  MODS (mean (sd))             0.42 (0.49)    0.41 (0.49)   0.929       0.016\n",
      "  OI_category (%)                                           0.766       0.166\n",
      "     1                         94.8 (29.1)   127.8 (36.5)                    \n",
      "     2                         92.2 (28.3)    86.0 (24.6)                    \n",
      "     3                         27.1 ( 8.3)    22.9 ( 6.5)                    \n",
      "     4                        112.0 (34.3)   113.6 (32.4)                    \n"
     ]
    }
   ],
   "source": [
    "#To get table 1 for the weighted cohort\n",
    "mydata$OI_category<-as.factor(mydata$OI_category)\n",
    "mydata$OI_category<-C(mydata$OI_category, contr.treatment, base=3)\n",
    "\n",
    "#fit a propensity score model with logistic regression\n",
    "psmodel <-glm(treatment~female+age+pim2+pelod+p_bloodculture+comorbidity+rf_pneumonia+rf_sepsis\n",
    "                 +rf_aspiration+rf_transfusion+rf_trauma+rf_drowning+MODS+OI_category\n",
    "                 , data = mydata,family=binomial(link=\"logit\"))\n",
    "#show coefficients etc\n",
    "summary(psmodel)\n",
    "xvars<-c(\"female\",\"age\",\"pim2\",\"pelod\",\"p_bloodculture\",\"comorbidity\",\"rf_pneumonia\"\n",
    "         ,\"rf_sepsis\",\"rf_aspiration\" , \"rf_transfusion\", \"rf_trauma\",\"rf_drowning\",\"MODS\",\"OI_category\"\n",
    "         )\n",
    "#create propensity score\n",
    "pscore<-psmodel$fitted.values\n",
    "label<-mydata$treatment\n",
    "perf<- ROCR::prediction(pscore, label)\n",
    "psm_auc<-ROCR::performance(ROCR::prediction(pscore, label), \"auc\")@y.values[1]\n",
    "print(psm_auc)\n",
    "\n",
    "\n",
    "mydata$weight<-ifelse(treatment==1,1/pscore, 1/(1-pscore))\n",
    "weighteddata<-svydesign(ids=~1, data= mydata, weights = ~weight)\n",
    "weighted_table<-svyCreateTableOne(var = xvars, strata =\"treatment\",\n",
    "                                data=weighteddata)\n",
    "print(weighted_table, smd=TRUE)"
   ]
  },
  {
   "cell_type": "code",
   "execution_count": 289,
   "metadata": {},
   "outputs": [
    {
     "data": {
      "text/html": [
       "<table>\n",
       "<thead><tr><th></th><th scope=col>ID</th><th scope=col>female</th><th scope=col>age</th><th scope=col>pim2</th><th scope=col>pelod</th><th scope=col>p_bloodculture</th><th scope=col>comorbidity</th><th scope=col>rf_pneumonia</th><th scope=col>rf_sepsis</th><th scope=col>rf_aspiration</th><th scope=col>⋯</th><th scope=col>mortality_30day</th><th scope=col>mortality_28day</th><th scope=col>mortality_100day</th><th scope=col>ventilation_free_day</th><th scope=col>picu_free_days</th><th scope=col>fio2</th><th scope=col>map</th><th scope=col>amplitude</th><th scope=col>ICUduration</th><th scope=col>mort_100day</th></tr></thead>\n",
       "<tbody>\n",
       "\t<tr><th scope=row>3</th><td>1005    </td><td>1       </td><td> 0.10   </td><td> 0.6    </td><td> 1      </td><td>0       </td><td>0       </td><td>1       </td><td>0       </td><td>0       </td><td>⋯       </td><td>0       </td><td>0       </td><td>2       </td><td>21      </td><td>20      </td><td>    NA  </td><td>  NA    </td><td>      NA</td><td> 9      </td><td>0       </td></tr>\n",
       "\t<tr><th scope=row>6</th><td>1009    </td><td>0       </td><td> 0.70   </td><td> 2.8    </td><td>10      </td><td>0       </td><td>1       </td><td>1       </td><td>0       </td><td>0       </td><td>⋯       </td><td>1       </td><td>1       </td><td>1       </td><td> 0      </td><td> 0      </td><td>100.00  </td><td>32.0    </td><td>43.66667</td><td> 9      </td><td>1       </td></tr>\n",
       "\t<tr><th scope=row>11</th><td>1015    </td><td>1       </td><td> 5.08   </td><td>18.2    </td><td> 3      </td><td>1       </td><td>0       </td><td>1       </td><td>1       </td><td>0       </td><td>⋯       </td><td>0       </td><td>0       </td><td>1       </td><td> 0      </td><td> 0      </td><td>    NA  </td><td>  NA    </td><td>      NA</td><td>62      </td><td>1       </td></tr>\n",
       "\t<tr><th scope=row>18</th><td>1022    </td><td>1       </td><td> 0.28   </td><td> 9.0    </td><td>20      </td><td>0       </td><td>1       </td><td>1       </td><td>0       </td><td>0       </td><td>⋯       </td><td>0       </td><td>0       </td><td>2       </td><td>16      </td><td>15      </td><td> 58.75  </td><td>28.0    </td><td>50.00000</td><td>14      </td><td>0       </td></tr>\n",
       "\t<tr><th scope=row>19</th><td>1023    </td><td>0       </td><td>10.60   </td><td> 9.2    </td><td> 2      </td><td>0       </td><td>1       </td><td>1       </td><td>0       </td><td>0       </td><td>⋯       </td><td>0       </td><td>0       </td><td>2       </td><td>20      </td><td>15      </td><td>    NA  </td><td>  NA    </td><td>      NA</td><td>14      </td><td>0       </td></tr>\n",
       "\t<tr><th scope=row>20</th><td>1024    </td><td>0       </td><td> 5.34   </td><td>75.6    </td><td>41      </td><td>1       </td><td>1       </td><td>1       </td><td>0       </td><td>0       </td><td>⋯       </td><td>1       </td><td>1       </td><td>1       </td><td> 0      </td><td> 0      </td><td>100.00  </td><td>25.5    </td><td>62.00000</td><td> 3      </td><td>1       </td></tr>\n",
       "</tbody>\n",
       "</table>\n"
      ],
      "text/latex": [
       "\\begin{tabular}{r|lllllllllllllllllllllllllllllllllllll}\n",
       "  & ID & female & age & pim2 & pelod & p\\_bloodculture & comorbidity & rf\\_pneumonia & rf\\_sepsis & rf\\_aspiration & ⋯ & mortality\\_30day & mortality\\_28day & mortality\\_100day & ventilation\\_free\\_day & picu\\_free\\_days & fio2 & map & amplitude & ICUduration & mort\\_100day\\\\\n",
       "\\hline\n",
       "\t3 & 1005     & 1        &  0.10    &  0.6     &  1       & 0        & 0        & 1        & 0        & 0        & ⋯        & 0        & 0        & 2        & 21       & 20       &     NA   &   NA     &       NA &  9       & 0       \\\\\n",
       "\t6 & 1009     & 0        &  0.70    &  2.8     & 10       & 0        & 1        & 1        & 0        & 0        & ⋯        & 1        & 1        & 1        &  0       &  0       & 100.00   & 32.0     & 43.66667 &  9       & 1       \\\\\n",
       "\t11 & 1015     & 1        &  5.08    & 18.2     &  3       & 1        & 0        & 1        & 1        & 0        & ⋯        & 0        & 0        & 1        &  0       &  0       &     NA   &   NA     &       NA & 62       & 1       \\\\\n",
       "\t18 & 1022     & 1        &  0.28    &  9.0     & 20       & 0        & 1        & 1        & 0        & 0        & ⋯        & 0        & 0        & 2        & 16       & 15       &  58.75   & 28.0     & 50.00000 & 14       & 0       \\\\\n",
       "\t19 & 1023     & 0        & 10.60    &  9.2     &  2       & 0        & 1        & 1        & 0        & 0        & ⋯        & 0        & 0        & 2        & 20       & 15       &     NA   &   NA     &       NA & 14       & 0       \\\\\n",
       "\t20 & 1024     & 0        &  5.34    & 75.6     & 41       & 1        & 1        & 1        & 0        & 0        & ⋯        & 1        & 1        & 1        &  0       &  0       & 100.00   & 25.5     & 62.00000 &  3       & 1       \\\\\n",
       "\\end{tabular}\n"
      ],
      "text/markdown": [
       "\n",
       "| <!--/--> | ID | female | age | pim2 | pelod | p_bloodculture | comorbidity | rf_pneumonia | rf_sepsis | rf_aspiration | ⋯ | mortality_30day | mortality_28day | mortality_100day | ventilation_free_day | picu_free_days | fio2 | map | amplitude | ICUduration | mort_100day | \n",
       "|---|---|---|---|---|---|\n",
       "| 3 | 1005     | 1        |  0.10    |  0.6     |  1       | 0        | 0        | 1        | 0        | 0        | ⋯        | 0        | 0        | 2        | 21       | 20       |     NA   |   NA     |       NA |  9       | 0        | \n",
       "| 6 | 1009     | 0        |  0.70    |  2.8     | 10       | 0        | 1        | 1        | 0        | 0        | ⋯        | 1        | 1        | 1        |  0       |  0       | 100.00   | 32.0     | 43.66667 |  9       | 1        | \n",
       "| 11 | 1015     | 1        |  5.08    | 18.2     |  3       | 1        | 0        | 1        | 1        | 0        | ⋯        | 0        | 0        | 1        |  0       |  0       |     NA   |   NA     |       NA | 62       | 1        | \n",
       "| 18 | 1022     | 1        |  0.28    |  9.0     | 20       | 0        | 1        | 1        | 0        | 0        | ⋯        | 0        | 0        | 2        | 16       | 15       |  58.75   | 28.0     | 50.00000 | 14       | 0        | \n",
       "| 19 | 1023     | 0        | 10.60    |  9.2     |  2       | 0        | 1        | 1        | 0        | 0        | ⋯        | 0        | 0        | 2        | 20       | 15       |     NA   |   NA     |       NA | 14       | 0        | \n",
       "| 20 | 1024     | 0        |  5.34    | 75.6     | 41       | 1        | 1        | 1        | 0        | 0        | ⋯        | 1        | 1        | 1        |  0       |  0       | 100.00   | 25.5     | 62.00000 |  3       | 1        | \n",
       "\n",
       "\n"
      ],
      "text/plain": [
       "   ID   female age   pim2 pelod p_bloodculture comorbidity rf_pneumonia\n",
       "3  1005 1       0.10  0.6  1    0              0           1           \n",
       "6  1009 0       0.70  2.8 10    0              1           1           \n",
       "11 1015 1       5.08 18.2  3    1              0           1           \n",
       "18 1022 1       0.28  9.0 20    0              1           1           \n",
       "19 1023 0      10.60  9.2  2    0              1           1           \n",
       "20 1024 0       5.34 75.6 41    1              1           1           \n",
       "   rf_sepsis rf_aspiration ⋯ mortality_30day mortality_28day mortality_100day\n",
       "3  0         0             ⋯ 0               0               2               \n",
       "6  0         0             ⋯ 1               1               1               \n",
       "11 1         0             ⋯ 0               0               1               \n",
       "18 0         0             ⋯ 0               0               2               \n",
       "19 0         0             ⋯ 0               0               2               \n",
       "20 0         0             ⋯ 1               1               1               \n",
       "   ventilation_free_day picu_free_days fio2   map  amplitude ICUduration\n",
       "3  21                   20                 NA   NA       NA   9         \n",
       "6   0                    0             100.00 32.0 43.66667   9         \n",
       "11  0                    0                 NA   NA       NA  62         \n",
       "18 16                   15              58.75 28.0 50.00000  14         \n",
       "19 20                   15                 NA   NA       NA  14         \n",
       "20  0                    0             100.00 25.5 62.00000   3         \n",
       "   mort_100day\n",
       "3  0          \n",
       "6  1          \n",
       "11 1          \n",
       "18 0          \n",
       "19 0          \n",
       "20 1          "
      ]
     },
     "metadata": {},
     "output_type": "display_data"
    },
    {
     "data": {
      "text/plain": [
       "\n",
       "\tOne Sample t-test\n",
       "\n",
       "data:  diffy\n",
       "t = -1.3336, df = 81, p-value = 0.1861\n",
       "alternative hypothesis: true mean is not equal to 0\n",
       "95 percent confidence interval:\n",
       " -4.6496170  0.9179097\n",
       "sample estimates:\n",
       "mean of x \n",
       "-1.865854 \n"
      ]
     },
     "metadata": {},
     "output_type": "display_data"
    },
    {
     "data": {
      "text/plain": [
       "\n",
       "\tOne Sample t-test\n",
       "\n",
       "data:  diffy1\n",
       "t = -1.9352, df = 81, p-value = 0.05645\n",
       "alternative hypothesis: true mean is not equal to 0\n",
       "95 percent confidence interval:\n",
       " -4.77354950  0.06623243\n",
       "sample estimates:\n",
       "mean of x \n",
       "-2.353659 \n"
      ]
     },
     "metadata": {},
     "output_type": "display_data"
    },
    {
     "data": {
      "text/plain": [
       "\n",
       "\tMcNemar's Chi-squared test with continuity correction\n",
       "\n",
       "data:  hfv$mort_100day and non_hfv$mort_100day\n",
       "McNemar's chi-squared = 1.3611, df = 1, p-value = 0.2433\n"
      ]
     },
     "metadata": {},
     "output_type": "display_data"
    },
    {
     "name": "stdout",
     "output_type": "stream",
     "text": [
      "[1] \"Non-HFOV group 100day mortality n:\"\n"
     ]
    },
    {
     "data": {
      "text/html": [
       "30"
      ],
      "text/latex": [
       "30"
      ],
      "text/markdown": [
       "30"
      ],
      "text/plain": [
       "[1] 30"
      ]
     },
     "metadata": {},
     "output_type": "display_data"
    },
    {
     "name": "stdout",
     "output_type": "stream",
     "text": [
      "[1] \"%:\"\n"
     ]
    },
    {
     "data": {
      "text/html": [
       "0.365853658536585"
      ],
      "text/latex": [
       "0.365853658536585"
      ],
      "text/markdown": [
       "0.365853658536585"
      ],
      "text/plain": [
       "[1] 0.3658537"
      ]
     },
     "metadata": {},
     "output_type": "display_data"
    },
    {
     "name": "stdout",
     "output_type": "stream",
     "text": [
      "[1] \"HFOV group 100day mortality n:\"\n"
     ]
    },
    {
     "data": {
      "text/html": [
       "38"
      ],
      "text/latex": [
       "38"
      ],
      "text/markdown": [
       "38"
      ],
      "text/plain": [
       "[1] 38"
      ]
     },
     "metadata": {},
     "output_type": "display_data"
    },
    {
     "name": "stdout",
     "output_type": "stream",
     "text": [
      "[1] \"%:\"\n"
     ]
    },
    {
     "data": {
      "text/html": [
       "0.463414634146341"
      ],
      "text/latex": [
       "0.463414634146341"
      ],
      "text/markdown": [
       "0.463414634146341"
      ],
      "text/plain": [
       "[1] 0.4634146"
      ]
     },
     "metadata": {},
     "output_type": "display_data"
    },
    {
     "data": {
      "text/plain": [
       "           y_control\n",
       "y_treatment  0  1\n",
       "          0 43 12\n",
       "          1 22  5"
      ]
     },
     "metadata": {},
     "output_type": "display_data"
    },
    {
     "data": {
      "text/plain": [
       "\n",
       "\tMcNemar's Chi-squared test with continuity correction\n",
       "\n",
       "data:  y_treatment and y_control\n",
       "McNemar's chi-squared = 2.3824, df = 1, p-value = 0.1227\n"
      ]
     },
     "metadata": {},
     "output_type": "display_data"
    },
    {
     "name": "stdout",
     "output_type": "stream",
     "text": [
      "[1]  38  37  84 169\n"
     ]
    },
    {
     "data": {
      "text/html": [
       "0.311475409836066"
      ],
      "text/latex": [
       "0.311475409836066"
      ],
      "text/markdown": [
       "0.311475409836066"
      ],
      "text/plain": [
       "[1] 0.3114754"
      ]
     },
     "metadata": {},
     "output_type": "display_data"
    },
    {
     "data": {
      "text/html": [
       "0.179611650485437"
      ],
      "text/latex": [
       "0.179611650485437"
      ],
      "text/markdown": [
       "0.179611650485437"
      ],
      "text/plain": [
       "[1] 0.1796117"
      ]
     },
     "metadata": {},
     "output_type": "display_data"
    },
    {
     "data": {
      "text/html": [
       "<dl>\n",
       "\t<dt>$data</dt>\n",
       "\t\t<dd><table>\n",
       "<thead><tr><th></th><th scope=col>Disease1</th><th scope=col>Disease2</th><th scope=col>Total</th></tr></thead>\n",
       "<tbody>\n",
       "\t<tr><th scope=row>Exposed1</th><td>38 </td><td> 84</td><td>122</td></tr>\n",
       "\t<tr><th scope=row>Exposed2</th><td>37 </td><td>169</td><td>206</td></tr>\n",
       "\t<tr><th scope=row>Total</th><td>75 </td><td>253</td><td>328</td></tr>\n",
       "</tbody>\n",
       "</table>\n",
       "</dd>\n",
       "\t<dt>$measure</dt>\n",
       "\t\t<dd><table>\n",
       "<thead><tr><th></th><th scope=col>estimate</th><th scope=col>lower</th><th scope=col>upper</th></tr></thead>\n",
       "<tbody>\n",
       "\t<tr><th scope=row>Exposed1</th><td>1.000000</td><td>      NA</td><td>      NA</td></tr>\n",
       "\t<tr><th scope=row>Exposed2</th><td>2.060784</td><td>1.219389</td><td>3.491488</td></tr>\n",
       "</tbody>\n",
       "</table>\n",
       "</dd>\n",
       "\t<dt>$p.value</dt>\n",
       "\t\t<dd><table>\n",
       "<thead><tr><th></th><th scope=col>midp.exact</th><th scope=col>fisher.exact</th><th scope=col>chi.square</th></tr></thead>\n",
       "<tbody>\n",
       "\t<tr><th scope=row>Exposed1</th><td>         NA</td><td>        NA </td><td>         NA</td></tr>\n",
       "\t<tr><th scope=row>Exposed2</th><td>0.006991336</td><td>0.00674609 </td><td>0.005988104</td></tr>\n",
       "</tbody>\n",
       "</table>\n",
       "</dd>\n",
       "\t<dt>$correction</dt>\n",
       "\t\t<dd>FALSE</dd>\n",
       "</dl>\n"
      ],
      "text/latex": [
       "\\begin{description}\n",
       "\\item[\\$data] \\begin{tabular}{r|lll}\n",
       "  & Disease1 & Disease2 & Total\\\\\n",
       "\\hline\n",
       "\tExposed1 & 38  &  84 & 122\\\\\n",
       "\tExposed2 & 37  & 169 & 206\\\\\n",
       "\tTotal & 75  & 253 & 328\\\\\n",
       "\\end{tabular}\n",
       "\n",
       "\\item[\\$measure] \\begin{tabular}{r|lll}\n",
       "  & estimate & lower & upper\\\\\n",
       "\\hline\n",
       "\tExposed1 & 1.000000 &       NA &       NA\\\\\n",
       "\tExposed2 & 2.060784 & 1.219389 & 3.491488\\\\\n",
       "\\end{tabular}\n",
       "\n",
       "\\item[\\$p.value] \\begin{tabular}{r|lll}\n",
       "  & midp.exact & fisher.exact & chi.square\\\\\n",
       "\\hline\n",
       "\tExposed1 &          NA &         NA  &          NA\\\\\n",
       "\tExposed2 & 0.006991336 & 0.00674609  & 0.005988104\\\\\n",
       "\\end{tabular}\n",
       "\n",
       "\\item[\\$correction] FALSE\n",
       "\\end{description}\n"
      ],
      "text/markdown": [
       "$data\n",
       ":   \n",
       "| <!--/--> | Disease1 | Disease2 | Total | \n",
       "|---|---|---|\n",
       "| Exposed1 | 38  |  84 | 122 | \n",
       "| Exposed2 | 37  | 169 | 206 | \n",
       "| Total | 75  | 253 | 328 | \n",
       "\n",
       "\n",
       "\n",
       "$measure\n",
       ":   \n",
       "| <!--/--> | estimate | lower | upper | \n",
       "|---|---|\n",
       "| Exposed1 | 1.000000 |       NA |       NA | \n",
       "| Exposed2 | 2.060784 | 1.219389 | 3.491488 | \n",
       "\n",
       "\n",
       "\n",
       "$p.value\n",
       ":   \n",
       "| <!--/--> | midp.exact | fisher.exact | chi.square | \n",
       "|---|---|\n",
       "| Exposed1 |          NA |         NA  |          NA | \n",
       "| Exposed2 | 0.006991336 | 0.00674609  | 0.005988104 | \n",
       "\n",
       "\n",
       "\n",
       "$correction\n",
       ":   FALSE\n",
       "\n",
       "\n"
      ],
      "text/plain": [
       "$data\n",
       "          Outcome\n",
       "Predictor  Disease1 Disease2 Total\n",
       "  Exposed1       38       84   122\n",
       "  Exposed2       37      169   206\n",
       "  Total          75      253   328\n",
       "\n",
       "$measure\n",
       "          odds ratio with 95% C.I.\n",
       "Predictor  estimate    lower    upper\n",
       "  Exposed1 1.000000       NA       NA\n",
       "  Exposed2 2.060784 1.219389 3.491488\n",
       "\n",
       "$p.value\n",
       "          two-sided\n",
       "Predictor   midp.exact fisher.exact  chi.square\n",
       "  Exposed1          NA           NA          NA\n",
       "  Exposed2 0.006991336   0.00674609 0.005988104\n",
       "\n",
       "$correction\n",
       "[1] FALSE\n",
       "\n",
       "attr(,\"method\")\n",
       "[1] \"median-unbiased estimate & mid-p exact CI\""
      ]
     },
     "metadata": {},
     "output_type": "display_data"
    }
   ],
   "source": [
    "#sensitivity analysis\n",
    "#pairs for the PS matching method\n",
    "pairs <- read.csv(\"pair_ID.csv\")\n",
    "#head(pairs)\n",
    "pairs<-data.frame(pairs)\n",
    "mydata$mort_100day<-ifelse(kkh$Died.within.100.days==\"Yes\",1,0)\n",
    "data<-mydata[(mydata$ID %in% pairs$matchedID_hfv)| (mydata$ID %in% pairs$matchedID_non_hfv),]\n",
    "head(data)\n",
    "#length(data[,1])\n",
    "\n",
    "#pairwise difference for continuous data\n",
    "hfv<-data[data$ID %in% pairs$matchedID_hfv,]\n",
    "non_hfv<-data[data$ID %in% pairs$matchedID_non_hfv,]\n",
    "\n",
    "#paired t-test for ventilator free days\n",
    "diffy<-hfv$ventilation_free_day-non_hfv$ventilation_free_day\n",
    "t.test(diffy)\n",
    "#paired t-test for picu free days\n",
    "diffy1<-hfv$picu_free_days-non_hfv$picu_free_days\n",
    "t.test(diffy1)\n",
    "\n",
    "#McNemar test for 100 day mortality\n",
    "mcnemar.test(hfv$mort_100day, non_hfv$mort_100day)\n",
    "\n",
    "#calculate n% of 100 day mortality for matched cohort\n",
    "print(\"Non-HFOV group 100day mortality n:\")\n",
    "length(non_hfv$ID[non_hfv$mort_100day==1])\n",
    "print(\"%:\")\n",
    "length(non_hfv$ID[non_hfv$mort_100day==1])/82\n",
    "print(\"HFOV group 100day mortality n:\")\n",
    "length(hfv$ID[hfv$mort_100day==1])\n",
    "print(\"%:\")\n",
    "length(hfv$ID[hfv$mort_100day==1])/82\n",
    "\n",
    "#McNemar test for 28-day mortality\n",
    "y_treatment<-hfv$mortality_28day[hfv$treatment==1] \n",
    "y_control<-non_hfv$mortality_28day[non_hfv$treatment==0] \n",
    "table(y_treatment,y_control)\n",
    "mcnemar.test(y_treatment, y_control)\n",
    "\n",
    "#calculate odds ratio for 28-day mortality\n",
    "y_treatment<-mydata$mortality_28day[mydata$treatment==1] \n",
    "y_control<-mydata$mortality_28day[mydata$treatment==0] \n",
    "\n",
    "########## calculate Odd's ratio here!\n",
    "a<-length(y_treatment[y_treatment==1])\n",
    "b<-length(y_control[y_control==1])\n",
    "c<-length(y_treatment[y_treatment==0])\n",
    "d<-length(y_control[y_control==0])\n",
    "print(c(a,b,c,d))\n",
    "a/(a+c)\n",
    "b/(b+d)\n",
    "oddsratio(matrix(c(a,b,c,d), ncol=2, nrow=2))"
   ]
  },
  {
   "cell_type": "code",
   "execution_count": 290,
   "metadata": {},
   "outputs": [
    {
     "data": {
      "text/html": [
       "<ol class=list-inline>\n",
       "\t<li>'ID'</li>\n",
       "\t<li>'female'</li>\n",
       "\t<li>'age'</li>\n",
       "\t<li>'pim2'</li>\n",
       "\t<li>'pelod'</li>\n",
       "\t<li>'p_bloodculture'</li>\n",
       "\t<li>'comorbidity'</li>\n",
       "\t<li>'rf_pneumonia'</li>\n",
       "\t<li>'rf_sepsis'</li>\n",
       "\t<li>'rf_aspiration'</li>\n",
       "\t<li>'rf_transfusion'</li>\n",
       "\t<li>'rf_trauma'</li>\n",
       "\t<li>'rf_drowning'</li>\n",
       "\t<li>'MODS'</li>\n",
       "\t<li>'OI'</li>\n",
       "\t<li>'OI_category'</li>\n",
       "\t<li>'treatment'</li>\n",
       "\t<li>'died_in_ICU'</li>\n",
       "\t<li>'D1_HFV'</li>\n",
       "\t<li>'D2_HFV'</li>\n",
       "\t<li>'D3_HFV'</li>\n",
       "\t<li>'D4_HFV'</li>\n",
       "\t<li>'D5_HFV'</li>\n",
       "\t<li>'D6_HFV'</li>\n",
       "\t<li>'D7_HFV'</li>\n",
       "\t<li>'ICUadmissiondate'</li>\n",
       "\t<li>'ICUdischargedate'</li>\n",
       "\t<li>'mortality_30day'</li>\n",
       "\t<li>'mortality_28day'</li>\n",
       "\t<li>'mortality_100day'</li>\n",
       "\t<li>'ventilation_free_day'</li>\n",
       "\t<li>'picu_free_days'</li>\n",
       "\t<li>'fio2'</li>\n",
       "\t<li>'map'</li>\n",
       "\t<li>'amplitude'</li>\n",
       "\t<li>'ICUduration'</li>\n",
       "\t<li>'mort_100day'</li>\n",
       "</ol>\n"
      ],
      "text/latex": [
       "\\begin{enumerate*}\n",
       "\\item 'ID'\n",
       "\\item 'female'\n",
       "\\item 'age'\n",
       "\\item 'pim2'\n",
       "\\item 'pelod'\n",
       "\\item 'p\\_bloodculture'\n",
       "\\item 'comorbidity'\n",
       "\\item 'rf\\_pneumonia'\n",
       "\\item 'rf\\_sepsis'\n",
       "\\item 'rf\\_aspiration'\n",
       "\\item 'rf\\_transfusion'\n",
       "\\item 'rf\\_trauma'\n",
       "\\item 'rf\\_drowning'\n",
       "\\item 'MODS'\n",
       "\\item 'OI'\n",
       "\\item 'OI\\_category'\n",
       "\\item 'treatment'\n",
       "\\item 'died\\_in\\_ICU'\n",
       "\\item 'D1\\_HFV'\n",
       "\\item 'D2\\_HFV'\n",
       "\\item 'D3\\_HFV'\n",
       "\\item 'D4\\_HFV'\n",
       "\\item 'D5\\_HFV'\n",
       "\\item 'D6\\_HFV'\n",
       "\\item 'D7\\_HFV'\n",
       "\\item 'ICUadmissiondate'\n",
       "\\item 'ICUdischargedate'\n",
       "\\item 'mortality\\_30day'\n",
       "\\item 'mortality\\_28day'\n",
       "\\item 'mortality\\_100day'\n",
       "\\item 'ventilation\\_free\\_day'\n",
       "\\item 'picu\\_free\\_days'\n",
       "\\item 'fio2'\n",
       "\\item 'map'\n",
       "\\item 'amplitude'\n",
       "\\item 'ICUduration'\n",
       "\\item 'mort\\_100day'\n",
       "\\end{enumerate*}\n"
      ],
      "text/markdown": [
       "1. 'ID'\n",
       "2. 'female'\n",
       "3. 'age'\n",
       "4. 'pim2'\n",
       "5. 'pelod'\n",
       "6. 'p_bloodculture'\n",
       "7. 'comorbidity'\n",
       "8. 'rf_pneumonia'\n",
       "9. 'rf_sepsis'\n",
       "10. 'rf_aspiration'\n",
       "11. 'rf_transfusion'\n",
       "12. 'rf_trauma'\n",
       "13. 'rf_drowning'\n",
       "14. 'MODS'\n",
       "15. 'OI'\n",
       "16. 'OI_category'\n",
       "17. 'treatment'\n",
       "18. 'died_in_ICU'\n",
       "19. 'D1_HFV'\n",
       "20. 'D2_HFV'\n",
       "21. 'D3_HFV'\n",
       "22. 'D4_HFV'\n",
       "23. 'D5_HFV'\n",
       "24. 'D6_HFV'\n",
       "25. 'D7_HFV'\n",
       "26. 'ICUadmissiondate'\n",
       "27. 'ICUdischargedate'\n",
       "28. 'mortality_30day'\n",
       "29. 'mortality_28day'\n",
       "30. 'mortality_100day'\n",
       "31. 'ventilation_free_day'\n",
       "32. 'picu_free_days'\n",
       "33. 'fio2'\n",
       "34. 'map'\n",
       "35. 'amplitude'\n",
       "36. 'ICUduration'\n",
       "37. 'mort_100day'\n",
       "\n",
       "\n"
      ],
      "text/plain": [
       " [1] \"ID\"                   \"female\"               \"age\"                 \n",
       " [4] \"pim2\"                 \"pelod\"                \"p_bloodculture\"      \n",
       " [7] \"comorbidity\"          \"rf_pneumonia\"         \"rf_sepsis\"           \n",
       "[10] \"rf_aspiration\"        \"rf_transfusion\"       \"rf_trauma\"           \n",
       "[13] \"rf_drowning\"          \"MODS\"                 \"OI\"                  \n",
       "[16] \"OI_category\"          \"treatment\"            \"died_in_ICU\"         \n",
       "[19] \"D1_HFV\"               \"D2_HFV\"               \"D3_HFV\"              \n",
       "[22] \"D4_HFV\"               \"D5_HFV\"               \"D6_HFV\"              \n",
       "[25] \"D7_HFV\"               \"ICUadmissiondate\"     \"ICUdischargedate\"    \n",
       "[28] \"mortality_30day\"      \"mortality_28day\"      \"mortality_100day\"    \n",
       "[31] \"ventilation_free_day\" \"picu_free_days\"       \"fio2\"                \n",
       "[34] \"map\"                  \"amplitude\"            \"ICUduration\"         \n",
       "[37] \"mort_100day\"         "
      ]
     },
     "metadata": {},
     "output_type": "display_data"
    }
   ],
   "source": [
    "colnames(hfv)"
   ]
  },
  {
   "cell_type": "code",
   "execution_count": 414,
   "metadata": {},
   "outputs": [],
   "source": [
    "library(ggplot2)\n",
    "library(gridExtra)\n"
   ]
  },
  {
   "cell_type": "code",
   "execution_count": 446,
   "metadata": {},
   "outputs": [],
   "source": [
    "p_map<-ggplot(data=hfv, aes(hfv$map,..density..))+\n",
    "        geom_histogram(color=\"black\", fill=\"lightblue\", bins=6)+xlab(\"MAP\")+\n",
    "        theme_bw(base_size = 16)+\n",
    "         theme(plot.background = element_blank(),axis.title.y=element_blank(),\n",
    "           panel.grid.major = element_blank(),\n",
    "           panel.grid.minor = element_blank() )+\n",
    "         theme(panel.border= element_blank())+\n",
    "         theme(axis.line.x = element_line(color=\"black\", size = 0.5),axis.line.y = element_line(color=\"black\", size = 0.5))\n",
    "\n",
    "p_fio2<-ggplot(data=hfv, aes(hfv$fio2,..density..))+ylim(0, 0.04)+\n",
    "        geom_histogram(color=\"black\", fill=\"lightblue\", bins=6)+xlab(\"FiO2\")+\n",
    "        theme_bw(base_size = 16)+\n",
    "        theme(plot.background = element_blank(),\n",
    "           panel.grid.major = element_blank(),\n",
    "           panel.grid.minor = element_blank(),axis.title.y=element_blank())+\n",
    "\n",
    "         theme(panel.border= element_blank())+\n",
    "         theme(axis.line.x = element_line(color=\"black\", size = 0.5),axis.line.y = element_line(color=\"black\", size = 0.5))\n",
    "p_amplitue<-ggplot(data=hfv, aes(hfv$amplitude,..density..))+ylim(0, 0.04)+\n",
    "        geom_histogram(color=\"black\", fill=\"lightblue\", bins=6)+xlab(\"Amplitude\")+\n",
    "        theme_bw(base_size = 16)+\n",
    "        theme(plot.background = element_blank(),\n",
    "           panel.grid.major = element_blank(),\n",
    "           panel.grid.minor = element_blank(),axis.title.y=element_blank() )+\n",
    "         theme(panel.border= element_blank())+\n",
    "         theme(axis.line.x = element_line(color=\"black\", size = 0.5),axis.line.y = element_line(color=\"black\", size = 0.5))\n",
    "\n"
   ]
  },
  {
   "cell_type": "code",
   "execution_count": 447,
   "metadata": {},
   "outputs": [
    {
     "name": "stderr",
     "output_type": "stream",
     "text": [
      "Warning message:\n",
      "“Removed 5 rows containing non-finite values (stat_bin).”Warning message:\n",
      "“Removed 4 rows containing non-finite values (stat_bin).”Warning message:\n",
      "“Removed 9 rows containing non-finite values (stat_bin).”Warning message:\n",
      "“Removed 9 rows containing non-finite values (stat_bin).”"
     ]
    },
    {
     "data": {
      "image/png": "[encoded data removed]",
      "text/plain": [
       "plot without title"
      ]
     },
     "metadata": {},
     "output_type": "display_data"
    }
   ],
   "source": [
    "\n",
    "grid.arrange(p_map,p_fio2, p_amplitue,p_amplitue, ncol=2,\n",
    "             left=textGrob(\"Probability Density\",gp=gpar(fontsize=20,font=3),rot=90))\n"
   ]
  },
  {
   "cell_type": "code",
   "execution_count": 443,
   "metadata": {},
   "outputs": [
    {
     "data": {
      "text/html": [
       "\n",
       "<table width=\"100%\" summary=\"page for arrangeGrob {gridExtra}\"><tr><td>arrangeGrob {gridExtra}</td><td style=\"text-align: right;\">R Documentation</td></tr></table>\n",
       "\n",
       "<h2>Arrange multiple grobs on a page</h2>\n",
       "\n",
       "<h3>Description</h3>\n",
       "\n",
       "<p>Set up a gtable layout to place multiple grobs on a page.\n",
       "</p>\n",
       "\n",
       "\n",
       "<h3>Usage</h3>\n",
       "\n",
       "<pre>\n",
       "arrangeGrob(..., grobs = list(...), layout_matrix, vp = NULL,\n",
       "  name = \"arrange\", as.table = TRUE, respect = FALSE, clip = \"off\",\n",
       "  nrow = NULL, ncol = NULL, widths = NULL, heights = NULL, top = NULL,\n",
       "  bottom = NULL, left = NULL, right = NULL, padding = unit(0.5, \"line\"))\n",
       "\n",
       "grid.arrange(..., newpage = TRUE)\n",
       "\n",
       "marrangeGrob(grobs, ..., ncol, nrow, layout_matrix = matrix(seq_len(nrow *\n",
       "  ncol), nrow = nrow, ncol = ncol), top = quote(paste(\"page\", g, \"of\",\n",
       "  npages)))\n",
       "</pre>\n",
       "\n",
       "\n",
       "<h3>Arguments</h3>\n",
       "\n",
       "<table summary=\"R argblock\">\n",
       "<tr valign=\"top\"><td><code>...</code></td>\n",
       "<td>\n",
       "<p>grobs, gtables, ggplot or trellis objects</p>\n",
       "</td></tr>\n",
       "<tr valign=\"top\"><td><code>grobs</code></td>\n",
       "<td>\n",
       "<p>list of grobs</p>\n",
       "</td></tr>\n",
       "<tr valign=\"top\"><td><code>layout_matrix</code></td>\n",
       "<td>\n",
       "<p>optional layout</p>\n",
       "</td></tr>\n",
       "<tr valign=\"top\"><td><code>vp</code></td>\n",
       "<td>\n",
       "<p>viewport</p>\n",
       "</td></tr>\n",
       "<tr valign=\"top\"><td><code>name</code></td>\n",
       "<td>\n",
       "<p>argument of gtable</p>\n",
       "</td></tr>\n",
       "<tr valign=\"top\"><td><code>as.table</code></td>\n",
       "<td>\n",
       "<p>logical: bottom-left to top-right (TRUE) or top-left to bottom-right (FALSE)</p>\n",
       "</td></tr>\n",
       "<tr valign=\"top\"><td><code>respect</code></td>\n",
       "<td>\n",
       "<p>argument of gtable</p>\n",
       "</td></tr>\n",
       "<tr valign=\"top\"><td><code>clip</code></td>\n",
       "<td>\n",
       "<p>argument of gtable</p>\n",
       "</td></tr>\n",
       "<tr valign=\"top\"><td><code>nrow</code></td>\n",
       "<td>\n",
       "<p>argument of gtable</p>\n",
       "</td></tr>\n",
       "<tr valign=\"top\"><td><code>ncol</code></td>\n",
       "<td>\n",
       "<p>argument of gtable</p>\n",
       "</td></tr>\n",
       "<tr valign=\"top\"><td><code>widths</code></td>\n",
       "<td>\n",
       "<p>argument of gtable</p>\n",
       "</td></tr>\n",
       "<tr valign=\"top\"><td><code>heights</code></td>\n",
       "<td>\n",
       "<p>argument of gtable</p>\n",
       "</td></tr>\n",
       "<tr valign=\"top\"><td><code>top</code></td>\n",
       "<td>\n",
       "<p>optional string, or grob</p>\n",
       "</td></tr>\n",
       "<tr valign=\"top\"><td><code>bottom</code></td>\n",
       "<td>\n",
       "<p>optional string, or grob</p>\n",
       "</td></tr>\n",
       "<tr valign=\"top\"><td><code>left</code></td>\n",
       "<td>\n",
       "<p>optional string, or grob</p>\n",
       "</td></tr>\n",
       "<tr valign=\"top\"><td><code>right</code></td>\n",
       "<td>\n",
       "<p>optional string, or grob</p>\n",
       "</td></tr>\n",
       "<tr valign=\"top\"><td><code>padding</code></td>\n",
       "<td>\n",
       "<p>unit of length one, margin around annotations</p>\n",
       "</td></tr>\n",
       "<tr valign=\"top\"><td><code>newpage</code></td>\n",
       "<td>\n",
       "<p>open a new page</p>\n",
       "</td></tr>\n",
       "</table>\n",
       "\n",
       "\n",
       "<h3>Details</h3>\n",
       "\n",
       "<p>Using marrangeGrob, if the layout specifies both nrow and ncol, the list of grobs can be split into multiple pages. On interactive devices print opens new windows, whilst non-interactive devices such as pdf call grid.newpage() between the drawings.\n",
       "</p>\n",
       "\n",
       "\n",
       "<h3>Value</h3>\n",
       "\n",
       "<p>arrangeGrob returns a gtable.\n",
       "</p>\n",
       "<p>marrangeGrob returns a list of class arrangelist\n",
       "</p>\n",
       "\n",
       "\n",
       "<h3>Functions</h3>\n",
       "\n",
       "\n",
       "<ul>\n",
       "<li> <p><code>arrangeGrob</code>: return a grob without drawing\n",
       "</p>\n",
       "</li>\n",
       "<li> <p><code>grid.arrange</code>: draw on the current device\n",
       "</p>\n",
       "</li>\n",
       "<li> <p><code>marrangeGrob</code>: interface to arrangeGrob that can dispatch on multiple pages\n",
       "</p>\n",
       "</li></ul>\n",
       "\n",
       "\n",
       "<h3>Examples</h3>\n",
       "\n",
       "<pre>\n",
       "library(grid)\n",
       "grid.arrange(rectGrob(), rectGrob())\n",
       "## Not run:  \n",
       "library(ggplot2)\n",
       "pl &lt;- lapply(1:11, function(.x) qplot(1:10, rnorm(10), main=paste(\"plot\", .x)))\n",
       "ml &lt;- marrangeGrob(pl, nrow=2, ncol=2)\n",
       "## non-interactive use, multipage pdf\n",
       "ggsave(\"multipage.pdf\", ml)\n",
       "## interactive use; open new devices\n",
       "ml\n",
       "\n",
       "## End(Not run)\n",
       "</pre>\n",
       "\n",
       "<hr /><div style=\"text-align: center;\">[Package <em>gridExtra</em> version 2.3 ]</div>"
      ],
      "text/latex": [
       "\\inputencoding{utf8}\n",
       "\\HeaderA{arrangeGrob}{Arrange multiple grobs on a page}{arrangeGrob}\n",
       "\\aliasA{grid.arrange}{arrangeGrob}{grid.arrange}\n",
       "\\aliasA{grid.arrange}{arrangeGrob}{grid.arrange}\n",
       "\\aliasA{marrangeGrob}{arrangeGrob}{marrangeGrob}\n",
       "\\aliasA{marrangeGrob}{arrangeGrob}{marrangeGrob}\n",
       "%\n",
       "\\begin{Description}\\relax\n",
       "Set up a gtable layout to place multiple grobs on a page.\n",
       "\\end{Description}\n",
       "%\n",
       "\\begin{Usage}\n",
       "\\begin{verbatim}\n",
       "arrangeGrob(..., grobs = list(...), layout_matrix, vp = NULL,\n",
       "  name = \"arrange\", as.table = TRUE, respect = FALSE, clip = \"off\",\n",
       "  nrow = NULL, ncol = NULL, widths = NULL, heights = NULL, top = NULL,\n",
       "  bottom = NULL, left = NULL, right = NULL, padding = unit(0.5, \"line\"))\n",
       "\n",
       "grid.arrange(..., newpage = TRUE)\n",
       "\n",
       "marrangeGrob(grobs, ..., ncol, nrow, layout_matrix = matrix(seq_len(nrow *\n",
       "  ncol), nrow = nrow, ncol = ncol), top = quote(paste(\"page\", g, \"of\",\n",
       "  npages)))\n",
       "\\end{verbatim}\n",
       "\\end{Usage}\n",
       "%\n",
       "\\begin{Arguments}\n",
       "\\begin{ldescription}\n",
       "\\item[\\code{...}] grobs, gtables, ggplot or trellis objects\n",
       "\n",
       "\\item[\\code{grobs}] list of grobs\n",
       "\n",
       "\\item[\\code{layout\\_matrix}] optional layout\n",
       "\n",
       "\\item[\\code{vp}] viewport\n",
       "\n",
       "\\item[\\code{name}] argument of gtable\n",
       "\n",
       "\\item[\\code{as.table}] logical: bottom-left to top-right (TRUE) or top-left to bottom-right (FALSE)\n",
       "\n",
       "\\item[\\code{respect}] argument of gtable\n",
       "\n",
       "\\item[\\code{clip}] argument of gtable\n",
       "\n",
       "\\item[\\code{nrow}] argument of gtable\n",
       "\n",
       "\\item[\\code{ncol}] argument of gtable\n",
       "\n",
       "\\item[\\code{widths}] argument of gtable\n",
       "\n",
       "\\item[\\code{heights}] argument of gtable\n",
       "\n",
       "\\item[\\code{top}] optional string, or grob\n",
       "\n",
       "\\item[\\code{bottom}] optional string, or grob\n",
       "\n",
       "\\item[\\code{left}] optional string, or grob\n",
       "\n",
       "\\item[\\code{right}] optional string, or grob\n",
       "\n",
       "\\item[\\code{padding}] unit of length one, margin around annotations\n",
       "\n",
       "\\item[\\code{newpage}] open a new page\n",
       "\\end{ldescription}\n",
       "\\end{Arguments}\n",
       "%\n",
       "\\begin{Details}\\relax\n",
       "Using marrangeGrob, if the layout specifies both nrow and ncol, the list of grobs can be split into multiple pages. On interactive devices print opens new windows, whilst non-interactive devices such as pdf call grid.newpage() between the drawings.\n",
       "\\end{Details}\n",
       "%\n",
       "\\begin{Value}\n",
       "arrangeGrob returns a gtable.\n",
       "\n",
       "marrangeGrob returns a list of class arrangelist\n",
       "\\end{Value}\n",
       "%\n",
       "\\begin{Section}{Functions}\n",
       "\\begin{itemize}\n",
       "\n",
       "\\item \\code{arrangeGrob}: return a grob without drawing\n",
       "\n",
       "\\item \\code{grid.arrange}: draw on the current device\n",
       "\n",
       "\\item \\code{marrangeGrob}: interface to arrangeGrob that can dispatch on multiple pages\n",
       "\n",
       "\\end{itemize}\n",
       "\\end{Section}\n",
       "%\n",
       "\\begin{Examples}\n",
       "\\begin{ExampleCode}\n",
       "library(grid)\n",
       "grid.arrange(rectGrob(), rectGrob())\n",
       "## Not run:  \n",
       "library(ggplot2)\n",
       "pl <- lapply(1:11, function(.x) qplot(1:10, rnorm(10), main=paste(\"plot\", .x)))\n",
       "ml <- marrangeGrob(pl, nrow=2, ncol=2)\n",
       "## non-interactive use, multipage pdf\n",
       "ggsave(\"multipage.pdf\", ml)\n",
       "## interactive use; open new devices\n",
       "ml\n",
       "\n",
       "## End(Not run)\n",
       "\\end{ExampleCode}\n",
       "\\end{Examples}"
      ],
      "text/plain": [
       "arrangeGrob             package:gridExtra              R Documentation\n",
       "\n",
       "_\bA_\br_\br_\ba_\bn_\bg_\be _\bm_\bu_\bl_\bt_\bi_\bp_\bl_\be _\bg_\br_\bo_\bb_\bs _\bo_\bn _\ba _\bp_\ba_\bg_\be\n",
       "\n",
       "_\bD_\be_\bs_\bc_\br_\bi_\bp_\bt_\bi_\bo_\bn:\n",
       "\n",
       "     Set up a gtable layout to place multiple grobs on a page.\n",
       "\n",
       "_\bU_\bs_\ba_\bg_\be:\n",
       "\n",
       "     arrangeGrob(..., grobs = list(...), layout_matrix, vp = NULL,\n",
       "       name = \"arrange\", as.table = TRUE, respect = FALSE, clip = \"off\",\n",
       "       nrow = NULL, ncol = NULL, widths = NULL, heights = NULL, top = NULL,\n",
       "       bottom = NULL, left = NULL, right = NULL, padding = unit(0.5, \"line\"))\n",
       "     \n",
       "     grid.arrange(..., newpage = TRUE)\n",
       "     \n",
       "     marrangeGrob(grobs, ..., ncol, nrow, layout_matrix = matrix(seq_len(nrow *\n",
       "       ncol), nrow = nrow, ncol = ncol), top = quote(paste(\"page\", g, \"of\",\n",
       "       npages)))\n",
       "     \n",
       "_\bA_\br_\bg_\bu_\bm_\be_\bn_\bt_\bs:\n",
       "\n",
       "     ...: grobs, gtables, ggplot or trellis objects\n",
       "\n",
       "   grobs: list of grobs\n",
       "\n",
       "layout_matrix: optional layout\n",
       "\n",
       "      vp: viewport\n",
       "\n",
       "    name: argument of gtable\n",
       "\n",
       "as.table: logical: bottom-left to top-right (TRUE) or top-left to\n",
       "          bottom-right (FALSE)\n",
       "\n",
       " respect: argument of gtable\n",
       "\n",
       "    clip: argument of gtable\n",
       "\n",
       "    nrow: argument of gtable\n",
       "\n",
       "    ncol: argument of gtable\n",
       "\n",
       "  widths: argument of gtable\n",
       "\n",
       " heights: argument of gtable\n",
       "\n",
       "     top: optional string, or grob\n",
       "\n",
       "  bottom: optional string, or grob\n",
       "\n",
       "    left: optional string, or grob\n",
       "\n",
       "   right: optional string, or grob\n",
       "\n",
       " padding: unit of length one, margin around annotations\n",
       "\n",
       " newpage: open a new page\n",
       "\n",
       "_\bD_\be_\bt_\ba_\bi_\bl_\bs:\n",
       "\n",
       "     Using marrangeGrob, if the layout specifies both nrow and ncol,\n",
       "     the list of grobs can be split into multiple pages. On interactive\n",
       "     devices print opens new windows, whilst non-interactive devices\n",
       "     such as pdf call grid.newpage() between the drawings.\n",
       "\n",
       "_\bV_\ba_\bl_\bu_\be:\n",
       "\n",
       "     arrangeGrob returns a gtable.\n",
       "\n",
       "     marrangeGrob returns a list of class arrangelist\n",
       "\n",
       "_\bF_\bu_\bn_\bc_\bt_\bi_\bo_\bn_\bs:\n",
       "\n",
       "        • ‘arrangeGrob’: return a grob without drawing\n",
       "\n",
       "        • ‘grid.arrange’: draw on the current device\n",
       "\n",
       "        • ‘marrangeGrob’: interface to arrangeGrob that can dispatch on\n",
       "          multiple pages\n",
       "\n",
       "_\bE_\bx_\ba_\bm_\bp_\bl_\be_\bs:\n",
       "\n",
       "     library(grid)\n",
       "     grid.arrange(rectGrob(), rectGrob())\n",
       "     ## Not run:\n",
       "      \n",
       "     library(ggplot2)\n",
       "     pl <- lapply(1:11, function(.x) qplot(1:10, rnorm(10), main=paste(\"plot\", .x)))\n",
       "     ml <- marrangeGrob(pl, nrow=2, ncol=2)\n",
       "     ## non-interactive use, multipage pdf\n",
       "     ggsave(\"multipage.pdf\", ml)\n",
       "     ## interactive use; open new devices\n",
       "     ml\n",
       "     ## End(Not run)\n",
       "     "
      ]
     },
     "metadata": {},
     "output_type": "display_data"
    }
   ],
   "source": [
    "?grid.arrange"
   ]
  },
  {
   "cell_type": "code",
   "execution_count": 237,
   "metadata": {},
   "outputs": [],
   "source": [
    "#sensitivity analysis for PS matching\n",
    "mydata_wth_pscore<-data.frame(cbind(mydata,pscore))\n",
    "m.out <- matchit(treatment~female+age+pim2+pelod+p_bloodculture+comorbidity+rf_pneumonia+rf_sepsis\n",
    "                 +rf_aspiration+rf_transfusion+rf_trauma+rf_drowning+MODS+OI_category, data = mydata_wth_pscore,              \n",
    "                 method = \"nearest\", distance=mydata_wth_pscore$pscore,caliper=0.1\n",
    "                 ,ratio=1)\n"
   ]
  },
  {
   "cell_type": "code",
   "execution_count": 232,
   "metadata": {},
   "outputs": [
    {
     "data": {
      "text/html": [
       "83"
      ],
      "text/latex": [
       "83"
      ],
      "text/markdown": [
       "83"
      ],
      "text/plain": [
       "[1] 83"
      ]
     },
     "metadata": {},
     "output_type": "display_data"
    },
    {
     "data": {
      "text/html": [
       "83"
      ],
      "text/latex": [
       "83"
      ],
      "text/markdown": [
       "83"
      ],
      "text/plain": [
       "[1] 83"
      ]
     },
     "metadata": {},
     "output_type": "display_data"
    },
    {
     "data": {
      "text/plain": [
       "\n",
       "\tMcNemar's Chi-squared test with continuity correction\n",
       "\n",
       "data:  y_treatment and y_control\n",
       "McNemar's chi-squared = 4.1143, df = 1, p-value = 0.04252\n"
      ]
     },
     "metadata": {},
     "output_type": "display_data"
    },
    {
     "data": {
      "text/html": [
       "<dl>\n",
       "\t<dt>$data</dt>\n",
       "\t\t<dd><table>\n",
       "<thead><tr><th></th><th scope=col>Disease1</th><th scope=col>Disease2</th><th scope=col>Total</th></tr></thead>\n",
       "<tbody>\n",
       "\t<tr><th scope=row>Exposed1</th><td>30 </td><td> 53</td><td> 83</td></tr>\n",
       "\t<tr><th scope=row>Exposed2</th><td>17 </td><td> 66</td><td> 83</td></tr>\n",
       "\t<tr><th scope=row>Total</th><td>47 </td><td>119</td><td>166</td></tr>\n",
       "</tbody>\n",
       "</table>\n",
       "</dd>\n",
       "\t<dt>$measure</dt>\n",
       "\t\t<dd><table>\n",
       "<thead><tr><th></th><th scope=col>estimate</th><th scope=col>lower</th><th scope=col>upper</th></tr></thead>\n",
       "<tbody>\n",
       "\t<tr><th scope=row>Exposed1</th><td>1.000000</td><td>      NA</td><td>      NA</td></tr>\n",
       "\t<tr><th scope=row>Exposed2</th><td>2.180132</td><td>1.093058</td><td>4.463514</td></tr>\n",
       "</tbody>\n",
       "</table>\n",
       "</dd>\n",
       "\t<dt>$p.value</dt>\n",
       "\t\t<dd><table>\n",
       "<thead><tr><th></th><th scope=col>midp.exact</th><th scope=col>fisher.exact</th><th scope=col>chi.square</th></tr></thead>\n",
       "<tbody>\n",
       "\t<tr><th scope=row>Exposed1</th><td>        NA</td><td>        NA</td><td>        NA</td></tr>\n",
       "\t<tr><th scope=row>Exposed2</th><td>0.02672973</td><td>0.03808355</td><td>0.02511539</td></tr>\n",
       "</tbody>\n",
       "</table>\n",
       "</dd>\n",
       "\t<dt>$correction</dt>\n",
       "\t\t<dd>FALSE</dd>\n",
       "</dl>\n"
      ],
      "text/latex": [
       "\\begin{description}\n",
       "\\item[\\$data] \\begin{tabular}{r|lll}\n",
       "  & Disease1 & Disease2 & Total\\\\\n",
       "\\hline\n",
       "\tExposed1 & 30  &  53 &  83\\\\\n",
       "\tExposed2 & 17  &  66 &  83\\\\\n",
       "\tTotal & 47  & 119 & 166\\\\\n",
       "\\end{tabular}\n",
       "\n",
       "\\item[\\$measure] \\begin{tabular}{r|lll}\n",
       "  & estimate & lower & upper\\\\\n",
       "\\hline\n",
       "\tExposed1 & 1.000000 &       NA &       NA\\\\\n",
       "\tExposed2 & 2.180132 & 1.093058 & 4.463514\\\\\n",
       "\\end{tabular}\n",
       "\n",
       "\\item[\\$p.value] \\begin{tabular}{r|lll}\n",
       "  & midp.exact & fisher.exact & chi.square\\\\\n",
       "\\hline\n",
       "\tExposed1 &         NA &         NA &         NA\\\\\n",
       "\tExposed2 & 0.02672973 & 0.03808355 & 0.02511539\\\\\n",
       "\\end{tabular}\n",
       "\n",
       "\\item[\\$correction] FALSE\n",
       "\\end{description}\n"
      ],
      "text/markdown": [
       "$data\n",
       ":   \n",
       "| <!--/--> | Disease1 | Disease2 | Total | \n",
       "|---|---|---|\n",
       "| Exposed1 | 30  |  53 |  83 | \n",
       "| Exposed2 | 17  |  66 |  83 | \n",
       "| Total | 47  | 119 | 166 | \n",
       "\n",
       "\n",
       "\n",
       "$measure\n",
       ":   \n",
       "| <!--/--> | estimate | lower | upper | \n",
       "|---|---|\n",
       "| Exposed1 | 1.000000 |       NA |       NA | \n",
       "| Exposed2 | 2.180132 | 1.093058 | 4.463514 | \n",
       "\n",
       "\n",
       "\n",
       "$p.value\n",
       ":   \n",
       "| <!--/--> | midp.exact | fisher.exact | chi.square | \n",
       "|---|---|\n",
       "| Exposed1 |         NA |         NA |         NA | \n",
       "| Exposed2 | 0.02672973 | 0.03808355 | 0.02511539 | \n",
       "\n",
       "\n",
       "\n",
       "$correction\n",
       ":   FALSE\n",
       "\n",
       "\n"
      ],
      "text/plain": [
       "$data\n",
       "          Outcome\n",
       "Predictor  Disease1 Disease2 Total\n",
       "  Exposed1       30       53    83\n",
       "  Exposed2       17       66    83\n",
       "  Total          47      119   166\n",
       "\n",
       "$measure\n",
       "          odds ratio with 95% C.I.\n",
       "Predictor  estimate    lower    upper\n",
       "  Exposed1 1.000000       NA       NA\n",
       "  Exposed2 2.180132 1.093058 4.463514\n",
       "\n",
       "$p.value\n",
       "          two-sided\n",
       "Predictor  midp.exact fisher.exact chi.square\n",
       "  Exposed1         NA           NA         NA\n",
       "  Exposed2 0.02672973   0.03808355 0.02511539\n",
       "\n",
       "$correction\n",
       "[1] FALSE\n",
       "\n",
       "attr(,\"method\")\n",
       "[1] \"median-unbiased estimate & mid-p exact CI\""
      ]
     },
     "metadata": {},
     "output_type": "display_data"
    }
   ],
   "source": [
    "###################################\n",
    "#outcome analysis for PS matching\n",
    "y_treatment<-match.data(m.out)$mortality_28day[match.data(m.out, \"all\")$treatment==1] \n",
    "y_control<-match.data(m.out)$mortality_28day[match.data(m.out, \"all\")$treatment==0] \n",
    "#head(mydata)\n",
    "#colnames(mydata)\n",
    "#y_treatment<-mydata$mortality_28day[mydata$treatment==1] \n",
    "#y_control<-mydata$mortality_28day[mydata$treatment==0] \n",
    "length(y_treatment)\n",
    "length(y_control)\n",
    "#y_treatment\n",
    "#table(y_treatment,y_control)\n",
    "#McNemar test for PICU mortality\n",
    "mcnemar.test(y_treatment, y_control)\n",
    "\n",
    "########## calculate Odd's ratio here!\n",
    "a<-length(y_treatment[y_treatment==1])\n",
    "b<-length(y_control[y_control==1])\n",
    "c<-length(y_treatment[y_treatment==0])\n",
    "d<-length(y_control[y_control==0])\n",
    "\n",
    "oddsratio(matrix(c(a,b,c,d), ncol=2, nrow=2))"
   ]
  },
  {
   "cell_type": "code",
   "execution_count": 116,
   "metadata": {},
   "outputs": [
    {
     "data": {
      "text/html": [
       "<table>\n",
       "<thead><tr><th></th><th scope=col>2.5 %</th><th scope=col>97.5 %</th></tr></thead>\n",
       "<tbody>\n",
       "\t<tr><th scope=row>(Intercept)</th><td> 1.254713e-02</td><td>2.823532e-02 </td></tr>\n",
       "\t<tr><th scope=row>historical_treatment</th><td>-3.946796e-05</td><td>5.292585e-06 </td></tr>\n",
       "</tbody>\n",
       "</table>\n"
      ],
      "text/latex": [
       "\\begin{tabular}{r|ll}\n",
       "  & 2.5 \\% & 97.5 \\%\\\\\n",
       "\\hline\n",
       "\t(Intercept) &  1.254713e-02 & 2.823532e-02 \\\\\n",
       "\thistorical\\_treatment & -3.946796e-05 & 5.292585e-06 \\\\\n",
       "\\end{tabular}\n"
      ],
      "text/markdown": [
       "\n",
       "| <!--/--> | 2.5 % | 97.5 % | \n",
       "|---|---|\n",
       "| (Intercept) |  1.254713e-02 | 2.823532e-02  | \n",
       "| historical_treatment | -3.946796e-05 | 5.292585e-06  | \n",
       "\n",
       "\n"
      ],
      "text/plain": [
       "                     2.5 %         97.5 %      \n",
       "(Intercept)           1.254713e-02 2.823532e-02\n",
       "historical_treatment -3.946796e-05 5.292585e-06"
      ]
     },
     "metadata": {},
     "output_type": "display_data"
    },
    {
     "data": {
      "text/html": [
       "<dl class=dl-horizontal>\n",
       "\t<dt>1</dt>\n",
       "\t\t<dd>0.999960532816857</dd>\n",
       "\t<dt>historical_treatment</dt>\n",
       "\t\t<dd>0.99998291245757</dd>\n",
       "\t<dt>3</dt>\n",
       "\t\t<dd>1.00000529259915</dd>\n",
       "</dl>\n"
      ],
      "text/latex": [
       "\\begin{description*}\n",
       "\\item[1] 0.999960532816857\n",
       "\\item[historical\\textbackslash{}\\_treatment] 0.99998291245757\n",
       "\\item[3] 1.00000529259915\n",
       "\\end{description*}\n"
      ],
      "text/markdown": [
       "1\n",
       ":   0.999960532816857historical_treatment\n",
       ":   0.999982912457573\n",
       ":   1.00000529259915\n",
       "\n"
      ],
      "text/plain": [
       "                     historical_treatment                      \n",
       "           0.9999605            0.9999829            1.0000053 "
      ]
     },
     "metadata": {},
     "output_type": "display_data"
    },
    {
     "data": {
      "text/plain": [
       "\n",
       "Call:\n",
       "svyglm(formula = event ~ historical_treatment, design = svydesign(~1, \n",
       "    weights = ~df2$wt, data = df2))\n",
       "\n",
       "Survey design:\n",
       "svydesign(~1, weights = ~df2$wt, data = df2)\n",
       "\n",
       "Coefficients:\n",
       "                       Estimate Std. Error t value Pr(>|t|)    \n",
       "(Intercept)           2.039e-02  4.002e-03   5.095 3.61e-07 ***\n",
       "historical_treatment -1.709e-05  1.142e-05  -1.496    0.135    \n",
       "---\n",
       "Signif. codes:  0 ‘***’ 0.001 ‘**’ 0.01 ‘*’ 0.05 ‘.’ 0.1 ‘ ’ 1\n",
       "\n",
       "(Dispersion parameter for gaussian family taken to be 0.0158338)\n",
       "\n",
       "Number of Fisher Scoring iterations: 2\n"
      ]
     },
     "metadata": {},
     "output_type": "display_data"
    }
   ],
   "source": [
    "#other MSM model\n",
    "df2$wt<-time_model$weights.trunc\n",
    "df2$historical_treatment<-cumsum(df2$HFV_indicator)\n",
    "msm<-svyglm(event~historical_treatment, design=svydesign(~1,weights=~df2$wt,data=df2\n",
    "                                                                 ))\n",
    "beta<-coef(msm)\n",
    "ci<-confint(msm)\n",
    "ci\n",
    "\n",
    "causalrr<-exp(beta[2])\n",
    "lcl<-exp(ci[2])\n",
    "ucl<-exp(ci[4])\n",
    "c(lcl, causalrr, ucl)\n",
    "summary(msm)"
   ]
  },
  {
   "cell_type": "code",
   "execution_count": 117,
   "metadata": {},
   "outputs": [
    {
     "data": {
      "text/html": [
       "<table>\n",
       "<thead><tr><th></th><th scope=col>2.5 %</th><th scope=col>97.5 %</th></tr></thead>\n",
       "<tbody>\n",
       "\t<tr><th scope=row>(Intercept)</th><td> 0.01244510</td><td>0.020761664</td></tr>\n",
       "\t<tr><th scope=row>HFV_indicator</th><td>-0.01624464</td><td>0.006665096</td></tr>\n",
       "</tbody>\n",
       "</table>\n"
      ],
      "text/latex": [
       "\\begin{tabular}{r|ll}\n",
       "  & 2.5 \\% & 97.5 \\%\\\\\n",
       "\\hline\n",
       "\t(Intercept) &  0.01244510 & 0.020761664\\\\\n",
       "\tHFV\\_indicator & -0.01624464 & 0.006665096\\\\\n",
       "\\end{tabular}\n"
      ],
      "text/markdown": [
       "\n",
       "| <!--/--> | 2.5 % | 97.5 % | \n",
       "|---|---|\n",
       "| (Intercept) |  0.01244510 | 0.020761664 | \n",
       "| HFV_indicator | -0.01624464 | 0.006665096 | \n",
       "\n",
       "\n"
      ],
      "text/plain": [
       "              2.5 %       97.5 %     \n",
       "(Intercept)    0.01244510 0.020761664\n",
       "HFV_indicator -0.01624464 0.006665096"
      ]
     },
     "metadata": {},
     "output_type": "display_data"
    },
    {
     "data": {
      "text/html": [
       "<dl class=dl-horizontal>\n",
       "\t<dt>1</dt>\n",
       "\t\t<dd>0.983886593397807</dd>\n",
       "\t<dt>HFV_indicator</dt>\n",
       "\t\t<dd>0.995221681237931</dd>\n",
       "\t<dt>3</dt>\n",
       "\t\t<dd>1.00668735751905</dd>\n",
       "</dl>\n"
      ],
      "text/latex": [
       "\\begin{description*}\n",
       "\\item[1] 0.983886593397807\n",
       "\\item[HFV\\textbackslash{}\\_indicator] 0.995221681237931\n",
       "\\item[3] 1.00668735751905\n",
       "\\end{description*}\n"
      ],
      "text/markdown": [
       "1\n",
       ":   0.983886593397807HFV_indicator\n",
       ":   0.9952216812379313\n",
       ":   1.00668735751905\n",
       "\n"
      ],
      "text/plain": [
       "              HFV_indicator               \n",
       "    0.9838866     0.9952217     1.0066874 "
      ]
     },
     "metadata": {},
     "output_type": "display_data"
    },
    {
     "data": {
      "text/plain": [
       "\n",
       "Call:\n",
       "svyglm(formula = event ~ HFV_indicator, design = svydesign(ids = ~ID, \n",
       "    weights = ~df2$wt, data = df2))\n",
       "\n",
       "Survey design:\n",
       "svydesign(ids = ~ID, weights = ~df2$wt, data = df2)\n",
       "\n",
       "Coefficients:\n",
       "               Estimate Std. Error t value Pr(>|t|)    \n",
       "(Intercept)    0.016603   0.002122   7.826 7.11e-14 ***\n",
       "HFV_indicator -0.004790   0.005844  -0.820    0.413    \n",
       "---\n",
       "Signif. codes:  0 ‘***’ 0.001 ‘**’ 0.01 ‘*’ 0.05 ‘.’ 0.1 ‘ ’ 1\n",
       "\n",
       "(Dispersion parameter for gaussian family taken to be 0.01583986)\n",
       "\n",
       "Number of Fisher Scoring iterations: 2\n"
      ]
     },
     "metadata": {},
     "output_type": "display_data"
    }
   ],
   "source": [
    "#other MSM model 2\n",
    "df2$wt<-time_model$weights.trunc\n",
    "#df2$historical_treatment<-cumsum(df2$HFV_indicator)\n",
    "msm<-svyglm(event~HFV_indicator, design=svydesign(ids=~ID,weights=~df2$wt,data=df2\n",
    "                                                                 ))\n",
    "beta<-coef(msm)\n",
    "ci<-confint(msm)\n",
    "ci\n",
    "\n",
    "causalrr<-exp(beta[2])\n",
    "lcl<-exp(ci[2])\n",
    "ucl<-exp(ci[4])\n",
    "c(lcl, causalrr, ucl)\n",
    "summary(msm)"
   ]
  },
  {
   "cell_type": "code",
   "execution_count": 13,
   "metadata": {},
   "outputs": [
    {
     "name": "stdout",
     "output_type": "stream",
     "text": [
      "                            Stratified by treatment\n",
      "                             0              1              SMD   \n",
      "  n                          380.83         318.38               \n",
      "  female (mean (sd))           0.39 (0.49)    0.46 (0.50)   0.142\n",
      "  age (mean (sd))              4.83 (5.32)    3.99 (4.41)   0.172\n",
      "  pim2 (mean (sd))            16.95 (18.72)  17.36 (20.11)  0.021\n",
      "  pelod (mean (sd))           12.60 (11.21)  10.63 (9.62)   0.188\n",
      "  p_bloodculture (mean (sd))   0.14 (0.35)    0.15 (0.36)   0.023\n",
      "  comorbidity (mean (sd))      0.59 (0.49)    0.50 (0.50)   0.172\n",
      "  rf_pneumonia (mean (sd))     0.80 (0.40)    0.77 (0.42)   0.067\n",
      "  rf_sepsis (mean (sd))        0.38 (0.49)    0.35 (0.48)   0.060\n",
      "  rf_aspiration (mean (sd))    0.09 (0.29)    0.03 (0.18)   0.228\n",
      "  rf_transfusion (mean (sd))   0.01 (0.10)    0.01 (0.12)   0.040\n",
      "  rf_trauma (mean (sd))        0.01 (0.10)    0.00 (0.00)   0.145\n",
      "  rf_drowning (mean (sd))      0.03 (0.17)    0.04 (0.19)   0.034\n",
      "  MODS (mean (sd))             0.53 (0.50)    0.46 (0.50)   0.135\n",
      "  OI (mean (sd))              21.75 (19.87)  15.89 (11.67)  0.359\n"
     ]
    }
   ],
   "source": [
    "#create weights\n",
    "weight<-ifelse(treatment==1, 1/pscore, 1/(1-pscore))\n",
    "\n",
    "#apply weights to data\n",
    "weighteddata<-svydesign(ids=~1, data = mydata, weights = ~weight)\n",
    "\n",
    "#weighted table 1\n",
    "weightedtable <- svyCreateTableOne(vars=xvars, strata=\"treatment\", data=weighteddata, test = FALSE)\n",
    "\n",
    "#Show table with SMD\n",
    "print(weightedtable, smd=TRUE)"
   ]
  },
  {
   "cell_type": "code",
   "execution_count": 15,
   "metadata": {},
   "outputs": [
    {
     "data": {
      "text/html": [
       "3.51875765117212"
      ],
      "text/latex": [
       "3.51875765117212"
      ],
      "text/markdown": [
       "3.51875765117212"
      ],
      "text/plain": [
       "[1] 3.518758"
      ]
     },
     "metadata": {},
     "output_type": "display_data"
    }
   ],
   "source": [
    "#to get a weighted mean for a single covariate directly\n",
    "mean(weight[treatment==1]*age[treatment==1])/(mean(weight[treatment==1]))"
   ]
  },
  {
   "cell_type": "code",
   "execution_count": 17,
   "metadata": {},
   "outputs": [
    {
     "name": "stderr",
     "output_type": "stream",
     "text": [
      "Warning message in eval(family$initialize):\n",
      "“non-integer #successes in a binomial glm!”"
     ]
    },
    {
     "data": {
      "text/html": [
       "<dl class=dl-horizontal>\n",
       "\t<dt>treatment</dt>\n",
       "\t\t<dd>0.898213703544873</dd>\n",
       "\t<dt>treatment</dt>\n",
       "\t\t<dd>1.39445055125136</dd>\n",
       "\t<dt>treatment</dt>\n",
       "\t\t<dd>2.1648437695964</dd>\n",
       "</dl>\n"
      ],
      "text/latex": [
       "\\begin{description*}\n",
       "\\item[treatment] 0.898213703544873\n",
       "\\item[treatment] 1.39445055125136\n",
       "\\item[treatment] 2.1648437695964\n",
       "\\end{description*}\n"
      ],
      "text/markdown": [
       "treatment\n",
       ":   0.898213703544873treatment\n",
       ":   1.39445055125136treatment\n",
       ":   2.1648437695964\n",
       "\n"
      ],
      "text/plain": [
       "treatment treatment treatment \n",
       "0.8982137 1.3944506 2.1648438 "
      ]
     },
     "metadata": {},
     "output_type": "display_data"
    }
   ],
   "source": [
    "#get causal relative risk weighted GLM\n",
    "glm.obj<-glm(died~treatment,weights=weight, family=binomial(link=\"log\"))\n",
    "#summary(glm.obj)\n",
    "betaiptw<-coef(glm.obj)\n",
    "#to properly account for weighting, use asymptotic variance\n",
    "SE<-sqrt(diag(vcovHC(glm.obj, type=\"HC0\")))\n",
    "\n",
    "#get point estimate and CI for relative risk (need to exponentiate)\n",
    "causalrr<-exp(betaiptw[2])\n",
    "lcl<-exp(betaiptw[2]-1.96*SE[2])\n",
    "ucl<-exp(betaiptw[2]+1.96*SE[2])\n",
    "c(lcl, causalrr, ucl)"
   ]
  },
  {
   "cell_type": "code",
   "execution_count": 18,
   "metadata": {},
   "outputs": [
    {
     "name": "stderr",
     "output_type": "stream",
     "text": [
      "Warning message in eval(family$initialize):\n",
      "“non-integer #successes in a binomial glm!”"
     ]
    },
    {
     "data": {
      "text/html": [
       "<dl class=dl-horizontal>\n",
       "\t<dt>treatment</dt>\n",
       "\t\t<dd>0.949428770222801</dd>\n",
       "\t<dt>treatment</dt>\n",
       "\t\t<dd>1.1254269540805</dd>\n",
       "\t<dt>treatment</dt>\n",
       "\t\t<dd>1.33405039819227</dd>\n",
       "</dl>\n"
      ],
      "text/latex": [
       "\\begin{description*}\n",
       "\\item[treatment] 0.949428770222801\n",
       "\\item[treatment] 1.1254269540805\n",
       "\\item[treatment] 1.33405039819227\n",
       "\\end{description*}\n"
      ],
      "text/markdown": [
       "treatment\n",
       ":   0.949428770222801treatment\n",
       ":   1.1254269540805treatment\n",
       ":   1.33405039819227\n",
       "\n"
      ],
      "text/plain": [
       "treatment treatment treatment \n",
       "0.9494288 1.1254270 1.3340504 "
      ]
     },
     "metadata": {},
     "output_type": "display_data"
    }
   ],
   "source": [
    "#get causal risk difference for weighted GLM\n",
    "#truncweight\n",
    "#truncweight<-replace(weight,weight>10,10)\n",
    "\n",
    "glm.obj<-glm(died~treatment,weights=weight, family=binomial(link=\"identity\"))\n",
    "#summary(glm.obj)\n",
    "betaiptw<-coef(glm.obj)\n",
    "#to properly account for weighting, use asymptotic variance\n",
    "SE<-sqrt(diag(vcovHC(glm.obj, type=\"HC0\")))\n",
    "\n",
    "#get point estimate and CI for relative risk (need to exponentiate)\n",
    "causalrr<-exp(betaiptw[2])\n",
    "lcl<-exp(betaiptw[2]-1.96*SE[2])\n",
    "ucl<-exp(betaiptw[2]+1.96*SE[2])\n",
    "c(lcl, causalrr, ucl)"
   ]
  },
  {
   "cell_type": "code",
   "execution_count": 35,
   "metadata": {},
   "outputs": [
    {
     "data": {
      "text/plain": [
       "   Min. 1st Qu.  Median    Mean 3rd Qu.    Max. \n",
       " 0.3538  0.7017  0.7992  0.9611  1.0147  4.4225 "
      ]
     },
     "metadata": {},
     "output_type": "display_data"
    },
    {
     "data": {
      "text/html": [
       "<table>\n",
       "<thead><tr><th></th><th scope=col>2.5 %</th><th scope=col>97.5 %</th></tr></thead>\n",
       "<tbody>\n",
       "\t<tr><th scope=row>(Intercept)</th><td> 0.23954016</td><td>0.3989309  </td></tr>\n",
       "\t<tr><th scope=row>treatment</th><td>-0.06199562</td><td>0.2045047  </td></tr>\n",
       "</tbody>\n",
       "</table>\n"
      ],
      "text/latex": [
       "\\begin{tabular}{r|ll}\n",
       "  & 2.5 \\% & 97.5 \\%\\\\\n",
       "\\hline\n",
       "\t(Intercept) &  0.23954016 & 0.3989309  \\\\\n",
       "\ttreatment & -0.06199562 & 0.2045047  \\\\\n",
       "\\end{tabular}\n"
      ],
      "text/markdown": [
       "\n",
       "| <!--/--> | 2.5 % | 97.5 % | \n",
       "|---|---|\n",
       "| (Intercept) |  0.23954016 | 0.3989309   | \n",
       "| treatment | -0.06199562 | 0.2045047   | \n",
       "\n",
       "\n"
      ],
      "text/plain": [
       "            2.5 %       97.5 %   \n",
       "(Intercept)  0.23954016 0.3989309\n",
       "treatment   -0.06199562 0.2045047"
      ]
     },
     "metadata": {},
     "output_type": "display_data"
    },
    {
     "data": {
      "text/html": [
       "<dl class=dl-horizontal>\n",
       "\t<dt>1</dt>\n",
       "\t\t<dd>0.93988700601998</dd>\n",
       "\t<dt>treatment</dt>\n",
       "\t\t<dd>1.07385453251044</dd>\n",
       "\t<dt>3</dt>\n",
       "\t\t<dd>1.22691722473786</dd>\n",
       "</dl>\n"
      ],
      "text/latex": [
       "\\begin{description*}\n",
       "\\item[1] 0.93988700601998\n",
       "\\item[treatment] 1.07385453251044\n",
       "\\item[3] 1.22691722473786\n",
       "\\end{description*}\n"
      ],
      "text/markdown": [
       "1\n",
       ":   0.93988700601998treatment\n",
       ":   1.073854532510443\n",
       ":   1.22691722473786\n",
       "\n"
      ],
      "text/plain": [
       "          treatment           \n",
       " 0.939887  1.073855  1.226917 "
      ]
     },
     "metadata": {},
     "output_type": "display_data"
    },
    {
     "data": {
      "image/png": "[encoded data removed]",
      "text/plain": [
       "Plot with title “weights”"
      ]
     },
     "metadata": {},
     "output_type": "display_data"
    }
   ],
   "source": [
    "#same model using R package IPW\n",
    "weightmodel<-ipwpoint(exposure=treatment, family=\"binomial\", link=\"logit\",numerator=~female+age,denominator=~female+age+pim2+pelod+p_bloodculture+comorbidity+rf_pneumonia+rf_sepsis\n",
    "                 +rf_aspiration+rf_transfusion+rf_trauma+rf_drowning+MODS+OI,data=mydata, trunc=0.01)\n",
    "\n",
    "#numeric summary of weights\n",
    "summary(weightmodel$weights.trun)\n",
    "\n",
    "#plot of weights\n",
    "#ipwplot(weights=weightmodel$ipw.weights, logscale=FALSE, main=\"weights\",xlim=c(0,22))\n",
    "#plot of truncated weight\n",
    "ipwplot(weights=weightmodel$weights.trun, logscale=FALSE, main=\"weights\",xlim=c(0,22))\n",
    "mydata$wt<-weightmodel$weights.trun\n",
    "msm<-svyglm(died~treatment, design=svydesign(~1,weights=~wt,data=mydata))\n",
    "beta<-coef(msm)\n",
    "ci<-confint(msm)\n",
    "ci\n",
    "\n",
    "causalrr<-exp(beta[2])\n",
    "lcl<-exp(ci[2])\n",
    "ucl<-exp(ci[4])\n",
    "c(lcl, causalrr, ucl)"
   ]
  }
 ],
 "metadata": {
  "kernelspec": {
   "display_name": "R",
   "language": "R",
   "name": "ir"
  },
  "language_info": {
   "codemirror_mode": "r",
   "file_extension": ".r",
   "mimetype": "text/x-r-source",
   "name": "R",
   "pygments_lexer": "r",
   "version": "3.5.0"
  }
 },
 "nbformat": 4,
 "nbformat_minor": 2
}
